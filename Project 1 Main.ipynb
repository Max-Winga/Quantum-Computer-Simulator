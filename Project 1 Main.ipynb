{
 "cells": [
  {
   "cell_type": "code",
   "execution_count": 382,
   "id": "b3a02981",
   "metadata": {
    "ExecuteTime": {
     "end_time": "2023-02-13T04:41:14.538767Z",
     "start_time": "2023-02-13T04:41:14.532783Z"
    }
   },
   "outputs": [],
   "source": [
    "import numpy as np\n",
    "import matplotlib.pyplot as plt\n",
    "import math as m\n",
    "import copy\n",
    "import cmath as cm\n",
    "import time as t\n",
    "from matplotlib.animation import FuncAnimation\n",
    "import sympy\n",
    "from fractions import Fraction"
   ]
  },
  {
   "cell_type": "code",
   "execution_count": 285,
   "id": "6acde020",
   "metadata": {
    "ExecuteTime": {
     "end_time": "2023-02-13T03:47:42.207889Z",
     "start_time": "2023-02-13T03:47:42.189938Z"
    },
    "code_folding": [
     1,
     19,
     37,
     46,
     55,
     60,
     66,
     70,
     76,
     82
    ]
   },
   "outputs": [],
   "source": [
    "## Prints a state with binary output\n",
    "def PrettyPrintBinary(myState, do_return=False):\n",
    "    to_print = \"{ \"\n",
    "    vec = StateToVec(myState)\n",
    "    length = vec.shape[0]\n",
    "    bin_len = int(m.log2(length))\n",
    "    not_first = False\n",
    "    for i in range(length):\n",
    "        if vec[i] == 0 + 0.j:\n",
    "            continue\n",
    "        if not_first:\n",
    "            to_print += \" + \"\n",
    "        to_print += f\"{vec[i]} |{bin(i)[2:].zfill(bin_len)}>\"\n",
    "        not_first = True\n",
    "    to_print += \"}\"\n",
    "    if do_return: return to_print\n",
    "    print(to_print)\n",
    "\n",
    "## Prints a state with integer output\n",
    "def PrettyPrintInteger(myState, do_return=False):\n",
    "    to_print = \"{ \"\n",
    "    vec = StateToVec(myState)\n",
    "    length = vec.shape[0]\n",
    "    bin_len = int(m.log2(length))\n",
    "    not_first = False\n",
    "    for i in range(length):\n",
    "        if vec[i] == 0 + 0.j:\n",
    "            continue\n",
    "        if not_first:\n",
    "            to_print += \" + \"\n",
    "        to_print += f\"{vec[i]} |{i}>\"\n",
    "        not_first = True\n",
    "    to_print += \"}\"\n",
    "    if do_return: return to_print\n",
    "    print(to_print)\n",
    "\n",
    "## Prints a state with probabilities rather than complex coefficients\n",
    "def print_state_probabilities(state, decimals=8, do_return=False, percent_mode=False):\n",
    "    if percent_mode: decimals += 2\n",
    "    state = [[round(abs(element[0])**2, decimals).real, element[1]] for element in state]\n",
    "    if percent_mode:\n",
    "        state = [[round(element[0]*100, decimals-2), element[1]] for element in state]\n",
    "    print(state)\n",
    "    if do_return: return state\n",
    "\n",
    "## Converts state to vector form\n",
    "def StateToVec(myState):\n",
    "    vec_len = 2**len(myState[0][1])\n",
    "    to_return = np.zeros(vec_len, dtype=\"complex_\")\n",
    "    for s in myState:\n",
    "        idx = int(s[1], 2)\n",
    "        to_return[idx] += s[0]\n",
    "    return to_return\n",
    "\n",
    "## Converts vector state back to state form\n",
    "def VecToState(myState, decimals=5):\n",
    "    to_return = []\n",
    "    length = myState.shape[0]\n",
    "    bin_len = int(m.log2(length))\n",
    "    for i in range(length):\n",
    "        if abs(c_round(myState[i], decimals)) == 0.0:\n",
    "            continue\n",
    "        to_return.append([myState[i], bin(i)[2:].zfill(bin_len)])\n",
    "    return to_return\n",
    "\n",
    "## Removes duplicates and zeros from state\n",
    "def add_duplicates(state, decimals=5):\n",
    "    return VecToState(StateToVec(state), decimals)\n",
    "\n",
    "## Rounds a complex number to a decimal place\n",
    "def c_round(number, decimals):\n",
    "    number = complex(number)\n",
    "    return complex(\n",
    "        round(number.real, decimals) + round(number.imag, decimals) * 1.j)\n",
    "\n",
    "## Takes a state and rounds all coefficients as well as running add_duplicates()\n",
    "def clean_state(state, decimals):\n",
    "    for element in state:\n",
    "        element[0] = c_round(element[0], decimals)\n",
    "    return add_duplicates(state)\n",
    "\n",
    "## Takes array of data and returns it window averaged\n",
    "def rolling_avg(arr, window):\n",
    "    to_return = []\n",
    "    for i in range(len(arr)):\n",
    "        lower = int(i-window/2)\n",
    "        upper = int(i+window/2)\n",
    "        if lower < 0: lower = 0\n",
    "        if upper >= len(arr): upper = len(arr)-1\n",
    "        to_return.append(sum(arr[lower:upper])/(upper-lower))          \n",
    "    return to_return"
   ]
  },
  {
   "cell_type": "code",
   "execution_count": 286,
   "id": "9dc6340d",
   "metadata": {
    "ExecuteTime": {
     "end_time": "2023-02-13T03:47:42.731489Z",
     "start_time": "2023-02-13T03:47:42.715532Z"
    }
   },
   "outputs": [
    {
     "name": "stdout",
     "output_type": "stream",
     "text": [
      "{ (0.7071067811865476+0j) |000> + (-0.6324555320336759+0j) |010> + 0.31622776601683794j |101>}\n",
      "{ (0.7071067811865476+0j) |0> + (-0.6324555320336759+0j) |2> + 0.31622776601683794j |5>}\n",
      "[ 0.70710678+0.j          0.        +0.j         -0.63245553+0.j\n",
      "  0.        +0.j          0.        +0.j          0.        +0.31622777j\n",
      "  0.        +0.j          0.        +0.j        ]\n",
      "[[(0.7071067811865476+0j), '000'], [(-0.6324555320336759+0j), '010'], [0.31622776601683794j, '101']]\n",
      "{ (0.7071067811865476+0j) |000> + (-0.6324555320336759+0j) |010> + 0.31622776601683794j |101>}\n"
     ]
    }
   ],
   "source": [
    "## Demonstrating functions work\n",
    "myState2=[\n",
    "   (np.sqrt(0.1)*1.j, '101'),\n",
    "   (np.sqrt(0.5), '000'),\n",
    "   (-np.sqrt(0.4), '010' )]\n",
    "PrettyPrintBinary(myState2)\n",
    "PrettyPrintInteger(myState2)\n",
    "print(StateToVec(myState2))\n",
    "print(VecToState(StateToVec(myState2)))\n",
    "PrettyPrintBinary(VecToState(StateToVec(myState2)))"
   ]
  },
  {
   "cell_type": "code",
   "execution_count": 287,
   "id": "1c94450d",
   "metadata": {
    "ExecuteTime": {
     "end_time": "2023-02-13T03:47:43.125436Z",
     "start_time": "2023-02-13T03:47:43.116460Z"
    }
   },
   "outputs": [
    {
     "name": "stdout",
     "output_type": "stream",
     "text": [
      "{ (0.31622776601683794+0j) |00> + (0.6324555320336759+0j) |01> + (-0.7071067811865476+0j) |11>}\n"
     ]
    }
   ],
   "source": [
    "## Demonstrating functions work\n",
    "myState3=[\n",
    "  (-np.sqrt(0.125), '11'),\n",
    "  (np.sqrt(0.1), '00'),\n",
    "  (np.sqrt(0.4), '01'),\n",
    "  (-np.sqrt(0.125), '11')\n",
    "]\n",
    "PrettyPrintBinary(add_duplicates(myState3))"
   ]
  },
  {
   "cell_type": "code",
   "execution_count": 288,
   "id": "a580d2c9",
   "metadata": {
    "ExecuteTime": {
     "end_time": "2023-02-13T03:47:43.610139Z",
     "start_time": "2023-02-13T03:47:43.593185Z"
    },
    "code_folding": [
     2,
     5,
     9,
     13,
     17,
     20,
     22,
     30,
     67
    ]
   },
   "outputs": [],
   "source": [
    "### Functions for processing circuit descriptions ###\n",
    "\n",
    "def NOT(wire):\n",
    "    return f\"\"\"H {wire}\\nP {wire} {m.pi}\\nH {wire}\"\"\"\n",
    "\n",
    "def RZ(wire, theta):\n",
    "    theta = float(theta)\n",
    "    return f\"\"\"P {wire} {theta/2}\\n{NOT(wire)}\\nP {wire} {-theta/2}\\n{NOT(wire)}\"\"\"\n",
    "\n",
    "def CRZ(control, change, theta):\n",
    "    theta = float(theta)\n",
    "    return f\"\"\"P {change} {theta/2}\\nCNOT {control} {change} \\nP {change} {-theta/2}\\nCNOT {control} {change}\"\"\"\n",
    "\n",
    "def CPHASE(control, change, theta):\n",
    "    theta = float(theta)\n",
    "    return f\"\"\"{CRZ(control, change, theta)}\\nP {control} {theta/2}\"\"\"\n",
    "\n",
    "def SWAP(wire1, wire2):\n",
    "    return f\"\"\"CNOT {wire1} {wire2}\\nCNOT {wire2} {wire1}\\nCNOT {wire1} {wire2}\"\"\"\n",
    "\n",
    "def REVERSE(start, stop):\n",
    "    start = int(start); stop = int(stop)\n",
    "    if start == stop:\n",
    "        return \"\"\n",
    "    st = \"\"\n",
    "    for i in range(start, start + int((stop-start)/2)):\n",
    "        st += f\"{SWAP(i, stop-i-1)}\\n\"\n",
    "    return st[:-1]\n",
    "\n",
    "## Converts a description with advanced gates into basis gates\n",
    "def preprocess_description(description, full_description=True):\n",
    "    lines = description.splitlines(False)\n",
    "    start = 0\n",
    "    st = \"\"\n",
    "    if full_description:\n",
    "        st += f\"{lines[0]}\\n\"\n",
    "        start += 1\n",
    "    if len(lines) > 1 and lines[1].split(' ')[0] == \"INITSTATE\":\n",
    "        st += f\"{lines[1]}\\n\"\n",
    "        start += 1\n",
    "    for line in lines[start:]:\n",
    "        pcs = line.split(' ')\n",
    "        if pcs[0] == 'H':\n",
    "            st += f\"{line}\\n\"\n",
    "        elif pcs[0] == 'P':\n",
    "            st += f\"{line}\\n\"\n",
    "        elif pcs[0] == 'CNOT':\n",
    "            st += f\"{line}\\n\"\n",
    "        elif pcs[0] == 'NOT':\n",
    "            st += f\"{NOT(pcs[1])}\\n\"\n",
    "        elif pcs[0] == 'RZ':\n",
    "            st += f\"{RZ(pcs[1], pcs[2])}\\n\"\n",
    "        elif pcs[0] == 'CRZ':\n",
    "            st += f\"{CRZ(pcs[1], pcs[2], pcs[3])}\\n\"            \n",
    "        elif pcs[0] == 'CPHASE':\n",
    "            st += f\"{CPHASE(pcs[1], pcs[2], pcs[3])}\\n\"\n",
    "        elif pcs[0] == 'SWAP':\n",
    "            st += f\"{SWAP(pcs[1], pcs[2])}\\n\"\n",
    "        elif pcs[0] == 'MEASURE':\n",
    "            st += f\"{line}\\n\"\n",
    "        elif pcs[0] == 'REVERSE':\n",
    "            st += f\"{REVERSE(pcs[1], pcs[2])}\\n\"\n",
    "        elif pcs[0] == 'FUNC' or 'CFUNC':\n",
    "            st += f\"{line}\\n\"\n",
    "    return st[:-1]\n",
    "\n",
    "## Takes a description and returns the inverse\n",
    "def invert_description(description):\n",
    "    description = preprocess_description(description)\n",
    "    lines = description.splitlines(False)\n",
    "    gates = []\n",
    "    for line in lines:\n",
    "        pcs = line.split(' ')\n",
    "        if pcs[0] == 'H':\n",
    "            gates.append(line)\n",
    "        elif pcs[0] == 'P':\n",
    "            gates.append(f\"P {pcs[1]} {-float(pcs[2])}\")\n",
    "        elif pcs[0] == 'CNOT':\n",
    "            gates.append(line)\n",
    "    st = \"\"\n",
    "    gates.reverse()\n",
    "    for gate in gates:\n",
    "        st += f\"{gate}\\n\"\n",
    "    return st[:-1]"
   ]
  },
  {
   "cell_type": "code",
   "execution_count": 289,
   "id": "1365b317",
   "metadata": {
    "ExecuteTime": {
     "end_time": "2023-02-13T03:47:44.069910Z",
     "start_time": "2023-02-13T03:47:44.029020Z"
    },
    "code_folding": [
     5,
     61,
     68,
     77,
     82,
     90,
     95,
     103,
     108,
     120,
     125,
     140,
     149,
     160,
     174,
     179,
     181,
     186,
     190,
     197,
     210
    ]
   },
   "outputs": [],
   "source": [
    "### Main Quantum Computer (II) Class ###\n",
    "class Quantum_Computer():\n",
    "    \n",
    "    ## Initialization function takes description to define the computer\n",
    "    ## If description is from a file set from_file=True and description=filename\n",
    "    def __init__(self, description, from_file=False, print_circuit=False):\n",
    "        if from_file:\n",
    "            with open(description) as f:\n",
    "                description = f.read()\n",
    "        if print_circuit: print(description)\n",
    "        description = preprocess_description(description)\n",
    "        lines = description.splitlines(False)\n",
    "        self.measurements = []\n",
    "        self.n = int(lines[0])\n",
    "        self.decimals = 5\n",
    "        self.last_final_state = 0\n",
    "        break_one = lines[1].split(' ')\n",
    "        if break_one[0] == \"INITSTATE\":\n",
    "            if break_one[1] == \"BASIS\":\n",
    "                init_state = break_one[2][1:-1]\n",
    "                vec = np.zeros(2**self.n, dtype = \"complex_\")\n",
    "                state_val = int(init_state, 2)\n",
    "                vec[state_val] = complex(1)\n",
    "                self.default_state = VecToState(vec)                \n",
    "            if break_one[1] == \"FILE\":\n",
    "                filename = break_one[2]\n",
    "                with open(filename) as file:\n",
    "                    basis = file.read().splitlines(False)\n",
    "                vec = np.zeros(2**self.n, dtype = \"complex_\")\n",
    "                for i in range(vec.shape[0]):\n",
    "                    coeff = basis[i].split(' ')\n",
    "                    vec[i] = float(coeff[0]) + float(coeff[1])*1.j\n",
    "                self.default_state = VecToState(vec)\n",
    "        else: \n",
    "            vec = np.zeros(2**self.n, dtype = \"complex_\")\n",
    "            vec[0] = complex(1)\n",
    "            self.default_state = VecToState(vec)\n",
    "        self.gates = []\n",
    "        for line in lines[1:]:\n",
    "            pcs = line.split(' ')\n",
    "            if pcs[0] == 'H':\n",
    "                self.gates.append((0, int(pcs[1])))\n",
    "            elif pcs[0] == 'P':\n",
    "                self.gates.append((1, int(pcs[1]), float(pcs[2])))\n",
    "            elif pcs[0] == 'CNOT':\n",
    "                self.gates.append((2, int(pcs[1]), int(pcs[2])))\n",
    "            elif pcs[0] == \"MEASURE\":\n",
    "                self.gates.append((3,0))\n",
    "            elif pcs[0] == \"FUNC\":\n",
    "                if pcs[3] == \"xyModN\":\n",
    "                    self.gates.append((4, int(pcs[1]), int(pcs[2]), int(pcs[4]), int(pcs[5])))\n",
    "                else:\n",
    "                    print(\"SOMETHING IS WRONG\")\n",
    "            elif pcs[0] == \"CFUNC\":\n",
    "                if pcs[4] == \"xyModN\":\n",
    "                    self.gates.append((5, int(pcs[1]), int(pcs[2]), int(pcs[3]), int(pcs[5]), int(pcs[6])))\n",
    "                else:\n",
    "                    print(\"SOMETHING IS WRONG\")\n",
    "        return\n",
    "    \n",
    "    ## Runs Hadamard Gate (H_element()) on each element of the current state\n",
    "    def H(self, wire, state):\n",
    "        new_state = []\n",
    "        for element in state:\n",
    "            new_state = new_state + self.H_element(wire, element)\n",
    "        return add_duplicates(new_state, self.decimals)\n",
    "    \n",
    "    ## Implementation of the hadamard gate on one element\n",
    "    def H_element(self, wire, element):\n",
    "        alt_element = copy.deepcopy(element)\n",
    "        alt_element[1] = alt_element[1][:wire] + str(self.flip_bit(alt_element[1][wire])) + alt_element[1][wire+1:]\n",
    "        alt_element[0] = alt_element[0] * (1/m.sqrt(2))\n",
    "        element[0] = element[0] * (1/m.sqrt(2))\n",
    "        if element[1][wire] == '1': element[0] = -element[0]\n",
    "        return [element, alt_element]\n",
    "        \n",
    "    ## Runs Phase Gate (phase_element()) on each element of the current state\n",
    "    def phase(self, wire, phase, state):\n",
    "        [self.phase_element(wire, phase, element) for element in state]\n",
    "        return add_duplicates(state, self.decimals)\n",
    "    \n",
    "    ## Implementation of the phase gate on one element\n",
    "    def phase_element(self, wire, phase, element):\n",
    "        if element[1][wire] == '0':\n",
    "            return element\n",
    "        else:\n",
    "            element[0] = element[0] * cm.exp(phase*1.j)\n",
    "            return element\n",
    "    \n",
    "    ## Runs CNOT Gate (CNOT_element()) on each element of the current state\n",
    "    def CNOT(self, control, change, state):\n",
    "        [self.CNOT_element(control, change, element) for element in state]\n",
    "        return add_duplicates(state, self.decimals)\n",
    "        \n",
    "    ## Implementation of the CNOT gate on one element\n",
    "    def CNOT_element(self, control, change, element):    \n",
    "        if element[1][control] == '0':\n",
    "            return element\n",
    "        else:\n",
    "            element[1] = element[1][:change] + str(self.flip_bit(element[1][change])) + element[1][change+1:]\n",
    "            return element\n",
    "    \n",
    "    ## Runs xyModN Gate (xyModN_element()) on each element of the current state\n",
    "    def xyModN(self, wire, num_wires, x, N, state):\n",
    "        [self.xyModN_element(wire, num_wires, x, N, element) for element in state]\n",
    "        return add_duplicates(state, self.decimals)\n",
    "    \n",
    "    ## Implementation of the xyModN gate on one element\n",
    "    def xyModN_element(self, wire, num_wires, x, N, element):\n",
    "        y = int(element[1][wire:wire+num_wires], 2)\n",
    "        y_int = x*y % N\n",
    "        y_out = bin(y_int)[2:]\n",
    "        if y >= N:\n",
    "            y_out = bin(y)[2:]\n",
    "        while len(y_out)<num_wires:\n",
    "            y_out = '0' + y_out\n",
    "        element[1] = element[1][:wire] + y_out + element[1][wire+num_wires:]\n",
    "        return element\n",
    "    \n",
    "    ## Runs CxyModN Gate (CxyModN_element()) on each element of the current state\n",
    "    def CxyModN(self, control, wire, num_wires, x, N, state):\n",
    "        [self.CxyModN_element(control, wire, num_wires, x, N, element) for element in state]\n",
    "        return add_duplicates(state, self.decimals)\n",
    "    \n",
    "    ## Implementation of the CxyModN gate on one element\n",
    "    def CxyModN_element(self, control, wire, num_wires, x, N, element):\n",
    "        if element[1][control] == '0':\n",
    "            return element\n",
    "        else:\n",
    "            y = int(element[1][wire:wire+num_wires], 2)\n",
    "            y_int = x*y % N\n",
    "            y_out = bin(y_int)[2:]\n",
    "            if y >= N:\n",
    "                y_out = bin(y)[2:]\n",
    "            while len(y_out)<num_wires:\n",
    "                y_out = '0' + y_out\n",
    "            element[1] = element[1][:wire] + y_out + element[1][wire+num_wires:]\n",
    "            return element\n",
    "    \n",
    "    ## Run when function reaches MEASURE; size dictates the number of measurements to make\n",
    "    def measure(self, state, size=1):\n",
    "        states = []\n",
    "        probabilities = []\n",
    "        for element in state:\n",
    "            states.append(element[1])\n",
    "            probabilities.append(abs(element[0])**2)\n",
    "        return np.random.choice(states, size=size, p=probabilities)\n",
    "    \n",
    "    ## Run the computer with default initial state (or your own via initial_state)\n",
    "    def run(self, initial_state=0, decimals=5, num_measures=1, print_m=False):\n",
    "        self.decimals = decimals\n",
    "        if initial_state == 0:\n",
    "            initial_state = self.default_state\n",
    "        state = add_duplicates(initial_state, self.decimals)\n",
    "        for gate in self.gates:\n",
    "            state = self.run_gate(gate, state, num_measures, initial_state, print_m)\n",
    "        self.last_final_state = clean_state(state, decimals)\n",
    "        return self.last_final_state\n",
    "            \n",
    "    ## Gate function directory\n",
    "    def run_gate(self, gate, state, num_measures, initial_state, print_m):\n",
    "        if gate[0] == 0:\n",
    "            state = self.H(gate[1], state)\n",
    "        elif gate[0] == 1:\n",
    "            state = self.phase(gate[1], gate[2], state)\n",
    "        elif gate[0] == 2:\n",
    "            state = self.CNOT(gate[1], gate[2], state)\n",
    "        elif gate[0] == 3:\n",
    "            measures = ((initial_state, self.measure(state, size=num_measures)))\n",
    "            self.measurements.append(measures)\n",
    "            if print_m:\n",
    "                print(f\"Measurement: {measures[1]}\")\n",
    "        elif gate[0] == 4:\n",
    "            state = self.xyModN(gate[1], gate[2], gate[3], gate[4], state)\n",
    "        elif gate[0] == 5:\n",
    "            state = self.CxyModN(gate[1], gate[2], gate[3], gate[4], gate[5], state)\n",
    "        return add_duplicates(state, self.decimals)\n",
    "    \n",
    "    ## literally just a NOT lol\n",
    "    def flip_bit(self, bit):\n",
    "        bit = int(bit)\n",
    "        if bit == 0:\n",
    "            return 1\n",
    "        return 0\n",
    "    \n",
    "    ## Returns self.measurements\n",
    "    def get_measurements(self):\n",
    "        return self.measurements\n",
    "    \n",
    "    ## Returns the last measurement from self.measurements()\n",
    "    def get_last_measurement(self, as_ints=False):\n",
    "        to_return = self.measurements[-1]\n",
    "        measures = to_return[1]\n",
    "        if as_ints: measures = [int(measure, 2) for measure in measures]\n",
    "        return (to_return[0], measures)\n",
    "    \n",
    "    ## Plots the last measurements\n",
    "    def plot_last_measurement(self):\n",
    "        init_state, ints = self.get_last_measurement(True)\n",
    "        vals = np.zeros((2**self.n))\n",
    "        for i in ints:\n",
    "            vals[i] += 1\n",
    "        plt.figure()\n",
    "        plt.plot(range(2**self.n), vals)\n",
    "        plt.title(f\"Measurements After Initial State: {init_state}\")\n",
    "        plt.xlabel(\"Measurment\")\n",
    "        plt.ylabel(\"Occurences\")\n",
    "        plt.show()\n",
    "    \n",
    "    ## Returns the most recent result state\n",
    "    def get_last_state(self):\n",
    "        return self.last_final_state"
   ]
  },
  {
   "cell_type": "code",
   "execution_count": 290,
   "id": "f197dd8f",
   "metadata": {
    "ExecuteTime": {
     "end_time": "2023-02-13T03:47:44.498763Z",
     "start_time": "2023-02-13T03:47:44.483804Z"
    }
   },
   "outputs": [
    {
     "name": "stdout",
     "output_type": "stream",
     "text": [
      "[[(0.97767+0.14776j), '000'], [(0.02233-0.14776j), '101']]\n"
     ]
    }
   ],
   "source": [
    "## Testing Quantum_Computer on atomic gates\n",
    "test_description = \"\"\"3\n",
    "H 1\n",
    "H 2\n",
    "P 2 0.3\n",
    "CNOT 2 1\n",
    "H 1\n",
    "H 2\n",
    "CNOT 2 0\n",
    "MEASURE\"\"\"\n",
    "test_computer = Quantum_Computer(test_description)\n",
    "print(test_computer.run())"
   ]
  },
  {
   "cell_type": "code",
   "execution_count": 291,
   "id": "faadc32c",
   "metadata": {
    "ExecuteTime": {
     "end_time": "2023-02-13T03:47:45.007404Z",
     "start_time": "2023-02-13T03:47:44.974491Z"
    }
   },
   "outputs": [
    {
     "name": "stdout",
     "output_type": "stream",
     "text": [
      "{ (0.70711+0j) |0> + (0.70711+0j) |256>}\n"
     ]
    }
   ],
   "source": [
    "## Testing preprocessing\n",
    "test_description = \"\"\"9\n",
    "H 0\n",
    "CPHASE 0 5 0.3\n",
    "P 1 0.3\n",
    "CNOT 4 7\n",
    "SWAP 2 8\"\"\"\n",
    "PrettyPrintInteger(Quantum_Computer(test_description).run())"
   ]
  },
  {
   "cell_type": "code",
   "execution_count": 397,
   "id": "7f587e92",
   "metadata": {
    "ExecuteTime": {
     "end_time": "2023-02-13T04:51:09.792598Z",
     "start_time": "2023-02-13T04:51:09.787611Z"
    }
   },
   "outputs": [],
   "source": [
    "## Getting myInputState.txt as a description\n",
    "with open(\"myInputstate.txt\") as f:\n",
    "    lines = f.read().splitlines(False)\n",
    "myInputState = np.zeros(len(lines), dtype='complex_')\n",
    "for i in range(0, len(lines)):\n",
    "    line = lines[i]\n",
    "    nums = line.split(' ')\n",
    "    real = float(nums[0])\n",
    "    imag = float(nums[1])\n",
    "    num = real + imag * 1.j\n",
    "    myInputState[i] = num\n",
    "myInputState = VecToState(myInputState)"
   ]
  },
  {
   "cell_type": "code",
   "execution_count": 400,
   "id": "e6156ce4",
   "metadata": {
    "ExecuteTime": {
     "end_time": "2023-02-13T04:52:33.532679Z",
     "start_time": "2023-02-13T04:52:33.503757Z"
    },
    "scrolled": true
   },
   "outputs": [
    {
     "name": "stdout",
     "output_type": "stream",
     "text": [
      "{ (0.1541-0.03902j) |0> + (0.04895-0.03002j) |1> + (-0.02132+0.08775j) |2> + (-0.11161-0.23333j) |3> + (-0.0339-0.00967j) |4> + (-0.01675-0.13027j) |5> + (-0.19592+0.00989j) |6> + (-0.09796+0.01348j) |7> + (-0.18083+0.01438j) |8> + (0.05383-0.06863j) |9> + (0.00103-0.00346j) |10> + (-0.02154+0.01745j) |11> + (-0.0072+0.15958j) |12> + (-0.2231+0.07463j) |13> + (-0.03789+0.00586j) |14> + (0.0739-0.05074j) |15> + (-0.14805+0.08746j) |16> + (-0.06329+0.25662j) |17> + (0.11691+0.01381j) |18> + (-0.02668-0.00406j) |19> + (0.21923-0.21304j) |20> + (-0.04894-0.11636j) |21> + (-0.14794-0.10481j) |22> + (0.22317+0.05083j) |23> + (-0.13964-0.2372j) |24> + (0.18475-0.00515j) |25> + (-0.26322-0.0656j) |26> + (0.1752-0.02011j) |27> + (0.1122+0.00125j) |28> + (0.02419-0.12445j) |29> + (-0.2083+0.07702j) |30> + (0.05477+0.30613j) |31>}\n"
     ]
    }
   ],
   "source": [
    "## Running rand.circuit\n",
    "PrettyPrintInteger(Quantum_Computer(\"rand.circuit\", True).run(initial_state=myInputState))"
   ]
  },
  {
   "cell_type": "code",
   "execution_count": 404,
   "id": "57fdfa2e",
   "metadata": {
    "ExecuteTime": {
     "end_time": "2023-02-13T04:56:16.828141Z",
     "start_time": "2023-02-13T04:56:16.645630Z"
    },
    "code_folding": [
     3
    ]
   },
   "outputs": [
    {
     "name": "stdout",
     "output_type": "stream",
     "text": [
      "Measurement: ['10111']\n",
      "{ (0.1541-0.03902j) |0> + (0.04895-0.03002j) |1> + (-0.02132+0.08775j) |2> + (-0.11161-0.23333j) |3> + (-0.0339-0.00967j) |4> + (-0.01675-0.13027j) |5> + (-0.19592+0.00989j) |6> + (-0.09796+0.01348j) |7> + (-0.18083+0.01438j) |8> + (0.05383-0.06863j) |9> + (0.00103-0.00346j) |10> + (-0.02154+0.01745j) |11> + (-0.0072+0.15958j) |12> + (-0.2231+0.07463j) |13> + (-0.03789+0.00586j) |14> + (0.0739-0.05074j) |15> + (-0.14805+0.08746j) |16> + (-0.06329+0.25662j) |17> + (0.11691+0.01381j) |18> + (-0.02668-0.00406j) |19> + (0.21923-0.21304j) |20> + (-0.04894-0.11636j) |21> + (-0.14794-0.10481j) |22> + (0.22317+0.05083j) |23> + (-0.13964-0.2372j) |24> + (0.18475-0.00515j) |25> + (-0.26322-0.0656j) |26> + (0.1752-0.02011j) |27> + (0.1122+0.00125j) |28> + (0.02419-0.12445j) |29> + (-0.2083+0.07702j) |30> + (0.05477+0.30613j) |31>}\n"
     ]
    },
    {
     "data": {
      "image/png": "[encoded data removed]",
      "text/plain": [
       "<Figure size 640x480 with 1 Axes>"
      ]
     },
     "metadata": {},
     "output_type": "display_data"
    }
   ],
   "source": [
    "## Running measure.circuit and plotting results\n",
    "measure_computer = Quantum_Computer(\"measure.circuit\", True)\n",
    "PrettyPrintInteger(measure_computer.run(initial_state=myInputState, print_m=True, num_measures=1))\n",
    "def plot_measure_results():\n",
    "    measure_computer.run(initial_state=myInputState, num_measures=10000)\n",
    "    results = [int(result, 2) for result in measure_computer.get_measurements()[1][1]]\n",
    "\n",
    "    types = []\n",
    "    [types.append(x) for x in results if x not in types]\n",
    "    counts = [results.count(value) for value in types]\n",
    "\n",
    "    plt.figure()\n",
    "    plt.bar(types, counts, width=1)\n",
    "    plt.title(f\"Results of Running \\\"measure.circuit\\\"\")\n",
    "    plt.xlabel(\"Measured state\")\n",
    "    plt.ylabel(\"Count\")\n",
    "    plt.show()\n",
    "plot_measure_results()"
   ]
  },
  {
   "cell_type": "code",
   "execution_count": 294,
   "id": "799276c8",
   "metadata": {
    "ExecuteTime": {
     "end_time": "2023-02-13T03:47:46.813574Z",
     "start_time": "2023-02-13T03:47:46.784652Z"
    }
   },
   "outputs": [
    {
     "name": "stdout",
     "output_type": "stream",
     "text": [
      "{ (0.1541-0.03902j) |0> + (0.04895-0.03002j) |1> + (-0.02132+0.08775j) |2> + (-0.11161-0.23333j) |3> + (-0.0339-0.00967j) |4> + (-0.01675-0.13027j) |5> + (-0.19592+0.00989j) |6> + (-0.09796+0.01348j) |7> + (-0.18083+0.01438j) |8> + (0.05383-0.06863j) |9> + (0.00103-0.00346j) |10> + (-0.02154+0.01745j) |11> + (-0.0072+0.15958j) |12> + (-0.2231+0.07463j) |13> + (-0.03789+0.00586j) |14> + (0.0739-0.05074j) |15> + (-0.14805+0.08746j) |16> + (-0.06329+0.25662j) |17> + (0.11691+0.01381j) |18> + (-0.02668-0.00406j) |19> + (0.21923-0.21304j) |20> + (-0.04894-0.11636j) |21> + (-0.14794-0.10481j) |22> + (0.22317+0.05083j) |23> + (-0.13964-0.2372j) |24> + (0.18475-0.00515j) |25> + (-0.26322-0.0656j) |26> + (0.1752-0.02011j) |27> + (0.1122+0.00125j) |28> + (0.02419-0.12445j) |29> + (-0.2083+0.07702j) |30> + (0.05477+0.30613j) |31>}\n"
     ]
    }
   ],
   "source": [
    "## Running input.circuit\n",
    "PrettyPrintInteger(Quantum_Computer(\"input.circuit\", True).run())"
   ]
  },
  {
   "cell_type": "code",
   "execution_count": 295,
   "id": "4a0cea44",
   "metadata": {
    "ExecuteTime": {
     "end_time": "2023-02-13T03:47:47.383052Z",
     "start_time": "2023-02-13T03:47:47.366097Z"
    },
    "code_folding": []
   },
   "outputs": [],
   "source": [
    "## Phase estimation circuit description with 1 measurement wire\n",
    "def PhaseE_D1(phi):\n",
    "    return f\"\"\"2\n",
    "INITSTATE BASIS |01>\n",
    "H 0\n",
    "CPHASE 0 1 {phi}\n",
    "H 0\n",
    "MEASURE\"\"\""
   ]
  },
  {
   "cell_type": "code",
   "execution_count": 296,
   "id": "62b16ec8",
   "metadata": {
    "ExecuteTime": {
     "end_time": "2023-02-13T03:47:48.095147Z",
     "start_time": "2023-02-13T03:47:47.928592Z"
    },
    "code_folding": [
     0
    ]
   },
   "outputs": [
    {
     "data": {
      "image/png": "[encoded data removed]",
      "text/plain": [
       "<Figure size 640x480 with 1 Axes>"
      ]
     },
     "metadata": {},
     "output_type": "display_data"
    }
   ],
   "source": [
    "## Plotting predicted phase vs actual phase on 1 wire\n",
    "def PhaseE_D1_G1():\n",
    "    phi_by_2pi = np.linspace(0, 0.99, 100)\n",
    "    theta_j = []\n",
    "    for i in phi_by_2pi:\n",
    "        desc = PhaseE_D1(2*m.pi*i)\n",
    "        results = Quantum_Computer(desc).run()\n",
    "        max_val = 0\n",
    "        fin_state = 0\n",
    "        for result in results:\n",
    "            prob = result[0].real\n",
    "            if prob > max_val:\n",
    "                max_val = prob\n",
    "                fin_state = result[1][0]\n",
    "        theta = (0.5) * int(fin_state)\n",
    "        theta_j.append(theta)\n",
    "\n",
    "    plt.figure()\n",
    "    plt.plot(phi_by_2pi, theta_j)\n",
    "    plt.title(r\"$\\frac{\\phi}{2\\pi}$ vs. Predicted $\\theta_j$\")\n",
    "    plt.xlabel(r\"$\\frac{\\phi}{2\\pi}$\")\n",
    "    plt.ylabel(r\"Predicted $\\theta_j$\")\n",
    "    plt.show()\n",
    "PhaseE_D1_G1()"
   ]
  },
  {
   "cell_type": "code",
   "execution_count": 297,
   "id": "e9aebac7",
   "metadata": {
    "ExecuteTime": {
     "end_time": "2023-02-13T03:47:49.200192Z",
     "start_time": "2023-02-13T03:47:49.002721Z"
    },
    "code_folding": [
     0
    ]
   },
   "outputs": [
    {
     "data": {
      "image/png": "[encoded data removed]",
      "text/plain": [
       "<Figure size 640x480 with 1 Axes>"
      ]
     },
     "metadata": {},
     "output_type": "display_data"
    }
   ],
   "source": [
    "## Plotting phase measurements with 1 wire\n",
    "def PhaseE_D1_G2():\n",
    "    phi_by_2pi_set = 0.1432394487827058\n",
    "    computer = Quantum_Computer(PhaseE_D1(2*m.pi*phi_by_2pi_set))\n",
    "    computer.run(num_measures=10000)\n",
    "    results = computer.get_last_measurement()[1]\n",
    "    thetas = []\n",
    "    for i in range(len(results)):\n",
    "        if results[i] == '01':\n",
    "            thetas.append(0)\n",
    "        elif results[i] == '11':\n",
    "            thetas.append(0.5)\n",
    "    types = []\n",
    "    [types.append(x) for x in thetas if x not in types]\n",
    "    probs = [thetas.count(value)/len(thetas) for value in types]\n",
    "\n",
    "    plt.figure()\n",
    "    plt.bar(types, probs, width=0.1, label = r'Predicted $\\theta_j$')\n",
    "    plt.axvline(x = phi_by_2pi_set, color = 'r', label = r'Actual $\\theta_j$')\n",
    "    plt.title(r\"Predicted vs. Actual for $\\theta_j$=0.1432394487827058\")\n",
    "    plt.xlabel(r\"$\\theta_j$\")\n",
    "    plt.ylabel(\"Probability\")\n",
    "    plt.legend()\n",
    "    plt.show()\n",
    "PhaseE_D1_G2()"
   ]
  },
  {
   "cell_type": "code",
   "execution_count": 298,
   "id": "6507d7db",
   "metadata": {
    "ExecuteTime": {
     "end_time": "2023-02-13T03:47:49.674923Z",
     "start_time": "2023-02-13T03:47:49.660961Z"
    },
    "code_folding": [
     0
    ]
   },
   "outputs": [],
   "source": [
    "## Animating the previous graph with changing actual phase\n",
    "def animation1():\n",
    "    n_frames = 100\n",
    "    print(n_frames)\n",
    "    phi_by_2pi = np.linspace(0, 1, n_frames)\n",
    "    computer = Quantum_Computer(PhaseE_D1(2*m.pi*phi_by_2pi[1]))\n",
    "    computer.run(num_measures=1000)\n",
    "    results = computer.get_last_measurement()[1]\n",
    "    thetas = []\n",
    "    for i in range(len(results)):\n",
    "        if results[i] == '01':\n",
    "            thetas.append(0)\n",
    "        elif results[i] == '11':\n",
    "            thetas.append(0.5)\n",
    "    types = []\n",
    "    [types.append(x) for x in thetas if x not in types]\n",
    "    probs = [thetas.count(value)/len(thetas) for value in types]\n",
    "\n",
    "    fig, ax = plt.subplots()\n",
    "    bars = plt.bar(types, probs, width=0.1, label = r'Predicted $\\theta_j$')\n",
    "    line = plt.axvline(x = phi_by_2pi[1], color = 'r', label = r'Actual $\\theta_j$')\n",
    "    plt.title(r\"Predicted vs. Actual for $\\theta_j$\")\n",
    "    plt.xlabel(r\"$\\theta_j$\")\n",
    "    plt.ylabel(\"Probability\")\n",
    "    plt.xlim(-0.1, 1.1)\n",
    "    plt.ylim(0, 1)\n",
    "    plt.legend()\n",
    "\n",
    "    def update(i):\n",
    "        computer = Quantum_Computer(PhaseE_D1(2*m.pi*phi_by_2pi[i]))\n",
    "        computer.run(num_measures=10000)\n",
    "        results = computer.get_last_measurement()[1]\n",
    "        thetas = []\n",
    "        for j in range(len(results)):\n",
    "            if results[j] == '01':\n",
    "                thetas.append(0)\n",
    "            elif results[j] == '11':\n",
    "                thetas.append(0.5)\n",
    "        types = []\n",
    "        [types.append(x) for x in thetas if x not in types]\n",
    "        probs = [thetas.count(value)/len(thetas) for value in types]\n",
    "        plt.cla()\n",
    "        bars = plt.bar(types, probs, width=0.1, label = r'Predicted $\\theta_j$')\n",
    "        line = plt.axvline(x = phi_by_2pi[i], color = 'r', label = r'Actual $\\theta_j$')\n",
    "        plt.title(r\"Predicted vs. Actual for $\\theta_j$\")\n",
    "        plt.xlabel(r\"$\\theta_j$\")\n",
    "        plt.ylabel(\"Probability\")\n",
    "        plt.xlim(-0.1, 1.1)\n",
    "        plt.ylim(0, 1)\n",
    "        plt.legend(loc='upper right')\n",
    "        return [bars], [line]\n",
    "\n",
    "    anim = FuncAnimation(fig, update, frames=n_frames, interval = 1, repeat=True, cache_frame_data=True)\n",
    "    anim.save(\"thetaprediction1wire.gif\")\n",
    "    plt.show()\n",
    "# animation1()"
   ]
  },
  {
   "cell_type": "code",
   "execution_count": 299,
   "id": "9b6cfec2",
   "metadata": {
    "ExecuteTime": {
     "end_time": "2023-02-13T03:47:50.273323Z",
     "start_time": "2023-02-13T03:47:50.260357Z"
    },
    "code_folding": []
   },
   "outputs": [],
   "source": [
    "## Phase estimation circuit description with 2 measurement wires\n",
    "def PhaseE_D2(phi):\n",
    "    return f\"\"\"3\n",
    "INITSTATE BASIS |001>\n",
    "H 0\n",
    "H 1\n",
    "CPHASE 1 2 {phi}\n",
    "CPHASE 0 2 {phi}\n",
    "CPHASE 0 2 {phi}\n",
    "H 0\n",
    "CPHASE 0 1 {-m.pi/2}\n",
    "H 1\n",
    "SWAP 0 1\n",
    "MEASURE\"\"\""
   ]
  },
  {
   "cell_type": "code",
   "execution_count": 300,
   "id": "fabd7886",
   "metadata": {
    "ExecuteTime": {
     "end_time": "2023-02-13T03:47:51.005366Z",
     "start_time": "2023-02-13T03:47:50.753040Z"
    },
    "code_folding": [
     0
    ]
   },
   "outputs": [
    {
     "data": {
      "image/png": "[encoded data removed]",
      "text/plain": [
       "<Figure size 640x480 with 1 Axes>"
      ]
     },
     "metadata": {},
     "output_type": "display_data"
    }
   ],
   "source": [
    "## Plotting predicted phase vs actual phase on 2 wires \n",
    "def PhaseE_D2_G1():\n",
    "    phi_by_2pi = np.linspace(0, 0.99, 100)\n",
    "    theta_j = []\n",
    "    for i in phi_by_2pi:\n",
    "        desc = PhaseE_D2(2*m.pi*i)\n",
    "        results = Quantum_Computer(desc).run()\n",
    "        max_val = 0\n",
    "        fin_state = 0\n",
    "        for result in results:\n",
    "            prob = result[0].real\n",
    "            if prob > max_val:\n",
    "                max_val = prob\n",
    "                fin_state = result[1][:-1]\n",
    "        theta = (0.5) * int(fin_state[0]) + (0.25) * int(fin_state[1])\n",
    "        theta_j.append(theta)\n",
    "\n",
    "    plt.figure()\n",
    "    plt.plot(phi_by_2pi, theta_j)\n",
    "    plt.title(r\"$\\frac{\\phi}{2\\pi}$ vs. Predicted $\\theta_j$\")\n",
    "    plt.xlabel(r\"$\\frac{\\phi}{2\\pi}$\")\n",
    "    plt.ylabel(r\"Predicted $\\theta_j$\")\n",
    "    plt.show()\n",
    "PhaseE_D2_G1()"
   ]
  },
  {
   "cell_type": "code",
   "execution_count": 301,
   "id": "a9497709",
   "metadata": {
    "ExecuteTime": {
     "end_time": "2023-02-13T03:47:51.447184Z",
     "start_time": "2023-02-13T03:47:51.310549Z"
    },
    "code_folding": [
     0
    ]
   },
   "outputs": [
    {
     "data": {
      "image/png": "[encoded data removed]",
      "text/plain": [
       "<Figure size 640x480 with 1 Axes>"
      ]
     },
     "metadata": {},
     "output_type": "display_data"
    }
   ],
   "source": [
    "## Plotting phase measurements with 2 wires\n",
    "def PhaseE_D2_G2():\n",
    "    phi_by_2pi_set = 0.1432394487827058\n",
    "    computer = Quantum_Computer(PhaseE_D2(2*m.pi*phi_by_2pi_set))\n",
    "    computer.run(num_measures=10000)\n",
    "    results = computer.get_last_measurement()[1]\n",
    "    thetas = []\n",
    "    for i in range(len(results)):\n",
    "        result = results[i][:-1]\n",
    "        thetas.append((0.5) * int(result[0]) + (0.25) * int(result[1]))\n",
    "    types = []\n",
    "    [types.append(x) for x in thetas if x not in types]\n",
    "    probs = [thetas.count(value)/len(thetas) for value in types]\n",
    "\n",
    "    plt.figure()\n",
    "    plt.bar(types, probs, width=0.1, label = r'Predicted $\\theta_j$')\n",
    "    plt.axvline(x = phi_by_2pi_set, color = 'r', label = r'Actual $\\theta_j$')\n",
    "    plt.title(r\"Predicted vs. Actual for $\\theta_j$=0.1432394487827058\")\n",
    "    plt.xlabel(r\"$\\theta_j$\")\n",
    "    plt.ylabel(\"Probability\")\n",
    "    plt.legend()\n",
    "    plt.show()\n",
    "PhaseE_D2_G2()"
   ]
  },
  {
   "cell_type": "code",
   "execution_count": 302,
   "id": "a33becdc",
   "metadata": {
    "ExecuteTime": {
     "end_time": "2023-02-13T03:47:51.890997Z",
     "start_time": "2023-02-13T03:47:51.873045Z"
    },
    "code_folding": [
     0
    ]
   },
   "outputs": [],
   "source": [
    "## Animating the previous graph with changing actual phase\n",
    "def animation2():\n",
    "    n_frames = 200\n",
    "    print(n_frames)\n",
    "    phi_by_2pi = np.linspace(0, 1, n_frames)\n",
    "    computer = Quantum_Computer(PhaseE_D2(2*m.pi*phi_by_2pi[1]))\n",
    "    computer.run(num_measures=1000)\n",
    "    results = computer.get_last_measurement()[1]\n",
    "    thetas = []\n",
    "    for i in range(len(results)):\n",
    "        result = results[i][:-1]\n",
    "        thetas.append((0.5) * int(result[0]) + (0.25) * int(result[1]))\n",
    "    types = []\n",
    "    [types.append(x) for x in thetas if x not in types]\n",
    "    probs = [thetas.count(value)/len(thetas) for value in types]\n",
    "\n",
    "    fig, ax = plt.subplots()\n",
    "    bars = plt.bar(types, probs, width=0.1, label = r'Predicted $\\theta_j$')\n",
    "    line = plt.axvline(x = phi_by_2pi[1], color = 'r', label = r'Actual $\\theta_j$')\n",
    "    plt.title(r\"Predicted vs. Actual for $\\theta_j$\")\n",
    "    plt.xlabel(r\"$\\theta_j$\")\n",
    "    plt.ylabel(\"Probability\")\n",
    "    plt.xlim(-0.1, 1.1)\n",
    "    plt.ylim(0, 1)\n",
    "    plt.legend()\n",
    "\n",
    "    def update(i):\n",
    "        computer = Quantum_Computer(PhaseE_D2(2*m.pi*phi_by_2pi[i]))\n",
    "        computer.run(num_measures=10000)\n",
    "        results = computer.get_last_measurement()[1]\n",
    "        thetas = []\n",
    "        for j in range(len(results)):\n",
    "            result = results[j][:-1]\n",
    "            thetas.append((0.5) * int(result[0]) + (0.25) * int(result[1]))\n",
    "        types = []\n",
    "        [types.append(x) for x in thetas if x not in types]\n",
    "        probs = [thetas.count(value)/len(thetas) for value in types]\n",
    "        plt.cla()\n",
    "        bars = plt.bar(types, probs, width=0.1, label = r'Predicted $\\theta_j$')\n",
    "        line = plt.axvline(x = phi_by_2pi[i], color = 'r', label = r'Actual $\\theta_j$')\n",
    "        plt.title(r\"Predicted vs. Actual for $\\theta_j$\")\n",
    "        plt.xlabel(r\"$\\theta_j$\")\n",
    "        plt.ylabel(\"Probability\")\n",
    "        plt.xlim(-0.1, 1.1)\n",
    "        plt.ylim(0, 1)\n",
    "        plt.legend(loc='upper right')\n",
    "        return [bars], [line]\n",
    "\n",
    "    anim = FuncAnimation(fig, update, frames=n_frames, interval = 10, repeat=True, cache_frame_data=True)\n",
    "    anim.save(\"thetaprediction2wires.gif\")\n",
    "    plt.show()\n",
    "# animation2()"
   ]
  },
  {
   "cell_type": "code",
   "execution_count": 303,
   "id": "d9ebe873",
   "metadata": {
    "ExecuteTime": {
     "end_time": "2023-02-13T03:47:52.329823Z",
     "start_time": "2023-02-13T03:47:52.312869Z"
    },
    "code_folding": [
     1,
     12,
     38
    ]
   },
   "outputs": [],
   "source": [
    "## Circuit description generator for Quantum Fourier Transform on n wires\n",
    "def QFT(n):\n",
    "    st = \"\"\n",
    "    for i in range(n):\n",
    "        st += f\"H {n-i-1}\"\n",
    "        for j in range(n-i-1):\n",
    "            st += f\"\\nCPHASE {n-i-1} {n-i-1-j-1} {m.pi/(2**(j+1))}\"\n",
    "        st += \"\\n\"\n",
    "    return st[:-1]\n",
    "\n",
    "## Circuit description generator for phase_estimation on n wires\n",
    "## Defaults to U=CPHASE . . {PHI}, can take custom U \n",
    "def phase_estimator(n, phi=0, custom_description=\"\"):\n",
    "    basis0, basis1 = \"\", \"\"\n",
    "    is_custom = len(custom_description)>0\n",
    "    for i in range(n):\n",
    "        basis0 += \"0\"\n",
    "    n2 = 1\n",
    "    basis1 = '1'\n",
    "    if is_custom:\n",
    "        n2, basis1, dummy = process_U_description(custom_description, 0, n)\n",
    "    st = f\"\"\"{n+n2}\\nINITSTATE BASIS |{basis0}{basis1}>\\n\"\"\"\n",
    "    for i in range(n):\n",
    "        st+=f\"H {i}\\n\"\n",
    "    if is_custom:\n",
    "        for i in range(n):\n",
    "            for j in range(2**i):\n",
    "                n2, basis1, des = process_U_description(custom_description, n-1-i, n)\n",
    "                st+=f\"{des}\\n\"\n",
    "    else:\n",
    "        for i in range(n):\n",
    "            st+=f\"CPHASE {n-1-i} {n} {2**i*phi}\\n\"\n",
    "    st += f\"{invert_description(QFT(n))}\\n\"\n",
    "    st += f\"{REVERSE(0, n)}\\n\"\n",
    "    st += \"MEASURE\"\n",
    "    return st\n",
    "\n",
    "## Helper function to process custom U descriptions\n",
    "def process_U_description(description, control, n):\n",
    "    lines = description.splitlines(False)\n",
    "    start = 1\n",
    "    n2 = int(lines[0])\n",
    "    if len(lines) > 1 and lines[1].split(' ')[0] == \"INITSTATE\":\n",
    "        break_one = lines[1].split(' ')\n",
    "        lower_state = break_one[2][1:-1]\n",
    "        start += 1\n",
    "    else:\n",
    "        lower_state = \"\"\n",
    "        for i in range(n2-1):\n",
    "            lower_state += \"0\"\n",
    "        lower_state += \"1\"\n",
    "    st = \"\"\n",
    "    for line in lines:\n",
    "        pcs = line.split(' ')\n",
    "        if pcs[0] == 'P':\n",
    "            st += f\"{CPHASE(control, n+int(pcs[1]), float(pcs[2]))}\\n\"\n",
    "        elif pcs[0] == 'NOT':\n",
    "            st += f\"CNOT {control} {n+int(pcs[1])}\\n\"\n",
    "    return n2, lower_state, st[:-1]"
   ]
  },
  {
   "cell_type": "code",
   "execution_count": 304,
   "id": "bdba3cd7",
   "metadata": {
    "ExecuteTime": {
     "end_time": "2023-02-13T03:47:52.796575Z",
     "start_time": "2023-02-13T03:47:52.783610Z"
    }
   },
   "outputs": [
    {
     "name": "stdout",
     "output_type": "stream",
     "text": [
      "3\n",
      "INITSTATE BASIS |001>\n",
      "REVERSE 0 3\n",
      "H 2\n",
      "CPHASE 2 1 1.5707963267948966\n",
      "CPHASE 2 0 0.7853981633974483\n",
      "H 1\n",
      "CPHASE 1 0 1.5707963267948966\n",
      "H 0\n",
      "{ (0.35355+0j) |0> + (0.25+0.25j) |1> + 0.35355j |2> + (-0.25+0.25j) |3> + (-0.35355+0j) |4> + (-0.25-0.25j) |5> + -0.35355j |6> + (0.25-0.25j) |7>}\n"
     ]
    }
   ],
   "source": [
    "## Testing QFT on 3 wires\n",
    "QFT_description = f\"\"\"3\n",
    "INITSTATE BASIS |001>\n",
    "REVERSE 0 3\n",
    "{QFT(3)}\"\"\"\n",
    "QFT_test_computer = Quantum_Computer(QFT_description, print_circuit=True)\n",
    "state = QFT_test_computer.run()\n",
    "PrettyPrintInteger(state)"
   ]
  },
  {
   "cell_type": "code",
   "execution_count": 305,
   "id": "c0603789",
   "metadata": {
    "ExecuteTime": {
     "end_time": "2023-02-13T03:47:53.267318Z",
     "start_time": "2023-02-13T03:47:53.245375Z"
    }
   },
   "outputs": [
    {
     "name": "stdout",
     "output_type": "stream",
     "text": [
      "5\n",
      "INITSTATE FILE myInputState.txt\n",
      "REVERSE 0 4\n",
      "H 4\n",
      "CPHASE 4 3 1.5707963267948966\n",
      "CPHASE 4 2 0.7853981633974483\n",
      "CPHASE 4 1 0.39269908169872414\n",
      "CPHASE 4 0 0.19634954084936207\n",
      "H 3\n",
      "CPHASE 3 2 1.5707963267948966\n",
      "CPHASE 3 1 0.7853981633974483\n",
      "CPHASE 3 0 0.39269908169872414\n",
      "H 2\n",
      "CPHASE 2 1 1.5707963267948966\n",
      "CPHASE 2 0 0.7853981633974483\n",
      "H 1\n",
      "CPHASE 1 0 1.5707963267948966\n",
      "H 0\n",
      "[[(-0.04028-0.22092j), '00000'], [(-0.09575-0.07382j), '00001'], [(0.15632+0.15387j), '00010'], [(-0.0988+0.01736j), '00011'], [(0.2052+0.01736j), '00100'], [(-0.09343+0.06486j), '00101'], [(0.03687-0.11028j), '00110'], [(0.08211-0.39124j), '00111'], [(0.12581-0.03562j), '01000'], [(0.08068+0.09396j), '01001'], [(0.08372-0.24708j), '01010'], [(-0.05084+0.04454j), '01011'], [(-0.00613-0.0884j), '01100'], [(-0.12216-0.21366j), '01101'], [(0.06886-0.11625j), '01110'], [(0.16715+0.11573j), '01111'], [(0.0512-0.14919j), '10000'], [(-0.08131+0.09101j), '10001'], [(-0.03807-0.08061j), '10010'], [(-0.20995+0.18541j), '10011'], [(-0.0991+0.1035j), '10100'], [(-0.05393-0.03799j), '10101'], [(-0.28826-0.02856j), '10110'], [(-0.00125+0.05061j), '10111'], [(0.15423+0.03996j), '11000'], [(-0.13396+0.07066j), '11001'], [(-0.07167-0.13078j), '11010'], [(-0.04126+0.12203j), '11011'], [(0.06686-0.06579j), '11100'], [(0.19565-0.01374j), '11101'], [(-0.15805+0.00218j), '11110'], [(-0.03773-0.12908j), '11111']]\n"
     ]
    }
   ],
   "source": [
    "## Testing QFT on 5 wires\n",
    "QFT_description = f\"\"\"5\n",
    "INITSTATE FILE myInputState.txt\n",
    "REVERSE 0 4\n",
    "{QFT(5)}\"\"\"\n",
    "QFT_test_computer = Quantum_Computer(QFT_description, print_circuit=True)\n",
    "state = QFT_test_computer.run()\n",
    "print(state)"
   ]
  },
  {
   "cell_type": "code",
   "execution_count": 306,
   "id": "7e11a4fc",
   "metadata": {
    "ExecuteTime": {
     "end_time": "2023-02-13T03:47:59.947454Z",
     "start_time": "2023-02-13T03:47:53.974426Z"
    },
    "code_folding": [
     0
    ]
   },
   "outputs": [
    {
     "data": {
      "image/png": "[encoded data removed]",
      "text/plain": [
       "<Figure size 640x480 with 1 Axes>"
      ]
     },
     "metadata": {},
     "output_type": "display_data"
    }
   ],
   "source": [
    "## Plotting predicted phase vs actual phase on n wires\n",
    "def PhaseE_G1_Generator(n):\n",
    "    phi_by_2pi = np.linspace(0, 1, 100)\n",
    "    theta_j = []\n",
    "    for i in phi_by_2pi:\n",
    "        desc = phase_estimator(n, phi=2*m.pi*i)\n",
    "        results = Quantum_Computer(desc).run()\n",
    "        max_val = 0\n",
    "        fin_state = 0\n",
    "        for result in results:\n",
    "            prob = abs(result[0])**2\n",
    "            if prob > max_val:\n",
    "                max_val = prob\n",
    "                fin_state = result[1][:-1]\n",
    "        theta = 0\n",
    "        for j in range(n):\n",
    "            theta += (1/2)**(j+1)*int(fin_state[j])\n",
    "        theta_j.append(theta)\n",
    "        \n",
    "    plt.figure()\n",
    "    plt.plot(phi_by_2pi, theta_j)\n",
    "    plt.title(r\"$\\frac{\\phi}{2\\pi}$ vs. Predicted $\\theta_j$ with\" + f\" {n} wires\")\n",
    "    plt.xlabel(r\"$\\frac{\\phi}{2\\pi}$\")\n",
    "    plt.ylabel(r\"Predicted $\\theta_j$\")\n",
    "    plt.show()\n",
    "PhaseE_G1_Generator(6)"
   ]
  },
  {
   "cell_type": "code",
   "execution_count": 307,
   "id": "72e89c39",
   "metadata": {
    "ExecuteTime": {
     "end_time": "2023-02-13T03:48:05.235314Z",
     "start_time": "2023-02-13T03:48:05.036845Z"
    },
    "code_folding": [
     0
    ]
   },
   "outputs": [
    {
     "data": {
      "image/png": "[encoded data removed]",
      "text/plain": [
       "<Figure size 640x480 with 1 Axes>"
      ]
     },
     "metadata": {},
     "output_type": "display_data"
    }
   ],
   "source": [
    "## Plotting phase measurements with n wires\n",
    "def PhaseE_G2_Generator(n, num_measures=1000):\n",
    "    phi_by_2pi_set = 0.1432394487827058\n",
    "    desc = phase_estimator(n, phi=2*m.pi*phi_by_2pi_set)\n",
    "    computer = Quantum_Computer(desc)\n",
    "    computer.run(num_measures=num_measures)\n",
    "    results = computer.get_last_measurement()[1]\n",
    "    thetas = []\n",
    "    for i in range(len(results)):\n",
    "        result = results[i][:-1]\n",
    "        theta = 0\n",
    "        for j in range(n):\n",
    "            theta += (1/2)**(j+1)*int(result[j])\n",
    "        thetas.append(theta)\n",
    "    types = []\n",
    "    [types.append(x) for x in thetas if x not in types]\n",
    "    probs = [thetas.count(value)/len(thetas) for value in types]\n",
    "\n",
    "    width = 1/2**n\n",
    "    if width > 0.1: width = 0.1\n",
    "    plt.figure()\n",
    "    plt.bar(types, probs, width=width, label = r'Predicted $\\theta_j$')\n",
    "    plt.axvline(x = phi_by_2pi_set, color = 'r', label = r'Actual $\\theta_j$')\n",
    "    plt.title(f\"Predicted vs. Actual with {n} wires\\n\" + r\"for $\\theta_j$=0.1432394487827058\")\n",
    "    plt.xlabel(r\"$\\theta_j$\")\n",
    "    plt.ylabel(\"Probability\")\n",
    "    plt.legend()\n",
    "    plt.show()\n",
    "PhaseE_G2_Generator(6)"
   ]
  },
  {
   "cell_type": "code",
   "execution_count": 308,
   "id": "ac63ac3b",
   "metadata": {
    "ExecuteTime": {
     "end_time": "2023-02-13T03:48:05.471683Z",
     "start_time": "2023-02-13T03:48:05.450739Z"
    },
    "code_folding": [
     0
    ]
   },
   "outputs": [],
   "source": [
    "## Animating the previous graph for n wires\n",
    "def PhaseE_G2_Animation_Generator(n, n_frames=200, time=2, num_measures=10000):\n",
    "    phi_by_2pi = np.linspace(0, 1, n_frames)\n",
    "    computer = Quantum_Computer(phase_estimator(n, 2*m.pi*phi_by_2pi[1]))\n",
    "    computer.run(num_measures=num_measures)\n",
    "    results = computer.get_last_measurement()[1]\n",
    "    thetas = []\n",
    "    for j in range(len(results)):\n",
    "        result = results[j][:-1]\n",
    "        theta = 0\n",
    "        for k in range(n):\n",
    "            theta += (1/2)**(k+1)*int(result[k])\n",
    "        thetas.append(theta)\n",
    "    types = []\n",
    "    [types.append(x) for x in thetas if x not in types]\n",
    "    probs = [thetas.count(value)/len(thetas) for value in types]\n",
    "\n",
    "    width = 1/2**n\n",
    "    if width > 0.1: width = 0.1\n",
    "    fig, ax = plt.subplots()\n",
    "    bars = plt.bar(types, probs, width=width, label = r'Predicted $\\theta_j$')\n",
    "    line = plt.axvline(x = phi_by_2pi[1], color = 'r', label = r'Actual $\\theta_j$')\n",
    "    plt.title(r\"Predicted vs. Actual for $\\theta_j$\" + f\"\\nWith {n} Wires\")\n",
    "    plt.xlabel(r\"$\\theta_j$\")\n",
    "    plt.ylabel(\"Probability\")\n",
    "    plt.xlim(-0.1, 1.1)\n",
    "    plt.ylim(0, 1)\n",
    "    plt.legend()\n",
    "    \n",
    "    def update(i):\n",
    "        computer = Quantum_Computer(phase_estimator(n, 2*m.pi*phi_by_2pi[i]))\n",
    "        computer.run(num_measures=num_measures)\n",
    "        results = computer.get_last_measurement()[1]\n",
    "        thetas = []\n",
    "        for j in range(len(results)):\n",
    "            result = results[j][:-1]\n",
    "            theta = 0\n",
    "            for k in range(n):\n",
    "                theta += (1/2)**(k+1)*int(result[k])\n",
    "            thetas.append(theta)\n",
    "        types = []\n",
    "        [types.append(x) for x in thetas if x not in types]\n",
    "        probs = [thetas.count(value)/len(thetas) for value in types]\n",
    "        plt.cla()\n",
    "        bars = plt.bar(types, probs, width=width, label = r'Predicted $\\theta_j$')\n",
    "        line = plt.axvline(x = phi_by_2pi[i], color = 'r', label = r'Actual $\\theta_j$')\n",
    "        plt.title(r\"Predicted vs. Actual for $\\theta_j$\" + f\"\\nWith {n} Wires\")\n",
    "        plt.xlabel(r\"$\\theta_j$\")\n",
    "        plt.ylabel(\"Probability\")\n",
    "        plt.xlim(-0.1, 1.1)\n",
    "        plt.ylim(0, 1)\n",
    "        plt.legend(loc='upper right')\n",
    "        return [bars], [line]\n",
    "\n",
    "    anim = FuncAnimation(fig, update, frames=n_frames, interval = time*1000/n_frames, repeat=True, cache_frame_data=True)\n",
    "    anim.save(f\"thetaprediction{n}wires_gen.gif\")\n",
    "    plt.show()\n",
    "# PhaseE_G2_Animation_Generator(6, n_frames=1000, time=5)"
   ]
  },
  {
   "cell_type": "code",
   "execution_count": 309,
   "id": "13856a11",
   "metadata": {
    "ExecuteTime": {
     "end_time": "2023-02-13T03:48:06.421144Z",
     "start_time": "2023-02-13T03:48:06.203725Z"
    },
    "code_folding": [
     1
    ]
   },
   "outputs": [
    {
     "data": {
      "image/png": "[encoded data removed]",
      "text/plain": [
       "<Figure size 640x480 with 1 Axes>"
      ]
     },
     "metadata": {},
     "output_type": "display_data"
    }
   ],
   "source": [
    "## Plotting predicted phase with input as a superposition of two states\n",
    "def PhaseE_G3_Generator(num_measures=1000):\n",
    "    n = 6\n",
    "    phi_by_2pi_set = 0.5\n",
    "    desc = phase_estimator(n, phi=2*m.pi*phi_by_2pi_set)\n",
    "    computer = Quantum_Computer(desc)\n",
    "    vec = np.zeros(2**(n+1))\n",
    "    vec[0] = m.sqrt(0.3)\n",
    "    vec[1] = m.sqrt(0.7)\n",
    "    computer.run(initial_state=VecToState(vec), num_measures=num_measures)\n",
    "    results = [result[:-1] for result in computer.get_measurements()[0][1]]\n",
    "\n",
    "#     types = []\n",
    "#     [types.append(x) for x in results if x not in types]\n",
    "#     counts = [results.count(value) for value in types]\n",
    "\n",
    "#     plt.figure()\n",
    "#     plt.bar(types, counts, width=1)\n",
    "#     plt.title(f\"Results of Running {n} wires with \" + r\"$\\phi = 0.5$ and initial state $\\sqrt(0.3)|\\phi_1\")\n",
    "#     plt.xlabel(\"Measured state\")\n",
    "#     plt.ylabel(\"Count\")\n",
    "#     plt.show()\n",
    "    thetas = []\n",
    "    for result in results:\n",
    "        theta = 0\n",
    "        for j in range(n):\n",
    "            theta += (1/2)**(j+1)*int(result[j])\n",
    "        thetas.append(theta)\n",
    "    types = []\n",
    "    [types.append(x) for x in thetas if x not in types]\n",
    "    count = [thetas.count(value) for value in types]\n",
    "\n",
    "    width = 1/2**n\n",
    "    if width > 0.1: width = 0.1\n",
    "    plt.figure()\n",
    "    plt.bar(types, count, width=width, label = r'Predicted $\\theta_j$')\n",
    "    plt.axvline(x = phi_by_2pi_set, color = 'r', label = r'$\\phi$')\n",
    "    plt.title(f\"Results of Running {n} Wires With \" + r\"$\\phi = 0.5$\" + \"\\n\"+ r\" And Initial State $\\sqrt{0.3}$ |$\\psi_0>$ + $\\sqrt{0.7}$ |$\\psi_1>$ For 1000 Measurements\")\n",
    "    plt.xlabel(r\"$\\theta_j$\")\n",
    "    plt.ylabel(\"Probability\")\n",
    "    plt.legend()\n",
    "    plt.show()\n",
    "PhaseE_G3_Generator()"
   ]
  },
  {
   "cell_type": "code",
   "execution_count": 310,
   "id": "7a961a17",
   "metadata": {
    "ExecuteTime": {
     "end_time": "2023-02-13T03:48:06.834040Z",
     "start_time": "2023-02-13T03:48:06.819080Z"
    },
    "code_folding": []
   },
   "outputs": [],
   "source": [
    "## Custom U description for phase estimation\n",
    "custom_description1 = f\"\"\"1\n",
    "P 0 {(0.3)*2*m.pi}\n",
    "NOT 0\n",
    "P 0 {(0.7)*2*m.pi}\n",
    "NOT 0\"\"\""
   ]
  },
  {
   "cell_type": "code",
   "execution_count": 311,
   "id": "c95aa261",
   "metadata": {
    "ExecuteTime": {
     "end_time": "2023-02-13T03:48:07.487293Z",
     "start_time": "2023-02-13T03:48:07.477320Z"
    }
   },
   "outputs": [],
   "source": [
    "## Custom U description for phase estimation\n",
    "custom_description2 = f\"\"\"2\n",
    "P 0 {2*m.pi*0.3}\n",
    "NOT 0\n",
    "P 0 {2*m.pi*0.7}\n",
    "NOT 0\n",
    "NOT 1\"\"\""
   ]
  },
  {
   "cell_type": "code",
   "execution_count": 312,
   "id": "925b5568",
   "metadata": {
    "ExecuteTime": {
     "end_time": "2023-02-13T03:48:07.971997Z",
     "start_time": "2023-02-13T03:48:07.967011Z"
    }
   },
   "outputs": [],
   "source": [
    "## Print circuit description for custom phase estimator (commented out because the output is long)\n",
    "# print(phase_estimator(6, is_custom=True, custom_description=custom_description1))"
   ]
  },
  {
   "cell_type": "code",
   "execution_count": 313,
   "id": "a1886a33",
   "metadata": {
    "ExecuteTime": {
     "end_time": "2023-02-13T03:48:09.583687Z",
     "start_time": "2023-02-13T03:48:08.460690Z"
    },
    "code_folding": [
     1
    ]
   },
   "outputs": [
    {
     "data": {
      "image/png": "[encoded data removed]",
      "text/plain": [
       "<Figure size 640x480 with 1 Axes>"
      ]
     },
     "metadata": {},
     "output_type": "display_data"
    }
   ],
   "source": [
    "## Plotting the predicted phase for the custom description given either input |0> or |1>\n",
    "def custom_description_PhaseE():\n",
    "    n = 6\n",
    "    computer1 = Quantum_Computer(phase_estimator(6, custom_description=custom_description1))\n",
    "    computer1.run(num_measures=10000)\n",
    "    results1 = computer1.get_last_measurement()[1]\n",
    "    thetas1 = []\n",
    "    for i in range(len(results1)):\n",
    "        result = results1[i][:-1]\n",
    "        theta = 0\n",
    "        for j in range(n):\n",
    "            theta += (1/2)**(j+1)*int(result[j])\n",
    "        thetas1.append(theta)\n",
    "    types1 = []\n",
    "    [types1.append(x) for x in thetas1 if x not in types1]\n",
    "    probs1 = [thetas1.count(value)/len(thetas1) for value in types1]\n",
    "\n",
    "    vec = np.zeros(2**(n+1))\n",
    "    vec[0] = 1\n",
    "    computer2 = Quantum_Computer(phase_estimator(6, custom_description=custom_description1))\n",
    "    computer2.run(num_measures=10000, initial_state=VecToState(vec))\n",
    "    results2 = computer2.get_last_measurement()[1]\n",
    "    thetas2 = []\n",
    "    for i in range(len(results2)):\n",
    "        result = results2[i][:-1]\n",
    "        theta = 0\n",
    "        for j in range(n):\n",
    "            theta += (1/2)**(j+1)*int(result[j])\n",
    "        thetas2.append(theta)\n",
    "    types2 = []\n",
    "    [types2.append(x) for x in thetas2 if x not in types2]\n",
    "    probs2 = [thetas2.count(value)/len(thetas2) for value in types2]\n",
    "\n",
    "    width = 1/2**n\n",
    "    if width > 0.1: width = 0.1\n",
    "    plt.figure()\n",
    "    plt.bar(types1, probs1, width=width, color = \"blue\", label = r'Predicted $\\theta_j$ for |0>')\n",
    "    plt.bar(types2, probs2, width=width, color=\"g\", label = r'Predicted $\\theta_j$ for |1>')\n",
    "    plt.axvline(x = 0.3, color = 'r', label = r'Actual $\\theta_j$ for |0>')\n",
    "    plt.axvline(x = 0.7, color = 'yellow', label = r'Actual $\\theta_j$ for |1>')\n",
    "\n",
    "    plt.title(f\"Predicted vs. Actual with {n} wires\\n\" + r\"for custom U\")\n",
    "    plt.xlabel(r\"$\\theta_j$\")\n",
    "    plt.ylabel(\"Probability\")\n",
    "    plt.legend()\n",
    "    plt.show()\n",
    "custom_description_PhaseE()"
   ]
  },
  {
   "cell_type": "code",
   "execution_count": 314,
   "id": "09104789",
   "metadata": {
    "ExecuteTime": {
     "end_time": "2023-02-13T03:48:13.396492Z",
     "start_time": "2023-02-13T03:48:13.383527Z"
    },
    "code_folding": [
     43
    ]
   },
   "outputs": [],
   "source": [
    "## Classical Shor's, takes int n and returns two factors\n",
    "def Shor(n, return_error=False):\n",
    "    e1, e2 = 0, 0\n",
    "    if n <= 1:\n",
    "        print(f\"{n} shouldn't be here\")\n",
    "        if return_error: return e1, e2\n",
    "        return n, n\n",
    "    if sympy.isprime(n):\n",
    "        if return_error: return e1, e2\n",
    "        return -1, -1\n",
    "    if n % 2 == 0:\n",
    "        factor = int(n/2)\n",
    "        if return_error: return e1, e2\n",
    "        return 2, factor\n",
    "    for a in range(2, int(m.log2(n))):\n",
    "        if (n**(1/a)).is_integer():\n",
    "            if return_error: return e1, e2\n",
    "            return int(n**(1/a)), int(n/(n**(1/a)))\n",
    "    rng = np.random.default_rng()\n",
    "    while 0<1:\n",
    "        x = int(rng.integers(1, n))\n",
    "        if m.gcd(x, n) != 1:\n",
    "            if return_error: return e1, e2\n",
    "            return int(m.gcd(x, n)), int(n/m.gcd(x, n))\n",
    "        r = 2\n",
    "        while x**r % n != 1:\n",
    "            if (r>n):\n",
    "                print(f\"r = {r} > n = {n}\")\n",
    "                raise ValueError()\n",
    "            r+=1\n",
    "        if r % 2 != 0:\n",
    "            e1 += 1\n",
    "            continue\n",
    "        f1 = int(m.gcd(int((x**int(r/2)+1) % n), n))\n",
    "        f2 = int(m.gcd(int((x**int(r/2)-1) % n), n))\n",
    "        if f1 == 1 or f2 == 1 or f1 == n or f2 == n:\n",
    "            e2+=1\n",
    "            continue\n",
    "#         print(f\"For N = {n}: x = {x}, r = {r}\")\n",
    "        if return_error: return e1, e2\n",
    "        return f1, f2\n",
    "    \n",
    "## Iterates classical Shor's to return all factors\n",
    "def full_factorization(n):\n",
    "    if not isinstance(n, int):\n",
    "        print(\"bitch\")\n",
    "        return Quantum_Computer(\"1\\nH 0\")\n",
    "    if n < 0:\n",
    "        print(f\"heyyyyyyy, why you do this to mee :(\")\n",
    "        print(f\"Well fuck you anyway I'm making it positive\")\n",
    "        print(f\"number = {-n}\")\n",
    "        n = -n\n",
    "    if sympy.isprime(n) or n <= 1:\n",
    "        print(f\"{n} is a prime number silly!\")\n",
    "        return n\n",
    "    factors = []\n",
    "    non_prime = [n]\n",
    "    while len(non_prime) != 0:\n",
    "        for i in range(len(non_prime)): \n",
    "#             t.sleep(0.05)\n",
    "            num = non_prime.pop()\n",
    "            n1, n2 = Shor(num)\n",
    "            if n1 == -1 and n2 == -1:\n",
    "                print(f\"Yay! Found factor {num} :)\")\n",
    "                factors.append(num)\n",
    "            else:\n",
    "                non_prime.append(n1)\n",
    "                non_prime.append(n2)\n",
    "    return factors"
   ]
  },
  {
   "cell_type": "code",
   "execution_count": 240,
   "id": "8f76a98f",
   "metadata": {
    "ExecuteTime": {
     "end_time": "2023-02-13T02:39:34.472057Z",
     "start_time": "2023-02-13T02:39:34.456100Z"
    }
   },
   "outputs": [
    {
     "name": "stdout",
     "output_type": "stream",
     "text": [
      "Factors of 15 are 3 and 5\n",
      "Factors of 21 are 3 and 7\n"
     ]
    }
   ],
   "source": [
    "## Testing Shor's\n",
    "nums = [15, 21]\n",
    "for num in nums:\n",
    "    n1, n2 = Shor(num)\n",
    "    print(f\"Factors of {num} are {n1} and {n2}\")"
   ]
  },
  {
   "cell_type": "code",
   "execution_count": 241,
   "id": "269a0d45",
   "metadata": {
    "ExecuteTime": {
     "end_time": "2023-02-13T02:39:36.578425Z",
     "start_time": "2023-02-13T02:39:36.560473Z"
    }
   },
   "outputs": [
    {
     "name": "stdout",
     "output_type": "stream",
     "text": [
      "Yay! Found factor 7 :)\n",
      "Yay! Found factor 7 :)\n",
      "Yay! Found factor 13 :)\n",
      "Yay! Found factor 5 :)\n",
      "Yay! Found factor 2 :)\n",
      "Yay! Found factor 2 :)\n",
      "Factors are: [7, 7, 13, 5, 2, 2]\n"
     ]
    }
   ],
   "source": [
    "## Testing Shor's at large n\n",
    "number = 12740\n",
    "print(f\"Factors are: {full_factorization(number)}\")"
   ]
  },
  {
   "cell_type": "code",
   "execution_count": 242,
   "id": "72767b63",
   "metadata": {
    "ExecuteTime": {
     "end_time": "2023-02-13T02:40:17.845079Z",
     "start_time": "2023-02-13T02:39:40.874936Z"
    }
   },
   "outputs": [],
   "source": [
    "## Recording runtime and error rates in Shor's\n",
    "import time as t\n",
    "execute_times = []\n",
    "e1s = []\n",
    "e2s = []\n",
    "for k in range(2, 7500):\n",
    "    start = t.time()\n",
    "    e1, e2 = Shor(k, return_error = True)\n",
    "    stop = t.time()\n",
    "    execute_times.append(stop-start)\n",
    "    e1s.append(e1)\n",
    "    e2s.append(e2)"
   ]
  },
  {
   "cell_type": "code",
   "execution_count": 409,
   "id": "1fc55aad",
   "metadata": {
    "ExecuteTime": {
     "end_time": "2023-02-13T05:00:08.224421Z",
     "start_time": "2023-02-13T05:00:08.038917Z"
    }
   },
   "outputs": [
    {
     "data": {
      "image/png": "[encoded data removed]",
      "text/plain": [
       "<Figure size 640x480 with 1 Axes>"
      ]
     },
     "metadata": {},
     "output_type": "display_data"
    }
   ],
   "source": [
    "## Plotting runtime vs. K for Shor(K)\n",
    "window = 100\n",
    "plt.figure()\n",
    "plt.plot(rolling_avg(execute_times, window))\n",
    "plt.xlabel(\"K\")\n",
    "plt.ylabel(f\"Rolling Average of Execution Time (s) (window={window})\")\n",
    "plt.title(\"Execution Time vs. K for Shor(K)\")\n",
    "plt.show()"
   ]
  },
  {
   "cell_type": "code",
   "execution_count": 244,
   "id": "5b261424",
   "metadata": {
    "ExecuteTime": {
     "end_time": "2023-02-13T02:40:28.749921Z",
     "start_time": "2023-02-13T02:40:28.594336Z"
    }
   },
   "outputs": [
    {
     "data": {
      "image/png": "[encoded data removed]",
      "text/plain": [
       "<Figure size 640x480 with 1 Axes>"
      ]
     },
     "metadata": {},
     "output_type": "display_data"
    }
   ],
   "source": [
    "## Plotting error rates in Shor's vs. K\n",
    "window = 100\n",
    "plt.figure()\n",
    "# plt.plot(rolling_avg(execute_times, 100))\n",
    "plt.plot(rolling_avg(e1s, window), label = \"R odd\")\n",
    "plt.plot(rolling_avg(e2s, window), label = \"Factor = 1\")\n",
    "plt.xlabel(\"K\")\n",
    "plt.ylabel(f\"Rolling Average of Occurences (window={window})\")\n",
    "plt.title(\"Error Type Occurences vs. K for Shor(K)\")\n",
    "plt.legend()\n",
    "plt.show()"
   ]
  },
  {
   "cell_type": "code",
   "execution_count": 353,
   "id": "dc1cd224",
   "metadata": {
    "ExecuteTime": {
     "end_time": "2023-02-13T04:15:31.336608Z",
     "start_time": "2023-02-13T04:15:31.331623Z"
    }
   },
   "outputs": [
    {
     "name": "stdout",
     "output_type": "stream",
     "text": [
      "[[1. 0. 0. 0. 0. 0. 0. 0.]\n",
      " [0. 0. 0. 1. 0. 0. 0. 0.]\n",
      " [0. 1. 0. 0. 0. 0. 0. 0.]\n",
      " [0. 0. 0. 0. 1. 0. 0. 0.]\n",
      " [0. 0. 1. 0. 0. 0. 0. 0.]\n",
      " [0. 0. 0. 0. 0. 1. 0. 0.]\n",
      " [0. 0. 0. 0. 0. 0. 1. 0.]\n",
      " [0. 0. 0. 0. 0. 0. 0. 1.]]\n"
     ]
    }
   ],
   "source": [
    "## Create a unitary for x and N\n",
    "def Unitary_Matrix(x, N):\n",
    "    n = m.ceil(m.log2(N))\n",
    "    mat = np.eye(2**n)\n",
    "    mat[:N, :N] = 0\n",
    "    for y in range(0, N):\n",
    "        idx = x*y % N\n",
    "        mat[y, idx] = 1\n",
    "    return mat\n",
    "print(Unitary_Matrix(3, 5))"
   ]
  },
  {
   "cell_type": "code",
   "execution_count": 365,
   "id": "8e60618e",
   "metadata": {
    "ExecuteTime": {
     "end_time": "2023-02-13T04:23:19.733680Z",
     "start_time": "2023-02-13T04:23:19.713734Z"
    }
   },
   "outputs": [
    {
     "name": "stdout",
     "output_type": "stream",
     "text": [
      "x = 2, N = 15, r = 4\n",
      "Values:\n",
      "[0.5, 0.25, -0.25, 0.0, 0.5, 0.25, -0.25, 0.0, 0.5, 0.25, -0.25, 0.0, 0.0, 0.5, 0.0, 0.0]\n",
      "e*r:\n",
      "[2.0, 1.0, -1.0, 0.0, 2.0, 1.0, -1.0, 0.0, 2.0, 1.0, -1.0, 0.0, 0.0, 2.0, 0.0, 0.0]\n",
      "\n"
     ]
    }
   ],
   "source": [
    "## Test U\n",
    "Ns = [15, 15, 15, 15, 15, 21, 21, 21, 21, 21]\n",
    "xs = [2, 4, 8, 11, 13, 2, 8, 10, 11, 13]\n",
    "rs = [4, 2, 4, 2, 4, 6, 2, 6, 6, 2]\n",
    "for i in range(1):\n",
    "    x, N = xs[i], Ns[i]\n",
    "    mat = Unitary_Matrix(x, N)\n",
    "    vals, vecs = np.linalg.eig(mat)\n",
    "    phases = [cm.phase(val)/(2*m.pi) for val in vals]\n",
    "    times_r = [phase*rs[i] for phase in phases]\n",
    "    print(f\"x = {xs[i]}, N = {Ns[i]}, r = {rs[i]}\")\n",
    "    print(f\"Values:\\n{phases}\")\n",
    "    print(f\"e*r:\\n{times_r}\\n\")"
   ]
  },
  {
   "cell_type": "code",
   "execution_count": 366,
   "id": "dee2365b",
   "metadata": {
    "ExecuteTime": {
     "end_time": "2023-02-13T04:23:26.986286Z",
     "start_time": "2023-02-13T04:23:26.975316Z"
    }
   },
   "outputs": [
    {
     "name": "stdout",
     "output_type": "stream",
     "text": [
      "[4, 2, 4, 2, 4, 6, 2, 6, 6, 2]\n",
      "[4, 2, 4, 2, 4, 6, 2, 6, 6, 2]\n"
     ]
    }
   ],
   "source": [
    "## Test U\n",
    "Ns = [15, 15, 15, 15, 15, 21, 21, 21, 21, 21]\n",
    "xs = [2, 4, 8, 11, 13, 2, 8, 10, 11, 13]\n",
    "rs = [4, 2, 4, 2, 4, 6, 2, 6, 6, 2]\n",
    "calc_r = []\n",
    "for i in range(len(Ns)):\n",
    "    x, N = xs[i], Ns[i]\n",
    "    mat = Unitary_Matrix(x, N)\n",
    "    vals, vecs = np.linalg.eig(mat)\n",
    "    phases = [cm.phase(val)/(2*m.pi) for val in vals]\n",
    "    r = 0\n",
    "    r_max = 10\n",
    "    tried = []\n",
    "    while r == 0:\n",
    "        fracs = [Fraction(theta).limit_denominator(r_max) for theta in phases]\n",
    "        for frac in fracs:\n",
    "            denom = frac.denominator\n",
    "            if denom in tried:\n",
    "                continue\n",
    "            tried.append(denom)\n",
    "            if x**denom%N == 1:\n",
    "                r = denom\n",
    "                continue\n",
    "        if r_max > 5000:\n",
    "            r = -1\n",
    "        r_max = r_max+50\n",
    "    calc_r.append(r)\n",
    "print(calc_r)\n",
    "print(rs)"
   ]
  },
  {
   "cell_type": "code",
   "execution_count": 361,
   "id": "4e7a3231",
   "metadata": {
    "ExecuteTime": {
     "end_time": "2023-02-13T04:21:35.887361Z",
     "start_time": "2023-02-13T04:21:35.863425Z"
    },
    "code_folding": [
     1
    ]
   },
   "outputs": [],
   "source": [
    "## Shor's using Unitary_Matrix(x, N) to find r, takes int n and returns two factors\n",
    "def Shor_U(n, return_error=False):\n",
    "    e1, e2 = 0, 0\n",
    "    if n <= 1:\n",
    "        print(f\"{n} shouldn't be here\")\n",
    "        if return_error: return e1, e2\n",
    "        return n, n\n",
    "    if sympy.isprime(n):\n",
    "        if return_error: return e1, e2\n",
    "        return -1, -1\n",
    "    if n % 2 == 0:\n",
    "        factor = int(n/2)\n",
    "        if return_error: return e1, e2\n",
    "        return 2, factor\n",
    "    for a in range(2, int(m.log2(n))):\n",
    "        if (n**(1/a)).is_integer():\n",
    "            if return_error: return e1, e2\n",
    "            return int(n**(1/a)), int(n/(n**(1/a)))\n",
    "    rng = np.random.default_rng()\n",
    "    while 0<1:\n",
    "        x = int(rng.integers(1, n))\n",
    "        if m.gcd(x, n) != 1:\n",
    "            if return_error: return e1, e2\n",
    "            return int(m.gcd(x, n)), int(n/m.gcd(x, n))\n",
    "        \n",
    "        mat = Unitary_Matrix(x, N)\n",
    "        vals, vecs = np.linalg.eig(mat)\n",
    "        phases = [cm.phase(val)/(2*m.pi) for val in vals]\n",
    "        r = 0\n",
    "        r_max = 10\n",
    "        tried = []\n",
    "        while r == 0:\n",
    "            fracs = [Fraction(theta).limit_denominator(r_max) for theta in phases]\n",
    "            for frac in fracs:\n",
    "                denom = frac.denominator\n",
    "                if denom in tried:\n",
    "                    continue\n",
    "                tried.append(denom)\n",
    "                if x**denom%N == 1:\n",
    "                    r = denom\n",
    "                    continue\n",
    "            if r_max > 5000:\n",
    "                r = -1\n",
    "            r_max = r_max+50\n",
    "        if r == -1:\n",
    "            continue\n",
    "        if r % 2 != 0:\n",
    "            e1 += 1\n",
    "            continue\n",
    "        f1 = int(m.gcd(int((x**int(r/2)+1) % n), n))\n",
    "        f2 = int(m.gcd(int((x**int(r/2)-1) % n), n))\n",
    "        if f1 == 1 or f2 == 1 or f1 == n or f2 == n:\n",
    "            e2+=1\n",
    "            continue\n",
    "#         print(f\"For N = {n}: x = {x}, r = {r}\")\n",
    "        if return_error: return e1, e2\n",
    "        return f1, f2"
   ]
  },
  {
   "cell_type": "code",
   "execution_count": 378,
   "id": "f80eeb14",
   "metadata": {
    "ExecuteTime": {
     "end_time": "2023-02-13T04:27:12.239967Z",
     "start_time": "2023-02-13T04:27:12.027535Z"
    }
   },
   "outputs": [
    {
     "name": "stdout",
     "output_type": "stream",
     "text": [
      "[473 707  43 135 992 612 733 346 707 922]\n",
      "[(11, 43), (7, 101), (-1, -1), (5, 9), (2, 496), (2, 306), (-1, -1), (2, 173), (7, 101), (2, 461)]\n"
     ]
    }
   ],
   "source": [
    "rng = np.random.default_rng()\n",
    "xs = rng.integers(1, 1000, 10)\n",
    "factors = [Shor_U(x) for x in xs]\n",
    "print(xs)\n",
    "print(factors)"
   ]
  },
  {
   "cell_type": "code",
   "execution_count": 245,
   "id": "ca9be86d",
   "metadata": {
    "ExecuteTime": {
     "end_time": "2023-02-13T02:40:35.095951Z",
     "start_time": "2023-02-13T02:40:35.081989Z"
    }
   },
   "outputs": [
    {
     "name": "stdout",
     "output_type": "stream",
     "text": [
      "Computer Result: 4\n",
      "Ground Result: 4\n"
     ]
    }
   ],
   "source": [
    "## Testing xyModN gate\n",
    "x = 8; y = 3; N = 10;\n",
    "description = f\"\"\"4\n",
    "INITSTATE BASIS |0011>\n",
    "FUNC 0 4 xyModN {x} {N}\"\"\"\n",
    "print(f\"Computer Result: {int(Quantum_Computer(description).run()[0][1],2)}\")\n",
    "print(f\"Ground Result: {x*y%N}\")"
   ]
  },
  {
   "cell_type": "code",
   "execution_count": 246,
   "id": "0d72a00d",
   "metadata": {
    "ExecuteTime": {
     "end_time": "2023-02-13T02:40:35.557717Z",
     "start_time": "2023-02-13T02:40:35.546746Z"
    }
   },
   "outputs": [
    {
     "name": "stdout",
     "output_type": "stream",
     "text": [
      "Computer Result (control on): 2\n",
      "Computer Result (control off): 6\n",
      "Ground Result: 2\n"
     ]
    }
   ],
   "source": [
    "## Testing CxyModN gate\n",
    "x = 7; y = 6; N = 10;\n",
    "description = f\"\"\"5\n",
    "INITSTATE BASIS |00110>\n",
    "CFUNC 0 1 4 xyModN {x} {N}\"\"\"\n",
    "print(f\"Computer Result (control on): {int(Quantum_Computer(description).run(initial_state=[[1, '10110']])[0][1][1:],2)}\")\n",
    "print(f\"Computer Result (control off): {int(Quantum_Computer(description).run()[0][1][1:],2)}\")\n",
    "print(f\"Ground Result: {x*y%N}\")"
   ]
  },
  {
   "cell_type": "code",
   "execution_count": 247,
   "id": "e40e31dd",
   "metadata": {
    "ExecuteTime": {
     "end_time": "2023-02-13T02:40:49.700898Z",
     "start_time": "2023-02-13T02:40:35.666426Z"
    },
    "code_folding": [
     1
    ]
   },
   "outputs": [
    {
     "name": "stdout",
     "output_type": "stream",
     "text": [
      "[[(0.25+0j), '0000000000001'], [(0.25+0j), '0000000000010'], [(0.25+0j), '0000000000100'], [(0.25+0j), '0000000001000'], [(0.25+0j), '0100000000001'], [0.25j, '0100000000010'], [(-0.25+0j), '0100000000100'], [-0.25j, '0100000001000'], [(0.25+0j), '1000000000001'], [(-0.25+0j), '1000000000010'], [(0.25+0j), '1000000000100'], [(-0.25+0j), '1000000001000'], [(0.25+0j), '1100000000001'], [-0.25j, '1100000000010'], [(-0.25+0j), '1100000000100'], [0.25j, '1100000001000']]\n"
     ]
    }
   ],
   "source": [
    "## Testing phase estimation with CxyModN\n",
    "def CxyModN_phase_estimator(n, n2, x, N, is_fast=False):\n",
    "    basis0, basis1 = \"\", \"\"\n",
    "    for i in range(n):\n",
    "        basis0 += \"0\"\n",
    "    for i in range(n2-1):\n",
    "        basis1 += \"0\"\n",
    "    basis1 += \"1\"\n",
    "    st = f\"\"\"{n+n2}\\nINITSTATE BASIS |{basis0}{basis1}>\\n\"\"\"\n",
    "    for i in range(n):\n",
    "        st+=f\"H {i}\\n\"\n",
    "    if is_fast:\n",
    "        for i in range(n):\n",
    "            st+=f\"CFUNC {n-1-i} {n} {n2} xyModN {x**(2**i)} {N}\\n\"\n",
    "    else:\n",
    "        for i in range(n):\n",
    "            for j in range(2**i):\n",
    "                st+=f\"CFUNC {n-1-i} {n} {n2} xyModN {x} {N}\\n\"\n",
    "    st += f\"{invert_description(QFT(n))}\\n\"\n",
    "    st += f\"{REVERSE(0, n)}\\n\"\n",
    "    st += \"MEASURE\"\n",
    "    return st\n",
    "computer = Quantum_Computer(CxyModN_phase_estimator(9, 4, 8, 15), print_circuit=False)\n",
    "state = computer.run()\n",
    "print(state)"
   ]
  },
  {
   "cell_type": "code",
   "execution_count": 183,
   "id": "51eb5b19",
   "metadata": {
    "ExecuteTime": {
     "end_time": "2023-02-13T01:46:44.695710Z",
     "start_time": "2023-02-13T01:46:44.677759Z"
    },
    "code_folding": [
     1,
     49
    ]
   },
   "outputs": [],
   "source": [
    "## Shor's but using quantum\n",
    "def Quantum_Shor(N, return_error=False, num_measures=1000, is_fast=False):\n",
    "    start = t.time()\n",
    "    e1, e2 = 0, 0\n",
    "    bits = m.ceil(m.log2(N))\n",
    "    if N <= 1:\n",
    "        print(f\"{N} shouldn't be here\")\n",
    "        if return_error: return e1, e2\n",
    "        return N, N\n",
    "    if sympy.isprime(N):\n",
    "        if return_error: return e1, e2\n",
    "        return -1, -1\n",
    "    if N % 2 == 0:\n",
    "        factor = int(N/2)\n",
    "        if return_error: return e1, e2\n",
    "        return 2, factor\n",
    "    for a in range(2, bits):\n",
    "        if (N**(1/a)).is_integer():\n",
    "            if return_error: return e1, e2\n",
    "            return int(N**(1/a)), int(N/(N**(1/a)))\n",
    "    rng = np.random.default_rng()\n",
    "    tried_x = []\n",
    "    while 0<1:\n",
    "        x = int(rng.integers(2, N))\n",
    "        if x in tried_x: \n",
    "            continue\n",
    "        tried_x.append(x)\n",
    "        if m.gcd(x, N) != 1:\n",
    "            if return_error: return e1, e2\n",
    "            return int(m.gcd(x, N)), int(N/m.gcd(x, N))\n",
    "        print(f\"Entering quantum_find_r(x={x},N={N},bits={bits},num_measures={num_measures}): time = {t.time()-start}\")\n",
    "        r = quantum_find_r(x, N, bits, num_measures, is_fast)\n",
    "        print(f\"Found r = {r}: time = {t.time()-start}\")\n",
    "        if r == -1:\n",
    "            print(\"r not found...trying again\")\n",
    "            continue\n",
    "        if r % 2 != 0:\n",
    "            e1 += 1\n",
    "            continue\n",
    "        f1 = int(m.gcd(int((x**int(r/2)+1) % N), N))\n",
    "        f2 = int(m.gcd(int((x**int(r/2)-1) % N), N))\n",
    "        if f1 == 1 or f2 == 1 or f1 == N or f2 == N:\n",
    "            e2+=1\n",
    "            continue\n",
    "#         print(f\"For N = {N}: x = {x}, r = {r}\")\n",
    "        if return_error: return e1, e2\n",
    "        return f1, f2\n",
    "\n",
    "## Quantum helper\n",
    "def quantum_find_r(x, N, bits, num_measures=1000, is_fast=False):\n",
    "    len_top = int(2*bits + 1)\n",
    "    computer = Quantum_Computer(CxyModN_phase_estimator(len_top, bits, x, N, is_fast))\n",
    "    computer.run(num_measures=num_measures)\n",
    "    results = computer.get_measurements()[0][1]\n",
    "    thetas = []\n",
    "    for i in range(len(results)):\n",
    "        result = results[i][:-bits]\n",
    "        theta = 0\n",
    "        for j in range(len_top):\n",
    "            theta += (1/2)**(j+1)*int(result[j])\n",
    "        # No rotation\n",
    "        if theta != 0:\n",
    "            thetas.append(theta)\n",
    "    r = 0\n",
    "    r_max = 10\n",
    "    tried = []\n",
    "    while r == 0:\n",
    "        fracs = [Fraction(theta).limit_denominator(r_max) for theta in thetas]\n",
    "        for frac in fracs:\n",
    "            denom = frac.denominator\n",
    "            if denom in tried:\n",
    "                continue\n",
    "            tried.append(denom)\n",
    "            if x**denom%N == 1:\n",
    "                r = denom\n",
    "                continue\n",
    "        if r_max > 5000:\n",
    "            r = -1\n",
    "        r_max = r_max+50\n",
    "    return r"
   ]
  },
  {
   "cell_type": "code",
   "execution_count": 94,
   "id": "465996b5",
   "metadata": {
    "ExecuteTime": {
     "end_time": "2023-02-12T04:11:22.712526Z",
     "start_time": "2023-02-12T04:11:08.551911Z"
    }
   },
   "outputs": [
    {
     "name": "stdout",
     "output_type": "stream",
     "text": [
      "Entering quantum_find_r(x=7,N=15,bits=4,num_measures=1000): time = 0.000997304916381836\n",
      "Found r = 4: time = 14.145654439926147\n",
      "(5, 3)\n"
     ]
    }
   ],
   "source": [
    "print(Quantum_Shor(15))"
   ]
  },
  {
   "cell_type": "code",
   "execution_count": null,
   "id": "d30c00a8",
   "metadata": {},
   "outputs": [],
   "source": [
    "print(Quantum_Shor(21))"
   ]
  },
  {
   "cell_type": "code",
   "execution_count": 191,
   "id": "ca0a9d75",
   "metadata": {
    "ExecuteTime": {
     "end_time": "2023-02-13T01:52:31.650547Z",
     "start_time": "2023-02-13T01:52:27.614340Z"
    }
   },
   "outputs": [
    {
     "name": "stdout",
     "output_type": "stream",
     "text": [
      "Entering quantum_find_r(x=2,N=15,bits=4,num_measures=1000): time = 0.0\n",
      "Found r = 4: time = 4.0312206745147705\n",
      "(5, 3)\n"
     ]
    }
   ],
   "source": [
    "print(Quantum_Shor(15, is_fast=True))"
   ]
  },
  {
   "cell_type": "code",
   "execution_count": 188,
   "id": "b0bce8f6",
   "metadata": {
    "ExecuteTime": {
     "end_time": "2023-02-13T01:49:07.838499Z",
     "start_time": "2023-02-13T01:47:25.320586Z"
    }
   },
   "outputs": [
    {
     "name": "stdout",
     "output_type": "stream",
     "text": [
      "Entering quantum_find_r(x=20,N=21,bits=5,num_measures=1000): time = 0.0\n",
      "Found r = 2: time = 46.8257896900177\n",
      "Entering quantum_find_r(x=11,N=21,bits=5,num_measures=1000): time = 46.8257896900177\n",
      "Found r = 6: time = 102.50893640518188\n",
      "(3, 7)\n"
     ]
    }
   ],
   "source": [
    "print(Quantum_Shor(21, is_fast=True))"
   ]
  },
  {
   "cell_type": "code",
   "execution_count": 420,
   "id": "445d0898",
   "metadata": {
    "ExecuteTime": {
     "end_time": "2023-02-13T05:16:06.601327Z",
     "start_time": "2023-02-13T05:16:06.578388Z"
    }
   },
   "outputs": [
    {
     "name": "stdout",
     "output_type": "stream",
     "text": [
      "3 + 12 =\n",
      "{ (1+0j) |15>}\n"
     ]
    }
   ],
   "source": [
    "def addition_description(n, b):\n",
    "    st = f\"{n}\\n\"\n",
    "    st += f\"{REVERSE(0, n)}\\n\"\n",
    "    st += f\"{QFT(n)}\\n\"\n",
    "    for i in range(n):\n",
    "        st += f\"P {i} {2*m.pi*b*2**(n-1-i)/2**n}\\n\"\n",
    "    st += f\"{invert_description(QFT(n))}\\n\"\n",
    "    st += f\"{REVERSE(0, n)}\"\n",
    "    return st\n",
    "computer = Quantum_Computer(addition_description(4, 12))\n",
    "print(\"3 + 12 =\")\n",
    "PrettyPrintInteger(computer.run(initial_state=[[1, '0011']]))"
   ]
  },
  {
   "cell_type": "code",
   "execution_count": null,
   "id": "785fa844",
   "metadata": {},
   "outputs": [],
   "source": []
  }
 ],
 "metadata": {
  "kernelspec": {
   "display_name": "Python 3 (ipykernel)",
   "language": "python",
   "name": "python3"
  },
  "language_info": {
   "codemirror_mode": {
    "name": "ipython",
    "version": 3
   },
   "file_extension": ".py",
   "mimetype": "text/x-python",
   "name": "python",
   "nbconvert_exporter": "python",
   "pygments_lexer": "ipython3",
   "version": "3.9.13"
  },
  "varInspector": {
   "cols": {
    "lenName": 16,
    "lenType": 16,
    "lenVar": 40
   },
   "kernels_config": {
    "python": {
     "delete_cmd_postfix": "",
     "delete_cmd_prefix": "del ",
     "library": "var_list.py",
     "varRefreshCmd": "print(var_dic_list())"
    },
    "r": {
     "delete_cmd_postfix": ") ",
     "delete_cmd_prefix": "rm(",
     "library": "var_list.r",
     "varRefreshCmd": "cat(var_dic_list()) "
    }
   },
   "types_to_exclude": [
    "module",
    "function",
    "builtin_function_or_method",
    "instance",
    "_Feature"
   ],
   "window_display": false
  }
 },
 "nbformat": 4,
 "nbformat_minor": 5
}
