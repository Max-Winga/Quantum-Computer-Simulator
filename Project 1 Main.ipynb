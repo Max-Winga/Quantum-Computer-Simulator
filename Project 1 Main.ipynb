{
 "cells": [
  {
   "cell_type": "code",
   "execution_count": 1,
   "id": "b3a02981",
   "metadata": {
    "ExecuteTime": {
     "end_time": "2023-02-12T22:53:58.774861Z",
     "start_time": "2023-02-12T22:53:57.482318Z"
    }
   },
   "outputs": [],
   "source": [
    "import numpy as np\n",
    "import matplotlib.pyplot as plt\n",
    "import math as m\n",
    "import copy\n",
    "import cmath as cm\n",
    "import time as t\n",
    "from matplotlib.animation import FuncAnimation\n",
    "import sympy\n",
    "from fractions import Fraction"
   ]
  },
  {
   "cell_type": "code",
   "execution_count": 2,
   "id": "6acde020",
   "metadata": {
    "ExecuteTime": {
     "end_time": "2023-02-12T22:53:59.202717Z",
     "start_time": "2023-02-12T22:53:59.174793Z"
    },
    "code_folding": [
     1,
     19,
     37,
     46,
     55,
     60,
     66,
     70,
     76,
     82
    ]
   },
   "outputs": [],
   "source": [
    "## Prints a state with binary output\n",
    "def PrettyPrintBinary(myState, do_return=False):\n",
    "    to_print = \"{ \"\n",
    "    vec = StateToVec(myState)\n",
    "    length = vec.shape[0]\n",
    "    bin_len = int(m.log2(length))\n",
    "    not_first = False\n",
    "    for i in range(length):\n",
    "        if vec[i] == 0 + 0.j:\n",
    "            continue\n",
    "        if not_first:\n",
    "            to_print += \" + \"\n",
    "        to_print += f\"{vec[i]} |{bin(i)[2:].zfill(bin_len)}>\"\n",
    "        not_first = True\n",
    "    to_print += \"}\"\n",
    "    if do_return: return to_print\n",
    "    print(to_print)\n",
    "\n",
    "## Prints a state with integer output\n",
    "def PrettyPrintInteger(myState, do_return=False):\n",
    "    to_print = \"{ \"\n",
    "    vec = StateToVec(myState)\n",
    "    length = vec.shape[0]\n",
    "    bin_len = int(m.log2(length))\n",
    "    not_first = False\n",
    "    for i in range(length):\n",
    "        if vec[i] == 0 + 0.j:\n",
    "            continue\n",
    "        if not_first:\n",
    "            to_print += \" + \"\n",
    "        to_print += f\"{vec[i]} |{i}>\"\n",
    "        not_first = True\n",
    "    to_print += \"}\"\n",
    "    if do_return: return to_print\n",
    "    print(to_print)\n",
    "\n",
    "## Prints a state with probabilities rather than complex coefficients\n",
    "def print_state_probabilities(state, decimals=8, do_return=False, percent_mode=False):\n",
    "    if percent_mode: decimals += 2\n",
    "    state = [[round(abs(element[0])**2, decimals).real, element[1]] for element in state]\n",
    "    if percent_mode:\n",
    "        state = [[round(element[0]*100, decimals-2), element[1]] for element in state]\n",
    "    print(state)\n",
    "    if do_return: return state\n",
    "\n",
    "## Converts state to vector form\n",
    "def StateToVec(myState):\n",
    "    vec_len = 2**len(myState[0][1])\n",
    "    to_return = np.zeros(vec_len, dtype=\"complex_\")\n",
    "    for s in myState:\n",
    "        idx = int(s[1], 2)\n",
    "        to_return[idx] += s[0]\n",
    "    return to_return\n",
    "\n",
    "## Converts vector state back to state form\n",
    "def VecToState(myState, decimals=5):\n",
    "    to_return = []\n",
    "    length = myState.shape[0]\n",
    "    bin_len = int(m.log2(length))\n",
    "    for i in range(length):\n",
    "        if abs(c_round(myState[i], decimals)) == 0.0:\n",
    "            continue\n",
    "        to_return.append([myState[i], bin(i)[2:].zfill(bin_len)])\n",
    "    return to_return\n",
    "\n",
    "## Removes duplicates and zeros from state\n",
    "def add_duplicates(state, decimals=5):\n",
    "    return VecToState(StateToVec(state), decimals)\n",
    "\n",
    "## Rounds a complex number to a decimal place\n",
    "def c_round(number, decimals):\n",
    "    number = complex(number)\n",
    "    return complex(\n",
    "        round(number.real, decimals) + round(number.imag, decimals) * 1.j)\n",
    "\n",
    "## Takes a state and rounds all coefficients as well as running add_duplicates()\n",
    "def clean_state(state, decimals):\n",
    "    for element in state:\n",
    "        element[0] = c_round(element[0], decimals)\n",
    "    return add_duplicates(state)\n",
    "\n",
    "## Takes array of data and returns it window averaged\n",
    "def rolling_avg(arr, window):\n",
    "    to_return = []\n",
    "    for i in range(len(arr)):\n",
    "        lower = int(i-window/2)\n",
    "        upper = int(i+window/2)\n",
    "        if lower < 0: lower = 0\n",
    "        if upper >= len(arr): upper = len(arr)-1\n",
    "        to_return.append(sum(arr[lower:upper])/(upper-lower))          \n",
    "    return to_return"
   ]
  },
  {
   "cell_type": "code",
   "execution_count": 3,
   "id": "9dc6340d",
   "metadata": {
    "ExecuteTime": {
     "end_time": "2023-02-12T22:53:59.705373Z",
     "start_time": "2023-02-12T22:53:59.685426Z"
    }
   },
   "outputs": [
    {
     "name": "stdout",
     "output_type": "stream",
     "text": [
      "{ (0.7071067811865476+0j) |000> + (-0.6324555320336759+0j) |010> + 0.31622776601683794j |101>}\n",
      "{ (0.7071067811865476+0j) |0> + (-0.6324555320336759+0j) |2> + 0.31622776601683794j |5>}\n",
      "[ 0.70710678+0.j          0.        +0.j         -0.63245553+0.j\n",
      "  0.        +0.j          0.        +0.j          0.        +0.31622777j\n",
      "  0.        +0.j          0.        +0.j        ]\n",
      "[[(0.7071067811865476+0j), '000'], [(-0.6324555320336759+0j), '010'], [0.31622776601683794j, '101']]\n",
      "{ (0.7071067811865476+0j) |000> + (-0.6324555320336759+0j) |010> + 0.31622776601683794j |101>}\n"
     ]
    }
   ],
   "source": [
    "## Demonstrating functions work\n",
    "myState2=[\n",
    "   (np.sqrt(0.1)*1.j, '101'),\n",
    "   (np.sqrt(0.5), '000'),\n",
    "   (-np.sqrt(0.4), '010' )]\n",
    "PrettyPrintBinary(myState2)\n",
    "PrettyPrintInteger(myState2)\n",
    "print(StateToVec(myState2))\n",
    "print(VecToState(StateToVec(myState2)))\n",
    "PrettyPrintBinary(VecToState(StateToVec(myState2)))"
   ]
  },
  {
   "cell_type": "code",
   "execution_count": 4,
   "id": "1c94450d",
   "metadata": {
    "ExecuteTime": {
     "end_time": "2023-02-12T22:54:00.273853Z",
     "start_time": "2023-02-12T22:54:00.255901Z"
    }
   },
   "outputs": [
    {
     "name": "stdout",
     "output_type": "stream",
     "text": [
      "{ (0.31622776601683794+0j) |00> + (0.6324555320336759+0j) |01> + (-0.7071067811865476+0j) |11>}\n"
     ]
    }
   ],
   "source": [
    "## Demonstrating functions work\n",
    "myState3=[\n",
    "  (-np.sqrt(0.125), '11'),\n",
    "  (np.sqrt(0.1), '00'),\n",
    "  (np.sqrt(0.4), '01'),\n",
    "  (-np.sqrt(0.125), '11')\n",
    "]\n",
    "PrettyPrintBinary(add_duplicates(myState3))"
   ]
  },
  {
   "cell_type": "code",
   "execution_count": 119,
   "id": "a580d2c9",
   "metadata": {
    "ExecuteTime": {
     "end_time": "2023-02-13T00:47:12.875102Z",
     "start_time": "2023-02-13T00:47:12.851166Z"
    },
    "code_folding": [
     2,
     5,
     9,
     13,
     17,
     20,
     22,
     30,
     67
    ]
   },
   "outputs": [],
   "source": [
    "### Functions for processing circuit descriptions ###\n",
    "\n",
    "def NOT(wire):\n",
    "    return f\"\"\"H {wire}\\nP {wire} {m.pi}\\nH {wire}\"\"\"\n",
    "\n",
    "def RZ(wire, theta):\n",
    "    theta = float(theta)\n",
    "    return f\"\"\"P {wire} {theta/2}\\n{NOT(wire)}\\nP {wire} {-theta/2}\\n{NOT(wire)}\"\"\"\n",
    "\n",
    "def CRZ(control, change, theta):\n",
    "    theta = float(theta)\n",
    "    return f\"\"\"P {change} {theta/2}\\nCNOT {control} {change} \\nP {change} {-theta/2}\\nCNOT {control} {change}\"\"\"\n",
    "\n",
    "def CPHASE(control, change, theta):\n",
    "    theta = float(theta)\n",
    "    return f\"\"\"{CRZ(control, change, theta)}\\nP {control} {theta/2}\"\"\"\n",
    "\n",
    "def SWAP(wire1, wire2):\n",
    "    return f\"\"\"CNOT {wire1} {wire2}\\nCNOT {wire2} {wire1}\\nCNOT {wire1} {wire2}\"\"\"\n",
    "\n",
    "def REVERSE(start, stop):\n",
    "    start = int(start); stop = int(stop)\n",
    "    if start == stop:\n",
    "        return \"\"\n",
    "    st = \"\"\n",
    "    for i in range(start, start + int((stop-start)/2)):\n",
    "        st += f\"{SWAP(i, stop-i-1)}\\n\"\n",
    "    return st[:-1]\n",
    "\n",
    "## Converts a description with advanced gates into basis gates\n",
    "def preprocess_description(description, full_description=True):\n",
    "    lines = description.splitlines(False)\n",
    "    start = 0\n",
    "    st = \"\"\n",
    "    if full_description:\n",
    "        st += f\"{lines[0]}\\n\"\n",
    "        start += 1\n",
    "    if len(lines) > 1 and lines[1].split(' ')[0] == \"INITSTATE\":\n",
    "        st += f\"{lines[1]}\\n\"\n",
    "        start += 1\n",
    "    for line in lines[start:]:\n",
    "        pcs = line.split(' ')\n",
    "        if pcs[0] == 'H':\n",
    "            st += f\"{line}\\n\"\n",
    "        elif pcs[0] == 'P':\n",
    "            st += f\"{line}\\n\"\n",
    "        elif pcs[0] == 'CNOT':\n",
    "            st += f\"{line}\\n\"\n",
    "        elif pcs[0] == 'NOT':\n",
    "            st += f\"{NOT(pcs[1])}\\n\"\n",
    "        elif pcs[0] == 'RZ':\n",
    "            st += f\"{RZ(pcs[1], pcs[2])}\\n\"\n",
    "        elif pcs[0] == 'CRZ':\n",
    "            st += f\"{CRZ(pcs[1], pcs[2], pcs[3])}\\n\"            \n",
    "        elif pcs[0] == 'CPHASE':\n",
    "            st += f\"{CPHASE(pcs[1], pcs[2], pcs[3])}\\n\"\n",
    "        elif pcs[0] == 'SWAP':\n",
    "            st += f\"{SWAP(pcs[1], pcs[2])}\\n\"\n",
    "        elif pcs[0] == 'MEASURE':\n",
    "            st += f\"{line}\\n\"\n",
    "        elif pcs[0] == 'REVERSE':\n",
    "            st += f\"{REVERSE(pcs[1], pcs[2])}\\n\"\n",
    "        elif pcs[0] == 'FUNC' or 'CFUNC':\n",
    "            st += f\"{line}\\n\"\n",
    "    return st[:-1]\n",
    "\n",
    "## Takes a description and returns the inverse\n",
    "def invert_description(description):\n",
    "    description = preprocess_description(description)\n",
    "    lines = description.splitlines(False)\n",
    "    gates = []\n",
    "    for line in lines:\n",
    "        pcs = line.split(' ')\n",
    "        if pcs[0] == 'H':\n",
    "            gates.append(line)\n",
    "        elif pcs[0] == 'P':\n",
    "            gates.append(f\"P {pcs[1]} {-float(pcs[2])}\")\n",
    "        elif pcs[0] == 'CNOT':\n",
    "            gates.append(line)\n",
    "    st = \"\"\n",
    "    gates.reverse()\n",
    "    for gate in gates:\n",
    "        st += f\"{gate}\\n\"\n",
    "    return st[:-1]"
   ]
  },
  {
   "cell_type": "code",
   "execution_count": 136,
   "id": "1365b317",
   "metadata": {
    "ExecuteTime": {
     "end_time": "2023-02-13T01:13:31.155626Z",
     "start_time": "2023-02-13T01:13:31.119722Z"
    },
    "code_folding": [
     5,
     60,
     66,
     74,
     78,
     85,
     89,
     96,
     100,
     111,
     115,
     129,
     138,
     148,
     162,
     166,
     168,
     172,
     175,
     181,
     193
    ]
   },
   "outputs": [],
   "source": [
    "### Main Quantum Computer (II) Class ###\n",
    "class Quantum_Computer():\n",
    "    \n",
    "    ## Initialization function takes description to define the computer\n",
    "    ## If description is from a file set from_file=True and description=filename\n",
    "    def __init__(self, description, from_file=False, print_circuit=False):\n",
    "        if from_file:\n",
    "            with open(description) as f:\n",
    "                description = f.read()\n",
    "        if print_circuit: print(description)\n",
    "        description = preprocess_description(description)\n",
    "        lines = description.splitlines(False)\n",
    "        self.measurements = []\n",
    "        self.n = int(lines[0])\n",
    "        self.decimals = 5\n",
    "        self.last_final_state = 0\n",
    "        break_one = lines[1].split(' ')\n",
    "        if break_one[0] == \"INITSTATE\":\n",
    "            if break_one[1] == \"BASIS\":\n",
    "                init_state = break_one[2][1:-1]\n",
    "                vec = np.zeros(2**self.n, dtype = \"complex_\")\n",
    "                state_val = int(init_state, 2)\n",
    "                vec[state_val] = complex(1)\n",
    "                self.default_state = VecToState(vec)                \n",
    "            if break_one[1] == \"FILE\":\n",
    "                filename = break_one[2]\n",
    "                with open(filename) as file:\n",
    "                    basis = file.read().splitlines(False)\n",
    "                vec = np.zeros(2**self.n, dtype = \"complex_\")\n",
    "                for i in range(vec.shape[0]):\n",
    "                    coeff = basis[i].split(' ')\n",
    "                    vec[i] = float(coeff[0]) + float(coeff[1])*1.j\n",
    "                self.default_state = VecToState(vec)\n",
    "        else: \n",
    "            vec = np.zeros(2**self.n, dtype = \"complex_\")\n",
    "            vec[0] = complex(1)\n",
    "            self.default_state = VecToState(vec)\n",
    "        self.gates = []\n",
    "        for line in lines[1:]:\n",
    "            pcs = line.split(' ')\n",
    "            if pcs[0] == 'H':\n",
    "                self.gates.append((0, int(pcs[1])))\n",
    "            elif pcs[0] == 'P':\n",
    "                self.gates.append((1, int(pcs[1]), float(pcs[2])))\n",
    "            elif pcs[0] == 'CNOT':\n",
    "                self.gates.append((2, int(pcs[1]), int(pcs[2])))\n",
    "            elif pcs[0] == \"MEASURE\":\n",
    "                self.gates.append((3,0))\n",
    "            elif pcs[0] == \"FUNC\":\n",
    "                if pcs[3] == \"xyModN\":\n",
    "                    self.gates.append((4, int(pcs[1]), int(pcs[2]), int(pcs[4]), int(pcs[5])))\n",
    "                else:\n",
    "                    print(\"SOMETHING IS WRONG\")\n",
    "            elif pcs[0] == \"CFUNC\":\n",
    "                if pcs[4] == \"xyModN\":\n",
    "                    self.gates.append((5, int(pcs[1]), int(pcs[2]), int(pcs[3]), int(pcs[5]), int(pcs[6])))\n",
    "                else:\n",
    "                    print(\"SOMETHING IS WRONG\")\n",
    "        return\n",
    "    \n",
    "    def H(self, wire, state):\n",
    "        new_state = []\n",
    "        for element in state:\n",
    "            new_state = new_state + self.H_element(wire, element)\n",
    "        return add_duplicates(new_state, self.decimals)\n",
    "    \n",
    "    def H_element(self, wire, element):\n",
    "        alt_element = copy.deepcopy(element)\n",
    "        alt_element[1] = alt_element[1][:wire] + str(self.flip_bit(alt_element[1][wire])) + alt_element[1][wire+1:]\n",
    "        alt_element[0] = alt_element[0] * (1/m.sqrt(2))\n",
    "        element[0] = element[0] * (1/m.sqrt(2))\n",
    "        if element[1][wire] == '1': element[0] = -element[0]\n",
    "        return [element, alt_element]\n",
    "        \n",
    "    def phase(self, wire, phase, state):\n",
    "        [self.phase_element(wire, phase, element) for element in state]\n",
    "        return add_duplicates(state, self.decimals)\n",
    "    \n",
    "    def phase_element(self, wire, phase, element):\n",
    "        if element[1][wire] == '0':\n",
    "            return element\n",
    "        else:\n",
    "            element[0] = element[0] * cm.exp(phase*1.j)\n",
    "            return element\n",
    "    \n",
    "    def CNOT(self, control, change, state):\n",
    "        [self.CNOT_element(control, change, element) for element in state]\n",
    "        return add_duplicates(state, self.decimals)\n",
    "        \n",
    "    def CNOT_element(self, control, change, element):    \n",
    "        if element[1][control] == '0':\n",
    "            return element\n",
    "        else:\n",
    "            element[1] = element[1][:change] + str(self.flip_bit(element[1][change])) + element[1][change+1:]\n",
    "            return element\n",
    "    \n",
    "    def xyModN(self, wire, num_wires, x, N, state):\n",
    "        [self.xyModN_element(wire, num_wires, x, N, element) for element in state]\n",
    "        return add_duplicates(state, self.decimals)\n",
    "    \n",
    "    def xyModN_element(self, wire, num_wires, x, N, element):\n",
    "        y = int(element[1][wire:wire+num_wires], 2)\n",
    "        y_int = x*y % N\n",
    "        y_out = bin(y_int)[2:]\n",
    "        if y >= N:\n",
    "            y_out = bin(y)[2:]\n",
    "        while len(y_out)<num_wires:\n",
    "            y_out = '0' + y_out\n",
    "        element[1] = element[1][:wire] + y_out + element[1][wire+num_wires:]\n",
    "        return element\n",
    "    \n",
    "    def CxyModN(self, control, wire, num_wires, x, N, state):\n",
    "        [self.CxyModN_element(control, wire, num_wires, x, N, element) for element in state]\n",
    "        return add_duplicates(state, self.decimals)\n",
    "    \n",
    "    def CxyModN_element(self, control, wire, num_wires, x, N, element):\n",
    "        if element[1][control] == '0':\n",
    "            return element\n",
    "        else:\n",
    "            y = int(element[1][wire:wire+num_wires], 2)\n",
    "            y_int = x*y % N\n",
    "            y_out = bin(y_int)[2:]\n",
    "            if y >= N:\n",
    "                y_out = bin(y)[2:]\n",
    "            while len(y_out)<num_wires:\n",
    "                y_out = '0' + y_out\n",
    "            element[1] = element[1][:wire] + y_out + element[1][wire+num_wires:]\n",
    "            return element\n",
    "    \n",
    "    def measure(self, state, size=1):\n",
    "        states = []\n",
    "        probabilities = []\n",
    "        for element in state:\n",
    "            states.append(element[1])\n",
    "            probabilities.append(abs(element[0])**2)\n",
    "        return np.random.choice(states, size=size, p=probabilities)\n",
    "    \n",
    "    ## Run the computer with default initial state (or your own via initial_state)\n",
    "    def run(self, initial_state=0, decimals=5, num_measures=1, print_m=False):\n",
    "        self.decimals = decimals\n",
    "        if initial_state == 0:\n",
    "            initial_state = self.default_state\n",
    "        state = add_duplicates(initial_state, self.decimals)\n",
    "        for gate in self.gates:\n",
    "            state = self.run_gate(gate, state, num_measures, initial_state, print_m)\n",
    "        self.last_final_state = clean_state(state, decimals)\n",
    "        return self.last_final_state\n",
    "            \n",
    "    def run_gate(self, gate, state, num_measures, initial_state, print_m):\n",
    "        if gate[0] == 0:\n",
    "            state = self.H(gate[1], state)\n",
    "        elif gate[0] == 1:\n",
    "            state = self.phase(gate[1], gate[2], state)\n",
    "        elif gate[0] == 2:\n",
    "            state = self.CNOT(gate[1], gate[2], state)\n",
    "        elif gate[0] == 3:\n",
    "            measures = ((initial_state, self.measure(state, size=num_measures)))\n",
    "            self.measurements.append(measures)\n",
    "            if print_m:\n",
    "                print(f\"Measurement: {measures[1]}\")\n",
    "        elif gate[0] == 4:\n",
    "            state = self.xyModN(gate[1], gate[2], gate[3], gate[4], state)\n",
    "        elif gate[0] == 5:\n",
    "            state = self.CxyModN(gate[1], gate[2], gate[3], gate[4], gate[5], state)\n",
    "        return add_duplicates(state, self.decimals)\n",
    "    \n",
    "    def flip_bit(self, bit):\n",
    "        bit = int(bit)\n",
    "        if bit == 0:\n",
    "            return 1\n",
    "        return 0\n",
    "    \n",
    "    def get_measurements(self):\n",
    "        return self.measurements\n",
    "    \n",
    "    def get_last_measurement(self, as_ints=False):\n",
    "        to_return = self.measurements[-1]\n",
    "        measures = to_return[1]\n",
    "        if as_ints: measures = [int(measure, 2) for measure in measures]\n",
    "        return (to_return[0], measures)\n",
    "    \n",
    "    def plot_last_measurement(self):\n",
    "        init_state, ints = self.get_last_measurement(True)\n",
    "        vals = np.zeros((2**self.n))\n",
    "        for i in ints:\n",
    "            vals[i] += 1\n",
    "        plt.figure()\n",
    "        plt.plot(range(2**self.n), vals)\n",
    "        plt.title(f\"Measurements After Initial State: {init_state}\")\n",
    "        plt.xlabel(\"Measurment\")\n",
    "        plt.ylabel(\"Occurences\")\n",
    "        plt.show()\n",
    "        \n",
    "    def get_last_state(self):\n",
    "        return self.last_final_state"
   ]
  },
  {
   "cell_type": "code",
   "execution_count": 7,
   "id": "bc5070e4",
   "metadata": {
    "ExecuteTime": {
     "end_time": "2023-02-12T22:54:01.930423Z",
     "start_time": "2023-02-12T22:54:01.922445Z"
    }
   },
   "outputs": [
    {
     "name": "stdout",
     "output_type": "stream",
     "text": [
      "[[(1+0j), '0011']]\n"
     ]
    }
   ],
   "source": [
    "description = \"\"\"4\n",
    "INITSTATE BASIS |0101>\n",
    "FUNC 0 4 xyModN 3 6\"\"\"\n",
    "computer = Quantum_Computer(description)\n",
    "state = computer.run()\n",
    "print(state)"
   ]
  },
  {
   "cell_type": "code",
   "execution_count": 8,
   "id": "f197dd8f",
   "metadata": {
    "ExecuteTime": {
     "end_time": "2023-02-12T22:54:02.310408Z",
     "start_time": "2023-02-12T22:54:02.293454Z"
    }
   },
   "outputs": [
    {
     "name": "stdout",
     "output_type": "stream",
     "text": [
      "[[(0.97767+0.14776j), '000'], [(0.02233-0.14776j), '101']]\n"
     ]
    }
   ],
   "source": [
    "test_description = \"\"\"3\n",
    "H 1\n",
    "H 2\n",
    "P 2 0.3\n",
    "CNOT 2 1\n",
    "H 1\n",
    "H 2\n",
    "CNOT 2 0\n",
    "MEASURE\"\"\"\n",
    "test_computer = Quantum_Computer(test_description)\n",
    "print(test_computer.run())"
   ]
  },
  {
   "cell_type": "code",
   "execution_count": 9,
   "id": "faadc32c",
   "metadata": {
    "ExecuteTime": {
     "end_time": "2023-02-12T22:54:02.832013Z",
     "start_time": "2023-02-12T22:54:02.803090Z"
    }
   },
   "outputs": [
    {
     "name": "stdout",
     "output_type": "stream",
     "text": [
      "{ (0.70711+0j) |0> + (0.70711+0j) |256>}\n"
     ]
    }
   ],
   "source": [
    "test_description = \"\"\"9\n",
    "H 0\n",
    "CPHASE 0 5 0.3\n",
    "P 1 0.3\n",
    "CNOT 4 7\n",
    "SWAP 2 8\"\"\"\n",
    "PrettyPrintInteger(Quantum_Computer(test_description).run())"
   ]
  },
  {
   "cell_type": "code",
   "execution_count": 10,
   "id": "e6156ce4",
   "metadata": {
    "ExecuteTime": {
     "end_time": "2023-02-12T22:54:04.317042Z",
     "start_time": "2023-02-12T22:54:04.281138Z"
    }
   },
   "outputs": [
    {
     "name": "stdout",
     "output_type": "stream",
     "text": [
      "{ (0.14566+0.11348j) |0> + (0.0431-0.12185j) |1> + (-0.00018+0.08005j) |2> + (0.05036-0.00728j) |3> + (0.07233-0.02262j) |4> + (-0.03445-0.04223j) |5> + (0.05395+0.00895j) |6> + (0.00179-0.02675j) |7> + (0.13465-0.1256j) |8> + (-0.1041-0.06762j) |9> + (0.01065+0.07095j) |10> + (0.03154-0.03538j) |11> + (0.00792+0.2979j) |12> + (0.19608-0.05835j) |13> + (-0.11307-0.02284j) |14> + (0.02567+0.07564j) |15> + (0.00147-0.03646j) |16> + (-0.01267+0.00551j) |17> + (-0.08205+0.01551j) |18> + (0.01601+0.02259j) |19> + (-0.17166+0.36692j) |20> + (0.27747+0.04233j) |21> + (-0.14693-0.04361j) |22> + (0.0074+0.10789j) |23> + (-0.44268-0.08917j) |24> + (0.03433+0.31797j) |25> + (-0.05479-0.21473j) |26> + (-0.12099+0.06545j) |27> + (-0.18144-0.07803j) |28> + (-0.00585+0.12703j) |29> + (-0.05781+0.01012j) |30> + (-0.01181+0.02004j) |31>}\n"
     ]
    }
   ],
   "source": [
    "PrettyPrintInteger(Quantum_Computer(\"rand.circuit\", True).run())"
   ]
  },
  {
   "cell_type": "code",
   "execution_count": 68,
   "id": "57fdfa2e",
   "metadata": {
    "ExecuteTime": {
     "end_time": "2023-02-13T00:14:01.701857Z",
     "start_time": "2023-02-13T00:14:01.542285Z"
    }
   },
   "outputs": [
    {
     "name": "stdout",
     "output_type": "stream",
     "text": [
      "Measurement: ['11001' '11000' '11000' ... '11001' '11000' '10100']\n",
      "{ (0.14566+0.11348j) |0> + (0.0431-0.12185j) |1> + (-0.00018+0.08005j) |2> + (0.05036-0.00728j) |3> + (0.07233-0.02262j) |4> + (-0.03445-0.04223j) |5> + (0.05395+0.00895j) |6> + (0.00179-0.02675j) |7> + (0.13465-0.1256j) |8> + (-0.1041-0.06762j) |9> + (0.01065+0.07095j) |10> + (0.03154-0.03538j) |11> + (0.00792+0.2979j) |12> + (0.19608-0.05835j) |13> + (-0.11307-0.02284j) |14> + (0.02567+0.07564j) |15> + (0.00147-0.03646j) |16> + (-0.01267+0.00551j) |17> + (-0.08205+0.01551j) |18> + (0.01601+0.02259j) |19> + (-0.17166+0.36692j) |20> + (0.27747+0.04233j) |21> + (-0.14693-0.04361j) |22> + (0.0074+0.10789j) |23> + (-0.44268-0.08917j) |24> + (0.03433+0.31797j) |25> + (-0.05479-0.21473j) |26> + (-0.12099+0.06545j) |27> + (-0.18144-0.07803j) |28> + (-0.00585+0.12703j) |29> + (-0.05781+0.01012j) |30> + (-0.01181+0.02004j) |31>}\n"
     ]
    },
    {
     "data": {
      "image/png": "[encoded data removed]",
      "text/plain": [
       "<Figure size 640x480 with 1 Axes>"
      ]
     },
     "metadata": {},
     "output_type": "display_data"
    }
   ],
   "source": [
    "measure_computer = Quantum_Computer(\"measure.circuit\", True)\n",
    "PrettyPrintInteger(measure_computer.run(print_m=True, num_measures=10000))\n",
    "results = [int(result, 2) for result in measure_computer.get_measurements()[0][1]]\n",
    "\n",
    "types = []\n",
    "[types.append(x) for x in results if x not in types]\n",
    "counts = [results.count(value) for value in types]\n",
    "\n",
    "plt.figure()\n",
    "plt.bar(types, counts, width=1)\n",
    "plt.title(f\"Results of Running \\\"measure.circuit\\\"\")\n",
    "plt.xlabel(\"Measured state\")\n",
    "plt.ylabel(\"Count\")\n",
    "plt.show()"
   ]
  },
  {
   "cell_type": "code",
   "execution_count": 12,
   "id": "799276c8",
   "metadata": {
    "ExecuteTime": {
     "end_time": "2023-02-12T22:54:05.167767Z",
     "start_time": "2023-02-12T22:54:05.118898Z"
    }
   },
   "outputs": [
    {
     "name": "stdout",
     "output_type": "stream",
     "text": [
      "{ (0.1541-0.03902j) |0> + (0.04895-0.03002j) |1> + (-0.02132+0.08775j) |2> + (-0.11161-0.23333j) |3> + (-0.0339-0.00967j) |4> + (-0.01675-0.13027j) |5> + (-0.19592+0.00989j) |6> + (-0.09796+0.01348j) |7> + (-0.18083+0.01438j) |8> + (0.05383-0.06863j) |9> + (0.00103-0.00346j) |10> + (-0.02154+0.01745j) |11> + (-0.0072+0.15958j) |12> + (-0.2231+0.07463j) |13> + (-0.03789+0.00586j) |14> + (0.0739-0.05074j) |15> + (-0.14805+0.08746j) |16> + (-0.06329+0.25662j) |17> + (0.11691+0.01381j) |18> + (-0.02668-0.00406j) |19> + (0.21923-0.21304j) |20> + (-0.04894-0.11636j) |21> + (-0.14794-0.10481j) |22> + (0.22317+0.05083j) |23> + (-0.13964-0.2372j) |24> + (0.18475-0.00515j) |25> + (-0.26322-0.0656j) |26> + (0.1752-0.02011j) |27> + (0.1122+0.00125j) |28> + (0.02419-0.12445j) |29> + (-0.2083+0.07702j) |30> + (0.05477+0.30613j) |31>}\n"
     ]
    }
   ],
   "source": [
    "PrettyPrintInteger(Quantum_Computer(\"input.circuit\", True).run())"
   ]
  },
  {
   "cell_type": "code",
   "execution_count": 13,
   "id": "4a0cea44",
   "metadata": {
    "ExecuteTime": {
     "end_time": "2023-02-12T22:54:05.755196Z",
     "start_time": "2023-02-12T22:54:05.750209Z"
    },
    "code_folding": []
   },
   "outputs": [],
   "source": [
    "def PhaseE_D1(phi):\n",
    "    return f\"\"\"2\n",
    "INITSTATE BASIS |01>\n",
    "H 0\n",
    "CPHASE 0 1 {phi}\n",
    "H 0\n",
    "MEASURE\"\"\""
   ]
  },
  {
   "cell_type": "code",
   "execution_count": 14,
   "id": "62b16ec8",
   "metadata": {
    "ExecuteTime": {
     "end_time": "2023-02-12T22:54:06.811372Z",
     "start_time": "2023-02-12T22:54:06.366562Z"
    },
    "code_folding": [
     0
    ]
   },
   "outputs": [
    {
     "data": {
      "image/png": "[encoded data removed]",
      "text/plain": [
       "<Figure size 640x480 with 1 Axes>"
      ]
     },
     "metadata": {},
     "output_type": "display_data"
    }
   ],
   "source": [
    "def PhaseE_D1_G1():\n",
    "    phi_by_2pi = np.linspace(0, 0.99, 100)\n",
    "    theta_j = []\n",
    "    for i in phi_by_2pi:\n",
    "        desc = PhaseE_D1(2*m.pi*i)\n",
    "        results = Quantum_Computer(desc).run()\n",
    "        max_val = 0\n",
    "        fin_state = 0\n",
    "        for result in results:\n",
    "            prob = result[0].real\n",
    "            if prob > max_val:\n",
    "                max_val = prob\n",
    "                fin_state = result[1][0]\n",
    "        theta = (0.5) * int(fin_state)\n",
    "        theta_j.append(theta)\n",
    "\n",
    "    plt.figure()\n",
    "    plt.plot(phi_by_2pi, theta_j)\n",
    "    plt.title(r\"$\\frac{\\phi}{2\\pi}$ vs. Predicted $\\theta_j$\")\n",
    "    plt.xlabel(r\"$\\frac{\\phi}{2\\pi}$\")\n",
    "    plt.ylabel(r\"Predicted $\\theta_j$\")\n",
    "    plt.show()\n",
    "PhaseE_D1_G1()"
   ]
  },
  {
   "cell_type": "code",
   "execution_count": 15,
   "id": "e9aebac7",
   "metadata": {
    "ExecuteTime": {
     "end_time": "2023-02-12T22:54:07.967281Z",
     "start_time": "2023-02-12T22:54:07.792748Z"
    },
    "code_folding": [
     0
    ]
   },
   "outputs": [
    {
     "data": {
      "image/png": "[encoded data removed]",
      "text/plain": [
       "<Figure size 640x480 with 1 Axes>"
      ]
     },
     "metadata": {},
     "output_type": "display_data"
    }
   ],
   "source": [
    "def PhaseE_D1_G2():\n",
    "    phi_by_2pi_set = 0.1432394487827058\n",
    "    computer = Quantum_Computer(PhaseE_D1(2*m.pi*phi_by_2pi_set))\n",
    "    computer.run(num_measures=10000)\n",
    "    results = computer.get_last_measurement()[1]\n",
    "    thetas = []\n",
    "    for i in range(len(results)):\n",
    "        if results[i] == '01':\n",
    "            thetas.append(0)\n",
    "        elif results[i] == '11':\n",
    "            thetas.append(0.5)\n",
    "    types = []\n",
    "    [types.append(x) for x in thetas if x not in types]\n",
    "    probs = [thetas.count(value)/len(thetas) for value in types]\n",
    "\n",
    "    plt.figure()\n",
    "    plt.bar(types, probs, width=0.1, label = r'Predicted $\\theta_j$')\n",
    "    plt.axvline(x = phi_by_2pi_set, color = 'r', label = r'Actual $\\theta_j$')\n",
    "    plt.title(r\"Predicted vs. Actual for $\\theta_j$=0.1432394487827058\")\n",
    "    plt.xlabel(r\"$\\theta_j$\")\n",
    "    plt.ylabel(\"Probability\")\n",
    "    plt.legend()\n",
    "    plt.show()\n",
    "PhaseE_D1_G2()"
   ]
  },
  {
   "cell_type": "code",
   "execution_count": 16,
   "id": "6507d7db",
   "metadata": {
    "ExecuteTime": {
     "end_time": "2023-02-12T22:54:08.552716Z",
     "start_time": "2023-02-12T22:54:08.530774Z"
    },
    "code_folding": [
     0
    ]
   },
   "outputs": [],
   "source": [
    "def animation1():\n",
    "    n_frames = 100\n",
    "    print(n_frames)\n",
    "    phi_by_2pi = np.linspace(0, 1, n_frames)\n",
    "    computer = Quantum_Computer(PhaseE_D1(2*m.pi*phi_by_2pi[1]))\n",
    "    computer.run(num_measures=1000)\n",
    "    results = computer.get_last_measurement()[1]\n",
    "    thetas = []\n",
    "    for i in range(len(results)):\n",
    "        if results[i] == '01':\n",
    "            thetas.append(0)\n",
    "        elif results[i] == '11':\n",
    "            thetas.append(0.5)\n",
    "    types = []\n",
    "    [types.append(x) for x in thetas if x not in types]\n",
    "    probs = [thetas.count(value)/len(thetas) for value in types]\n",
    "\n",
    "    fig, ax = plt.subplots()\n",
    "    bars = plt.bar(types, probs, width=0.1, label = r'Predicted $\\theta_j$')\n",
    "    line = plt.axvline(x = phi_by_2pi[1], color = 'r', label = r'Actual $\\theta_j$')\n",
    "    plt.title(r\"Predicted vs. Actual for $\\theta_j$\")\n",
    "    plt.xlabel(r\"$\\theta_j$\")\n",
    "    plt.ylabel(\"Probability\")\n",
    "    plt.xlim(-0.1, 1.1)\n",
    "    plt.ylim(0, 1)\n",
    "    plt.legend()\n",
    "\n",
    "    def update(i):\n",
    "        computer = Quantum_Computer(PhaseE_D1(2*m.pi*phi_by_2pi[i]))\n",
    "        computer.run(num_measures=10000)\n",
    "        results = computer.get_last_measurement()[1]\n",
    "        thetas = []\n",
    "        for j in range(len(results)):\n",
    "            if results[j] == '01':\n",
    "                thetas.append(0)\n",
    "            elif results[j] == '11':\n",
    "                thetas.append(0.5)\n",
    "        types = []\n",
    "        [types.append(x) for x in thetas if x not in types]\n",
    "        probs = [thetas.count(value)/len(thetas) for value in types]\n",
    "        plt.cla()\n",
    "        bars = plt.bar(types, probs, width=0.1, label = r'Predicted $\\theta_j$')\n",
    "        line = plt.axvline(x = phi_by_2pi[i], color = 'r', label = r'Actual $\\theta_j$')\n",
    "        plt.title(r\"Predicted vs. Actual for $\\theta_j$\")\n",
    "        plt.xlabel(r\"$\\theta_j$\")\n",
    "        plt.ylabel(\"Probability\")\n",
    "        plt.xlim(-0.1, 1.1)\n",
    "        plt.ylim(0, 1)\n",
    "        plt.legend(loc='upper right')\n",
    "        return [bars], [line]\n",
    "\n",
    "    anim = FuncAnimation(fig, update, frames=n_frames, interval = 1, repeat=True, cache_frame_data=True)\n",
    "    anim.save(\"thetaprediction1wire.gif\")\n",
    "    plt.show()\n",
    "# animation1()"
   ]
  },
  {
   "cell_type": "code",
   "execution_count": 17,
   "id": "9b6cfec2",
   "metadata": {
    "ExecuteTime": {
     "end_time": "2023-02-12T22:54:09.662748Z",
     "start_time": "2023-02-12T22:54:09.658758Z"
    },
    "code_folding": []
   },
   "outputs": [],
   "source": [
    "def PhaseE_D2(phi):\n",
    "    return f\"\"\"3\n",
    "INITSTATE BASIS |001>\n",
    "H 0\n",
    "H 1\n",
    "CPHASE 1 2 {phi}\n",
    "CPHASE 0 2 {phi}\n",
    "CPHASE 0 2 {phi}\n",
    "H 0\n",
    "CPHASE 0 1 {-m.pi/2}\n",
    "H 1\n",
    "SWAP 0 1\n",
    "MEASURE\"\"\""
   ]
  },
  {
   "cell_type": "code",
   "execution_count": 18,
   "id": "fabd7886",
   "metadata": {
    "ExecuteTime": {
     "end_time": "2023-02-12T22:54:10.405761Z",
     "start_time": "2023-02-12T22:54:10.144460Z"
    },
    "code_folding": [
     0
    ]
   },
   "outputs": [
    {
     "data": {
      "image/png": "[encoded data removed]",
      "text/plain": [
       "<Figure size 640x480 with 1 Axes>"
      ]
     },
     "metadata": {},
     "output_type": "display_data"
    }
   ],
   "source": [
    "def PhaseE_D2_G1():\n",
    "    phi_by_2pi = np.linspace(0, 0.99, 100)\n",
    "    theta_j = []\n",
    "    for i in phi_by_2pi:\n",
    "        desc = PhaseE_D2(2*m.pi*i)\n",
    "        results = Quantum_Computer(desc).run()\n",
    "        max_val = 0\n",
    "        fin_state = 0\n",
    "        for result in results:\n",
    "            prob = result[0].real\n",
    "            if prob > max_val:\n",
    "                max_val = prob\n",
    "                fin_state = result[1][:-1]\n",
    "        theta = (0.5) * int(fin_state[0]) + (0.25) * int(fin_state[1])\n",
    "        theta_j.append(theta)\n",
    "\n",
    "    plt.figure()\n",
    "    plt.plot(phi_by_2pi, theta_j)\n",
    "    plt.title(r\"$\\frac{\\phi}{2\\pi}$ vs. Predicted $\\theta_j$\")\n",
    "    plt.xlabel(r\"$\\frac{\\phi}{2\\pi}$\")\n",
    "    plt.ylabel(r\"Predicted $\\theta_j$\")\n",
    "    plt.show()\n",
    "PhaseE_D2_G1()"
   ]
  },
  {
   "cell_type": "code",
   "execution_count": 19,
   "id": "a9497709",
   "metadata": {
    "ExecuteTime": {
     "end_time": "2023-02-12T22:54:11.533745Z",
     "start_time": "2023-02-12T22:54:11.391126Z"
    },
    "code_folding": [
     0
    ]
   },
   "outputs": [
    {
     "data": {
      "image/png": "[encoded data removed]",
      "text/plain": [
       "<Figure size 640x480 with 1 Axes>"
      ]
     },
     "metadata": {},
     "output_type": "display_data"
    }
   ],
   "source": [
    "def PhaseE_D2_G2():\n",
    "    phi_by_2pi_set = 0.1432394487827058\n",
    "    computer = Quantum_Computer(PhaseE_D2(2*m.pi*phi_by_2pi_set))\n",
    "    computer.run(num_measures=10000)\n",
    "    results = computer.get_last_measurement()[1]\n",
    "    thetas = []\n",
    "    for i in range(len(results)):\n",
    "        result = results[i][:-1]\n",
    "        thetas.append((0.5) * int(result[0]) + (0.25) * int(result[1]))\n",
    "    types = []\n",
    "    [types.append(x) for x in thetas if x not in types]\n",
    "    probs = [thetas.count(value)/len(thetas) for value in types]\n",
    "\n",
    "    plt.figure()\n",
    "    plt.bar(types, probs, width=0.1, label = r'Predicted $\\theta_j$')\n",
    "    plt.axvline(x = phi_by_2pi_set, color = 'r', label = r'Actual $\\theta_j$')\n",
    "    plt.title(r\"Predicted vs. Actual for $\\theta_j$=0.1432394487827058\")\n",
    "    plt.xlabel(r\"$\\theta_j$\")\n",
    "    plt.ylabel(\"Probability\")\n",
    "    plt.legend()\n",
    "    plt.show()\n",
    "PhaseE_D2_G2()"
   ]
  },
  {
   "cell_type": "code",
   "execution_count": 20,
   "id": "a33becdc",
   "metadata": {
    "ExecuteTime": {
     "end_time": "2023-02-12T22:54:12.263792Z",
     "start_time": "2023-02-12T22:54:12.248833Z"
    },
    "code_folding": [
     0
    ]
   },
   "outputs": [],
   "source": [
    "def animation2():\n",
    "    n_frames = 200\n",
    "    print(n_frames)\n",
    "    phi_by_2pi = np.linspace(0, 1, n_frames)\n",
    "    computer = Quantum_Computer(PhaseE_D2(2*m.pi*phi_by_2pi[1]))\n",
    "    computer.run(num_measures=1000)\n",
    "    results = computer.get_last_measurement()[1]\n",
    "    thetas = []\n",
    "    for i in range(len(results)):\n",
    "        result = results[i][:-1]\n",
    "        thetas.append((0.5) * int(result[0]) + (0.25) * int(result[1]))\n",
    "    types = []\n",
    "    [types.append(x) for x in thetas if x not in types]\n",
    "    probs = [thetas.count(value)/len(thetas) for value in types]\n",
    "\n",
    "    fig, ax = plt.subplots()\n",
    "    bars = plt.bar(types, probs, width=0.1, label = r'Predicted $\\theta_j$')\n",
    "    line = plt.axvline(x = phi_by_2pi[1], color = 'r', label = r'Actual $\\theta_j$')\n",
    "    plt.title(r\"Predicted vs. Actual for $\\theta_j$\")\n",
    "    plt.xlabel(r\"$\\theta_j$\")\n",
    "    plt.ylabel(\"Probability\")\n",
    "    plt.xlim(-0.1, 1.1)\n",
    "    plt.ylim(0, 1)\n",
    "    plt.legend()\n",
    "\n",
    "    def update(i):\n",
    "        computer = Quantum_Computer(PhaseE_D2(2*m.pi*phi_by_2pi[i]))\n",
    "        computer.run(num_measures=10000)\n",
    "        results = computer.get_last_measurement()[1]\n",
    "        thetas = []\n",
    "        for j in range(len(results)):\n",
    "            result = results[j][:-1]\n",
    "            thetas.append((0.5) * int(result[0]) + (0.25) * int(result[1]))\n",
    "        types = []\n",
    "        [types.append(x) for x in thetas if x not in types]\n",
    "        probs = [thetas.count(value)/len(thetas) for value in types]\n",
    "        plt.cla()\n",
    "        bars = plt.bar(types, probs, width=0.1, label = r'Predicted $\\theta_j$')\n",
    "        line = plt.axvline(x = phi_by_2pi[i], color = 'r', label = r'Actual $\\theta_j$')\n",
    "        plt.title(r\"Predicted vs. Actual for $\\theta_j$\")\n",
    "        plt.xlabel(r\"$\\theta_j$\")\n",
    "        plt.ylabel(\"Probability\")\n",
    "        plt.xlim(-0.1, 1.1)\n",
    "        plt.ylim(0, 1)\n",
    "        plt.legend(loc='upper right')\n",
    "        return [bars], [line]\n",
    "\n",
    "    anim = FuncAnimation(fig, update, frames=n_frames, interval = 10, repeat=True, cache_frame_data=True)\n",
    "    anim.save(\"thetaprediction2wires.gif\")\n",
    "    plt.show()\n",
    "# animation2()"
   ]
  },
  {
   "cell_type": "code",
   "execution_count": 21,
   "id": "d9ebe873",
   "metadata": {
    "ExecuteTime": {
     "end_time": "2023-02-12T22:54:14.101877Z",
     "start_time": "2023-02-12T22:54:14.089909Z"
    },
    "code_folding": [
     0,
     9
    ]
   },
   "outputs": [],
   "source": [
    "def QFT(n):\n",
    "    st = \"\"\n",
    "    for i in range(n):\n",
    "        st += f\"H {n-i-1}\"\n",
    "        for j in range(n-i-1):\n",
    "            st += f\"\\nCPHASE {n-i-1} {n-i-1-j-1} {m.pi/(2**(j+1))}\"\n",
    "        st += \"\\n\"\n",
    "    return st[:-1]\n",
    "\n",
    "def phase_estimator(n, n2=1, phi=0, is_custom=False, custom_description=\"\"):\n",
    "    basis0, basis1 = \"\", \"\"\n",
    "    for i in range(n):\n",
    "        basis0 += \"0\"\n",
    "    for i in range(n2):\n",
    "        basis1 += \"1\"\n",
    "    st = f\"\"\"{n+n2}\\nINITSTATE BASIS |{basis0}{basis1}>\\n\"\"\"\n",
    "    for i in range(n):\n",
    "        st+=f\"H {i}\\n\"\n",
    "    if is_custom:\n",
    "        for i in range(n):\n",
    "            for j in range(2**i):\n",
    "                st+=f\"{custom_description(n-1-i, n, n2)}\\n\"\n",
    "    else:\n",
    "        for i in range(n):\n",
    "            st+=f\"CPHASE {n-1-i} {n} {2**i*phi}\\n\"\n",
    "    st += f\"{invert_description(QFT(n))}\\n\"\n",
    "    st += f\"{REVERSE(0, n)}\\n\"\n",
    "    st += \"MEASURE\"\n",
    "    return st"
   ]
  },
  {
   "cell_type": "code",
   "execution_count": 122,
   "id": "6de020dc",
   "metadata": {
    "ExecuteTime": {
     "end_time": "2023-02-13T00:48:08.305883Z",
     "start_time": "2023-02-13T00:48:08.294912Z"
    }
   },
   "outputs": [],
   "source": [
    "state_testQFT=[\n",
    "  (np.sqrt(0.1), '0000'),\n",
    "  (np.sqrt(0.4), '0100') ,\n",
    "  (-np.sqrt(0.5), '1100' )\n",
    "]\n",
    "QFT_description = f\"\"\"4\n",
    "INITSTATE BASIS |0001>\n",
    "{QFT(3)}\"\"\""
   ]
  },
  {
   "cell_type": "code",
   "execution_count": 124,
   "id": "bdba3cd7",
   "metadata": {
    "ExecuteTime": {
     "end_time": "2023-02-13T00:48:32.363108Z",
     "start_time": "2023-02-13T00:48:32.357123Z"
    }
   },
   "outputs": [
    {
     "name": "stdout",
     "output_type": "stream",
     "text": [
      "3\n",
      "INITSTATE BASIS |001>\n",
      "REVERSE 0 3\n",
      "H 2\n",
      "CPHASE 2 1 1.5707963267948966\n",
      "CPHASE 2 0 0.7853981633974483\n",
      "H 1\n",
      "CPHASE 1 0 1.5707963267948966\n",
      "H 0\n",
      "{ (0.35355+0j) |0> + (0.25+0.25j) |1> + 0.35355j |2> + (-0.25+0.25j) |3> + (-0.35355+0j) |4> + (-0.25-0.25j) |5> + -0.35355j |6> + (0.25-0.25j) |7>}\n"
     ]
    }
   ],
   "source": [
    "QFT_description = f\"\"\"3\n",
    "INITSTATE BASIS |001>\n",
    "REVERSE 0 3\n",
    "{QFT(3)}\"\"\"\n",
    "QFT_test_computer = Quantum_Computer(QFT_description, print_circuit=True)\n",
    "state = QFT_test_computer.run()\n",
    "PrettyPrintInteger(state)"
   ]
  },
  {
   "cell_type": "code",
   "execution_count": 201,
   "id": "c0603789",
   "metadata": {
    "ExecuteTime": {
     "end_time": "2023-02-13T02:02:04.329836Z",
     "start_time": "2023-02-13T02:02:04.312881Z"
    }
   },
   "outputs": [
    {
     "name": "stdout",
     "output_type": "stream",
     "text": [
      "5\n",
      "INITSTATE FILE myInputState.txt\n",
      "REVERSE 0 4\n",
      "H 4\n",
      "CPHASE 4 3 1.5707963267948966\n",
      "CPHASE 4 2 0.7853981633974483\n",
      "CPHASE 4 1 0.39269908169872414\n",
      "CPHASE 4 0 0.19634954084936207\n",
      "H 3\n",
      "CPHASE 3 2 1.5707963267948966\n",
      "CPHASE 3 1 0.7853981633974483\n",
      "CPHASE 3 0 0.39269908169872414\n",
      "H 2\n",
      "CPHASE 2 1 1.5707963267948966\n",
      "CPHASE 2 0 0.7853981633974483\n",
      "H 1\n",
      "CPHASE 1 0 1.5707963267948966\n",
      "H 0\n",
      "[[(-0.04028-0.22092j), '00000'], [(-0.09575-0.07382j), '00001'], [(0.15632+0.15387j), '00010'], [(-0.0988+0.01736j), '00011'], [(0.2052+0.01736j), '00100'], [(-0.09343+0.06486j), '00101'], [(0.03687-0.11028j), '00110'], [(0.08211-0.39124j), '00111'], [(0.12581-0.03562j), '01000'], [(0.08068+0.09396j), '01001'], [(0.08372-0.24708j), '01010'], [(-0.05084+0.04454j), '01011'], [(-0.00613-0.0884j), '01100'], [(-0.12216-0.21366j), '01101'], [(0.06886-0.11625j), '01110'], [(0.16715+0.11573j), '01111'], [(0.0512-0.14919j), '10000'], [(-0.08131+0.09101j), '10001'], [(-0.03807-0.08061j), '10010'], [(-0.20995+0.18541j), '10011'], [(-0.0991+0.1035j), '10100'], [(-0.05393-0.03799j), '10101'], [(-0.28826-0.02856j), '10110'], [(-0.00125+0.05061j), '10111'], [(0.15423+0.03996j), '11000'], [(-0.13396+0.07066j), '11001'], [(-0.07167-0.13078j), '11010'], [(-0.04126+0.12203j), '11011'], [(0.06686-0.06579j), '11100'], [(0.19565-0.01374j), '11101'], [(-0.15805+0.00218j), '11110'], [(-0.03773-0.12908j), '11111']]\n"
     ]
    }
   ],
   "source": [
    "QFT_description = f\"\"\"5\n",
    "INITSTATE FILE myInputState.txt\n",
    "REVERSE 0 4\n",
    "{QFT(5)}\"\"\"\n",
    "QFT_test_computer = Quantum_Computer(QFT_description, print_circuit=True)\n",
    "state = QFT_test_computer.run()\n",
    "print(state)"
   ]
  },
  {
   "cell_type": "code",
   "execution_count": 203,
   "id": "7929935a",
   "metadata": {
    "ExecuteTime": {
     "end_time": "2023-02-13T02:02:42.144721Z",
     "start_time": "2023-02-13T02:02:42.126769Z"
    }
   },
   "outputs": [
    {
     "name": "stdout",
     "output_type": "stream",
     "text": [
      "[[(0.35355+0j), '000'], [(0.25+0.25j), '001'], [0.35355j, '010'], [(-0.25+0.25j), '011'], [(-0.35355+0j), '100'], [(-0.25-0.25j), '101'], [-0.35355j, '110'], [(0.25-0.25j), '111']]\n",
      "\n",
      "[[(0.35355+0j), '000'], [(-0.25-0.25j), '001'], [0.35355j, '010'], [(0.25-0.25j), '011'], [(-0.35355+0j), '100'], [(0.25+0.25j), '101'], [-0.35355j, '110'], [(-0.25+0.25j), '111']]\n",
      "\n",
      "[[(0.35355+0j), '000'], [(-0.25+0.25j), '001'], [-0.35355j, '010'], [(0.25+0.25j), '011'], [(-0.35355+0j), '100'], [(0.25-0.25j), '101'], [0.35355j, '110'], [(-0.25-0.25j), '111']]\n"
     ]
    }
   ],
   "source": [
    "QFT_description = f\"\"\"3\n",
    "INITSTATE FILE myInputState.txt\n",
    "REVERSE 0 2\n",
    "{QFT(3)}\"\"\"\n",
    "QFT_test_computer = Quantum_Computer(QFT_description, print_circuit=False)\n",
    "vec = np.zeros(2**3)\n",
    "vec[2] = 1\n",
    "state3 = QFT_test_computer.run(initial_state=VecToState(vec))\n",
    "print(state3)\n",
    "print()\n",
    "vec = np.zeros(2**3)\n",
    "vec[3] = 1\n",
    "state4 = QFT_test_computer.run(initial_state=VecToState(vec))\n",
    "print(state4)\n",
    "print()\n",
    "vec = np.zeros(2**3)\n",
    "vec[6] = 1\n",
    "state7 = QFT_test_computer.run(initial_state=VecToState(vec))\n",
    "print(state7)"
   ]
  },
  {
   "cell_type": "code",
   "execution_count": 26,
   "id": "7e11a4fc",
   "metadata": {
    "ExecuteTime": {
     "end_time": "2023-02-12T04:28:23.382092Z",
     "start_time": "2023-02-12T04:28:17.187465Z"
    },
    "code_folding": [
     0
    ]
   },
   "outputs": [
    {
     "data": {
      "image/png": "[encoded data removed]",
      "text/plain": [
       "<Figure size 640x480 with 1 Axes>"
      ]
     },
     "metadata": {},
     "output_type": "display_data"
    }
   ],
   "source": [
    "def PhaseE_G1_Generator(n):\n",
    "    phi_by_2pi = np.linspace(0, 1, 100)\n",
    "    theta_j = []\n",
    "    for i in phi_by_2pi:\n",
    "        desc = phase_estimator(n, phi=2*m.pi*i)\n",
    "        results = Quantum_Computer(desc).run()\n",
    "        max_val = 0\n",
    "        fin_state = 0\n",
    "        for result in results:\n",
    "            prob = abs(result[0])**2\n",
    "            if prob > max_val:\n",
    "                max_val = prob\n",
    "                fin_state = result[1][:-1]\n",
    "        theta = 0\n",
    "        for j in range(n):\n",
    "            theta += (1/2)**(j+1)*int(fin_state[j])\n",
    "        theta_j.append(theta)\n",
    "        \n",
    "    plt.figure()\n",
    "    plt.plot(phi_by_2pi, theta_j)\n",
    "    plt.title(r\"$\\frac{\\phi}{2\\pi}$ vs. Predicted $\\theta_j$ with\" + f\" {n} wires\")\n",
    "    plt.xlabel(r\"$\\frac{\\phi}{2\\pi}$\")\n",
    "    plt.ylabel(r\"Predicted $\\theta_j$\")\n",
    "    plt.show()\n",
    "PhaseE_G1_Generator(6)"
   ]
  },
  {
   "cell_type": "code",
   "execution_count": 88,
   "id": "72e89c39",
   "metadata": {
    "ExecuteTime": {
     "end_time": "2023-02-12T03:44:00.353709Z",
     "start_time": "2023-02-12T03:44:00.110853Z"
    },
    "code_folding": [
     0
    ]
   },
   "outputs": [
    {
     "data": {
      "image/png": "[encoded data removed]",
      "text/plain": [
       "<Figure size 640x480 with 1 Axes>"
      ]
     },
     "metadata": {},
     "output_type": "display_data"
    }
   ],
   "source": [
    "def PhaseE_G2_Generator(n, num_measures=1000):\n",
    "    phi_by_2pi_set = 0.1432394487827058\n",
    "    desc = phase_estimator(n, phi=2*m.pi*phi_by_2pi_set)\n",
    "    computer = Quantum_Computer(desc)\n",
    "    computer.run(num_measures=num_measures)\n",
    "    results = computer.get_last_measurement()[1]\n",
    "    thetas = []\n",
    "    for i in range(len(results)):\n",
    "        result = results[i][:-1]\n",
    "        theta = 0\n",
    "        for j in range(n):\n",
    "            theta += (1/2)**(j+1)*int(result[j])\n",
    "        thetas.append(theta)\n",
    "    types = []\n",
    "    [types.append(x) for x in thetas if x not in types]\n",
    "    probs = [thetas.count(value)/len(thetas) for value in types]\n",
    "\n",
    "    width = 1/2**n\n",
    "    if width > 0.1: width = 0.1\n",
    "    plt.figure()\n",
    "    plt.bar(types, probs, width=width, label = r'Predicted $\\theta_j$')\n",
    "    plt.axvline(x = phi_by_2pi_set, color = 'r', label = r'Actual $\\theta_j$')\n",
    "    plt.title(f\"Predicted vs. Actual with {n} wires\\n\" + r\"for $\\theta_j$=0.1432394487827058\")\n",
    "    plt.xlabel(r\"$\\theta_j$\")\n",
    "    plt.ylabel(\"Probability\")\n",
    "    plt.legend()\n",
    "    plt.show()\n",
    "PhaseE_G2_Generator(6)"
   ]
  },
  {
   "cell_type": "code",
   "execution_count": 178,
   "id": "d0b97f4f",
   "metadata": {
    "ExecuteTime": {
     "end_time": "2023-02-13T01:34:29.406743Z",
     "start_time": "2023-02-13T01:34:29.182344Z"
    },
    "code_folding": [
     0
    ]
   },
   "outputs": [
    {
     "data": {
      "image/png": "[encoded data removed]",
      "text/plain": [
       "<Figure size 640x480 with 1 Axes>"
      ]
     },
     "metadata": {},
     "output_type": "display_data"
    }
   ],
   "source": [
    "def PhaseE_G3_Generator(num_measures=1000):\n",
    "    n = 6\n",
    "    phi_by_2pi_set = 0.5\n",
    "    desc = phase_estimator(n, phi=2*m.pi*phi_by_2pi_set)\n",
    "    computer = Quantum_Computer(desc)\n",
    "    vec = np.zeros(2**(n+1))\n",
    "    vec[0] = m.sqrt(0.3)\n",
    "    vec[1] = m.sqrt(0.7)\n",
    "    computer.run(initial_state=VecToState(vec), num_measures=num_measures)\n",
    "    results = [result[:-1] for result in computer.get_measurements()[0][1]]\n",
    "\n",
    "#     types = []\n",
    "#     [types.append(x) for x in results if x not in types]\n",
    "#     counts = [results.count(value) for value in types]\n",
    "\n",
    "#     plt.figure()\n",
    "#     plt.bar(types, counts, width=1)\n",
    "#     plt.title(f\"Results of Running {n} wires with \" + r\"$\\phi = 0.5$ and initial state $\\sqrt(0.3)|\\phi_1\")\n",
    "#     plt.xlabel(\"Measured state\")\n",
    "#     plt.ylabel(\"Count\")\n",
    "#     plt.show()\n",
    "    thetas = []\n",
    "    for result in results:\n",
    "        theta = 0\n",
    "        for j in range(n):\n",
    "            theta += (1/2)**(j+1)*int(result[j])\n",
    "        thetas.append(theta)\n",
    "    types = []\n",
    "    [types.append(x) for x in thetas if x not in types]\n",
    "    count = [thetas.count(value) for value in types]\n",
    "\n",
    "    width = 1/2**n\n",
    "    if width > 0.1: width = 0.1\n",
    "    plt.figure()\n",
    "    plt.bar(types, count, width=width, label = r'Predicted $\\theta_j$')\n",
    "    plt.axvline(x = phi_by_2pi_set, color = 'r', label = r'$\\phi$')\n",
    "    plt.title(f\"Results of Running {n} Wires With \" + r\"$\\phi = 0.5$\" + \"\\n\"+ r\" And Initial State $\\sqrt{0.3}$ |$\\psi_0>$ + $\\sqrt{0.7}$ |$\\psi_1>$ For 1000 Measurements\")\n",
    "    plt.xlabel(r\"$\\theta_j$\")\n",
    "    plt.ylabel(\"Probability\")\n",
    "    plt.legend()\n",
    "    plt.show()\n",
    "PhaseE_G3_Generator()"
   ]
  },
  {
   "cell_type": "code",
   "execution_count": null,
   "id": "ac63ac3b",
   "metadata": {
    "ExecuteTime": {
     "end_time": "2023-02-10T19:11:24.252141Z",
     "start_time": "2023-02-10T19:11:24.252141Z"
    },
    "code_folding": [
     0
    ]
   },
   "outputs": [],
   "source": [
    "def PhaseE_G2_Animation_Generator(n, n_frames=200, time=2, num_measures=10000):\n",
    "    phi_by_2pi = np.linspace(0, 1, n_frames)\n",
    "    computer = Quantum_Computer(phase_estimator(n, 2*m.pi*phi_by_2pi[1]))\n",
    "    computer.run(num_measures=num_measures)\n",
    "    results = computer.get_last_measurement()[1]\n",
    "    thetas = []\n",
    "    for j in range(len(results)):\n",
    "        result = results[j][:-1]\n",
    "        theta = 0\n",
    "        for k in range(n):\n",
    "            theta += (1/2)**(k+1)*int(result[k])\n",
    "        thetas.append(theta)\n",
    "    types = []\n",
    "    [types.append(x) for x in thetas if x not in types]\n",
    "    probs = [thetas.count(value)/len(thetas) for value in types]\n",
    "\n",
    "    width = 1/2**n\n",
    "    if width > 0.1: width = 0.1\n",
    "    fig, ax = plt.subplots()\n",
    "    bars = plt.bar(types, probs, width=width, label = r'Predicted $\\theta_j$')\n",
    "    line = plt.axvline(x = phi_by_2pi[1], color = 'r', label = r'Actual $\\theta_j$')\n",
    "    plt.title(r\"Predicted vs. Actual for $\\theta_j$\" + f\"\\nWith {n} Wires\")\n",
    "    plt.xlabel(r\"$\\theta_j$\")\n",
    "    plt.ylabel(\"Probability\")\n",
    "    plt.xlim(-0.1, 1.1)\n",
    "    plt.ylim(0, 1)\n",
    "    plt.legend()\n",
    "    \n",
    "    def update(i):\n",
    "        computer = Quantum_Computer(phase_estimator(n, 2*m.pi*phi_by_2pi[i]))\n",
    "        computer.run(num_measures=num_measures)\n",
    "        results = computer.get_last_measurement()[1]\n",
    "        thetas = []\n",
    "        for j in range(len(results)):\n",
    "            result = results[j][:-1]\n",
    "            theta = 0\n",
    "            for k in range(n):\n",
    "                theta += (1/2)**(k+1)*int(result[k])\n",
    "            thetas.append(theta)\n",
    "        types = []\n",
    "        [types.append(x) for x in thetas if x not in types]\n",
    "        probs = [thetas.count(value)/len(thetas) for value in types]\n",
    "        plt.cla()\n",
    "        bars = plt.bar(types, probs, width=width, label = r'Predicted $\\theta_j$')\n",
    "        line = plt.axvline(x = phi_by_2pi[i], color = 'r', label = r'Actual $\\theta_j$')\n",
    "        plt.title(r\"Predicted vs. Actual for $\\theta_j$\" + f\"\\nWith {n} Wires\")\n",
    "        plt.xlabel(r\"$\\theta_j$\")\n",
    "        plt.ylabel(\"Probability\")\n",
    "        plt.xlim(-0.1, 1.1)\n",
    "        plt.ylim(0, 1)\n",
    "        plt.legend(loc='upper right')\n",
    "        return [bars], [line]\n",
    "\n",
    "    anim = FuncAnimation(fig, update, frames=n_frames, interval = time*1000/n_frames, repeat=True, cache_frame_data=True)\n",
    "    anim.save(f\"thetaprediction{n}wires_gen.gif\")\n",
    "    plt.show()\n",
    "# PhaseE_G2_Animation_Generator(6, n_frames=1000, time=5)"
   ]
  },
  {
   "cell_type": "code",
   "execution_count": 78,
   "id": "7a961a17",
   "metadata": {
    "ExecuteTime": {
     "end_time": "2023-02-12T03:38:07.413198Z",
     "start_time": "2023-02-12T03:38:07.406217Z"
    },
    "code_folding": []
   },
   "outputs": [],
   "source": [
    "def custom_description1(control, wire, n2):\n",
    "    return f\"\"\"CPHASE {control} {wire} {2*m.pi*0.3}\n",
    "CNOT {control} {wire}\n",
    "CPHASE {control} {wire} {2*m.pi*0.7}\n",
    "CNOT {control} {wire}\"\"\""
   ]
  },
  {
   "cell_type": "code",
   "execution_count": 27,
   "id": "925b5568",
   "metadata": {
    "ExecuteTime": {
     "end_time": "2023-02-12T04:28:37.160898Z",
     "start_time": "2023-02-12T04:28:37.144941Z"
    }
   },
   "outputs": [],
   "source": [
    "# print(phase_estimator(6, is_custom=True, custom_description=custom_description1))"
   ]
  },
  {
   "cell_type": "code",
   "execution_count": 84,
   "id": "a1886a33",
   "metadata": {
    "ExecuteTime": {
     "end_time": "2023-02-12T03:40:39.906024Z",
     "start_time": "2023-02-12T03:40:38.790001Z"
    },
    "code_folding": [
     0
    ]
   },
   "outputs": [
    {
     "data": {
      "image/png": "[encoded data removed]",
      "text/plain": [
       "<Figure size 640x480 with 1 Axes>"
      ]
     },
     "metadata": {},
     "output_type": "display_data"
    }
   ],
   "source": [
    "def custom_description_PhaseE():\n",
    "    n = 6\n",
    "    computer1 = Quantum_Computer(phase_estimator(6, is_custom=True, custom_description=custom_description1))\n",
    "    computer1.run(num_measures=10000)\n",
    "    results1 = computer1.get_last_measurement()[1]\n",
    "    thetas1 = []\n",
    "    for i in range(len(results1)):\n",
    "        result = results1[i][:-1]\n",
    "        theta = 0\n",
    "        for j in range(n):\n",
    "            theta += (1/2)**(j+1)*int(result[j])\n",
    "        thetas1.append(theta)\n",
    "    types1 = []\n",
    "    [types1.append(x) for x in thetas1 if x not in types1]\n",
    "    probs1 = [thetas1.count(value)/len(thetas1) for value in types1]\n",
    "\n",
    "    vec = np.zeros(2**(n+1))\n",
    "    vec[0] = 1\n",
    "    computer2 = Quantum_Computer(phase_estimator(6, is_custom=True, custom_description=custom_description1))\n",
    "    computer2.run(num_measures=10000, initial_state=VecToState(vec))\n",
    "    results2 = computer2.get_last_measurement()[1]\n",
    "    thetas2 = []\n",
    "    for i in range(len(results2)):\n",
    "        result = results2[i][:-1]\n",
    "        theta = 0\n",
    "        for j in range(n):\n",
    "            theta += (1/2)**(j+1)*int(result[j])\n",
    "        thetas2.append(theta)\n",
    "    types2 = []\n",
    "    [types2.append(x) for x in thetas2 if x not in types2]\n",
    "    probs2 = [thetas2.count(value)/len(thetas2) for value in types2]\n",
    "\n",
    "    width = 1/2**n\n",
    "    if width > 0.1: width = 0.1\n",
    "    plt.figure()\n",
    "    plt.bar(types1, probs1, width=width, color = \"blue\", label = r'Predicted $\\theta_j$ for |0>')\n",
    "    plt.bar(types2, probs2, width=width, color=\"g\", label = r'Predicted $\\theta_j$ for |1>')\n",
    "    plt.axvline(x = 0.3, color = 'r', label = r'Actual $\\theta_j$ for |0>')\n",
    "    plt.axvline(x = 0.7, color = 'yellow', label = r'Actual $\\theta_j$ for |1>')\n",
    "\n",
    "    plt.title(f\"Predicted vs. Actual with {n} wires\\n\" + r\"for custom U\")\n",
    "    plt.xlabel(r\"$\\theta_j$\")\n",
    "    plt.ylabel(\"Probability\")\n",
    "    plt.legend()\n",
    "    plt.show()\n",
    "custom_description_PhaseE()"
   ]
  },
  {
   "cell_type": "code",
   "execution_count": 80,
   "id": "09104789",
   "metadata": {
    "ExecuteTime": {
     "end_time": "2023-02-12T03:38:15.766996Z",
     "start_time": "2023-02-12T03:38:15.747049Z"
    },
    "code_folding": [
     0,
     41
    ]
   },
   "outputs": [],
   "source": [
    "def Shor(n, return_error=False):\n",
    "    e1, e2 = 0, 0\n",
    "    if n <= 1:\n",
    "        print(f\"{n} shouldn't be here\")\n",
    "        if return_error: return e1, e2\n",
    "        return n, n\n",
    "    if sympy.isprime(n):\n",
    "        if return_error: return e1, e2\n",
    "        return -1, -1\n",
    "    if n % 2 == 0:\n",
    "        factor = int(n/2)\n",
    "        if return_error: return e1, e2\n",
    "        return 2, factor\n",
    "    for a in range(2, int(m.log2(n))):\n",
    "        if (n**(1/a)).is_integer():\n",
    "            if return_error: return e1, e2\n",
    "            return int(n**(1/a)), int(n/(n**(1/a)))\n",
    "    rng = np.random.default_rng()\n",
    "    while 0<1:\n",
    "        x = int(rng.integers(1, n))\n",
    "        if m.gcd(x, n) != 1:\n",
    "            if return_error: return e1, e2\n",
    "            return int(m.gcd(x, n)), int(n/m.gcd(x, n))\n",
    "        r = 2\n",
    "        while x**r % n != 1:\n",
    "            if (r>n):\n",
    "                print(f\"r = {r} > n = {n}\")\n",
    "                raise ValueError()\n",
    "            r+=1\n",
    "        if r % 2 != 0:\n",
    "            e1 += 1\n",
    "            continue\n",
    "        f1 = int(m.gcd(int((x**int(r/2)+1) % n), n))\n",
    "        f2 = int(m.gcd(int((x**int(r/2)-1) % n), n))\n",
    "        if f1 == 1 or f2 == 1 or f1 == n or f2 == n:\n",
    "            e2+=1\n",
    "            continue\n",
    "#         print(f\"For N = {n}: x = {x}, r = {r}\")\n",
    "        if return_error: return e1, e2\n",
    "        return f1, f2\n",
    "    \n",
    "def full_factorization(n):\n",
    "    if not isinstance(n, int):\n",
    "        print(\"bitch\")\n",
    "        return Quantum_Computer(\"1\\nH 0\")\n",
    "    if n < 0:\n",
    "        print(f\"heyyyyyyy, why you do this to mee :(\")\n",
    "        print(f\"Well fuck you anyway I'm making it positive\")\n",
    "        print(f\"number = {-n}\")\n",
    "        n = -n\n",
    "    if sympy.isprime(n) or n <= 1:\n",
    "        print(f\"{n} is a prime number silly!\")\n",
    "        return n\n",
    "    factors = []\n",
    "    non_prime = [n]\n",
    "    while len(non_prime) != 0:\n",
    "        for i in range(len(non_prime)): \n",
    "#             t.sleep(0.05)\n",
    "            num = non_prime.pop()\n",
    "            n1, n2 = Shor(num)\n",
    "            if n1 == -1 and n2 == -1:\n",
    "                print(f\"Yay! Found factor {num} :)\")\n",
    "                factors.append(num)\n",
    "            else:\n",
    "                non_prime.append(n1)\n",
    "                non_prime.append(n2)\n",
    "    return factors"
   ]
  },
  {
   "cell_type": "code",
   "execution_count": 43,
   "id": "8f76a98f",
   "metadata": {
    "ExecuteTime": {
     "end_time": "2023-02-12T02:52:58.267343Z",
     "start_time": "2023-02-12T02:52:58.257370Z"
    }
   },
   "outputs": [
    {
     "name": "stdout",
     "output_type": "stream",
     "text": [
      "Factors of 15 are 3 and 5\n",
      "Factors of 21 are 7 and 3\n"
     ]
    }
   ],
   "source": [
    "nums = [15, 21]\n",
    "for num in nums:\n",
    "    n1, n2 = Shor(num)\n",
    "    print(f\"Factors of {num} are {n1} and {n2}\")"
   ]
  },
  {
   "cell_type": "code",
   "execution_count": 82,
   "id": "269a0d45",
   "metadata": {
    "ExecuteTime": {
     "end_time": "2023-02-10T19:59:46.441636Z",
     "start_time": "2023-02-10T19:59:46.422639Z"
    }
   },
   "outputs": [
    {
     "name": "stdout",
     "output_type": "stream",
     "text": [
      "For N = 3185: x = 1507, r = 84\n",
      "For N = 637: x = 24, r = 84\n",
      "Yay! Found factor 7 :)\n",
      "Yay! Found factor 7 :)\n",
      "Yay! Found factor 13 :)\n",
      "Yay! Found factor 5 :)\n",
      "Yay! Found factor 2 :)\n",
      "Yay! Found factor 2 :)\n",
      "Factors are: [7, 7, 13, 5, 2, 2]\n"
     ]
    }
   ],
   "source": [
    "number = 12740\n",
    "print(f\"Factors are: {full_factorization(number)}\")"
   ]
  },
  {
   "cell_type": "code",
   "execution_count": 110,
   "id": "72767b63",
   "metadata": {
    "ExecuteTime": {
     "end_time": "2023-02-10T20:20:09.894812Z",
     "start_time": "2023-02-10T20:19:31.136705Z"
    }
   },
   "outputs": [],
   "source": [
    "import time as t\n",
    "execute_times = []\n",
    "e1s = []\n",
    "e2s = []\n",
    "for k in range(2, 7500):\n",
    "    start = t.time()\n",
    "    e1, e2 = Shor(k, return_error = True)\n",
    "    stop = t.time()\n",
    "    execute_times.append(stop-start)\n",
    "    e1s.append(e1)\n",
    "    e2s.append(e2)"
   ]
  },
  {
   "cell_type": "code",
   "execution_count": 119,
   "id": "1fc55aad",
   "metadata": {
    "ExecuteTime": {
     "end_time": "2023-02-10T20:23:49.824039Z",
     "start_time": "2023-02-10T20:23:49.714001Z"
    }
   },
   "outputs": [
    {
     "data": {
      "image/png": "[encoded data removed]",
      "text/plain": [
       "<Figure size 640x480 with 1 Axes>"
      ]
     },
     "metadata": {},
     "output_type": "display_data"
    }
   ],
   "source": [
    "window = 100\n",
    "plt.figure()\n",
    "plt.plot(rolling_avg(execute_times, window))\n",
    "plt.xlabel(\"K\")\n",
    "plt.ylabel(f\"Rolling Average of Execution Time (s) (window={window})\")\n",
    "plt.title(\"Execution Time vs. K\")\n",
    "plt.show()"
   ]
  },
  {
   "cell_type": "code",
   "execution_count": 111,
   "id": "5b261424",
   "metadata": {
    "ExecuteTime": {
     "end_time": "2023-02-10T20:20:13.689431Z",
     "start_time": "2023-02-10T20:20:13.530454Z"
    }
   },
   "outputs": [
    {
     "data": {
      "image/png": "[encoded data removed]",
      "text/plain": [
       "<Figure size 640x480 with 1 Axes>"
      ]
     },
     "metadata": {},
     "output_type": "display_data"
    }
   ],
   "source": [
    "window = 100\n",
    "plt.figure()\n",
    "# plt.plot(rolling_avg(execute_times, 100))\n",
    "plt.plot(rolling_avg(e1s, window), label = \"R odd\")\n",
    "plt.plot(rolling_avg(e2s, window), label = \"Factor = 1\")\n",
    "plt.xlabel(\"K\")\n",
    "plt.ylabel(f\"Rolling Average of Occurences (window={window})\")\n",
    "plt.title(\"Error Type Occurences vs. K\")\n",
    "plt.legend()\n",
    "plt.show()"
   ]
  },
  {
   "cell_type": "code",
   "execution_count": 91,
   "id": "ca9be86d",
   "metadata": {
    "ExecuteTime": {
     "end_time": "2023-02-12T04:08:49.738808Z",
     "start_time": "2023-02-12T04:08:49.726840Z"
    }
   },
   "outputs": [
    {
     "name": "stdout",
     "output_type": "stream",
     "text": [
      "Computer Result: 4\n",
      "Ground Result: 4\n"
     ]
    }
   ],
   "source": [
    "## Testing xyModN gate\n",
    "x = 8; y = 3; N = 10;\n",
    "description = f\"\"\"4\n",
    "INITSTATE BASIS |0011>\n",
    "FUNC 0 4 xyModN {x} {N}\"\"\"\n",
    "print(f\"Computer Result: {int(Quantum_Computer(description).run()[0][1],2)}\")\n",
    "print(f\"Ground Result: {x*y%N}\")"
   ]
  },
  {
   "cell_type": "code",
   "execution_count": 92,
   "id": "0d72a00d",
   "metadata": {
    "ExecuteTime": {
     "end_time": "2023-02-12T04:08:50.336209Z",
     "start_time": "2023-02-12T04:08:50.323245Z"
    }
   },
   "outputs": [
    {
     "name": "stdout",
     "output_type": "stream",
     "text": [
      "Computer Result (control on): 2\n",
      "Computer Result (control off): 6\n",
      "Ground Result: 2\n"
     ]
    }
   ],
   "source": [
    "## Testing CxyModN gate\n",
    "x = 7; y = 6; N = 10;\n",
    "description = f\"\"\"5\n",
    "INITSTATE BASIS |00110>\n",
    "CFUNC 0 1 4 xyModN {x} {N}\"\"\"\n",
    "print(f\"Computer Result (control on): {int(Quantum_Computer(description).run(initial_state=[[1, '10110']])[0][1][1:],2)}\")\n",
    "print(f\"Computer Result (control off): {int(Quantum_Computer(description).run()[0][1][1:],2)}\")\n",
    "print(f\"Ground Result: {x*y%N}\")"
   ]
  },
  {
   "cell_type": "code",
   "execution_count": 182,
   "id": "e40e31dd",
   "metadata": {
    "ExecuteTime": {
     "end_time": "2023-02-13T01:46:42.671124Z",
     "start_time": "2023-02-13T01:46:28.686518Z"
    },
    "code_folding": [
     0
    ]
   },
   "outputs": [
    {
     "name": "stdout",
     "output_type": "stream",
     "text": [
      "[[(0.25+0j), '0000000000001'], [(0.25+0j), '0000000000010'], [(0.25+0j), '0000000000100'], [(0.25+0j), '0000000001000'], [(0.25+0j), '0100000000001'], [0.25j, '0100000000010'], [(-0.25+0j), '0100000000100'], [-0.25j, '0100000001000'], [(0.25+0j), '1000000000001'], [(-0.25+0j), '1000000000010'], [(0.25+0j), '1000000000100'], [(-0.25+0j), '1000000001000'], [(0.25+0j), '1100000000001'], [-0.25j, '1100000000010'], [(-0.25+0j), '1100000000100'], [0.25j, '1100000001000']]\n"
     ]
    }
   ],
   "source": [
    "def CxyModN_phase_estimator(n, n2, x, N, is_fast=False):\n",
    "    basis0, basis1 = \"\", \"\"\n",
    "    for i in range(n):\n",
    "        basis0 += \"0\"\n",
    "    for i in range(n2-1):\n",
    "        basis1 += \"0\"\n",
    "    basis1 += \"1\"\n",
    "    st = f\"\"\"{n+n2}\\nINITSTATE BASIS |{basis0}{basis1}>\\n\"\"\"\n",
    "    for i in range(n):\n",
    "        st+=f\"H {i}\\n\"\n",
    "    if is_fast:\n",
    "        for i in range(n):\n",
    "            st+=f\"CFUNC {n-1-i} {n} {n2} xyModN {x**(2**i)} {N}\\n\"\n",
    "    else:\n",
    "        for i in range(n):\n",
    "            for j in range(2**i):\n",
    "                st+=f\"CFUNC {n-1-i} {n} {n2} xyModN {x} {N}\\n\"\n",
    "    st += f\"{invert_description(QFT(n))}\\n\"\n",
    "    st += f\"{REVERSE(0, n)}\\n\"\n",
    "    st += \"MEASURE\"\n",
    "    return st\n",
    "computer = Quantum_Computer(CxyModN_phase_estimator(9, 4, 8, 15), print_circuit=False)\n",
    "state = computer.run()\n",
    "print(state)"
   ]
  },
  {
   "cell_type": "code",
   "execution_count": 183,
   "id": "51eb5b19",
   "metadata": {
    "ExecuteTime": {
     "end_time": "2023-02-13T01:46:44.695710Z",
     "start_time": "2023-02-13T01:46:44.677759Z"
    },
    "code_folding": [
     0,
     47
    ]
   },
   "outputs": [],
   "source": [
    "def Quantum_Shor(N, return_error=False, num_measures=1000, is_fast=False):\n",
    "    start = t.time()\n",
    "    e1, e2 = 0, 0\n",
    "    bits = m.ceil(m.log2(N))\n",
    "    if N <= 1:\n",
    "        print(f\"{N} shouldn't be here\")\n",
    "        if return_error: return e1, e2\n",
    "        return N, N\n",
    "    if sympy.isprime(N):\n",
    "        if return_error: return e1, e2\n",
    "        return -1, -1\n",
    "    if N % 2 == 0:\n",
    "        factor = int(N/2)\n",
    "        if return_error: return e1, e2\n",
    "        return 2, factor\n",
    "    for a in range(2, bits):\n",
    "        if (N**(1/a)).is_integer():\n",
    "            if return_error: return e1, e2\n",
    "            return int(N**(1/a)), int(N/(N**(1/a)))\n",
    "    rng = np.random.default_rng()\n",
    "    tried_x = []\n",
    "    while 0<1:\n",
    "        x = int(rng.integers(2, N))\n",
    "        if x in tried_x: \n",
    "            continue\n",
    "        tried_x.append(x)\n",
    "        if m.gcd(x, N) != 1:\n",
    "            if return_error: return e1, e2\n",
    "            return int(m.gcd(x, N)), int(N/m.gcd(x, N))\n",
    "        print(f\"Entering quantum_find_r(x={x},N={N},bits={bits},num_measures={num_measures}): time = {t.time()-start}\")\n",
    "        r = quantum_find_r(x, N, bits, num_measures, is_fast)\n",
    "        print(f\"Found r = {r}: time = {t.time()-start}\")\n",
    "        if r == -1:\n",
    "            print(\"r not found...trying again\")\n",
    "            continue\n",
    "        if r % 2 != 0:\n",
    "            e1 += 1\n",
    "            continue\n",
    "        f1 = int(m.gcd(int((x**int(r/2)+1) % N), N))\n",
    "        f2 = int(m.gcd(int((x**int(r/2)-1) % N), N))\n",
    "        if f1 == 1 or f2 == 1 or f1 == N or f2 == N:\n",
    "            e2+=1\n",
    "            continue\n",
    "#         print(f\"For N = {N}: x = {x}, r = {r}\")\n",
    "        if return_error: return e1, e2\n",
    "        return f1, f2\n",
    "\n",
    "def quantum_find_r(x, N, bits, num_measures=1000, is_fast=False):\n",
    "    len_top = int(2*bits + 1)\n",
    "    computer = Quantum_Computer(CxyModN_phase_estimator(len_top, bits, x, N, is_fast))\n",
    "    computer.run(num_measures=num_measures)\n",
    "    results = computer.get_measurements()[0][1]\n",
    "    thetas = []\n",
    "    for i in range(len(results)):\n",
    "        result = results[i][:-bits]\n",
    "        theta = 0\n",
    "        for j in range(len_top):\n",
    "            theta += (1/2)**(j+1)*int(result[j])\n",
    "        # No rotation\n",
    "        if theta != 0:\n",
    "            thetas.append(theta)\n",
    "    r = 0\n",
    "    r_max = 10\n",
    "    tried = []\n",
    "    while r == 0:\n",
    "        fracs = [Fraction(theta).limit_denominator(r_max) for theta in thetas]\n",
    "        for frac in fracs:\n",
    "            denom = frac.denominator\n",
    "            if denom in tried:\n",
    "                continue\n",
    "            tried.append(denom)\n",
    "            if x**denom%N == 1:\n",
    "                r = denom\n",
    "                continue\n",
    "        if r_max > 5000:\n",
    "            r = -1\n",
    "        r_max = r_max+50\n",
    "    return r"
   ]
  },
  {
   "cell_type": "code",
   "execution_count": 94,
   "id": "465996b5",
   "metadata": {
    "ExecuteTime": {
     "end_time": "2023-02-12T04:11:22.712526Z",
     "start_time": "2023-02-12T04:11:08.551911Z"
    }
   },
   "outputs": [
    {
     "name": "stdout",
     "output_type": "stream",
     "text": [
      "Entering quantum_find_r(x=7,N=15,bits=4,num_measures=1000): time = 0.000997304916381836\n",
      "Found r = 4: time = 14.145654439926147\n",
      "(5, 3)\n"
     ]
    }
   ],
   "source": [
    "print(Quantum_Shor(15))"
   ]
  },
  {
   "cell_type": "code",
   "execution_count": null,
   "id": "d30c00a8",
   "metadata": {},
   "outputs": [],
   "source": [
    "print(Quantum_Shor(21))"
   ]
  },
  {
   "cell_type": "code",
   "execution_count": 191,
   "id": "f8f8e2f2",
   "metadata": {
    "ExecuteTime": {
     "end_time": "2023-02-13T01:52:31.650547Z",
     "start_time": "2023-02-13T01:52:27.614340Z"
    }
   },
   "outputs": [
    {
     "name": "stdout",
     "output_type": "stream",
     "text": [
      "Entering quantum_find_r(x=2,N=15,bits=4,num_measures=1000): time = 0.0\n",
      "Found r = 4: time = 4.0312206745147705\n",
      "(5, 3)\n"
     ]
    }
   ],
   "source": [
    "print(Quantum_Shor(15, is_fast=True))"
   ]
  },
  {
   "cell_type": "code",
   "execution_count": 188,
   "id": "426aba5d",
   "metadata": {
    "ExecuteTime": {
     "end_time": "2023-02-13T01:49:07.838499Z",
     "start_time": "2023-02-13T01:47:25.320586Z"
    }
   },
   "outputs": [
    {
     "name": "stdout",
     "output_type": "stream",
     "text": [
      "Entering quantum_find_r(x=20,N=21,bits=5,num_measures=1000): time = 0.0\n",
      "Found r = 2: time = 46.8257896900177\n",
      "Entering quantum_find_r(x=11,N=21,bits=5,num_measures=1000): time = 46.8257896900177\n",
      "Found r = 6: time = 102.50893640518188\n",
      "(3, 7)\n"
     ]
    }
   ],
   "source": [
    "print(Quantum_Shor(21, is_fast=True))"
   ]
  },
  {
   "cell_type": "code",
   "execution_count": null,
   "id": "bd1e929a",
   "metadata": {},
   "outputs": [],
   "source": []
  }
 ],
 "metadata": {
  "kernelspec": {
   "display_name": "Python 3 (ipykernel)",
   "language": "python",
   "name": "python3"
  },
  "language_info": {
   "codemirror_mode": {
    "name": "ipython",
    "version": 3
   },
   "file_extension": ".py",
   "mimetype": "text/x-python",
   "name": "python",
   "nbconvert_exporter": "python",
   "pygments_lexer": "ipython3",
   "version": "3.9.13"
  },
  "varInspector": {
   "cols": {
    "lenName": 16,
    "lenType": 16,
    "lenVar": 40
   },
   "kernels_config": {
    "python": {
     "delete_cmd_postfix": "",
     "delete_cmd_prefix": "del ",
     "library": "var_list.py",
     "varRefreshCmd": "print(var_dic_list())"
    },
    "r": {
     "delete_cmd_postfix": ") ",
     "delete_cmd_prefix": "rm(",
     "library": "var_list.r",
     "varRefreshCmd": "cat(var_dic_list()) "
    }
   },
   "types_to_exclude": [
    "module",
    "function",
    "builtin_function_or_method",
    "instance",
    "_Feature"
   ],
   "window_display": false
  }
 },
 "nbformat": 4,
 "nbformat_minor": 5
}
