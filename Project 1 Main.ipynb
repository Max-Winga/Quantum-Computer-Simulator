{
 "cells": [
  {
   "cell_type": "code",
   "execution_count": 46,
   "id": "b3a02981",
   "metadata": {},
   "outputs": [],
   "source": [
    "import numpy as np\n",
    "import matplotlib.pyplot as plt\n",
    "import math as m"
   ]
  },
  {
   "cell_type": "code",
   "execution_count": 50,
   "id": "6acde020",
   "metadata": {},
   "outputs": [],
   "source": [
    "def PrettyPrintBinary(myState, do_return=False):\n",
    "    to_print = \"{ \"\n",
    "    vec = StateToVec(myState)\n",
    "    length = vec.shape[0]\n",
    "    bin_len = int(m.log2(length))\n",
    "    not_first = False\n",
    "    for i in range(length):\n",
    "        if vec[i] == 0+0.j:\n",
    "            continue\n",
    "        if not_first:\n",
    "            to_print += \" + \"\n",
    "        to_print += f\"{vec[i]} |{bin(i)[2:].zfill(bin_len)}>\"\n",
    "        not_first = True\n",
    "    to_print += \"}\"\n",
    "    if do_return: return to_print\n",
    "    print(to_print)"
   ]
  },
  {
   "cell_type": "code",
   "execution_count": 51,
   "id": "313dc367",
   "metadata": {},
   "outputs": [],
   "source": [
    "def PrettyPrintInteger(myState, do_return=False):\n",
    "    to_print = \"{ \"\n",
    "    vec = StateToVec(myState)\n",
    "    length = vec.shape[0]\n",
    "    bin_len = int(m.log2(length))\n",
    "    not_first = False\n",
    "    for i in range(length):\n",
    "        if vec[i] == 0+0.j:\n",
    "            continue\n",
    "        if not_first:\n",
    "            to_print += \" + \"\n",
    "        to_print += f\"{vec[i]} |{i}>\"\n",
    "        not_first = True\n",
    "    to_print += \"}\"\n",
    "    if do_return: return to_print\n",
    "    print(to_print)"
   ]
  },
  {
   "cell_type": "code",
   "execution_count": 60,
   "id": "9dc6340d",
   "metadata": {},
   "outputs": [
    {
     "name": "stdout",
     "output_type": "stream",
     "text": [
      "{ (0.7071067811865476+0j) |000> + (-0.6324555320336759+0j) |010> + 0.31622776601683794j |101>}\n",
      "{ (0.7071067811865476+0j) |0> + (-0.6324555320336759+0j) |2> + 0.31622776601683794j |5>}\n"
     ]
    }
   ],
   "source": [
    "myState2=[\n",
    "   (np.sqrt(0.1)*1.j, '101'),\n",
    "   (np.sqrt(0.5), '000'),\n",
    "   (-np.sqrt(0.4), '010' )]\n",
    "PrettyPrintBinary(myState2)\n",
    "PrettyPrintInteger(myState2)"
   ]
  },
  {
   "cell_type": "code",
   "execution_count": 61,
   "id": "25a2b902",
   "metadata": {},
   "outputs": [],
   "source": [
    "def StateToVec(myState):\n",
    "    vec_len = 2**len(myState[0][1])\n",
    "    to_return = np.zeros(vec_len, dtype = \"complex_\")\n",
    "    for s in myState:\n",
    "        idx = int(s[1], 2)\n",
    "        to_return[idx] = s[0]\n",
    "    return to_return"
   ]
  },
  {
   "cell_type": "code",
   "execution_count": 56,
   "id": "07bec2ce",
   "metadata": {},
   "outputs": [
    {
     "name": "stdout",
     "output_type": "stream",
     "text": [
      "[ 0.70710678+0.j          0.        +0.j         -0.63245553+0.j\n",
      "  0.        +0.j          0.        +0.j          0.        +0.31622777j\n",
      "  0.        +0.j          0.        +0.j        ]\n"
     ]
    }
   ],
   "source": [
    "print(StateToVec(myState2))"
   ]
  },
  {
   "cell_type": "code",
   "execution_count": 54,
   "id": "d494354b",
   "metadata": {},
   "outputs": [],
   "source": [
    "def VecToState(myState):\n",
    "    to_return = []\n",
    "    length = myState.shape[0]\n",
    "    bin_len = int(m.log2(length))\n",
    "    for i in range(length):\n",
    "        if myState[i] == 0 + 0.j:\n",
    "            continue\n",
    "        to_return.append((myState[i], bin(i)[2:].zfill(bin_len)))\n",
    "    return to_return"
   ]
  },
  {
   "cell_type": "code",
   "execution_count": 55,
   "id": "e6b42bed",
   "metadata": {},
   "outputs": [
    {
     "name": "stdout",
     "output_type": "stream",
     "text": [
      "[((0.7071067811865476+0j), '000'), ((-0.6324555320336759+0j), '010'), (0.31622776601683794j, '101')]\n"
     ]
    }
   ],
   "source": [
    "print(VecToState(StateToVec(myState2)))"
   ]
  }
 ],
 "metadata": {
  "kernelspec": {
   "display_name": "Python 3 (ipykernel)",
   "language": "python",
   "name": "python3"
  },
  "language_info": {
   "codemirror_mode": {
    "name": "ipython",
    "version": 3
   },
   "file_extension": ".py",
   "mimetype": "text/x-python",
   "name": "python",
   "nbconvert_exporter": "python",
   "pygments_lexer": "ipython3",
   "version": "3.9.7"
  }
 },
 "nbformat": 4,
 "nbformat_minor": 5
}
