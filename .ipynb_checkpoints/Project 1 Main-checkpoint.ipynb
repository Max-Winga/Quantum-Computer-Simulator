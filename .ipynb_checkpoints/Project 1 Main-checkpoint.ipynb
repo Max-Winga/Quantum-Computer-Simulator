{
 "cells": [
  {
   "cell_type": "code",
   "execution_count": 159,
   "id": "b3a02981",
   "metadata": {
    "ExecuteTime": {
     "end_time": "2023-02-10T21:30:04.763987Z",
     "start_time": "2023-02-10T21:30:04.745989Z"
    }
   },
   "outputs": [],
   "source": [
    "import numpy as np\n",
    "import matplotlib.pyplot as plt\n",
    "import math as m\n",
    "import copy\n",
    "import cmath as cm\n",
    "from matplotlib.animation import FuncAnimation\n",
    "import sympy"
   ]
  },
  {
   "cell_type": "code",
   "execution_count": 258,
   "id": "6acde020",
   "metadata": {
    "ExecuteTime": {
     "end_time": "2023-02-10T22:48:06.909404Z",
     "start_time": "2023-02-10T22:48:06.877438Z"
    },
    "code_folding": [
     0,
     17,
     42,
     52,
     55,
     60
    ]
   },
   "outputs": [],
   "source": [
    "def PrettyPrintBinary(myState, do_return=False):\n",
    "    to_print = \"{ \"\n",
    "    vec = StateToVec(myState)\n",
    "    length = vec.shape[0]\n",
    "    bin_len = int(m.log2(length))\n",
    "    not_first = False\n",
    "    for i in range(length):\n",
    "        if vec[i] == 0 + 0.j:\n",
    "            continue\n",
    "        if not_first:\n",
    "            to_print += \" + \"\n",
    "        to_print += f\"{vec[i]} |{bin(i)[2:].zfill(bin_len)}>\"\n",
    "        not_first = True\n",
    "    to_print += \"}\"\n",
    "    if do_return: return to_print\n",
    "    print(to_print)\n",
    "\n",
    "def PrettyPrintInteger(myState, do_return=False):\n",
    "    to_print = \"{ \"\n",
    "    vec = StateToVec(myState)\n",
    "    length = vec.shape[0]\n",
    "    bin_len = int(m.log2(length))\n",
    "    not_first = False\n",
    "    for i in range(length):\n",
    "        if vec[i] == 0 + 0.j:\n",
    "            continue\n",
    "        if not_first:\n",
    "            to_print += \" + \"\n",
    "        to_print += f\"{vec[i]} |{i}>\"\n",
    "        not_first = True\n",
    "    to_print += \"}\"\n",
    "    if do_return: return to_print\n",
    "    print(to_print)\n",
    "\n",
    "def StateToVec(myState):\n",
    "    print(myState)\n",
    "    vec_len = 2**len(myState[0][1])\n",
    "    to_return = np.zeros(vec_len, dtype=\"complex_\")\n",
    "    for s in myState:\n",
    "        idx = int(s[1], 2)\n",
    "        to_return[idx] += s[0]\n",
    "    return to_return\n",
    "\n",
    "def VecToState(myState):\n",
    "    to_return = []\n",
    "    length = myState.shape[0]\n",
    "    bin_len = int(m.log2(length))\n",
    "    for i in range(length):\n",
    "        if abs(myState[i]) == 0.0:\n",
    "            continue\n",
    "        to_return.append([myState[i], bin(i)[2:].zfill(bin_len)])\n",
    "    return to_return\n",
    "\n",
    "def add_duplicates(state):\n",
    "    return VecToState(StateToVec(state))\n",
    "\n",
    "def c_round(number, decimals):\n",
    "    number = complex(number)\n",
    "    return complex(\n",
    "        round(number.real, decimals) + round(number.imag, decimals) * 1.j)\n",
    "\n",
    "def clean_state(state, decimals):\n",
    "    for element in state:\n",
    "        element[0] = c_round(element[0], decimals)\n",
    "    return add_duplicates(state)"
   ]
  },
  {
   "cell_type": "code",
   "execution_count": 161,
   "id": "9dc6340d",
   "metadata": {
    "ExecuteTime": {
     "end_time": "2023-02-10T21:30:05.493852Z",
     "start_time": "2023-02-10T21:30:05.479853Z"
    }
   },
   "outputs": [
    {
     "name": "stdout",
     "output_type": "stream",
     "text": [
      "{ (0.7071067811865476+0j) |000> + (-0.6324555320336759+0j) |010> + 0.31622776601683794j |101>}\n",
      "{ (0.7071067811865476+0j) |0> + (-0.6324555320336759+0j) |2> + 0.31622776601683794j |5>}\n",
      "[ 0.70710678+0.j          0.        +0.j         -0.63245553+0.j\n",
      "  0.        +0.j          0.        +0.j          0.        +0.31622777j\n",
      "  0.        +0.j          0.        +0.j        ]\n",
      "[[(0.7071067811865476+0j), '000'], [(-0.6324555320336759+0j), '010'], [0.31622776601683794j, '101']]\n",
      "{ (0.7071067811865476+0j) |000> + (-0.6324555320336759+0j) |010> + 0.31622776601683794j |101>}\n"
     ]
    }
   ],
   "source": [
    "myState2=[\n",
    "   (np.sqrt(0.1)*1.j, '101'),\n",
    "   (np.sqrt(0.5), '000'),\n",
    "   (-np.sqrt(0.4), '010' )]\n",
    "PrettyPrintBinary(myState2)\n",
    "PrettyPrintInteger(myState2)\n",
    "print(StateToVec(myState2))\n",
    "print(VecToState(StateToVec(myState2)))\n",
    "PrettyPrintBinary(VecToState(StateToVec(myState2)))"
   ]
  },
  {
   "cell_type": "code",
   "execution_count": 162,
   "id": "1c94450d",
   "metadata": {
    "ExecuteTime": {
     "end_time": "2023-02-10T21:30:05.929561Z",
     "start_time": "2023-02-10T21:30:05.920560Z"
    }
   },
   "outputs": [
    {
     "name": "stdout",
     "output_type": "stream",
     "text": [
      "{ (0.31622776601683794+0j) |00> + (0.6324555320336759+0j) |01> + (-0.7071067811865476+0j) |11>}\n"
     ]
    }
   ],
   "source": [
    "myState3=[\n",
    "  (-np.sqrt(0.125), '11'),\n",
    "  (np.sqrt(0.1), '00'),\n",
    "  (np.sqrt(0.4), '01'),\n",
    "  (-np.sqrt(0.125), '11')\n",
    "]\n",
    "PrettyPrintBinary(add_duplicates(myState3))"
   ]
  },
  {
   "cell_type": "code",
   "execution_count": 242,
   "id": "a580d2c9",
   "metadata": {
    "ExecuteTime": {
     "end_time": "2023-02-10T22:38:07.357395Z",
     "start_time": "2023-02-10T22:38:07.321429Z"
    },
    "code_folding": [
     0,
     3,
     7,
     11,
     15,
     18,
     30,
     66
    ]
   },
   "outputs": [],
   "source": [
    "def NOT(wire):\n",
    "    return f\"\"\"H {wire}\\nP {wire} {m.pi}\\nH {wire}\"\"\"\n",
    "\n",
    "def RZ(wire, theta):\n",
    "    theta = float(theta)\n",
    "    return f\"\"\"P {wire} {theta/2}\\n{NOT(wire)}\\nP {wire} {-theta/2}\\n{NOT(wire)}\"\"\"\n",
    "\n",
    "def CRZ(control, change, theta):\n",
    "    theta = float(theta)\n",
    "    return f\"\"\"P {change} {theta/2}\\nCNOT {control} {change} \\nP {change} {-theta/2}\\nCNOT {control} {change}\"\"\"\n",
    "\n",
    "def CPHASE(control, change, theta):\n",
    "    theta = float(theta)\n",
    "    return f\"\"\"{CRZ(control, change, theta)}\\nP {control} {theta/2}\"\"\"\n",
    "\n",
    "def SWAP(wire1, wire2):\n",
    "    return f\"\"\"CNOT {wire1} {wire2}\\nCNOT {wire2} {wire1}\\nCNOT {wire1} {wire2}\"\"\"\n",
    "\n",
    "def REVERSE(start, stop):\n",
    "    if start == stop:\n",
    "        return \"\"\n",
    "    st = \"\"\n",
    "    if (stop-start) % 2 == 0:\n",
    "        for i in range(start, start + int((stop-start)/2)):\n",
    "            st += f\"SWAP {i} {stop-i-1}\\n\"\n",
    "    if (stop-start) % 2 != 0:\n",
    "        for i in range(start, start + int((stop-start)/2)):\n",
    "            st += f\"SWAP {i} {stop-i-1}\\n\"\n",
    "    return st[:-1]\n",
    "\n",
    "def preprocess_description(description):\n",
    "    lines = description.splitlines(False)   \n",
    "    start = 0\n",
    "    st = \"\"\n",
    "    if len(lines[0])==1:\n",
    "        st += f\"{lines[0]}\\n\"\n",
    "        start += 1\n",
    "    if len(lines) > 1 and lines[1].split(' ')[0] == \"INITSTATE\":\n",
    "        st += f\"{lines[1]}\\n\"\n",
    "        start += 1\n",
    "    for line in lines[start:]:\n",
    "        pcs = line.split(' ')\n",
    "        if pcs[0] == 'H':\n",
    "            st += f\"{line}\\n\"\n",
    "        elif pcs[0] == 'P':\n",
    "            st += f\"{line}\\n\"\n",
    "        elif pcs[0] == 'CNOT':\n",
    "            st += f\"{line}\\n\"\n",
    "        elif pcs[0] == 'NOT':\n",
    "            st += f\"{NOT(pcs[1])}\\n\"\n",
    "        elif pcs[0] == 'RZ':\n",
    "            st += f\"{RZ(pcs[1], pcs[2])}\\n\"\n",
    "        elif pcs[0] == 'CRZ':\n",
    "            st += f\"{CRZ(pcs[1], pcs[2], pcs[3])}\\n\"            \n",
    "        elif pcs[0] == 'CPHASE':\n",
    "            st += f\"{CPHASE(pcs[1], pcs[2], pcs[3])}\\n\"\n",
    "        elif pcs[0] == 'SWAP':\n",
    "            st += f\"{SWAP(pcs[1], pcs[2])}\\n\"\n",
    "        elif pcs[0] == 'MEASURE':\n",
    "            st += f\"{line}\\n\"\n",
    "        elif pcs[0] == 'REVERSE':\n",
    "            st += f\"{REVERSE(pcs[1], pcs[2])}\\n\"\n",
    "        elif pcs[0] == 'FUNC' or 'CFUNC':\n",
    "            st += f\"{line}\\n\"\n",
    "    return st[:-1]\n",
    "\n",
    "def invert_description(description):\n",
    "    description = preprocess_description(description)\n",
    "    lines = description.splitlines(False)\n",
    "    gates = []\n",
    "    for line in lines:\n",
    "        pcs = line.split(' ')\n",
    "        if pcs[0] == 'H':\n",
    "            gates.append(line)\n",
    "        elif pcs[0] == 'P':\n",
    "            gates.append(f\"P {pcs[1]} {-float(pcs[2])}\")\n",
    "        elif pcs[0] == 'CNOT':\n",
    "            gates.append(line)\n",
    "    st = \"\"\n",
    "    gates.reverse()\n",
    "    for gate in gates:\n",
    "        st += f\"{gate}\\n\"\n",
    "    return st[:-1]"
   ]
  },
  {
   "cell_type": "code",
   "execution_count": 261,
   "id": "1365b317",
   "metadata": {
    "ExecuteTime": {
     "end_time": "2023-02-10T22:53:45.857438Z",
     "start_time": "2023-02-10T22:53:45.809408Z"
    },
    "code_folding": [
     12,
     13,
     19,
     36,
     38,
     40,
     42,
     44,
     49,
     56,
     62,
     70,
     74,
     114,
     122,
     130,
     148,
     154,
     157,
     163
    ]
   },
   "outputs": [],
   "source": [
    "class Quantum_Computer():\n",
    "    \n",
    "    def __init__(self, description, from_file=False, print_circuit=False):\n",
    "        if from_file:\n",
    "            with open(description) as f:\n",
    "                description = f.read()\n",
    "        if print_circuit: print(description)\n",
    "        description = preprocess_description(description)\n",
    "        lines = description.splitlines(False)\n",
    "        self.measurements = []\n",
    "        self.n = int(lines[0])\n",
    "        break_one = lines[1].split(' ')\n",
    "        if break_one[0] == \"INITSTATE\":\n",
    "            if break_one[1] == \"BASIS\":\n",
    "                init_state = break_one[2][1:-1]\n",
    "                vec = np.zeros(2**self.n, dtype = \"complex_\")\n",
    "                state_val = int(init_state, 2)\n",
    "                vec[state_val] = complex(1)\n",
    "                self.default_state = VecToState(vec)                \n",
    "            if break_one[1] == \"FILE\":\n",
    "                filename = break_one[2]\n",
    "                with open(filename) as file:\n",
    "                    basis = file.read().splitlines(False)\n",
    "                vec = np.zeros(2**self.n, dtype = \"complex_\")\n",
    "                for i in range(vec.shape[0]):\n",
    "                    coeff = basis[i].split(' ')\n",
    "                    vec[i] = float(coeff[0]) + float(coeff[1])*1.j\n",
    "                self.default_state = VecToState(vec)\n",
    "        else: \n",
    "            vec = np.zeros(2**self.n, dtype = \"complex_\")\n",
    "            vec[0] = complex(1)\n",
    "            self.default_state = VecToState(vec)\n",
    "        self.gates = []\n",
    "        for line in lines[1:]:\n",
    "            pcs = line.split(' ')\n",
    "            print(pcs)\n",
    "            if pcs[0] == 'H':\n",
    "                self.gates.append((0, int(pcs[1])))\n",
    "            elif pcs[0] == 'P':\n",
    "                self.gates.append((1, int(pcs[1]), float(pcs[2])))\n",
    "            elif pcs[0] == 'CNOT':\n",
    "                self.gates.append((2, int(pcs[1]), int(pcs[2])))\n",
    "            elif pcs[0] == \"MEASURE\":\n",
    "                self.gates.append((3,0))\n",
    "            elif pcs[0] == \"FUNC\":\n",
    "                if pcs[3] == \"xyModN\":\n",
    "                    self.gates.append((4, int(pcs[1]), int(pcs[2]), int(pcs[4]), int(pcs[5])))\n",
    "                else:\n",
    "                    print(\"SOMETHING IS WRONG\")\n",
    "            elif pcs[0] == \"CFUNC\":\n",
    "                if pcs[4] == \"xyModN\":\n",
    "                    self.gates.append((5, int(pcs[1]), int(pcs[2]), int(pcs[3]), int(pcs[5]), int(pcs[6])))\n",
    "                else:\n",
    "                    print(\"SOMETHING IS WRONG\")\n",
    "        return\n",
    "    \n",
    "    def H(self, wire, state):\n",
    "        new_state = []\n",
    "        for element in state:\n",
    "            new_state = new_state + self.H_element(wire, element)\n",
    "        return add_duplicates(new_state)\n",
    "    \n",
    "    def H_element(self, wire, element):\n",
    "        alt_element = copy.deepcopy(element)\n",
    "        alt_element[1] = alt_element[1][:wire] + str(self.flip_bit(alt_element[1][wire])) + alt_element[1][wire+1:]\n",
    "        alt_element[0] = alt_element[0] * (1/m.sqrt(2))\n",
    "        element[0] = element[0] * (1/m.sqrt(2))\n",
    "        if element[1][wire] == '1': element[0] = -element[0]\n",
    "        return [element, alt_element]\n",
    "        \n",
    "    def phase(self, wire, phase, state):\n",
    "        [self.phase_element(wire, phase, element) for element in state]\n",
    "        return add_duplicates(state)\n",
    "    \n",
    "    def phase_element(self, wire, phase, element):\n",
    "        if element[1][wire] == '0':\n",
    "            return element\n",
    "        else:\n",
    "            element[0] = element[0] * cm.exp(phase*1.j)\n",
    "            return element\n",
    "    \n",
    "    def CNOT(self, control, change, state):\n",
    "        [self.CNOT_element(control, change, element) for element in state]\n",
    "        return add_duplicates(state)\n",
    "        \n",
    "    def CNOT_element(self, control, change, element):    \n",
    "        if element[1][control] == '0':\n",
    "            return element\n",
    "        else:\n",
    "            element[1] = element[1][:change] + str(self.flip_bit(element[1][change])) + element[1][change+1:]\n",
    "            return element\n",
    "    \n",
    "    def xyModN(self, wire, num_wires, x, N, state):\n",
    "        print(\"In self.xyModN()\")\n",
    "        [self.xyModN_element(wire, num_wires, x, N, element) for element in state]\n",
    "        return add_duplicates(state)\n",
    "    \n",
    "    def xyModN_element(self, wire, num_wires, x, N, element):\n",
    "        print(\"In self.xyModN_element()\")\n",
    "        y = int(element[1][wire:wire+num_wires], 2)\n",
    "        y_int = x*y % N\n",
    "        y_out = bin(y_int)[2:]\n",
    "        if y >= N:\n",
    "            y_out = bin(y)[2:]\n",
    "        while len(y_out)<num_wires:\n",
    "            y_out = '0' + y_out\n",
    "        element[1] = element[1][:wire] + y_out + element[1][wire+num_wires:]\n",
    "        return element\n",
    "    \n",
    "    def CxyModN(self, control, wire, num_wires, x, N, element):\n",
    "        print(\"In self.CxyMODN()\")\n",
    "        [self.CxyModN_element(control, wire, num_wires, x, N, element) for element in state]\n",
    "        return add_duplicates(state)\n",
    "    \n",
    "    def CxyModN_element(self, control, wire, num_wires, x, N, element):\n",
    "        print(\"In self.CxyModN_element()\")\n",
    "        if element[1][control] == '0':\n",
    "            return element\n",
    "        y = int(element[1][wire:wire+num_wires], 2)\n",
    "        y_int = x*y % N\n",
    "        y_out = bin(y_int)[2:]\n",
    "        if y >= N:\n",
    "            y_out = bin(y)[2:]\n",
    "        while len(y_out)<num_wires:\n",
    "            y_out = '0' + y_out\n",
    "        element[1] = element[1][:wire] + y_out + element[1][wire+num_wires:]\n",
    "        return element\n",
    "    \n",
    "    def measure(self, state, size=1):\n",
    "        states = []\n",
    "        probabilities = []\n",
    "        for element in state:\n",
    "            states.append(element[1])\n",
    "            probabilities.append(abs(element[0])**2)\n",
    "        return np.random.choice(states, size=size, p=probabilities)\n",
    "    \n",
    "    def run(self, initial_state=0, decimals=3, num_measures=1, print_m=False):\n",
    "        if initial_state == 0:\n",
    "            initial_state = self.default_state\n",
    "        state = add_duplicates(initial_state)\n",
    "        for gate in self.gates:\n",
    "            state = self.run_gate(gate, state, num_measures, initial_state, print_m)\n",
    "        return clean_state(state, decimals)\n",
    "            \n",
    "    def run_gate(self, gate, state, num_measures, initial_state, print_m):\n",
    "        if gate[0] == 0:\n",
    "            state = self.H(gate[1], state)\n",
    "        elif gate[0] == 1:\n",
    "            state = self.phase(gate[1], gate[2], state)\n",
    "        elif gate[0] == 2:\n",
    "            state = self.CNOT(gate[1], gate[2], state)\n",
    "        elif gate[0] == 3:\n",
    "            measures = ((initial_state, self.measure(state, size=num_measures)))\n",
    "            self.measurements.append(measures)\n",
    "            if print_m:\n",
    "                print(f\"Measurement: {measures[1]}\")\n",
    "        elif gate[0] == 4:\n",
    "            state = self.xyModN(gate[1], gate[2], gate[3], gate[4], state)\n",
    "        elif gate[0] == 5:\n",
    "            state = self.CxyModN(gate[1], gate[2], gate[3], gate[4], gate[5], state)\n",
    "        return add_duplicates(state)\n",
    "    \n",
    "    def flip_bit(self, bit):\n",
    "        bit = int(bit)\n",
    "        if bit == 0:\n",
    "            return 1\n",
    "        return 0\n",
    "    \n",
    "    def get_measurements(self):\n",
    "        return self.measurements\n",
    "    \n",
    "    def get_last_measurement(self, as_ints=False):\n",
    "        to_return = self.measurements[-1]\n",
    "        measures = to_return[1]\n",
    "        if as_ints: measures = [int(measure, 2) for measure in measures]\n",
    "        return (to_return[0], measures)\n",
    "    \n",
    "    def plot_last_measurement(self):\n",
    "        init_state, ints = self.get_last_measurement(True)\n",
    "        vals = np.zeros((2**self.n))\n",
    "        for i in ints:\n",
    "            vals[i] += 1\n",
    "        plt.figure()\n",
    "        plt.plot(range(2**self.n), vals)\n",
    "        plt.title(f\"Measurements After Initial State: {init_state}\")\n",
    "        plt.xlabel(\"Measurment\")\n",
    "        plt.ylabel(\"Occurences\")\n",
    "        plt.show()"
   ]
  },
  {
   "cell_type": "code",
   "execution_count": 259,
   "id": "e40e31dd",
   "metadata": {
    "ExecuteTime": {
     "end_time": "2023-02-10T22:48:14.681438Z",
     "start_time": "2023-02-10T22:48:14.633436Z"
    },
    "code_folding": []
   },
   "outputs": [
    {
     "name": "stdout",
     "output_type": "stream",
     "text": [
      "6\n",
      "INITSTATE BASIS |000001>\n",
      "H 0\n",
      "H 1\n",
      "CFUNC 1 2 4 xyModN 5 10\n",
      "CFUNC 0 2 4 xyModN 5 10\n",
      "CFUNC 0 2 4 xyModN 5 10\n",
      "H 0\n",
      "P 1 -0.7853981633974483\n",
      "CNOT 1 0\n",
      "P 0 0.7853981633974483\n",
      "CNOT 1 0 \n",
      "P 0 -0.7853981633974483\n",
      "H 1\n",
      "SWAP 0 1\n",
      "MEASURE\n",
      "['INITSTATE', 'BASIS', '|000001>']\n",
      "['H', '0']\n",
      "['H', '1']\n",
      "['CFUNC', '1', '2', '4', 'xyModN', '5', '10']\n",
      "['CFUNC', '0', '2', '4', 'xyModN', '5', '10']\n",
      "['CFUNC', '0', '2', '4', 'xyModN', '5', '10']\n",
      "['H', '0']\n",
      "['P', '1', '-0.7853981633974483']\n",
      "['CNOT', '1', '0']\n",
      "['P', '0', '0.7853981633974483']\n",
      "['CNOT', '1', '0', '']\n",
      "['P', '0', '-0.7853981633974483']\n",
      "['H', '1']\n",
      "['CNOT', '0', '1']\n",
      "['CNOT', '1', '0']\n",
      "['CNOT', '0', '1']\n",
      "['MEASURE']\n",
      "[[(1+0j), '000001']]\n",
      "[[(0.7071067811865475+0j), '000001'], [(0.7071067811865475+0j), '100001']]\n",
      "[[(0.7071067811865475+0j), '000001'], [(0.7071067811865475+0j), '100001']]\n",
      "[[(0.4999999999999999+0j), '000001'], [(0.4999999999999999+0j), '010001'], [(0.4999999999999999+0j), '100001'], [(0.4999999999999999+0j), '110001']]\n",
      "[[(0.4999999999999999+0j), '000001'], [(0.4999999999999999+0j), '010001'], [(0.4999999999999999+0j), '100001'], [(0.4999999999999999+0j), '110001']]\n",
      "In self.CxyMODN()\n",
      "In self.CxyModN_element()\n",
      "In self.CxyModN_element()\n",
      "[[(0.707+0j), '0001'], [(-0.707+0j), '100101']]\n"
     ]
    },
    {
     "ename": "IndexError",
     "evalue": "index 37 is out of bounds for axis 0 with size 16",
     "output_type": "error",
     "traceback": [
      "\u001b[1;31m---------------------------------------------------------------------------\u001b[0m",
      "\u001b[1;31mIndexError\u001b[0m                                Traceback (most recent call last)",
      "\u001b[1;32m~\\AppData\\Local\\Temp\\ipykernel_17556\\4269707793.py\u001b[0m in \u001b[0;36m<module>\u001b[1;34m\u001b[0m\n\u001b[0;32m     17\u001b[0m     \u001b[1;32mreturn\u001b[0m \u001b[0mst\u001b[0m\u001b[1;33m\u001b[0m\u001b[1;33m\u001b[0m\u001b[0m\n\u001b[0;32m     18\u001b[0m \u001b[0mcomputer\u001b[0m \u001b[1;33m=\u001b[0m \u001b[0mQuantum_Computer\u001b[0m\u001b[1;33m(\u001b[0m\u001b[0mCxyModN_phase_estimator\u001b[0m\u001b[1;33m(\u001b[0m\u001b[1;36m2\u001b[0m\u001b[1;33m,\u001b[0m \u001b[1;36m4\u001b[0m\u001b[1;33m,\u001b[0m \u001b[1;36m5\u001b[0m\u001b[1;33m,\u001b[0m \u001b[1;36m10\u001b[0m\u001b[1;33m)\u001b[0m\u001b[1;33m,\u001b[0m \u001b[0mprint_circuit\u001b[0m\u001b[1;33m=\u001b[0m\u001b[1;32mTrue\u001b[0m\u001b[1;33m)\u001b[0m\u001b[1;33m\u001b[0m\u001b[1;33m\u001b[0m\u001b[0m\n\u001b[1;32m---> 19\u001b[1;33m \u001b[0mstate\u001b[0m \u001b[1;33m=\u001b[0m \u001b[0mcomputer\u001b[0m\u001b[1;33m.\u001b[0m\u001b[0mrun\u001b[0m\u001b[1;33m(\u001b[0m\u001b[1;33m)\u001b[0m\u001b[1;33m\u001b[0m\u001b[1;33m\u001b[0m\u001b[0m\n\u001b[0m\u001b[0;32m     20\u001b[0m \u001b[0mprint\u001b[0m\u001b[1;33m(\u001b[0m\u001b[0mstate\u001b[0m\u001b[1;33m)\u001b[0m\u001b[1;33m\u001b[0m\u001b[1;33m\u001b[0m\u001b[0m\n",
      "\u001b[1;32m~\\AppData\\Local\\Temp\\ipykernel_17556\\3307629532.py\u001b[0m in \u001b[0;36mrun\u001b[1;34m(self, initial_state, decimals, num_measures, print_m)\u001b[0m\n\u001b[0;32m    140\u001b[0m         \u001b[0mstate\u001b[0m \u001b[1;33m=\u001b[0m \u001b[0madd_duplicates\u001b[0m\u001b[1;33m(\u001b[0m\u001b[0minitial_state\u001b[0m\u001b[1;33m)\u001b[0m\u001b[1;33m\u001b[0m\u001b[1;33m\u001b[0m\u001b[0m\n\u001b[0;32m    141\u001b[0m         \u001b[1;32mfor\u001b[0m \u001b[0mgate\u001b[0m \u001b[1;32min\u001b[0m \u001b[0mself\u001b[0m\u001b[1;33m.\u001b[0m\u001b[0mgates\u001b[0m\u001b[1;33m:\u001b[0m\u001b[1;33m\u001b[0m\u001b[1;33m\u001b[0m\u001b[0m\n\u001b[1;32m--> 142\u001b[1;33m             \u001b[0mstate\u001b[0m \u001b[1;33m=\u001b[0m \u001b[0mself\u001b[0m\u001b[1;33m.\u001b[0m\u001b[0mrun_gate\u001b[0m\u001b[1;33m(\u001b[0m\u001b[0mgate\u001b[0m\u001b[1;33m,\u001b[0m \u001b[0mstate\u001b[0m\u001b[1;33m,\u001b[0m \u001b[0mnum_measures\u001b[0m\u001b[1;33m,\u001b[0m \u001b[0minitial_state\u001b[0m\u001b[1;33m,\u001b[0m \u001b[0mprint_m\u001b[0m\u001b[1;33m)\u001b[0m\u001b[1;33m\u001b[0m\u001b[1;33m\u001b[0m\u001b[0m\n\u001b[0m\u001b[0;32m    143\u001b[0m         \u001b[1;32mreturn\u001b[0m \u001b[0mclean_state\u001b[0m\u001b[1;33m(\u001b[0m\u001b[0mstate\u001b[0m\u001b[1;33m,\u001b[0m \u001b[0mdecimals\u001b[0m\u001b[1;33m)\u001b[0m\u001b[1;33m\u001b[0m\u001b[1;33m\u001b[0m\u001b[0m\n\u001b[0;32m    144\u001b[0m \u001b[1;33m\u001b[0m\u001b[0m\n",
      "\u001b[1;32m~\\AppData\\Local\\Temp\\ipykernel_17556\\3307629532.py\u001b[0m in \u001b[0;36mrun_gate\u001b[1;34m(self, gate, state, num_measures, initial_state, print_m)\u001b[0m\n\u001b[0;32m    158\u001b[0m             \u001b[0mstate\u001b[0m \u001b[1;33m=\u001b[0m \u001b[0mself\u001b[0m\u001b[1;33m.\u001b[0m\u001b[0mxyModN\u001b[0m\u001b[1;33m(\u001b[0m\u001b[0mgate\u001b[0m\u001b[1;33m[\u001b[0m\u001b[1;36m1\u001b[0m\u001b[1;33m]\u001b[0m\u001b[1;33m,\u001b[0m \u001b[0mgate\u001b[0m\u001b[1;33m[\u001b[0m\u001b[1;36m2\u001b[0m\u001b[1;33m]\u001b[0m\u001b[1;33m,\u001b[0m \u001b[0mgate\u001b[0m\u001b[1;33m[\u001b[0m\u001b[1;36m3\u001b[0m\u001b[1;33m]\u001b[0m\u001b[1;33m,\u001b[0m \u001b[0mgate\u001b[0m\u001b[1;33m[\u001b[0m\u001b[1;36m4\u001b[0m\u001b[1;33m]\u001b[0m\u001b[1;33m,\u001b[0m \u001b[0mstate\u001b[0m\u001b[1;33m)\u001b[0m\u001b[1;33m\u001b[0m\u001b[1;33m\u001b[0m\u001b[0m\n\u001b[0;32m    159\u001b[0m         \u001b[1;32melif\u001b[0m \u001b[0mgate\u001b[0m\u001b[1;33m[\u001b[0m\u001b[1;36m0\u001b[0m\u001b[1;33m]\u001b[0m \u001b[1;33m==\u001b[0m \u001b[1;36m5\u001b[0m\u001b[1;33m:\u001b[0m\u001b[1;33m\u001b[0m\u001b[1;33m\u001b[0m\u001b[0m\n\u001b[1;32m--> 160\u001b[1;33m             \u001b[0mstate\u001b[0m \u001b[1;33m=\u001b[0m \u001b[0mself\u001b[0m\u001b[1;33m.\u001b[0m\u001b[0mCxyModN\u001b[0m\u001b[1;33m(\u001b[0m\u001b[0mgate\u001b[0m\u001b[1;33m[\u001b[0m\u001b[1;36m1\u001b[0m\u001b[1;33m]\u001b[0m\u001b[1;33m,\u001b[0m \u001b[0mgate\u001b[0m\u001b[1;33m[\u001b[0m\u001b[1;36m2\u001b[0m\u001b[1;33m]\u001b[0m\u001b[1;33m,\u001b[0m \u001b[0mgate\u001b[0m\u001b[1;33m[\u001b[0m\u001b[1;36m3\u001b[0m\u001b[1;33m]\u001b[0m\u001b[1;33m,\u001b[0m \u001b[0mgate\u001b[0m\u001b[1;33m[\u001b[0m\u001b[1;36m4\u001b[0m\u001b[1;33m]\u001b[0m\u001b[1;33m,\u001b[0m \u001b[0mgate\u001b[0m\u001b[1;33m[\u001b[0m\u001b[1;36m5\u001b[0m\u001b[1;33m]\u001b[0m\u001b[1;33m,\u001b[0m \u001b[0mstate\u001b[0m\u001b[1;33m)\u001b[0m\u001b[1;33m\u001b[0m\u001b[1;33m\u001b[0m\u001b[0m\n\u001b[0m\u001b[0;32m    161\u001b[0m         \u001b[1;32mreturn\u001b[0m \u001b[0madd_duplicates\u001b[0m\u001b[1;33m(\u001b[0m\u001b[0mstate\u001b[0m\u001b[1;33m)\u001b[0m\u001b[1;33m\u001b[0m\u001b[1;33m\u001b[0m\u001b[0m\n\u001b[0;32m    162\u001b[0m \u001b[1;33m\u001b[0m\u001b[0m\n",
      "\u001b[1;32m~\\AppData\\Local\\Temp\\ipykernel_17556\\3307629532.py\u001b[0m in \u001b[0;36mCxyModN\u001b[1;34m(self, control, wire, num_wires, x, N, element)\u001b[0m\n\u001b[0;32m    111\u001b[0m         \u001b[0mprint\u001b[0m\u001b[1;33m(\u001b[0m\u001b[1;34m\"In self.CxyMODN()\"\u001b[0m\u001b[1;33m)\u001b[0m\u001b[1;33m\u001b[0m\u001b[1;33m\u001b[0m\u001b[0m\n\u001b[0;32m    112\u001b[0m         \u001b[1;33m[\u001b[0m\u001b[0mself\u001b[0m\u001b[1;33m.\u001b[0m\u001b[0mCxyModN_element\u001b[0m\u001b[1;33m(\u001b[0m\u001b[0mcontrol\u001b[0m\u001b[1;33m,\u001b[0m \u001b[0mwire\u001b[0m\u001b[1;33m,\u001b[0m \u001b[0mnum_wires\u001b[0m\u001b[1;33m,\u001b[0m \u001b[0mx\u001b[0m\u001b[1;33m,\u001b[0m \u001b[0mN\u001b[0m\u001b[1;33m,\u001b[0m \u001b[0melement\u001b[0m\u001b[1;33m)\u001b[0m \u001b[1;32mfor\u001b[0m \u001b[0melement\u001b[0m \u001b[1;32min\u001b[0m \u001b[0mstate\u001b[0m\u001b[1;33m]\u001b[0m\u001b[1;33m\u001b[0m\u001b[1;33m\u001b[0m\u001b[0m\n\u001b[1;32m--> 113\u001b[1;33m         \u001b[1;32mreturn\u001b[0m \u001b[0madd_duplicates\u001b[0m\u001b[1;33m(\u001b[0m\u001b[0mstate\u001b[0m\u001b[1;33m)\u001b[0m\u001b[1;33m\u001b[0m\u001b[1;33m\u001b[0m\u001b[0m\n\u001b[0m\u001b[0;32m    114\u001b[0m \u001b[1;33m\u001b[0m\u001b[0m\n\u001b[0;32m    115\u001b[0m     \u001b[1;32mdef\u001b[0m \u001b[0mCxyModN_element\u001b[0m\u001b[1;33m(\u001b[0m\u001b[0mself\u001b[0m\u001b[1;33m,\u001b[0m \u001b[0mcontrol\u001b[0m\u001b[1;33m,\u001b[0m \u001b[0mwire\u001b[0m\u001b[1;33m,\u001b[0m \u001b[0mnum_wires\u001b[0m\u001b[1;33m,\u001b[0m \u001b[0mx\u001b[0m\u001b[1;33m,\u001b[0m \u001b[0mN\u001b[0m\u001b[1;33m,\u001b[0m \u001b[0melement\u001b[0m\u001b[1;33m)\u001b[0m\u001b[1;33m:\u001b[0m\u001b[1;33m\u001b[0m\u001b[1;33m\u001b[0m\u001b[0m\n",
      "\u001b[1;32m~\\AppData\\Local\\Temp\\ipykernel_17556\\3831893273.py\u001b[0m in \u001b[0;36madd_duplicates\u001b[1;34m(state)\u001b[0m\n\u001b[0;32m     53\u001b[0m \u001b[1;33m\u001b[0m\u001b[0m\n\u001b[0;32m     54\u001b[0m \u001b[1;32mdef\u001b[0m \u001b[0madd_duplicates\u001b[0m\u001b[1;33m(\u001b[0m\u001b[0mstate\u001b[0m\u001b[1;33m)\u001b[0m\u001b[1;33m:\u001b[0m\u001b[1;33m\u001b[0m\u001b[1;33m\u001b[0m\u001b[0m\n\u001b[1;32m---> 55\u001b[1;33m     \u001b[1;32mreturn\u001b[0m \u001b[0mVecToState\u001b[0m\u001b[1;33m(\u001b[0m\u001b[0mStateToVec\u001b[0m\u001b[1;33m(\u001b[0m\u001b[0mstate\u001b[0m\u001b[1;33m)\u001b[0m\u001b[1;33m)\u001b[0m\u001b[1;33m\u001b[0m\u001b[1;33m\u001b[0m\u001b[0m\n\u001b[0m\u001b[0;32m     56\u001b[0m \u001b[1;33m\u001b[0m\u001b[0m\n\u001b[0;32m     57\u001b[0m \u001b[1;32mdef\u001b[0m \u001b[0mc_round\u001b[0m\u001b[1;33m(\u001b[0m\u001b[0mnumber\u001b[0m\u001b[1;33m,\u001b[0m \u001b[0mdecimals\u001b[0m\u001b[1;33m)\u001b[0m\u001b[1;33m:\u001b[0m\u001b[1;33m\u001b[0m\u001b[1;33m\u001b[0m\u001b[0m\n",
      "\u001b[1;32m~\\AppData\\Local\\Temp\\ipykernel_17556\\3831893273.py\u001b[0m in \u001b[0;36mStateToVec\u001b[1;34m(myState)\u001b[0m\n\u001b[0;32m     39\u001b[0m     \u001b[1;32mfor\u001b[0m \u001b[0ms\u001b[0m \u001b[1;32min\u001b[0m \u001b[0mmyState\u001b[0m\u001b[1;33m:\u001b[0m\u001b[1;33m\u001b[0m\u001b[1;33m\u001b[0m\u001b[0m\n\u001b[0;32m     40\u001b[0m         \u001b[0midx\u001b[0m \u001b[1;33m=\u001b[0m \u001b[0mint\u001b[0m\u001b[1;33m(\u001b[0m\u001b[0ms\u001b[0m\u001b[1;33m[\u001b[0m\u001b[1;36m1\u001b[0m\u001b[1;33m]\u001b[0m\u001b[1;33m,\u001b[0m \u001b[1;36m2\u001b[0m\u001b[1;33m)\u001b[0m\u001b[1;33m\u001b[0m\u001b[1;33m\u001b[0m\u001b[0m\n\u001b[1;32m---> 41\u001b[1;33m         \u001b[0mto_return\u001b[0m\u001b[1;33m[\u001b[0m\u001b[0midx\u001b[0m\u001b[1;33m]\u001b[0m \u001b[1;33m+=\u001b[0m \u001b[0ms\u001b[0m\u001b[1;33m[\u001b[0m\u001b[1;36m0\u001b[0m\u001b[1;33m]\u001b[0m\u001b[1;33m\u001b[0m\u001b[1;33m\u001b[0m\u001b[0m\n\u001b[0m\u001b[0;32m     42\u001b[0m     \u001b[1;32mreturn\u001b[0m \u001b[0mto_return\u001b[0m\u001b[1;33m\u001b[0m\u001b[1;33m\u001b[0m\u001b[0m\n\u001b[0;32m     43\u001b[0m \u001b[1;33m\u001b[0m\u001b[0m\n",
      "\u001b[1;31mIndexError\u001b[0m: index 37 is out of bounds for axis 0 with size 16"
     ]
    }
   ],
   "source": [
    "def CxyModN_phase_estimator(n, m, x, N):\n",
    "    basis0, basis1 = \"\", \"\"\n",
    "    for i in range(n):\n",
    "        basis0 += \"0\"\n",
    "    for i in range(m-1):\n",
    "        basis1 += \"0\"\n",
    "    basis1 += \"1\"\n",
    "    st = f\"\"\"{n+m}\\nINITSTATE BASIS |{basis0}{basis1}>\\n\"\"\"\n",
    "    for i in range(n):\n",
    "        st+=f\"H {i}\\n\"\n",
    "    for i in range(n):\n",
    "        for j in range(2**i):\n",
    "            st+=f\"CFUNC {n-1-i} {n} {m} xyModN {x} {N}\\n\"\n",
    "    st += f\"{invert_description(QFT(n))}\\n\"\n",
    "    st += f\"{REVERSE(0, n)}\\n\"\n",
    "    st += \"MEASURE\"\n",
    "    return st\n",
    "computer = Quantum_Computer(CxyModN_phase_estimator(2, 4, 5, 10), print_circuit=True)\n",
    "state = computer.run()\n",
    "print(state)"
   ]
  },
  {
   "cell_type": "code",
   "execution_count": 250,
   "id": "bc5070e4",
   "metadata": {
    "ExecuteTime": {
     "end_time": "2023-02-10T22:40:52.463200Z",
     "start_time": "2023-02-10T22:40:52.443166Z"
    }
   },
   "outputs": [
    {
     "name": "stdout",
     "output_type": "stream",
     "text": [
      "['INITSTATE', 'BASIS', '|0101>']\n",
      "['FUNC', '0', '4', 'xyModN', '3', '6']\n",
      "In self.xyModN()\n",
      "In self.xyModN_element()\n",
      "[[(1+0j), '0011']]\n"
     ]
    }
   ],
   "source": [
    "description = \"\"\"4\n",
    "INITSTATE BASIS |0101>\n",
    "FUNC 0 4 xyModN 3 6\"\"\"\n",
    "computer = Quantum_Computer(description)\n",
    "state = computer.run()\n",
    "print(state)"
   ]
  },
  {
   "cell_type": "code",
   "execution_count": 165,
   "id": "f197dd8f",
   "metadata": {
    "ExecuteTime": {
     "end_time": "2023-02-10T21:30:07.272860Z",
     "start_time": "2023-02-10T21:30:07.260859Z"
    }
   },
   "outputs": [
    {
     "name": "stdout",
     "output_type": "stream",
     "text": [
      "{ (0.978+0.148j) |000> + (0.022-0.148j) |101>}\n"
     ]
    }
   ],
   "source": [
    "test_description = \"\"\"3\n",
    "H 1\n",
    "H 2\n",
    "P 2 0.3\n",
    "CNOT 2 1\n",
    "H 1\n",
    "H 2\n",
    "CNOT 2 0\n",
    "MEASURE\"\"\"\n",
    "test_computer = Quantum_Computer(test_description)\n",
    "PrettyPrintBinary(test_computer.run())"
   ]
  },
  {
   "cell_type": "code",
   "execution_count": 166,
   "id": "faadc32c",
   "metadata": {
    "ExecuteTime": {
     "end_time": "2023-02-10T21:30:07.695584Z",
     "start_time": "2023-02-10T21:30:07.680583Z"
    }
   },
   "outputs": [
    {
     "name": "stdout",
     "output_type": "stream",
     "text": [
      "{ (0.707+0j) |0> + (0.707+0j) |256>}\n"
     ]
    }
   ],
   "source": [
    "test_description = \"\"\"9\n",
    "H 0\n",
    "CPHASE 0 5 0.3\n",
    "P 1 0.3\n",
    "CNOT 4 7\n",
    "SWAP 2 8\"\"\"\n",
    "PrettyPrintInteger(Quantum_Computer(test_description).run())"
   ]
  },
  {
   "cell_type": "code",
   "execution_count": 167,
   "id": "e6156ce4",
   "metadata": {
    "ExecuteTime": {
     "end_time": "2023-02-10T21:30:08.117512Z",
     "start_time": "2023-02-10T21:30:08.084187Z"
    }
   },
   "outputs": [
    {
     "name": "stdout",
     "output_type": "stream",
     "text": [
      "{ (0.146+0.113j) |0> + (0.043-0.122j) |1> + 0.08j |2> + (0.05-0.007j) |3> + (0.072-0.023j) |4> + (-0.034-0.042j) |5> + (0.054+0.009j) |6> + (0.002-0.027j) |7> + (0.135-0.126j) |8> + (-0.104-0.068j) |9> + (0.011+0.071j) |10> + (0.032-0.035j) |11> + (0.008+0.298j) |12> + (0.196-0.058j) |13> + (-0.113-0.023j) |14> + (0.026+0.076j) |15> + (0.001-0.036j) |16> + (-0.013+0.006j) |17> + (-0.082+0.016j) |18> + (0.016+0.023j) |19> + (-0.172+0.367j) |20> + (0.277+0.042j) |21> + (-0.147-0.044j) |22> + (0.007+0.108j) |23> + (-0.443-0.089j) |24> + (0.034+0.318j) |25> + (-0.055-0.215j) |26> + (-0.121+0.065j) |27> + (-0.181-0.078j) |28> + (-0.006+0.127j) |29> + (-0.058+0.01j) |30> + (-0.012+0.02j) |31>}\n"
     ]
    }
   ],
   "source": [
    "PrettyPrintInteger(Quantum_Computer(\"rand.circuit\", True).run())"
   ]
  },
  {
   "cell_type": "code",
   "execution_count": 168,
   "id": "57fdfa2e",
   "metadata": {
    "ExecuteTime": {
     "end_time": "2023-02-10T21:30:08.507710Z",
     "start_time": "2023-02-10T21:30:08.472710Z"
    }
   },
   "outputs": [
    {
     "name": "stdout",
     "output_type": "stream",
     "text": [
      "Measurement: ['01000']\n",
      "{ (0.146+0.113j) |0> + (0.043-0.122j) |1> + 0.08j |2> + (0.05-0.007j) |3> + (0.072-0.023j) |4> + (-0.034-0.042j) |5> + (0.054+0.009j) |6> + (0.002-0.027j) |7> + (0.135-0.126j) |8> + (-0.104-0.068j) |9> + (0.011+0.071j) |10> + (0.032-0.035j) |11> + (0.008+0.298j) |12> + (0.196-0.058j) |13> + (-0.113-0.023j) |14> + (0.026+0.076j) |15> + (0.001-0.036j) |16> + (-0.013+0.006j) |17> + (-0.082+0.016j) |18> + (0.016+0.023j) |19> + (-0.172+0.367j) |20> + (0.277+0.042j) |21> + (-0.147-0.044j) |22> + (0.007+0.108j) |23> + (-0.443-0.089j) |24> + (0.034+0.318j) |25> + (-0.055-0.215j) |26> + (-0.121+0.065j) |27> + (-0.181-0.078j) |28> + (-0.006+0.127j) |29> + (-0.058+0.01j) |30> + (-0.012+0.02j) |31>}\n"
     ]
    }
   ],
   "source": [
    "PrettyPrintInteger(Quantum_Computer(\"measure.circuit\", True).run(print_m=True))"
   ]
  },
  {
   "cell_type": "code",
   "execution_count": 169,
   "id": "799276c8",
   "metadata": {
    "ExecuteTime": {
     "end_time": "2023-02-10T21:30:08.849927Z",
     "start_time": "2023-02-10T21:30:08.821926Z"
    }
   },
   "outputs": [
    {
     "name": "stdout",
     "output_type": "stream",
     "text": [
      "{ (0.154-0.039j) |0> + (0.049-0.03j) |1> + (-0.021+0.088j) |2> + (-0.112-0.233j) |3> + (-0.034-0.01j) |4> + (-0.017-0.13j) |5> + (-0.196+0.01j) |6> + (-0.098+0.013j) |7> + (-0.181+0.014j) |8> + (0.054-0.069j) |9> + (0.001-0.003j) |10> + (-0.022+0.017j) |11> + (-0.007+0.16j) |12> + (-0.223+0.075j) |13> + (-0.038+0.006j) |14> + (0.074-0.051j) |15> + (-0.148+0.087j) |16> + (-0.063+0.257j) |17> + (0.117+0.014j) |18> + (-0.027-0.004j) |19> + (0.219-0.213j) |20> + (-0.049-0.116j) |21> + (-0.148-0.105j) |22> + (0.223+0.051j) |23> + (-0.14-0.237j) |24> + (0.185-0.005j) |25> + (-0.263-0.066j) |26> + (0.175-0.02j) |27> + (0.112+0.001j) |28> + (0.024-0.124j) |29> + (-0.208+0.077j) |30> + (0.055+0.306j) |31>}\n"
     ]
    }
   ],
   "source": [
    "PrettyPrintInteger(Quantum_Computer(\"input.circuit\", True).run())"
   ]
  },
  {
   "cell_type": "code",
   "execution_count": 170,
   "id": "4a0cea44",
   "metadata": {
    "ExecuteTime": {
     "end_time": "2023-02-10T21:30:09.158435Z",
     "start_time": "2023-02-10T21:30:09.151435Z"
    },
    "code_folding": []
   },
   "outputs": [],
   "source": [
    "def PhaseE_D1(phi):\n",
    "    return f\"\"\"2\n",
    "INITSTATE BASIS |01>\n",
    "H 0\n",
    "CPHASE 0 1 {phi}\n",
    "H 0\n",
    "MEASURE\"\"\""
   ]
  },
  {
   "cell_type": "code",
   "execution_count": 171,
   "id": "62b16ec8",
   "metadata": {
    "ExecuteTime": {
     "end_time": "2023-02-10T21:30:09.730623Z",
     "start_time": "2023-02-10T21:30:09.583591Z"
    },
    "code_folding": [
     0
    ]
   },
   "outputs": [
    {
     "data": {
      "image/png": "[encoded data removed]",
      "text/plain": [
       "<Figure size 640x480 with 1 Axes>"
      ]
     },
     "metadata": {},
     "output_type": "display_data"
    }
   ],
   "source": [
    "def PhaseE_D1_G1():\n",
    "    phi_by_2pi = np.linspace(0, 0.99, 100)\n",
    "    theta_j = []\n",
    "    for i in phi_by_2pi:\n",
    "        desc = PhaseE_D1(2*m.pi*i)\n",
    "        results = Quantum_Computer(desc).run()\n",
    "        max_val = 0\n",
    "        fin_state = 0\n",
    "        for result in results:\n",
    "            prob = result[0].real\n",
    "            if prob > max_val:\n",
    "                max_val = prob\n",
    "                fin_state = result[1][0]\n",
    "        theta = (0.5) * int(fin_state)\n",
    "        theta_j.append(theta)\n",
    "\n",
    "    plt.figure()\n",
    "    plt.plot(phi_by_2pi, theta_j)\n",
    "    plt.title(r\"$\\frac{\\phi}{2\\pi}$ vs. Predicted $\\theta_j$\")\n",
    "    plt.xlabel(r\"$\\frac{\\phi}{2\\pi}$\")\n",
    "    plt.ylabel(r\"Predicted $\\theta_j$\")\n",
    "    plt.show()\n",
    "PhaseE_D1_G1()"
   ]
  },
  {
   "cell_type": "code",
   "execution_count": 172,
   "id": "e9aebac7",
   "metadata": {
    "ExecuteTime": {
     "end_time": "2023-02-10T21:30:10.216947Z",
     "start_time": "2023-02-10T21:30:10.068846Z"
    },
    "code_folding": []
   },
   "outputs": [
    {
     "data": {
      "image/png": "[encoded data removed]",
      "text/plain": [
       "<Figure size 640x480 with 1 Axes>"
      ]
     },
     "metadata": {},
     "output_type": "display_data"
    }
   ],
   "source": [
    "def PhaseE_D1_G2():\n",
    "    phi_by_2pi_set = 0.1432394487827058\n",
    "    computer = Quantum_Computer(PhaseE_D1(2*m.pi*phi_by_2pi_set))\n",
    "    computer.run(num_measures=10000)\n",
    "    results = computer.get_last_measurement()[1]\n",
    "    thetas = []\n",
    "    for i in range(len(results)):\n",
    "        if results[i] == '01':\n",
    "            thetas.append(0)\n",
    "        elif results[i] == '11':\n",
    "            thetas.append(0.5)\n",
    "    types = []\n",
    "    [types.append(x) for x in thetas if x not in types]\n",
    "    probs = [thetas.count(value)/len(thetas) for value in types]\n",
    "\n",
    "    plt.figure()\n",
    "    plt.bar(types, probs, width=0.1, label = r'Predicted $\\theta_j$')\n",
    "    plt.axvline(x = phi_by_2pi_set, color = 'r', label = r'Actual $\\theta_j$')\n",
    "    plt.title(r\"Predicted vs. Actual for $\\theta_j$=0.1432394487827058\")\n",
    "    plt.xlabel(r\"$\\theta_j$\")\n",
    "    plt.ylabel(\"Probability\")\n",
    "    plt.legend()\n",
    "    plt.show()\n",
    "PhaseE_D1_G2()"
   ]
  },
  {
   "cell_type": "code",
   "execution_count": 173,
   "id": "6507d7db",
   "metadata": {
    "ExecuteTime": {
     "end_time": "2023-02-10T21:30:10.712251Z",
     "start_time": "2023-02-10T21:30:10.694251Z"
    },
    "code_folding": [
     0
    ]
   },
   "outputs": [],
   "source": [
    "def animation1():\n",
    "    n_frames = 100\n",
    "    print(n_frames)\n",
    "    phi_by_2pi = np.linspace(0, 1, n_frames)\n",
    "    computer = Quantum_Computer(PhaseE_D1(2*m.pi*phi_by_2pi[1]))\n",
    "    computer.run(num_measures=1000)\n",
    "    results = computer.get_last_measurement()[1]\n",
    "    thetas = []\n",
    "    for i in range(len(results)):\n",
    "        if results[i] == '01':\n",
    "            thetas.append(0)\n",
    "        elif results[i] == '11':\n",
    "            thetas.append(0.5)\n",
    "    types = []\n",
    "    [types.append(x) for x in thetas if x not in types]\n",
    "    probs = [thetas.count(value)/len(thetas) for value in types]\n",
    "\n",
    "    fig, ax = plt.subplots()\n",
    "    bars = plt.bar(types, probs, width=0.1, label = r'Predicted $\\theta_j$')\n",
    "    line = plt.axvline(x = phi_by_2pi[1], color = 'r', label = r'Actual $\\theta_j$')\n",
    "    plt.title(r\"Predicted vs. Actual for $\\theta_j$\")\n",
    "    plt.xlabel(r\"$\\theta_j$\")\n",
    "    plt.ylabel(\"Probability\")\n",
    "    plt.xlim(-0.1, 1.1)\n",
    "    plt.ylim(0, 1)\n",
    "    plt.legend()\n",
    "\n",
    "    def update(i):\n",
    "        computer = Quantum_Computer(PhaseE_D1(2*m.pi*phi_by_2pi[i]))\n",
    "        computer.run(num_measures=10000)\n",
    "        results = computer.get_last_measurement()[1]\n",
    "        thetas = []\n",
    "        for j in range(len(results)):\n",
    "            if results[j] == '01':\n",
    "                thetas.append(0)\n",
    "            elif results[j] == '11':\n",
    "                thetas.append(0.5)\n",
    "        types = []\n",
    "        [types.append(x) for x in thetas if x not in types]\n",
    "        probs = [thetas.count(value)/len(thetas) for value in types]\n",
    "        plt.cla()\n",
    "        bars = plt.bar(types, probs, width=0.1, label = r'Predicted $\\theta_j$')\n",
    "        line = plt.axvline(x = phi_by_2pi[i], color = 'r', label = r'Actual $\\theta_j$')\n",
    "        plt.title(r\"Predicted vs. Actual for $\\theta_j$\")\n",
    "        plt.xlabel(r\"$\\theta_j$\")\n",
    "        plt.ylabel(\"Probability\")\n",
    "        plt.xlim(-0.1, 1.1)\n",
    "        plt.ylim(0, 1)\n",
    "        plt.legend(loc='upper right')\n",
    "        return [bars], [line]\n",
    "\n",
    "    anim = FuncAnimation(fig, update, frames=n_frames, interval = 1, repeat=True, cache_frame_data=True)\n",
    "    anim.save(\"thetaprediction1wire.gif\")\n",
    "    plt.show()\n",
    "# animation1()"
   ]
  },
  {
   "cell_type": "code",
   "execution_count": 174,
   "id": "9b6cfec2",
   "metadata": {
    "ExecuteTime": {
     "end_time": "2023-02-10T21:30:11.273732Z",
     "start_time": "2023-02-10T21:30:11.259732Z"
    },
    "code_folding": []
   },
   "outputs": [],
   "source": [
    "def PhaseE_D2(phi):\n",
    "    return f\"\"\"3\n",
    "INITSTATE BASIS |001>\n",
    "H 0\n",
    "H 1\n",
    "CPHASE 1 2 {phi}\n",
    "CPHASE 0 2 {phi}\n",
    "CPHASE 0 2 {phi}\n",
    "H 0\n",
    "CPHASE 0 1 {-m.pi/2}\n",
    "H 1\n",
    "SWAP 0 1\n",
    "MEASURE\"\"\""
   ]
  },
  {
   "cell_type": "code",
   "execution_count": 175,
   "id": "fabd7886",
   "metadata": {
    "ExecuteTime": {
     "end_time": "2023-02-10T21:30:11.945505Z",
     "start_time": "2023-02-10T21:30:11.750505Z"
    },
    "code_folding": [
     0
    ]
   },
   "outputs": [
    {
     "data": {
      "image/png": "[encoded data removed]",
      "text/plain": [
       "<Figure size 640x480 with 1 Axes>"
      ]
     },
     "metadata": {},
     "output_type": "display_data"
    }
   ],
   "source": [
    "def PhaseE_D2_G1():\n",
    "    phi_by_2pi = np.linspace(0, 0.99, 100)\n",
    "    theta_j = []\n",
    "    for i in phi_by_2pi:\n",
    "        desc = PhaseE_D2(2*m.pi*i)\n",
    "        results = Quantum_Computer(desc).run()\n",
    "        max_val = 0\n",
    "        fin_state = 0\n",
    "        for result in results:\n",
    "            prob = result[0].real\n",
    "            if prob > max_val:\n",
    "                max_val = prob\n",
    "                fin_state = result[1][:-1]\n",
    "        theta = (0.5) * int(fin_state[0]) + (0.25) * int(fin_state[1])\n",
    "        theta_j.append(theta)\n",
    "\n",
    "    plt.figure()\n",
    "    plt.plot(phi_by_2pi, theta_j)\n",
    "    plt.title(r\"$\\frac{\\phi}{2\\pi}$ vs. Predicted $\\theta_j$\")\n",
    "    plt.xlabel(r\"$\\frac{\\phi}{2\\pi}$\")\n",
    "    plt.ylabel(r\"Predicted $\\theta_j$\")\n",
    "    plt.show()\n",
    "PhaseE_D2_G1()"
   ]
  },
  {
   "cell_type": "code",
   "execution_count": 176,
   "id": "a9497709",
   "metadata": {
    "ExecuteTime": {
     "end_time": "2023-02-10T21:30:12.521790Z",
     "start_time": "2023-02-10T21:30:12.384794Z"
    },
    "code_folding": [
     0
    ]
   },
   "outputs": [
    {
     "data": {
      "image/png": "[encoded data removed]",
      "text/plain": [
       "<Figure size 640x480 with 1 Axes>"
      ]
     },
     "metadata": {},
     "output_type": "display_data"
    }
   ],
   "source": [
    "def PhaseE_D2_G2():\n",
    "    phi_by_2pi_set = 0.1432394487827058\n",
    "    computer = Quantum_Computer(PhaseE_D2(2*m.pi*phi_by_2pi_set))\n",
    "    computer.run(num_measures=10000)\n",
    "    results = computer.get_last_measurement()[1]\n",
    "    thetas = []\n",
    "    for i in range(len(results)):\n",
    "        result = results[i][:-1]\n",
    "        thetas.append((0.5) * int(result[0]) + (0.25) * int(result[1]))\n",
    "    types = []\n",
    "    [types.append(x) for x in thetas if x not in types]\n",
    "    probs = [thetas.count(value)/len(thetas) for value in types]\n",
    "\n",
    "    plt.figure()\n",
    "    plt.bar(types, probs, width=0.1, label = r'Predicted $\\theta_j$')\n",
    "    plt.axvline(x = phi_by_2pi_set, color = 'r', label = r'Actual $\\theta_j$')\n",
    "    plt.title(r\"Predicted vs. Actual for $\\theta_j$=0.1432394487827058\")\n",
    "    plt.xlabel(r\"$\\theta_j$\")\n",
    "    plt.ylabel(\"Probability\")\n",
    "    plt.legend()\n",
    "    plt.show()\n",
    "PhaseE_D2_G2()"
   ]
  },
  {
   "cell_type": "code",
   "execution_count": 177,
   "id": "a33becdc",
   "metadata": {
    "ExecuteTime": {
     "end_time": "2023-02-10T21:30:13.130446Z",
     "start_time": "2023-02-10T21:30:13.104449Z"
    },
    "code_folding": [
     0
    ]
   },
   "outputs": [],
   "source": [
    "def animation2():\n",
    "    n_frames = 200\n",
    "    print(n_frames)\n",
    "    phi_by_2pi = np.linspace(0, 1, n_frames)\n",
    "    computer = Quantum_Computer(PhaseE_D2(2*m.pi*phi_by_2pi[1]))\n",
    "    computer.run(num_measures=1000)\n",
    "    results = computer.get_last_measurement()[1]\n",
    "    thetas = []\n",
    "    for i in range(len(results)):\n",
    "        result = results[i][:-1]\n",
    "        thetas.append((0.5) * int(result[0]) + (0.25) * int(result[1]))\n",
    "    types = []\n",
    "    [types.append(x) for x in thetas if x not in types]\n",
    "    probs = [thetas.count(value)/len(thetas) for value in types]\n",
    "\n",
    "    fig, ax = plt.subplots()\n",
    "    bars = plt.bar(types, probs, width=0.1, label = r'Predicted $\\theta_j$')\n",
    "    line = plt.axvline(x = phi_by_2pi[1], color = 'r', label = r'Actual $\\theta_j$')\n",
    "    plt.title(r\"Predicted vs. Actual for $\\theta_j$\")\n",
    "    plt.xlabel(r\"$\\theta_j$\")\n",
    "    plt.ylabel(\"Probability\")\n",
    "    plt.xlim(-0.1, 1.1)\n",
    "    plt.ylim(0, 1)\n",
    "    plt.legend()\n",
    "\n",
    "    def update(i):\n",
    "        computer = Quantum_Computer(PhaseE_D2(2*m.pi*phi_by_2pi[i]))\n",
    "        computer.run(num_measures=10000)\n",
    "        results = computer.get_last_measurement()[1]\n",
    "        thetas = []\n",
    "        for j in range(len(results)):\n",
    "            result = results[j][:-1]\n",
    "            thetas.append((0.5) * int(result[0]) + (0.25) * int(result[1]))\n",
    "        types = []\n",
    "        [types.append(x) for x in thetas if x not in types]\n",
    "        probs = [thetas.count(value)/len(thetas) for value in types]\n",
    "        plt.cla()\n",
    "        bars = plt.bar(types, probs, width=0.1, label = r'Predicted $\\theta_j$')\n",
    "        line = plt.axvline(x = phi_by_2pi[i], color = 'r', label = r'Actual $\\theta_j$')\n",
    "        plt.title(r\"Predicted vs. Actual for $\\theta_j$\")\n",
    "        plt.xlabel(r\"$\\theta_j$\")\n",
    "        plt.ylabel(\"Probability\")\n",
    "        plt.xlim(-0.1, 1.1)\n",
    "        plt.ylim(0, 1)\n",
    "        plt.legend(loc='upper right')\n",
    "        return [bars], [line]\n",
    "\n",
    "    anim = FuncAnimation(fig, update, frames=n_frames, interval = 10, repeat=True, cache_frame_data=True)\n",
    "    anim.save(\"thetaprediction2wires.gif\")\n",
    "    plt.show()\n",
    "# animation2()"
   ]
  },
  {
   "cell_type": "code",
   "execution_count": 178,
   "id": "09104789",
   "metadata": {
    "ExecuteTime": {
     "end_time": "2023-02-10T21:30:15.558336Z",
     "start_time": "2023-02-10T21:30:15.542336Z"
    },
    "code_folding": [
     0
    ]
   },
   "outputs": [],
   "source": [
    "def QFT(n):\n",
    "    st = \"\"\n",
    "    for i in range(n):\n",
    "        st += f\"H {n-i-1}\"\n",
    "        for j in range(n-i-1):\n",
    "            st += f\"\\nCPHASE {n-i-1} {n-i-1-j-1} {m.pi/(2**(j+1))}\"\n",
    "        st += \"\\n\"\n",
    "    return st[:-1]"
   ]
  },
  {
   "cell_type": "code",
   "execution_count": 179,
   "id": "bdba3cd7",
   "metadata": {
    "ExecuteTime": {
     "end_time": "2023-02-10T21:30:16.475104Z",
     "start_time": "2023-02-10T21:30:16.452132Z"
    }
   },
   "outputs": [
    {
     "name": "stdout",
     "output_type": "stream",
     "text": [
      "5\n",
      "INITSTATE FILE myInputState.txt\n",
      "H 2\n",
      "CPHASE 2 1 1.5707963267948966\n",
      "CPHASE 2 0 0.7853981633974483\n",
      "H 1\n",
      "CPHASE 1 0 1.5707963267948966\n",
      "H 0\n",
      "{ (0.012-0.053j) |00000> + (-0.001-0.318j) |00001> + (-0.086-0.089j) |00010> + (-0.005+0.017j) |00011> + (-0.102+0.202j) |00100> + (0.022-0.008j) |00101> + (0.111-0.157j) |00110> + (0.007+0.105j) |00111> + (0.137-0.006j) |01000> + (0.094+0.142j) |01001> + (0.143+0.124j) |01010> + (-0.023-0.1j) |01011> + (-0.163-0.141j) |01100> + (-0.018+0.07j) |01101> + (-0.035+0.092j) |01110> + (0.046-0.214j) |01111> + (0.041-0.112j) |10000> + (0.044-0.125j) |10001> + (-0.101-0.294j) |10010> + (0.124-0.111j) |10011> + (0.023-0.112j) |10100> + (0.039-0.184j) |10101> + (-0.073-0.119j) |10110> + (-0.175+0.082j) |10111> + (-0.123+0.057j) |11000> + (0.168-0.087j) |11001> + (-0.214-0.063j) |11010> + (-0.051+0.096j) |11011> + (0.05-0.317j) |11100> + (0.024+0.033j) |11101> + (-0.026-0.023j) |11110> + (0.276+0.135j) |11111>}\n"
     ]
    }
   ],
   "source": [
    "QFT_description = f\"\"\"5\n",
    "INITSTATE FILE myInputState.txt\n",
    "{QFT(3)}\"\"\"\n",
    "QFT_test_computer = Quantum_Computer(QFT_description, print_circuit=True)\n",
    "PrettyPrintBinary(QFT_test_computer.run())"
   ]
  },
  {
   "cell_type": "code",
   "execution_count": 180,
   "id": "7a961a17",
   "metadata": {
    "ExecuteTime": {
     "end_time": "2023-02-10T21:30:17.529362Z",
     "start_time": "2023-02-10T21:30:17.516368Z"
    },
    "code_folding": []
   },
   "outputs": [],
   "source": [
    "def custom_description1(control, wire, m):\n",
    "    return f\"\"\"CPHASE {control} {wire} {2*m.pi*0.3}\n",
    "CNOT {control} {wire}\n",
    "CPHASE {control} {wire} {2*m.pi*0.7}\n",
    "CNOT {control} {wire}\"\"\""
   ]
  },
  {
   "cell_type": "code",
   "execution_count": 181,
   "id": "8e5d258a",
   "metadata": {
    "ExecuteTime": {
     "end_time": "2023-02-10T21:30:18.527236Z",
     "start_time": "2023-02-10T21:30:18.515243Z"
    },
    "code_folding": []
   },
   "outputs": [],
   "source": [
    "def phase_estimator(n, m=1, phi=0, is_custom=False, custom_description=\"\"):\n",
    "    basis0, basis1 = \"\", \"\"\n",
    "    for i in range(n):\n",
    "        basis0 += \"0\"\n",
    "    for i in range(m):\n",
    "        basis1 += \"1\"\n",
    "    st = f\"\"\"{n+m}\\nINITSTATE BASIS |{basis0}{basis1}>\\n\"\"\"\n",
    "    for i in range(n):\n",
    "        st+=f\"H {i}\\n\"\n",
    "    if is_custom:\n",
    "        for i in range(n):\n",
    "            for j in range(2**i):\n",
    "                st+=f\"{custom_description(n-1-i, n, m)}\\n\"\n",
    "    else:\n",
    "        for i in range(n):\n",
    "            st+=f\"CPHASE {n-1-i} {n} {2**i*phi}\\n\"\n",
    "    st += f\"{invert_description(QFT(n))}\\n\"\n",
    "    st += f\"{REVERSE(0, n)}\\n\"\n",
    "    st += \"MEASURE\"\n",
    "    return st"
   ]
  },
  {
   "cell_type": "code",
   "execution_count": 202,
   "id": "b9dcf9a2",
   "metadata": {
    "ExecuteTime": {
     "end_time": "2023-02-10T21:38:50.882747Z",
     "start_time": "2023-02-10T21:38:50.874776Z"
    }
   },
   "outputs": [
    {
     "data": {
      "text/plain": [
       "[[(1+0j), '000001']]"
      ]
     },
     "execution_count": 202,
     "metadata": {},
     "output_type": "execute_result"
    }
   ],
   "source": [
    "add_duplicates(state)"
   ]
  },
  {
   "cell_type": "code",
   "execution_count": 183,
   "id": "925b5568",
   "metadata": {
    "ExecuteTime": {
     "end_time": "2023-02-10T21:30:23.250935Z",
     "start_time": "2023-02-10T21:30:23.223951Z"
    }
   },
   "outputs": [
    {
     "ename": "AttributeError",
     "evalue": "'int' object has no attribute 'pi'",
     "output_type": "error",
     "traceback": [
      "\u001b[1;31m---------------------------------------------------------------------------\u001b[0m",
      "\u001b[1;31mAttributeError\u001b[0m                            Traceback (most recent call last)",
      "\u001b[1;32m~\\AppData\\Local\\Temp\\ipykernel_17556\\4126712634.py\u001b[0m in \u001b[0;36m<module>\u001b[1;34m\u001b[0m\n\u001b[1;32m----> 1\u001b[1;33m \u001b[0mprint\u001b[0m\u001b[1;33m(\u001b[0m\u001b[0mphase_estimator\u001b[0m\u001b[1;33m(\u001b[0m\u001b[1;36m6\u001b[0m\u001b[1;33m,\u001b[0m \u001b[0mis_custom\u001b[0m\u001b[1;33m=\u001b[0m\u001b[1;32mTrue\u001b[0m\u001b[1;33m,\u001b[0m \u001b[0mcustom_description\u001b[0m\u001b[1;33m=\u001b[0m\u001b[0mcustom_description1\u001b[0m\u001b[1;33m)\u001b[0m\u001b[1;33m)\u001b[0m\u001b[1;33m\u001b[0m\u001b[1;33m\u001b[0m\u001b[0m\n\u001b[0m",
      "\u001b[1;32m~\\AppData\\Local\\Temp\\ipykernel_17556\\3020157519.py\u001b[0m in \u001b[0;36mphase_estimator\u001b[1;34m(n, m, phi, is_custom, custom_description)\u001b[0m\n\u001b[0;32m     11\u001b[0m         \u001b[1;32mfor\u001b[0m \u001b[0mi\u001b[0m \u001b[1;32min\u001b[0m \u001b[0mrange\u001b[0m\u001b[1;33m(\u001b[0m\u001b[0mn\u001b[0m\u001b[1;33m)\u001b[0m\u001b[1;33m:\u001b[0m\u001b[1;33m\u001b[0m\u001b[1;33m\u001b[0m\u001b[0m\n\u001b[0;32m     12\u001b[0m             \u001b[1;32mfor\u001b[0m \u001b[0mj\u001b[0m \u001b[1;32min\u001b[0m \u001b[0mrange\u001b[0m\u001b[1;33m(\u001b[0m\u001b[1;36m2\u001b[0m\u001b[1;33m**\u001b[0m\u001b[0mi\u001b[0m\u001b[1;33m)\u001b[0m\u001b[1;33m:\u001b[0m\u001b[1;33m\u001b[0m\u001b[1;33m\u001b[0m\u001b[0m\n\u001b[1;32m---> 13\u001b[1;33m                 \u001b[0mst\u001b[0m\u001b[1;33m+=\u001b[0m\u001b[1;34mf\"{custom_description(n-1-i, n, m)}\\n\"\u001b[0m\u001b[1;33m\u001b[0m\u001b[1;33m\u001b[0m\u001b[0m\n\u001b[0m\u001b[0;32m     14\u001b[0m     \u001b[1;32melse\u001b[0m\u001b[1;33m:\u001b[0m\u001b[1;33m\u001b[0m\u001b[1;33m\u001b[0m\u001b[0m\n\u001b[0;32m     15\u001b[0m         \u001b[1;32mfor\u001b[0m \u001b[0mi\u001b[0m \u001b[1;32min\u001b[0m \u001b[0mrange\u001b[0m\u001b[1;33m(\u001b[0m\u001b[0mn\u001b[0m\u001b[1;33m)\u001b[0m\u001b[1;33m:\u001b[0m\u001b[1;33m\u001b[0m\u001b[1;33m\u001b[0m\u001b[0m\n",
      "\u001b[1;32m~\\AppData\\Local\\Temp\\ipykernel_17556\\1363267647.py\u001b[0m in \u001b[0;36mcustom_description1\u001b[1;34m(control, wire, m)\u001b[0m\n\u001b[0;32m      1\u001b[0m \u001b[1;32mdef\u001b[0m \u001b[0mcustom_description1\u001b[0m\u001b[1;33m(\u001b[0m\u001b[0mcontrol\u001b[0m\u001b[1;33m,\u001b[0m \u001b[0mwire\u001b[0m\u001b[1;33m,\u001b[0m \u001b[0mm\u001b[0m\u001b[1;33m)\u001b[0m\u001b[1;33m:\u001b[0m\u001b[1;33m\u001b[0m\u001b[1;33m\u001b[0m\u001b[0m\n\u001b[1;32m----> 2\u001b[1;33m     return f\"\"\"CPHASE {control} {wire} {2*m.pi*0.3}\n\u001b[0m\u001b[0;32m      3\u001b[0m \u001b[0mCNOT\u001b[0m \u001b[1;33m{\u001b[0m\u001b[0mcontrol\u001b[0m\u001b[1;33m}\u001b[0m \u001b[1;33m{\u001b[0m\u001b[0mwire\u001b[0m\u001b[1;33m}\u001b[0m\u001b[1;33m\u001b[0m\u001b[1;33m\u001b[0m\u001b[0m\n\u001b[0;32m      4\u001b[0m \u001b[0mCPHASE\u001b[0m \u001b[1;33m{\u001b[0m\u001b[0mcontrol\u001b[0m\u001b[1;33m}\u001b[0m \u001b[1;33m{\u001b[0m\u001b[0mwire\u001b[0m\u001b[1;33m}\u001b[0m \u001b[1;33m{\u001b[0m\u001b[1;36m2\u001b[0m\u001b[1;33m*\u001b[0m\u001b[0mm\u001b[0m\u001b[1;33m.\u001b[0m\u001b[0mpi\u001b[0m\u001b[1;33m*\u001b[0m\u001b[1;36m0.7\u001b[0m\u001b[1;33m}\u001b[0m\u001b[1;33m\u001b[0m\u001b[1;33m\u001b[0m\u001b[0m\n\u001b[0;32m      5\u001b[0m CNOT {control} {wire}\"\"\"\n",
      "\u001b[1;31mAttributeError\u001b[0m: 'int' object has no attribute 'pi'"
     ]
    }
   ],
   "source": [
    "print(phase_estimator(6, is_custom=True, custom_description=custom_description1))"
   ]
  },
  {
   "cell_type": "code",
   "execution_count": 26,
   "id": "a1886a33",
   "metadata": {
    "ExecuteTime": {
     "end_time": "2023-02-10T19:11:20.790170Z",
     "start_time": "2023-02-10T19:11:20.123142Z"
    },
    "code_folding": [
     0
    ],
    "collapsed": true
   },
   "outputs": [
    {
     "data": {
      "image/png": "[encoded data removed]",
      "text/plain": [
       "<Figure size 640x480 with 1 Axes>"
      ]
     },
     "metadata": {},
     "output_type": "display_data"
    }
   ],
   "source": [
    "def custom_description_PhaseE():\n",
    "    n = 6\n",
    "    computer1 = Quantum_Computer(phase_estimator(6, is_custom=True, custom_description=custom_description1))\n",
    "    computer1.run(num_measures=10000)\n",
    "    results1 = computer1.get_last_measurement()[1]\n",
    "    thetas1 = []\n",
    "    for i in range(len(results1)):\n",
    "        result = results1[i][:-1]\n",
    "        theta = 0\n",
    "        for j in range(n):\n",
    "            theta += (1/2)**(j+1)*int(result[j])\n",
    "        thetas1.append(theta)\n",
    "    types1 = []\n",
    "    [types1.append(x) for x in thetas1 if x not in types1]\n",
    "    probs1 = [thetas1.count(value)/len(thetas1) for value in types1]\n",
    "\n",
    "    vec = np.zeros(2**(n+1))\n",
    "    vec[0] = 1\n",
    "    computer2 = Quantum_Computer(phase_estimator(6, is_custom=True, custom_description=custom_description1))\n",
    "    computer2.run(num_measures=10000, initial_state=VecToState(vec))\n",
    "    results2 = computer2.get_last_measurement()[1]\n",
    "    thetas2 = []\n",
    "    for i in range(len(results2)):\n",
    "        result = results2[i][:-1]\n",
    "        theta = 0\n",
    "        for j in range(n):\n",
    "            theta += (1/2)**(j+1)*int(result[j])\n",
    "        thetas2.append(theta)\n",
    "    types2 = []\n",
    "    [types2.append(x) for x in thetas2 if x not in types2]\n",
    "    probs2 = [thetas2.count(value)/len(thetas2) for value in types2]\n",
    "\n",
    "    width = 1/2**n\n",
    "    if width > 0.1: width = 0.1\n",
    "    plt.figure()\n",
    "    plt.bar(types1, probs1, width=width, color = \"blue\", label = r'Predicted $\\theta_j$ for |0>')\n",
    "    plt.bar(types2, probs2, width=width, color=\"g\", label = r'Predicted $\\theta_j$ for |1>')\n",
    "    plt.axvline(x = 0.3, color = 'r', label = r'Actual $\\theta_j$ for |0>')\n",
    "    plt.axvline(x = 0.7, color = 'yellow', label = r'Actual $\\theta_j$ for |1>')\n",
    "\n",
    "    plt.title(f\"Predicted vs. Actual with {n} wires\\n\" + r\"for custom U\")\n",
    "    plt.xlabel(r\"$\\theta_j$\")\n",
    "    plt.ylabel(\"Probability\")\n",
    "    plt.legend()\n",
    "    plt.show()\n",
    "custom_description_PhaseE()"
   ]
  },
  {
   "cell_type": "code",
   "execution_count": 27,
   "id": "7e11a4fc",
   "metadata": {
    "ExecuteTime": {
     "end_time": "2023-02-10T19:11:24.212174Z",
     "start_time": "2023-02-10T19:11:21.693142Z"
    },
    "code_folding": [
     0
    ],
    "collapsed": true
   },
   "outputs": [
    {
     "data": {
      "image/png": "[encoded data removed]",
      "text/plain": [
       "<Figure size 640x480 with 1 Axes>"
      ]
     },
     "metadata": {},
     "output_type": "display_data"
    }
   ],
   "source": [
    "def PhaseE_G1_Generator(n):\n",
    "    phi_by_2pi = np.linspace(0, 1, 100)\n",
    "    theta_j = []\n",
    "    for i in phi_by_2pi:\n",
    "        desc = phase_estimator(n, 2*m.pi*i)\n",
    "        results = Quantum_Computer(desc).run()\n",
    "        max_val = 0\n",
    "        fin_state = 0\n",
    "        for result in results:\n",
    "            prob = result[0].real\n",
    "            if prob > max_val:\n",
    "                max_val = prob\n",
    "                fin_state = result[1][:-1]\n",
    "        theta = 0\n",
    "        for j in range(n):\n",
    "            theta += (1/2)**(j+1)*int(fin_state[j])\n",
    "        theta_j.append(theta)\n",
    "\n",
    "    plt.figure()\n",
    "    plt.plot(phi_by_2pi, theta_j)\n",
    "    plt.title(r\"$\\frac{\\phi}{2\\pi}$ vs. Predicted $\\theta_j$ with\" + f\" {n} wires\")\n",
    "    plt.xlabel(r\"$\\frac{\\phi}{2\\pi}$\")\n",
    "    plt.ylabel(r\"Predicted $\\theta_j$\")\n",
    "    plt.show()\n",
    "PhaseE_G1_Generator(6)"
   ]
  },
  {
   "cell_type": "code",
   "execution_count": null,
   "id": "72e89c39",
   "metadata": {
    "ExecuteTime": {
     "end_time": "2023-02-10T19:11:24.247144Z",
     "start_time": "2023-02-10T19:11:24.247144Z"
    },
    "code_folding": [
     0
    ]
   },
   "outputs": [],
   "source": [
    "def PhaseE_G2_Generator(n, num_measures=1000):\n",
    "    phi_by_2pi_set = 0.1432394487827058\n",
    "    desc = phase_estimator(n, 2*m.pi*phi_by_2pi_set)\n",
    "    computer = Quantum_Computer(desc)\n",
    "    computer.run(num_measures=num_measures)\n",
    "    results = computer.get_last_measurement()[1]\n",
    "    thetas = []\n",
    "    for i in range(len(results)):\n",
    "        result = results[i][:-1]\n",
    "        theta = 0\n",
    "        for j in range(n):\n",
    "            theta += (1/2)**(j+1)*int(result[j])\n",
    "        thetas.append(theta)\n",
    "    types = []\n",
    "    [types.append(x) for x in thetas if x not in types]\n",
    "    probs = [thetas.count(value)/len(thetas) for value in types]\n",
    "\n",
    "    width = 1/2**n\n",
    "    if width > 0.1: width = 0.1\n",
    "    plt.figure()\n",
    "    plt.bar(types, probs, width=width, label = r'Predicted $\\theta_j$')\n",
    "    plt.axvline(x = phi_by_2pi_set, color = 'r', label = r'Actual $\\theta_j$')\n",
    "    plt.title(f\"Predicted vs. Actual with {n} wires\\n\" + r\"for $\\theta_j$=0.1432394487827058\")\n",
    "    plt.xlabel(r\"$\\theta_j$\")\n",
    "    plt.ylabel(\"Probability\")\n",
    "    plt.legend()\n",
    "    plt.show()\n",
    "PhaseE_G2_Generator(6)"
   ]
  },
  {
   "cell_type": "code",
   "execution_count": null,
   "id": "ac63ac3b",
   "metadata": {
    "ExecuteTime": {
     "end_time": "2023-02-10T19:11:24.252141Z",
     "start_time": "2023-02-10T19:11:24.252141Z"
    },
    "code_folding": [
     0
    ]
   },
   "outputs": [],
   "source": [
    "def PhaseE_G2_Animation_Generator(n, n_frames=200, time=2, num_measures=10000):\n",
    "    phi_by_2pi = np.linspace(0, 1, n_frames)\n",
    "    computer = Quantum_Computer(phase_estimator(n, 2*m.pi*phi_by_2pi[1]))\n",
    "    computer.run(num_measures=num_measures)\n",
    "    results = computer.get_last_measurement()[1]\n",
    "    thetas = []\n",
    "    for j in range(len(results)):\n",
    "        result = results[j][:-1]\n",
    "        theta = 0\n",
    "        for k in range(n):\n",
    "            theta += (1/2)**(k+1)*int(result[k])\n",
    "        thetas.append(theta)\n",
    "    types = []\n",
    "    [types.append(x) for x in thetas if x not in types]\n",
    "    probs = [thetas.count(value)/len(thetas) for value in types]\n",
    "\n",
    "    width = 1/2**n\n",
    "    if width > 0.1: width = 0.1\n",
    "    fig, ax = plt.subplots()\n",
    "    bars = plt.bar(types, probs, width=width, label = r'Predicted $\\theta_j$')\n",
    "    line = plt.axvline(x = phi_by_2pi[1], color = 'r', label = r'Actual $\\theta_j$')\n",
    "    plt.title(r\"Predicted vs. Actual for $\\theta_j$\" + f\"\\nWith {n} Wires\")\n",
    "    plt.xlabel(r\"$\\theta_j$\")\n",
    "    plt.ylabel(\"Probability\")\n",
    "    plt.xlim(-0.1, 1.1)\n",
    "    plt.ylim(0, 1)\n",
    "    plt.legend()\n",
    "    \n",
    "    def update(i):\n",
    "        computer = Quantum_Computer(phase_estimator(n, 2*m.pi*phi_by_2pi[i]))\n",
    "        computer.run(num_measures=num_measures)\n",
    "        results = computer.get_last_measurement()[1]\n",
    "        thetas = []\n",
    "        for j in range(len(results)):\n",
    "            result = results[j][:-1]\n",
    "            theta = 0\n",
    "            for k in range(n):\n",
    "                theta += (1/2)**(k+1)*int(result[k])\n",
    "            thetas.append(theta)\n",
    "        types = []\n",
    "        [types.append(x) for x in thetas if x not in types]\n",
    "        probs = [thetas.count(value)/len(thetas) for value in types]\n",
    "        plt.cla()\n",
    "        bars = plt.bar(types, probs, width=width, label = r'Predicted $\\theta_j$')\n",
    "        line = plt.axvline(x = phi_by_2pi[i], color = 'r', label = r'Actual $\\theta_j$')\n",
    "        plt.title(r\"Predicted vs. Actual for $\\theta_j$\" + f\"\\nWith {n} Wires\")\n",
    "        plt.xlabel(r\"$\\theta_j$\")\n",
    "        plt.ylabel(\"Probability\")\n",
    "        plt.xlim(-0.1, 1.1)\n",
    "        plt.ylim(0, 1)\n",
    "        plt.legend(loc='upper right')\n",
    "        return [bars], [line]\n",
    "\n",
    "    anim = FuncAnimation(fig, update, frames=n_frames, interval = time*1000/n_frames, repeat=True, cache_frame_data=True)\n",
    "    anim.save(f\"thetaprediction{n}wires_gen.gif\")\n",
    "    plt.show()\n",
    "# PhaseE_G2_Animation_Generator(6, n_frames=1000, time=5)"
   ]
  },
  {
   "cell_type": "code",
   "execution_count": 87,
   "id": "0e4afebe",
   "metadata": {
    "ExecuteTime": {
     "end_time": "2023-02-10T20:11:44.461627Z",
     "start_time": "2023-02-10T20:11:44.444627Z"
    },
    "code_folding": []
   },
   "outputs": [],
   "source": [
    "def Shor(n, return_error=False):\n",
    "    e1, e2 = 0, 0\n",
    "    if n <= 1:\n",
    "        print(f\"{n} shouldn't be here\")\n",
    "        if return_error: return e1, e2\n",
    "        return n, n\n",
    "    if sympy.isprime(n):\n",
    "        if return_error: return e1, e2\n",
    "        return -1, -1\n",
    "    if n % 2 == 0:\n",
    "        factor = int(n/2)\n",
    "        if return_error: return e1, e2\n",
    "        return 2, factor\n",
    "    for a in range(2, int(m.log2(n))):\n",
    "        if (n**(1/a)).is_integer():\n",
    "            if return_error: return e1, e2\n",
    "            return int(n**(1/a)), int(n/(n**(1/a)))\n",
    "    rng = np.random.default_rng()\n",
    "    while 0<1:\n",
    "        x = int(rng.integers(1, n))\n",
    "        if m.gcd(x, n) != 1:\n",
    "            if return_error: return e1, e2\n",
    "            return int(m.gcd(x, n)), int(n/m.gcd(x, n))\n",
    "        r = 2\n",
    "        while x**r % n != 1:\n",
    "            if (r>n):\n",
    "                print(f\"r = {r} > n = {n}\")\n",
    "                raise ValueError()\n",
    "            r+=1\n",
    "        if r % 2 != 0:\n",
    "            e1 += 1\n",
    "            continue\n",
    "        f1 = int(m.gcd(int((x**int(r/2)+1) % n), n))\n",
    "        f2 = int(m.gcd(int((x**int(r/2)-1) % n), n))\n",
    "        if f1 == 1 or f2 == 1 or f1 == n or f2 == n:\n",
    "            e2+=1\n",
    "            continue\n",
    "#         print(f\"For N = {n}: x = {x}, r = {r}\")\n",
    "        if return_error: return e1, e2\n",
    "        return f1, f2"
   ]
  },
  {
   "cell_type": "code",
   "execution_count": 81,
   "id": "f4993898",
   "metadata": {
    "ExecuteTime": {
     "end_time": "2023-02-10T19:40:58.560842Z",
     "start_time": "2023-02-10T19:40:58.542819Z"
    }
   },
   "outputs": [
    {
     "name": "stdout",
     "output_type": "stream",
     "text": [
      "N = 15\n",
      "Factors are 5 and 3\n",
      "N = 21\n",
      "For N = 21: x = 10, r = 6\n",
      "Factors are 7 and 3\n"
     ]
    }
   ],
   "source": [
    "numbers = [15, 21]\n",
    "for num in numbers:\n",
    "    print(f\"N = {num}\")\n",
    "    n1, n2 = Shor(num)\n",
    "    print(f\"Factors are {n1} and {n2}\")"
   ]
  },
  {
   "cell_type": "code",
   "execution_count": 30,
   "id": "cc34810d",
   "metadata": {
    "ExecuteTime": {
     "end_time": "2023-02-10T19:11:25.938142Z",
     "start_time": "2023-02-10T19:11:25.922141Z"
    },
    "code_folding": []
   },
   "outputs": [],
   "source": [
    "def full_factorization(n):\n",
    "    if not isinstance(n, int):\n",
    "        print(\"bitch\")\n",
    "        return Quantum_Computer(\"1\\nH 0\")\n",
    "    if n < 0:\n",
    "        print(f\"heyyyyyyy, why you do this to mee :(\")\n",
    "        print(f\"Well fuck you anyway I'm making it positive\")\n",
    "        print(f\"number = {-n}\")\n",
    "        n = -n\n",
    "    if sympy.isprime(n) or n <= 1:\n",
    "        print(f\"{n} is a prime number silly!\")\n",
    "        return n\n",
    "    factors = []\n",
    "    non_prime = [n]\n",
    "    while len(non_prime) != 0:\n",
    "        for i in range(len(non_prime)): \n",
    "#             t.sleep(0.05)\n",
    "            num = non_prime.pop()\n",
    "            n1, n2 = Shor(num)\n",
    "            if n1 == -1 and n2 == -1:\n",
    "                print(f\"Yay! Found factor {num} :)\")\n",
    "                factors.append(num)\n",
    "            else:\n",
    "                non_prime.append(n1)\n",
    "                non_prime.append(n2)\n",
    "    return factors"
   ]
  },
  {
   "cell_type": "code",
   "execution_count": 82,
   "id": "269a0d45",
   "metadata": {
    "ExecuteTime": {
     "end_time": "2023-02-10T19:59:46.441636Z",
     "start_time": "2023-02-10T19:59:46.422639Z"
    }
   },
   "outputs": [
    {
     "name": "stdout",
     "output_type": "stream",
     "text": [
      "For N = 3185: x = 1507, r = 84\n",
      "For N = 637: x = 24, r = 84\n",
      "Yay! Found factor 7 :)\n",
      "Yay! Found factor 7 :)\n",
      "Yay! Found factor 13 :)\n",
      "Yay! Found factor 5 :)\n",
      "Yay! Found factor 2 :)\n",
      "Yay! Found factor 2 :)\n",
      "Factors are: [7, 7, 13, 5, 2, 2]\n"
     ]
    }
   ],
   "source": [
    "number = 12740\n",
    "print(f\"Factors are: {full_factorization(number)}\")"
   ]
  },
  {
   "cell_type": "code",
   "execution_count": 92,
   "id": "cd99cbe0",
   "metadata": {
    "ExecuteTime": {
     "end_time": "2023-02-10T20:13:42.793391Z",
     "start_time": "2023-02-10T20:13:42.775395Z"
    }
   },
   "outputs": [],
   "source": [
    "def rolling_avg(arr, window):\n",
    "    to_return = []\n",
    "    for i in range(len(arr)):\n",
    "        lower = int(i-window/2)\n",
    "        upper = int(i+window/2)\n",
    "        if lower < 0: lower = 0\n",
    "        if upper >= len(arr): upper = len(arr)-1\n",
    "        to_return.append(sum(arr[lower:upper])/(upper-lower))          \n",
    "    return to_return"
   ]
  },
  {
   "cell_type": "code",
   "execution_count": 110,
   "id": "72767b63",
   "metadata": {
    "ExecuteTime": {
     "end_time": "2023-02-10T20:20:09.894812Z",
     "start_time": "2023-02-10T20:19:31.136705Z"
    }
   },
   "outputs": [],
   "source": [
    "import time as t\n",
    "execute_times = []\n",
    "e1s = []\n",
    "e2s = []\n",
    "for k in range(2, 7500):\n",
    "    start = t.time()\n",
    "    e1, e2 = Shor(k, return_error = True)\n",
    "    stop = t.time()\n",
    "    execute_times.append(stop-start)\n",
    "    e1s.append(e1)\n",
    "    e2s.append(e2)"
   ]
  },
  {
   "cell_type": "code",
   "execution_count": 119,
   "id": "1fc55aad",
   "metadata": {
    "ExecuteTime": {
     "end_time": "2023-02-10T20:23:49.824039Z",
     "start_time": "2023-02-10T20:23:49.714001Z"
    }
   },
   "outputs": [
    {
     "data": {
      "image/png": "[encoded data removed]",
      "text/plain": [
       "<Figure size 640x480 with 1 Axes>"
      ]
     },
     "metadata": {},
     "output_type": "display_data"
    }
   ],
   "source": [
    "window = 100\n",
    "plt.figure()\n",
    "plt.plot(rolling_avg(execute_times, window))\n",
    "plt.xlabel(\"K\")\n",
    "plt.ylabel(f\"Rolling Average of Execution Time (s) (window={window})\")\n",
    "plt.title(\"Execution Time vs. K\")\n",
    "plt.show()"
   ]
  },
  {
   "cell_type": "code",
   "execution_count": 111,
   "id": "5b261424",
   "metadata": {
    "ExecuteTime": {
     "end_time": "2023-02-10T20:20:13.689431Z",
     "start_time": "2023-02-10T20:20:13.530454Z"
    }
   },
   "outputs": [
    {
     "data": {
      "image/png": "[encoded data removed]",
      "text/plain": [
       "<Figure size 640x480 with 1 Axes>"
      ]
     },
     "metadata": {},
     "output_type": "display_data"
    }
   ],
   "source": [
    "window = 100\n",
    "plt.figure()\n",
    "# plt.plot(rolling_avg(execute_times, 100))\n",
    "plt.plot(rolling_avg(e1s, window), label = \"R odd\")\n",
    "plt.plot(rolling_avg(e2s, window), label = \"Factor = 1\")\n",
    "plt.xlabel(\"K\")\n",
    "plt.ylabel(f\"Rolling Average of Occurences (window={window})\")\n",
    "plt.title(\"Error Type Occurences vs. K\")\n",
    "plt.legend()\n",
    "plt.show()"
   ]
  },
  {
   "cell_type": "code",
   "execution_count": 139,
   "id": "1e50e4f9",
   "metadata": {
    "ExecuteTime": {
     "end_time": "2023-02-10T21:02:41.580708Z",
     "start_time": "2023-02-10T21:02:41.574708Z"
    }
   },
   "outputs": [
    {
     "name": "stdout",
     "output_type": "stream",
     "text": [
      "[1, '000001000']\n"
     ]
    }
   ],
   "source": [
    "element = [1, '000110010']\n",
    "wire = 3\n",
    "num_wires = 5\n",
    "x = 4\n",
    "N = 12\n",
    "\n",
    "y = int(element[1][wire:wire+num_wires], 2)\n",
    "y_out = bin(x*y % N)[2:]\n",
    "while len(y_out)<num_wires:\n",
    "    y_out = '0' + y_out\n",
    "element[1] = element[1][:wire] + y_out + element[1][wire+num_wires:]\n",
    "print(element)"
   ]
  },
  {
   "cell_type": "code",
   "execution_count": null,
   "id": "0a752cfb",
   "metadata": {},
   "outputs": [],
   "source": []
  }
 ],
 "metadata": {
  "kernelspec": {
   "display_name": "Python 3 (ipykernel)",
   "language": "python",
   "name": "python3"
  },
  "language_info": {
   "codemirror_mode": {
    "name": "ipython",
    "version": 3
   },
   "file_extension": ".py",
   "mimetype": "text/x-python",
   "name": "python",
   "nbconvert_exporter": "python",
   "pygments_lexer": "ipython3",
   "version": "3.9.13"
  },
  "varInspector": {
   "cols": {
    "lenName": 16,
    "lenType": 16,
    "lenVar": 40
   },
   "kernels_config": {
    "python": {
     "delete_cmd_postfix": "",
     "delete_cmd_prefix": "del ",
     "library": "var_list.py",
     "varRefreshCmd": "print(var_dic_list())"
    },
    "r": {
     "delete_cmd_postfix": ") ",
     "delete_cmd_prefix": "rm(",
     "library": "var_list.r",
     "varRefreshCmd": "cat(var_dic_list()) "
    }
   },
   "types_to_exclude": [
    "module",
    "function",
    "builtin_function_or_method",
    "instance",
    "_Feature"
   ],
   "window_display": false
  }
 },
 "nbformat": 4,
 "nbformat_minor": 5
}
