{
 "cells": [
  {
   "cell_type": "code",
   "execution_count": 9,
   "id": "b3a02981",
   "metadata": {
    "ExecuteTime": {
     "end_time": "2023-02-08T21:22:42.649708Z",
     "start_time": "2023-02-08T21:22:42.641704Z"
    }
   },
   "outputs": [],
   "source": [
    "import numpy as np\n",
    "import matplotlib.pyplot as plt\n",
    "import math as m\n",
    "import copy\n",
    "import cmath as cm\n",
    "from  matplotlib.animation import FuncAnimation"
   ]
  },
  {
   "cell_type": "code",
   "execution_count": 10,
   "id": "6acde020",
   "metadata": {
    "ExecuteTime": {
     "end_time": "2023-02-08T21:22:43.253734Z",
     "start_time": "2023-02-08T21:22:43.229739Z"
    },
    "code_folding": [
     0,
     16,
     32,
     39,
     48,
     50,
     53
    ]
   },
   "outputs": [],
   "source": [
    "def PrettyPrintBinary(myState, do_return=False):\n",
    "    to_print = \"{ \"\n",
    "    vec = StateToVec(myState)\n",
    "    length = vec.shape[0]\n",
    "    bin_len = int(m.log2(length))\n",
    "    not_first = False\n",
    "    for i in range(length):\n",
    "        if vec[i] == 0+0.j:\n",
    "            continue\n",
    "        if not_first:\n",
    "            to_print += \" + \"\n",
    "        to_print += f\"{vec[i]} |{bin(i)[2:].zfill(bin_len)}>\"\n",
    "        not_first = True\n",
    "    to_print += \"}\"\n",
    "    if do_return: return to_print\n",
    "    print(to_print)\n",
    "def PrettyPrintInteger(myState, do_return=False):\n",
    "    to_print = \"{ \"\n",
    "    vec = StateToVec(myState)\n",
    "    length = vec.shape[0]\n",
    "    bin_len = int(m.log2(length))\n",
    "    not_first = False\n",
    "    for i in range(length):\n",
    "        if vec[i] == 0+0.j:\n",
    "            continue\n",
    "        if not_first:\n",
    "            to_print += \" + \"\n",
    "        to_print += f\"{vec[i]} |{i}>\"\n",
    "        not_first = True\n",
    "    to_print += \"}\"\n",
    "    if do_return: return to_print\n",
    "    print(to_print)\n",
    "def StateToVec(myState):\n",
    "    vec_len = 2**len(myState[0][1])\n",
    "    to_return = np.zeros(vec_len, dtype = \"complex_\")\n",
    "    for s in myState:\n",
    "        idx = int(s[1], 2)\n",
    "        to_return[idx] += s[0]\n",
    "    return to_return\n",
    "def VecToState(myState):\n",
    "    to_return = []\n",
    "    length = myState.shape[0]\n",
    "    bin_len = int(m.log2(length))\n",
    "    for i in range(length):\n",
    "        if myState[i] == 0 + 0.j:\n",
    "            continue\n",
    "        to_return.append([myState[i], bin(i)[2:].zfill(bin_len)])\n",
    "    return to_return\n",
    "def add_duplicates(state):\n",
    "    return VecToState(StateToVec(state))\n",
    "def c_round(number, decimals):\n",
    "    number = complex(number)\n",
    "    return complex(round(number.real, decimals) + round(number.imag, decimals)*1.j)\n",
    "def clean_state(state, decimals):\n",
    "    for element in state:\n",
    "        element[0] = c_round(element[0], decimals)\n",
    "    return state"
   ]
  },
  {
   "cell_type": "code",
   "execution_count": 11,
   "id": "9dc6340d",
   "metadata": {
    "ExecuteTime": {
     "end_time": "2023-02-08T21:22:43.769751Z",
     "start_time": "2023-02-08T21:22:43.757737Z"
    }
   },
   "outputs": [
    {
     "name": "stdout",
     "output_type": "stream",
     "text": [
      "{ (0.7071067811865476+0j) |000> + (-0.6324555320336759+0j) |010> + 0.31622776601683794j |101>}\n",
      "{ (0.7071067811865476+0j) |0> + (-0.6324555320336759+0j) |2> + 0.31622776601683794j |5>}\n",
      "[ 0.70710678+0.j          0.        +0.j         -0.63245553+0.j\n",
      "  0.        +0.j          0.        +0.j          0.        +0.31622777j\n",
      "  0.        +0.j          0.        +0.j        ]\n",
      "[[(0.7071067811865476+0j), '000'], [(-0.6324555320336759+0j), '010'], [0.31622776601683794j, '101']]\n",
      "{ (0.7071067811865476+0j) |000> + (-0.6324555320336759+0j) |010> + 0.31622776601683794j |101>}\n"
     ]
    }
   ],
   "source": [
    "myState2=[\n",
    "   (np.sqrt(0.1)*1.j, '101'),\n",
    "   (np.sqrt(0.5), '000'),\n",
    "   (-np.sqrt(0.4), '010' )]\n",
    "PrettyPrintBinary(myState2)\n",
    "PrettyPrintInteger(myState2)\n",
    "print(StateToVec(myState2))\n",
    "print(VecToState(StateToVec(myState2)))\n",
    "PrettyPrintBinary(VecToState(StateToVec(myState2)))"
   ]
  },
  {
   "cell_type": "code",
   "execution_count": 12,
   "id": "1c94450d",
   "metadata": {
    "ExecuteTime": {
     "end_time": "2023-02-08T21:22:44.357741Z",
     "start_time": "2023-02-08T21:22:44.337735Z"
    }
   },
   "outputs": [
    {
     "name": "stdout",
     "output_type": "stream",
     "text": [
      "{ (0.31622776601683794+0j) |00> + (0.6324555320336759+0j) |01> + (-0.7071067811865476+0j) |11>}\n"
     ]
    }
   ],
   "source": [
    "myState3=[\n",
    "  (-np.sqrt(0.125), '11'),\n",
    "  (np.sqrt(0.1), '00'),\n",
    "  (np.sqrt(0.4), '01'),\n",
    "  (-np.sqrt(0.125), '11')\n",
    "]\n",
    "PrettyPrintBinary(add_duplicates(myState3))"
   ]
  },
  {
   "cell_type": "code",
   "execution_count": 13,
   "id": "a580d2c9",
   "metadata": {
    "ExecuteTime": {
     "end_time": "2023-02-08T21:22:45.361735Z",
     "start_time": "2023-02-08T21:22:45.333706Z"
    },
    "code_folding": [
     0,
     3,
     7,
     11,
     15,
     18,
     27,
     60
    ]
   },
   "outputs": [],
   "source": [
    "def NOT(wire):\n",
    "    return f\"\"\"H {wire}\\nP {wire} {m.pi}\\nH {wire}\"\"\"\n",
    "\n",
    "def RZ(wire, theta):\n",
    "    theta = float(theta)\n",
    "    return f\"\"\"P {wire} {theta/2}\\n{NOT(wire)}\\nP {wire} {-theta/2}\\n{NOT(wire)}\"\"\"\n",
    "\n",
    "def CRZ(control, change, theta):\n",
    "    theta = float(theta)\n",
    "    return f\"\"\"P {change} {theta/2}\\nCNOT {control} {change} \\nP {change} {-theta/2}\\nCNOT {control} {change}\"\"\"\n",
    "\n",
    "def CPHASE(control, change, theta):\n",
    "    theta = float(theta)\n",
    "    return f\"\"\"{CRZ(control, change, theta)}\\nP {control} {theta/2}\"\"\"\n",
    "\n",
    "def SWAP(wire1, wire2):\n",
    "    return f\"\"\"CNOT {wire1} {wire2}\\nCNOT {wire2} {wire1}\\nCNOT {wire1} {wire2}\"\"\"\n",
    "\n",
    "def REVERSE(start, stop):\n",
    "    st = \"\"\n",
    "    if (stop-start) % 2 == 0:\n",
    "        for i in range(start, start + int((stop-start)/2)):\n",
    "            st += f\"SWAP {i} {stop-i-1}\\n\"\n",
    "    if (stop-start) % 2 != 0:\n",
    "        for i in range(start, start + int((stop-start)/2)):\n",
    "            st += f\"SWAP {i} {stop-i-1}\\n\"\n",
    "    return st[:-1]\n",
    "\n",
    "def preprocess_description(description):\n",
    "    lines = description.splitlines(False)   \n",
    "    start = 0\n",
    "    st = \"\"\n",
    "    if len(lines[0])==1:\n",
    "        st += f\"{lines[0]}\\n\"\n",
    "        start += 1\n",
    "    if len(lines) > 1 and lines[1].split(' ')[0] == \"INITSTATE\":\n",
    "        st += f\"{lines[1]}\\n\"\n",
    "        start += 1\n",
    "    for line in lines[start:]:\n",
    "        pcs = line.split(' ')\n",
    "        if pcs[0] == 'H':\n",
    "            st += f\"{line}\\n\"\n",
    "        elif pcs[0] == 'P':\n",
    "            st += f\"{line}\\n\"\n",
    "        elif pcs[0] == 'CNOT':\n",
    "            st += f\"{line}\\n\"\n",
    "        elif pcs[0] == 'NOT':\n",
    "            st += f\"{NOT(pcs[1])}\\n\"\n",
    "        elif pcs[0] == 'RZ':\n",
    "            st += f\"{RZ(pcs[1], pcs[2])}\\n\"\n",
    "        elif pcs[0] == 'CRZ':\n",
    "            st += f\"{CRZ(pcs[1], pcs[2], pcs[3])}\\n\"            \n",
    "        elif pcs[0] == 'CPHASE':\n",
    "            st += f\"{CPHASE(pcs[1], pcs[2], pcs[3])}\\n\"\n",
    "        elif pcs[0] == 'SWAP':\n",
    "            st += f\"{SWAP(pcs[1], pcs[2])}\\n\"\n",
    "        elif pcs[0] == 'MEASURE':\n",
    "            st += f\"{line}\\n\"\n",
    "        elif pcs[0] == 'REVERSE':\n",
    "            st += f\"{REVERSE(pcs[1], pcs[2])}\\n\"\n",
    "    return st[:-1]\n",
    "\n",
    "def invert_description(description):\n",
    "    description = preprocess_description(description)\n",
    "    lines = description.splitlines(False)\n",
    "    gates = []\n",
    "    for line in lines:\n",
    "        pcs = line.split(' ')\n",
    "        if pcs[0] == 'H':\n",
    "            gates.append(line)\n",
    "        elif pcs[0] == 'P':\n",
    "            gates.append(f\"P {pcs[1]} {-float(pcs[2])}\")\n",
    "        elif pcs[0] == 'CNOT':\n",
    "            gates.append(line)\n",
    "    st = \"\"\n",
    "    gates.reverse()\n",
    "    for gate in gates:\n",
    "        st += f\"{gate}\\n\"\n",
    "    return st[:-1]"
   ]
  },
  {
   "cell_type": "code",
   "execution_count": 14,
   "id": "1365b317",
   "metadata": {
    "ExecuteTime": {
     "end_time": "2023-02-08T21:22:45.841707Z",
     "start_time": "2023-02-08T21:22:45.737703Z"
    },
    "code_folding": [
     2,
     46,
     52,
     60,
     64,
     71,
     75,
     82,
     90,
     98,
     112,
     118,
     121,
     127
    ]
   },
   "outputs": [],
   "source": [
    "class Quantum_Computer():\n",
    "    \n",
    "    def __init__(self, description, from_file=False, print_circuit=False):\n",
    "        if from_file:\n",
    "            with open(description) as f:\n",
    "                description = f.read()\n",
    "        if print_circuit: print(description)\n",
    "        description = preprocess_description(description)\n",
    "        lines = description.splitlines(False)\n",
    "        self.measurements = []\n",
    "        self.n = int(lines[0])\n",
    "        break_one = lines[1].split(' ')\n",
    "        if break_one[0] == \"INITSTATE\":\n",
    "            if break_one[1] == \"BASIS\":\n",
    "                init_state = break_one[2][1:-1]\n",
    "                vec = np.zeros(2**self.n, dtype = \"complex_\")\n",
    "                state_val = int(init_state, 2)\n",
    "                vec[state_val] = complex(1)\n",
    "                self.default_state = VecToState(vec)                \n",
    "            if break_one[1] == \"FILE\":\n",
    "                filename = break_one[2]\n",
    "                with open(filename) as file:\n",
    "                    basis = file.read().splitlines(False)\n",
    "                vec = np.zeros(2**self.n, dtype = \"complex_\")\n",
    "                for i in range(vec.shape[0]):\n",
    "                    coeff = basis[i].split(' ')\n",
    "                    vec[i] = float(coeff[0]) + float(coeff[1])*1.j\n",
    "                self.default_state = VecToState(vec)\n",
    "        else: \n",
    "            vec = np.zeros(2**self.n, dtype = \"complex_\")\n",
    "            vec[0] = complex(1)\n",
    "            self.default_state = VecToState(vec)\n",
    "            \n",
    "        self.gates = []\n",
    "        for line in lines[1:]:\n",
    "            pcs = line.split(' ')\n",
    "            if pcs[0] == 'H':\n",
    "                self.gates.append((0, int(pcs[1])))\n",
    "            elif pcs[0] == 'P':\n",
    "                self.gates.append((1, int(pcs[1]), float(pcs[2])))\n",
    "            elif pcs[0] == 'CNOT':\n",
    "                self.gates.append((2, int(pcs[1]), int(pcs[2])))\n",
    "            elif pcs[0] == \"MEASURE\":\n",
    "                self.gates.append((3,0))\n",
    "        return\n",
    "    \n",
    "    def H(self, wire, state):\n",
    "        new_state = []\n",
    "        for element in state:\n",
    "            new_state = new_state + self.H_element(wire, element)\n",
    "        return add_duplicates(new_state)\n",
    "    \n",
    "    def H_element(self, wire, element):\n",
    "        alt_element = copy.deepcopy(element)\n",
    "        alt_element[1] = alt_element[1][:wire] + str(self.flip_bit(alt_element[1][wire])) + alt_element[1][wire+1:]\n",
    "        alt_element[0] = alt_element[0] * (1/m.sqrt(2))\n",
    "        element[0] = element[0] * (1/m.sqrt(2))\n",
    "        if element[1][wire] == '1': element[0] = -element[0]\n",
    "        return [element, alt_element]\n",
    "        \n",
    "    def phase(self, wire, phase, state):\n",
    "        [self.phase_element(wire, phase, element) for element in state]\n",
    "        return add_duplicates(state)\n",
    "    \n",
    "    def phase_element(self, wire, phase, element):\n",
    "        if element[1][wire] == '0':\n",
    "            return element\n",
    "        else:\n",
    "            element[0] = element[0] * cm.exp(phase*1.j)\n",
    "            return element\n",
    "    \n",
    "    def CNOT(self, control, change, state):\n",
    "        [self.CNOT_element(control, change, element) for element in state]\n",
    "        return add_duplicates(state)\n",
    "        \n",
    "    def CNOT_element(self, control, change, element):    \n",
    "        if element[1][control] == '0':\n",
    "            return element\n",
    "        else:\n",
    "            element[1] = element[1][:change] + str(self.flip_bit(element[1][change])) + element[1][change+1:]\n",
    "            return element\n",
    "    \n",
    "    def measure(self, state, size=1):\n",
    "        states = []\n",
    "        probabilities = []\n",
    "        for element in state:\n",
    "            states.append(element[1])\n",
    "            probabilities.append(abs(element[0])**2)\n",
    "        return np.random.choice(states, size=size, p=probabilities)\n",
    "    \n",
    "    def run(self, initial_state=0, decimals=3, num_measures=1, print_m=False):\n",
    "        if initial_state == 0:\n",
    "            initial_state = self.default_state\n",
    "        state = add_duplicates(initial_state)\n",
    "        for gate in self.gates:\n",
    "            state = add_duplicates(self.run_gate(gate, state, num_measures, initial_state, print_m))\n",
    "        return clean_state(state, decimals)\n",
    "            \n",
    "    def run_gate(self, gate, state, num_measures, initial_state, print_m):\n",
    "        if gate[0] == 0:\n",
    "            state = self.H(gate[1], state)\n",
    "        elif gate[0] == 1:\n",
    "            state = self.phase(gate[1], gate[2], state)\n",
    "        elif gate[0] == 2:\n",
    "            state = self.CNOT(gate[1], gate[2], state)\n",
    "        elif gate[0] == 3:\n",
    "            measures = ((initial_state, self.measure(state, size=num_measures)))\n",
    "            self.measurements.append(measures)\n",
    "            if print_m:\n",
    "                print(f\"Measurement: {measures[1]}\")\n",
    "        return state\n",
    "    \n",
    "    def flip_bit(self, bit):\n",
    "        bit = int(bit)\n",
    "        if bit == 0:\n",
    "            return 1\n",
    "        return 0\n",
    "    \n",
    "    def get_measurements(self):\n",
    "        return self.measurements\n",
    "    \n",
    "    def get_last_measurement(self, as_ints=False):\n",
    "        to_return = self.measurements[-1]\n",
    "        measures = to_return[1]\n",
    "        if as_ints: measures = [int(measure, 2) for measure in measures]\n",
    "        return (to_return[0], measures)\n",
    "    \n",
    "    def plot_last_measurement(self):\n",
    "        init_state, ints = self.get_last_measurement(True)\n",
    "        vals = np.zeros((2**self.n))\n",
    "        for i in ints:\n",
    "            vals[i] += 1\n",
    "        plt.figure()\n",
    "        plt.plot(range(2**self.n), vals)\n",
    "        plt.title(f\"Measurements After Initial State: {init_state}\")\n",
    "        plt.xlabel(\"Measurment\")\n",
    "        plt.ylabel(\"Occurences\")\n",
    "        plt.show()"
   ]
  },
  {
   "cell_type": "code",
   "execution_count": 15,
   "id": "f197dd8f",
   "metadata": {
    "ExecuteTime": {
     "end_time": "2023-02-08T21:23:06.517650Z",
     "start_time": "2023-02-08T21:23:06.505694Z"
    }
   },
   "outputs": [
    {
     "name": "stdout",
     "output_type": "stream",
     "text": [
      "{ (0.978+0.148j) |000> + (0.022-0.148j) |101>}\n"
     ]
    }
   ],
   "source": [
    "test_description = \"\"\"3\n",
    "H 1\n",
    "H 2\n",
    "P 2 0.3\n",
    "CNOT 2 1\n",
    "H 1\n",
    "H 2\n",
    "CNOT 2 0\n",
    "MEASURE\"\"\"\n",
    "test_computer = Quantum_Computer(test_description)\n",
    "PrettyPrintBinary(test_computer.run())"
   ]
  },
  {
   "cell_type": "code",
   "execution_count": 16,
   "id": "faadc32c",
   "metadata": {
    "ExecuteTime": {
     "end_time": "2023-02-08T21:23:07.330961Z",
     "start_time": "2023-02-08T21:23:07.314941Z"
    }
   },
   "outputs": [
    {
     "name": "stdout",
     "output_type": "stream",
     "text": [
      "{ (0.707+0j) |0> + (0.707+0j) |256>}\n"
     ]
    }
   ],
   "source": [
    "test_description = \"\"\"9\n",
    "H 0\n",
    "CPHASE 0 5 0.3\n",
    "P 1 0.3\n",
    "CNOT 4 7\n",
    "SWAP 2 8\"\"\"\n",
    "PrettyPrintInteger(Quantum_Computer(test_description).run())"
   ]
  },
  {
   "cell_type": "code",
   "execution_count": 17,
   "id": "e6156ce4",
   "metadata": {
    "ExecuteTime": {
     "end_time": "2023-02-08T21:23:08.270988Z",
     "start_time": "2023-02-08T21:23:08.234970Z"
    }
   },
   "outputs": [
    {
     "name": "stdout",
     "output_type": "stream",
     "text": [
      "{ (0.146+0.113j) |0> + (0.043-0.122j) |1> + 0.08j |2> + (0.05-0.007j) |3> + (0.072-0.023j) |4> + (-0.034-0.042j) |5> + (0.054+0.009j) |6> + (0.002-0.027j) |7> + (0.135-0.126j) |8> + (-0.104-0.068j) |9> + (0.011+0.071j) |10> + (0.032-0.035j) |11> + (0.008+0.298j) |12> + (0.196-0.058j) |13> + (-0.113-0.023j) |14> + (0.026+0.076j) |15> + (0.001-0.036j) |16> + (-0.013+0.006j) |17> + (-0.082+0.016j) |18> + (0.016+0.023j) |19> + (-0.172+0.367j) |20> + (0.277+0.042j) |21> + (-0.147-0.044j) |22> + (0.007+0.108j) |23> + (-0.443-0.089j) |24> + (0.034+0.318j) |25> + (-0.055-0.215j) |26> + (-0.121+0.065j) |27> + (-0.181-0.078j) |28> + (-0.006+0.127j) |29> + (-0.058+0.01j) |30> + (-0.012+0.02j) |31>}\n"
     ]
    }
   ],
   "source": [
    "PrettyPrintInteger(Quantum_Computer(\"rand.circuit\", True).run())"
   ]
  },
  {
   "cell_type": "code",
   "execution_count": 18,
   "id": "57fdfa2e",
   "metadata": {
    "ExecuteTime": {
     "end_time": "2023-02-08T21:23:11.597743Z",
     "start_time": "2023-02-08T21:23:11.573749Z"
    }
   },
   "outputs": [
    {
     "name": "stdout",
     "output_type": "stream",
     "text": [
      "Measurement: ['10100']\n",
      "{ (0.146+0.113j) |0> + (0.043-0.122j) |1> + 0.08j |2> + (0.05-0.007j) |3> + (0.072-0.023j) |4> + (-0.034-0.042j) |5> + (0.054+0.009j) |6> + (0.002-0.027j) |7> + (0.135-0.126j) |8> + (-0.104-0.068j) |9> + (0.011+0.071j) |10> + (0.032-0.035j) |11> + (0.008+0.298j) |12> + (0.196-0.058j) |13> + (-0.113-0.023j) |14> + (0.026+0.076j) |15> + (0.001-0.036j) |16> + (-0.013+0.006j) |17> + (-0.082+0.016j) |18> + (0.016+0.023j) |19> + (-0.172+0.367j) |20> + (0.277+0.042j) |21> + (-0.147-0.044j) |22> + (0.007+0.108j) |23> + (-0.443-0.089j) |24> + (0.034+0.318j) |25> + (-0.055-0.215j) |26> + (-0.121+0.065j) |27> + (-0.181-0.078j) |28> + (-0.006+0.127j) |29> + (-0.058+0.01j) |30> + (-0.012+0.02j) |31>}\n"
     ]
    }
   ],
   "source": [
    "PrettyPrintInteger(Quantum_Computer(\"measure.circuit\", True).run(print_m=True))"
   ]
  },
  {
   "cell_type": "code",
   "execution_count": 20,
   "id": "799276c8",
   "metadata": {
    "ExecuteTime": {
     "end_time": "2023-02-08T21:23:16.771326Z",
     "start_time": "2023-02-08T21:23:16.691354Z"
    }
   },
   "outputs": [
    {
     "name": "stdout",
     "output_type": "stream",
     "text": [
      "{ (0.154-0.039j) |0> + (0.049-0.03j) |1> + (-0.021+0.088j) |2> + (-0.112-0.233j) |3> + (-0.034-0.01j) |4> + (-0.017-0.13j) |5> + (-0.196+0.01j) |6> + (-0.098+0.013j) |7> + (-0.181+0.014j) |8> + (0.054-0.069j) |9> + (0.001-0.003j) |10> + (-0.022+0.017j) |11> + (-0.007+0.16j) |12> + (-0.223+0.075j) |13> + (-0.038+0.006j) |14> + (0.074-0.051j) |15> + (-0.148+0.087j) |16> + (-0.063+0.257j) |17> + (0.117+0.014j) |18> + (-0.027-0.004j) |19> + (0.219-0.213j) |20> + (-0.049-0.116j) |21> + (-0.148-0.105j) |22> + (0.223+0.051j) |23> + (-0.14-0.237j) |24> + (0.185-0.005j) |25> + (-0.263-0.066j) |26> + (0.175-0.02j) |27> + (0.112+0.001j) |28> + (0.024-0.124j) |29> + (-0.208+0.077j) |30> + (0.055+0.306j) |31>}\n"
     ]
    }
   ],
   "source": [
    "PrettyPrintInteger(Quantum_Computer(\"input.circuit\", True).run())"
   ]
  },
  {
   "cell_type": "code",
   "execution_count": 25,
   "id": "4a0cea44",
   "metadata": {
    "ExecuteTime": {
     "end_time": "2023-02-08T21:25:28.981883Z",
     "start_time": "2023-02-08T21:25:28.969851Z"
    },
    "code_folding": []
   },
   "outputs": [],
   "source": [
    "def PhaseE_D1(phi):\n",
    "    return f\"\"\"2\n",
    "INITSTATE BASIS |01>\n",
    "H 0\n",
    "CPHASE 0 1 {phi}\n",
    "H 0\n",
    "MEASURE\"\"\""
   ]
  },
  {
   "cell_type": "code",
   "execution_count": 26,
   "id": "62b16ec8",
   "metadata": {
    "ExecuteTime": {
     "end_time": "2023-02-08T21:25:30.361853Z",
     "start_time": "2023-02-08T21:25:30.145850Z"
    },
    "code_folding": [
     0
    ]
   },
   "outputs": [
    {
     "data": {
      "image/png": "[encoded data removed]",
      "text/plain": [
       "<Figure size 640x480 with 1 Axes>"
      ]
     },
     "metadata": {},
     "output_type": "display_data"
    }
   ],
   "source": [
    "def PhaseE_D1_G1():\n",
    "    phi_by_2pi = np.linspace(0, 0.99, 100)\n",
    "    theta_j = []\n",
    "    for i in phi_by_2pi:\n",
    "        desc = PhaseE_D1(2*m.pi*i)\n",
    "        results = Quantum_Computer(desc).run()\n",
    "        max_val = 0\n",
    "        fin_state = 0\n",
    "        for result in results:\n",
    "            prob = result[0].real\n",
    "            if prob > max_val:\n",
    "                max_val = prob\n",
    "                fin_state = result[1][0]\n",
    "        theta = (0.5) * int(fin_state)\n",
    "        theta_j.append(theta)\n",
    "\n",
    "    plt.figure()\n",
    "    plt.plot(phi_by_2pi, theta_j)\n",
    "    plt.title(r\"$\\frac{\\phi}{2\\pi}$ vs. Predicted $\\theta_j$\")\n",
    "    plt.xlabel(r\"$\\frac{\\phi}{2\\pi}$\")\n",
    "    plt.ylabel(r\"Predicted $\\theta_j$\")\n",
    "    plt.show()\n",
    "PhaseE_D1_G1()"
   ]
  },
  {
   "cell_type": "code",
   "execution_count": 27,
   "id": "e9aebac7",
   "metadata": {
    "ExecuteTime": {
     "end_time": "2023-02-08T21:25:58.475205Z",
     "start_time": "2023-02-08T21:25:58.251223Z"
    },
    "code_folding": [
     0
    ]
   },
   "outputs": [
    {
     "data": {
      "image/png": "[encoded data removed]",
      "text/plain": [
       "<Figure size 640x480 with 1 Axes>"
      ]
     },
     "metadata": {},
     "output_type": "display_data"
    }
   ],
   "source": [
    "def PhaseE_D1_G2():\n",
    "    phi_by_2pi_set = 0.1432394487827058\n",
    "    computer = Quantum_Computer(PhaseE_D1(2*m.pi*phi_by_2pi_set))\n",
    "    computer.run(num_measures=10000)\n",
    "    results = computer.get_last_measurement()[1]\n",
    "    thetas = []\n",
    "    for i in range(len(results)):\n",
    "        if results[i] == '01':\n",
    "            thetas.append(0)\n",
    "        elif results[i] == '11':\n",
    "            thetas.append(0.5)\n",
    "    types = []\n",
    "    [types.append(x) for x in thetas if x not in types]\n",
    "    probs = [thetas.count(value)/len(thetas) for value in types]\n",
    "\n",
    "    plt.figure()\n",
    "    plt.bar(types, probs, width=0.1, label = r'Predicted $\\theta_j$')\n",
    "    plt.axvline(x = phi_by_2pi_set, color = 'r', label = r'Actual $\\theta_j$')\n",
    "    plt.title(r\"Predicted vs. Actual for $\\theta_j$=0.1432394487827058\")\n",
    "    plt.xlabel(r\"$\\theta_j$\")\n",
    "    plt.ylabel(\"Probability\")\n",
    "    plt.legend()\n",
    "    plt.show()\n",
    "PhaseE_D1_G2()"
   ]
  },
  {
   "cell_type": "code",
   "execution_count": 29,
   "id": "6507d7db",
   "metadata": {
    "ExecuteTime": {
     "end_time": "2023-02-06T23:04:50.293967Z",
     "start_time": "2023-02-06T23:04:43.350535Z"
    },
    "code_folding": [
     0
    ]
   },
   "outputs": [],
   "source": [
    "def animation1():\n",
    "    n_frames = 100\n",
    "    print(n_frames)\n",
    "    phi_by_2pi = np.linspace(0, 1, n_frames)\n",
    "    computer = Quantum_Computer(PhaseE_D1(2*m.pi*phi_by_2pi[1]))\n",
    "    computer.run(num_measures=1000)\n",
    "    results = computer.get_last_measurement()[1]\n",
    "    thetas = []\n",
    "    for i in range(len(results)):\n",
    "        if results[i] == '01':\n",
    "            thetas.append(0)\n",
    "        elif results[i] == '11':\n",
    "            thetas.append(0.5)\n",
    "    types = []\n",
    "    [types.append(x) for x in thetas if x not in types]\n",
    "    probs = [thetas.count(value)/len(thetas) for value in types]\n",
    "\n",
    "    fig, ax = plt.subplots()\n",
    "    bars = plt.bar(types, probs, width=0.1, label = r'Predicted $\\theta_j$')\n",
    "    line = plt.axvline(x = phi_by_2pi[1], color = 'r', label = r'Actual $\\theta_j$')\n",
    "    plt.title(r\"Predicted vs. Actual for $\\theta_j$\")\n",
    "    plt.xlabel(r\"$\\theta_j$\")\n",
    "    plt.ylabel(\"Probability\")\n",
    "    plt.xlim(-0.1, 1.1)\n",
    "    plt.ylim(0, 1)\n",
    "    plt.legend()\n",
    "\n",
    "    def update(i):\n",
    "        computer = Quantum_Computer(PhaseE_D1(2*m.pi*phi_by_2pi[i]))\n",
    "        computer.run(num_measures=10000)\n",
    "        results = computer.get_last_measurement()[1]\n",
    "        thetas = []\n",
    "        for j in range(len(results)):\n",
    "            if results[j] == '01':\n",
    "                thetas.append(0)\n",
    "            elif results[j] == '11':\n",
    "                thetas.append(0.5)\n",
    "        types = []\n",
    "        [types.append(x) for x in thetas if x not in types]\n",
    "        probs = [thetas.count(value)/len(thetas) for value in types]\n",
    "        plt.cla()\n",
    "        bars = plt.bar(types, probs, width=0.1, label = r'Predicted $\\theta_j$')\n",
    "        line = plt.axvline(x = phi_by_2pi[i], color = 'r', label = r'Actual $\\theta_j$')\n",
    "        plt.title(r\"Predicted vs. Actual for $\\theta_j$\")\n",
    "        plt.xlabel(r\"$\\theta_j$\")\n",
    "        plt.ylabel(\"Probability\")\n",
    "        plt.xlim(-0.1, 1.1)\n",
    "        plt.ylim(0, 1)\n",
    "        plt.legend(loc='upper right')\n",
    "        return [bars], [line]\n",
    "\n",
    "    anim = FuncAnimation(fig, update, frames=n_frames, interval = 1, repeat=True, cache_frame_data=True)\n",
    "    anim.save(\"thetaprediction1wire.gif\")\n",
    "    plt.show()\n",
    "# animation1()"
   ]
  },
  {
   "cell_type": "code",
   "execution_count": 29,
   "id": "9b6cfec2",
   "metadata": {
    "ExecuteTime": {
     "end_time": "2023-02-08T21:26:30.829661Z",
     "start_time": "2023-02-08T21:26:30.821629Z"
    },
    "code_folding": []
   },
   "outputs": [],
   "source": [
    "def PhaseE_D2(phi):\n",
    "    return f\"\"\"3\n",
    "INITSTATE BASIS |001>\n",
    "H 0\n",
    "H 1\n",
    "CPHASE 1 2 {phi}\n",
    "CPHASE 0 2 {phi}\n",
    "CPHASE 0 2 {phi}\n",
    "H 0\n",
    "CPHASE 0 1 {-m.pi/2}\n",
    "H 1\n",
    "SWAP 0 1\n",
    "MEASURE\"\"\""
   ]
  },
  {
   "cell_type": "code",
   "execution_count": 30,
   "id": "fabd7886",
   "metadata": {
    "ExecuteTime": {
     "end_time": "2023-02-08T21:26:32.055056Z",
     "start_time": "2023-02-08T21:26:31.759026Z"
    },
    "code_folding": [
     0
    ]
   },
   "outputs": [
    {
     "data": {
      "image/png": "[encoded data removed]",
      "text/plain": [
       "<Figure size 640x480 with 1 Axes>"
      ]
     },
     "metadata": {},
     "output_type": "display_data"
    }
   ],
   "source": [
    "def PhaseE_D2_G1():\n",
    "    phi_by_2pi = np.linspace(0, 0.99, 100)\n",
    "    theta_j = []\n",
    "    for i in phi_by_2pi:\n",
    "        desc = PhaseE_D2(2*m.pi*i)\n",
    "        results = Quantum_Computer(desc).run()\n",
    "        max_val = 0\n",
    "        fin_state = 0\n",
    "        for result in results:\n",
    "            prob = result[0].real\n",
    "            if prob > max_val:\n",
    "                max_val = prob\n",
    "                fin_state = result[1][:-1]\n",
    "        theta = (0.5) * int(fin_state[0]) + (0.25) * int(fin_state[1])\n",
    "        theta_j.append(theta)\n",
    "\n",
    "    plt.figure()\n",
    "    plt.plot(phi_by_2pi, theta_j)\n",
    "    plt.title(r\"$\\frac{\\phi}{2\\pi}$ vs. Predicted $\\theta_j$\")\n",
    "    plt.xlabel(r\"$\\frac{\\phi}{2\\pi}$\")\n",
    "    plt.ylabel(r\"Predicted $\\theta_j$\")\n",
    "    plt.show()\n",
    "PhaseE_D2_G1()"
   ]
  },
  {
   "cell_type": "code",
   "execution_count": 31,
   "id": "a9497709",
   "metadata": {
    "ExecuteTime": {
     "end_time": "2023-02-08T21:26:47.386830Z",
     "start_time": "2023-02-08T21:26:47.098804Z"
    },
    "code_folding": [
     0
    ]
   },
   "outputs": [
    {
     "data": {
      "image/png": "[encoded data removed]",
      "text/plain": [
       "<Figure size 640x480 with 1 Axes>"
      ]
     },
     "metadata": {},
     "output_type": "display_data"
    }
   ],
   "source": [
    "def PhaseE_D2_G2():\n",
    "    phi_by_2pi_set = 0.1432394487827058\n",
    "    computer = Quantum_Computer(PhaseE_D2(2*m.pi*phi_by_2pi_set))\n",
    "    computer.run(num_measures=10000)\n",
    "    results = computer.get_last_measurement()[1]\n",
    "    thetas = []\n",
    "    for i in range(len(results)):\n",
    "        result = results[i][:-1]\n",
    "        thetas.append((0.5) * int(result[0]) + (0.25) * int(result[1]))\n",
    "    types = []\n",
    "    [types.append(x) for x in thetas if x not in types]\n",
    "    probs = [thetas.count(value)/len(thetas) for value in types]\n",
    "\n",
    "    plt.figure()\n",
    "    plt.bar(types, probs, width=0.1, label = r'Predicted $\\theta_j$')\n",
    "    plt.axvline(x = phi_by_2pi_set, color = 'r', label = r'Actual $\\theta_j$')\n",
    "    plt.title(r\"Predicted vs. Actual for $\\theta_j$=0.1432394487827058\")\n",
    "    plt.xlabel(r\"$\\theta_j$\")\n",
    "    plt.ylabel(\"Probability\")\n",
    "    plt.legend()\n",
    "    plt.show()\n",
    "PhaseE_D2_G2()"
   ]
  },
  {
   "cell_type": "code",
   "execution_count": 33,
   "id": "a33becdc",
   "metadata": {
    "ExecuteTime": {
     "end_time": "2023-02-07T00:25:35.482268Z",
     "start_time": "2023-02-07T00:25:17.539251Z"
    },
    "code_folding": [
     0
    ]
   },
   "outputs": [],
   "source": [
    "def animation2():\n",
    "    n_frames = 200\n",
    "    print(n_frames)\n",
    "    phi_by_2pi = np.linspace(0, 1, n_frames)\n",
    "    computer = Quantum_Computer(PhaseE_D2(2*m.pi*phi_by_2pi[1]))\n",
    "    computer.run(num_measures=1000)\n",
    "    results = computer.get_last_measurement()[1]\n",
    "    thetas = []\n",
    "    for i in range(len(results)):\n",
    "        result = results[i][:-1]\n",
    "        thetas.append((0.5) * int(result[0]) + (0.25) * int(result[1]))\n",
    "    types = []\n",
    "    [types.append(x) for x in thetas if x not in types]\n",
    "    probs = [thetas.count(value)/len(thetas) for value in types]\n",
    "\n",
    "    fig, ax = plt.subplots()\n",
    "    bars = plt.bar(types, probs, width=0.1, label = r'Predicted $\\theta_j$')\n",
    "    line = plt.axvline(x = phi_by_2pi[1], color = 'r', label = r'Actual $\\theta_j$')\n",
    "    plt.title(r\"Predicted vs. Actual for $\\theta_j$\")\n",
    "    plt.xlabel(r\"$\\theta_j$\")\n",
    "    plt.ylabel(\"Probability\")\n",
    "    plt.xlim(-0.1, 1.1)\n",
    "    plt.ylim(0, 1)\n",
    "    plt.legend()\n",
    "\n",
    "    def update(i):\n",
    "        computer = Quantum_Computer(PhaseE_D2(2*m.pi*phi_by_2pi[i]))\n",
    "        computer.run(num_measures=10000)\n",
    "        results = computer.get_last_measurement()[1]\n",
    "        thetas = []\n",
    "        for j in range(len(results)):\n",
    "            result = results[j][:-1]\n",
    "            thetas.append((0.5) * int(result[0]) + (0.25) * int(result[1]))\n",
    "        types = []\n",
    "        [types.append(x) for x in thetas if x not in types]\n",
    "        probs = [thetas.count(value)/len(thetas) for value in types]\n",
    "        plt.cla()\n",
    "        bars = plt.bar(types, probs, width=0.1, label = r'Predicted $\\theta_j$')\n",
    "        line = plt.axvline(x = phi_by_2pi[i], color = 'r', label = r'Actual $\\theta_j$')\n",
    "        plt.title(r\"Predicted vs. Actual for $\\theta_j$\")\n",
    "        plt.xlabel(r\"$\\theta_j$\")\n",
    "        plt.ylabel(\"Probability\")\n",
    "        plt.xlim(-0.1, 1.1)\n",
    "        plt.ylim(0, 1)\n",
    "        plt.legend(loc='upper right')\n",
    "        return [bars], [line]\n",
    "\n",
    "    anim = FuncAnimation(fig, update, frames=n_frames, interval = 10, repeat=True, cache_frame_data=True)\n",
    "    anim.save(\"thetaprediction2wires.gif\")\n",
    "    plt.show()\n",
    "# animation2()"
   ]
  },
  {
   "cell_type": "code",
   "execution_count": 35,
   "id": "09104789",
   "metadata": {
    "ExecuteTime": {
     "end_time": "2023-02-08T21:28:08.433987Z",
     "start_time": "2023-02-08T21:28:08.417994Z"
    },
    "code_folding": [
     0
    ]
   },
   "outputs": [],
   "source": [
    "def QFT(n):\n",
    "    st = \"\"\n",
    "    for i in range(n):\n",
    "        st += f\"H {n-i-1}\"\n",
    "        for j in range(n-i-1):\n",
    "            st += f\"\\nCPHASE {n-i-1} {n-i-1-j-1} {m.pi/(2**(j+1))}\"\n",
    "        st += \"\\n\"\n",
    "    return st[:-1]"
   ]
  },
  {
   "cell_type": "code",
   "execution_count": 36,
   "id": "bdba3cd7",
   "metadata": {
    "ExecuteTime": {
     "end_time": "2023-02-08T21:28:09.133989Z",
     "start_time": "2023-02-08T21:28:09.110020Z"
    }
   },
   "outputs": [
    {
     "name": "stdout",
     "output_type": "stream",
     "text": [
      "5\n",
      "INITSTATE FILE myInputState.txt\n",
      "H 2\n",
      "CPHASE 2 1 1.5707963267948966\n",
      "CPHASE 2 0 0.7853981633974483\n",
      "H 1\n",
      "CPHASE 1 0 1.5707963267948966\n",
      "H 0\n",
      "{ (0.012-0.053j) |00000> + (-0.001-0.318j) |00001> + (-0.086-0.089j) |00010> + (-0.005+0.017j) |00011> + (-0.102+0.202j) |00100> + (0.022-0.008j) |00101> + (0.111-0.157j) |00110> + (0.007+0.105j) |00111> + (0.137-0.006j) |01000> + (0.094+0.142j) |01001> + (0.143+0.124j) |01010> + (-0.023-0.1j) |01011> + (-0.163-0.141j) |01100> + (-0.018+0.07j) |01101> + (-0.035+0.092j) |01110> + (0.046-0.214j) |01111> + (0.041-0.112j) |10000> + (0.044-0.125j) |10001> + (-0.101-0.294j) |10010> + (0.124-0.111j) |10011> + (0.023-0.112j) |10100> + (0.039-0.184j) |10101> + (-0.073-0.119j) |10110> + (-0.175+0.082j) |10111> + (-0.123+0.057j) |11000> + (0.168-0.087j) |11001> + (-0.214-0.063j) |11010> + (-0.051+0.096j) |11011> + (0.05-0.317j) |11100> + (0.024+0.033j) |11101> + (-0.026-0.023j) |11110> + (0.276+0.135j) |11111>}\n"
     ]
    }
   ],
   "source": [
    "QFT_description = f\"\"\"5\n",
    "INITSTATE FILE myInputState.txt\n",
    "{QFT(3)}\"\"\"\n",
    "QFT_test_computer = Quantum_Computer(QFT_description, print_circuit=True)\n",
    "PrettyPrintBinary(QFT_test_computer.run())"
   ]
  },
  {
   "cell_type": "code",
   "execution_count": 42,
   "id": "7a961a17",
   "metadata": {
    "ExecuteTime": {
     "end_time": "2023-02-08T21:28:32.651969Z",
     "start_time": "2023-02-08T21:28:32.636003Z"
    },
    "code_folding": []
   },
   "outputs": [],
   "source": [
    "def custom_description1(control, wire):\n",
    "    return f\"\"\"CPHASE {control} {wire} {2*m.pi*0.3}\n",
    "CNOT {control} {wire}\n",
    "CPHASE {control} {wire} {2*m.pi*0.7}\n",
    "CNOT {control} {wire}\"\"\""
   ]
  },
  {
   "cell_type": "code",
   "execution_count": 43,
   "id": "8e5d258a",
   "metadata": {
    "ExecuteTime": {
     "end_time": "2023-02-08T21:28:34.039970Z",
     "start_time": "2023-02-08T21:28:34.015968Z"
    },
    "code_folding": [
     0
    ]
   },
   "outputs": [],
   "source": [
    "def phase_estimator(n, phi=0, is_custom=False, custom_description=\"\"):\n",
    "    basis = \"\"\n",
    "    for i in range(n):\n",
    "        basis += \"0\"\n",
    "    st = f\"\"\"{n+1}\\nINITSTATE BASIS |{basis}1>\\n\"\"\"\n",
    "    for i in range(n):\n",
    "        st+=f\"H {i}\\n\"\n",
    "    if is_custom:\n",
    "        for i in range(n):\n",
    "            for j in range(2**i):\n",
    "                st+=f\"{custom_description(n-1-i, n)}\\n\"\n",
    "    else:\n",
    "        for i in range(n):\n",
    "            st+=f\"CPHASE {n-1-i} {n} {2**i*phi}\\n\"\n",
    "    st += f\"{invert_description(QFT(n))}\\n\"\n",
    "    st += f\"{REVERSE(0, n)}\\n\"\n",
    "    st += \"MEASURE\"\n",
    "    return st"
   ]
  },
  {
   "cell_type": "code",
   "execution_count": 44,
   "id": "925b5568",
   "metadata": {
    "ExecuteTime": {
     "end_time": "2023-02-08T21:28:34.508002Z",
     "start_time": "2023-02-08T21:28:34.492003Z"
    }
   },
   "outputs": [
    {
     "name": "stdout",
     "output_type": "stream",
     "text": [
      "7\n",
      "INITSTATE BASIS |0000001>\n",
      "H 0\n",
      "H 1\n",
      "H 2\n",
      "H 3\n",
      "H 4\n",
      "H 5\n",
      "CPHASE 5 6 1.8849555921538759\n",
      "CNOT 5 6\n",
      "CPHASE 5 6 4.39822971502571\n",
      "CNOT 5 6\n",
      "CPHASE 4 6 1.8849555921538759\n",
      "CNOT 4 6\n",
      "CPHASE 4 6 4.39822971502571\n",
      "CNOT 4 6\n",
      "CPHASE 4 6 1.8849555921538759\n",
      "CNOT 4 6\n",
      "CPHASE 4 6 4.39822971502571\n",
      "CNOT 4 6\n",
      "CPHASE 3 6 1.8849555921538759\n",
      "CNOT 3 6\n",
      "CPHASE 3 6 4.39822971502571\n",
      "CNOT 3 6\n",
      "CPHASE 3 6 1.8849555921538759\n",
      "CNOT 3 6\n",
      "CPHASE 3 6 4.39822971502571\n",
      "CNOT 3 6\n",
      "CPHASE 3 6 1.8849555921538759\n",
      "CNOT 3 6\n",
      "CPHASE 3 6 4.39822971502571\n",
      "CNOT 3 6\n",
      "CPHASE 3 6 1.8849555921538759\n",
      "CNOT 3 6\n",
      "CPHASE 3 6 4.39822971502571\n",
      "CNOT 3 6\n",
      "CPHASE 2 6 1.8849555921538759\n",
      "CNOT 2 6\n",
      "CPHASE 2 6 4.39822971502571\n",
      "CNOT 2 6\n",
      "CPHASE 2 6 1.8849555921538759\n",
      "CNOT 2 6\n",
      "CPHASE 2 6 4.39822971502571\n",
      "CNOT 2 6\n",
      "CPHASE 2 6 1.8849555921538759\n",
      "CNOT 2 6\n",
      "CPHASE 2 6 4.39822971502571\n",
      "CNOT 2 6\n",
      "CPHASE 2 6 1.8849555921538759\n",
      "CNOT 2 6\n",
      "CPHASE 2 6 4.39822971502571\n",
      "CNOT 2 6\n",
      "CPHASE 2 6 1.8849555921538759\n",
      "CNOT 2 6\n",
      "CPHASE 2 6 4.39822971502571\n",
      "CNOT 2 6\n",
      "CPHASE 2 6 1.8849555921538759\n",
      "CNOT 2 6\n",
      "CPHASE 2 6 4.39822971502571\n",
      "CNOT 2 6\n",
      "CPHASE 2 6 1.8849555921538759\n",
      "CNOT 2 6\n",
      "CPHASE 2 6 4.39822971502571\n",
      "CNOT 2 6\n",
      "CPHASE 2 6 1.8849555921538759\n",
      "CNOT 2 6\n",
      "CPHASE 2 6 4.39822971502571\n",
      "CNOT 2 6\n",
      "CPHASE 1 6 1.8849555921538759\n",
      "CNOT 1 6\n",
      "CPHASE 1 6 4.39822971502571\n",
      "CNOT 1 6\n",
      "CPHASE 1 6 1.8849555921538759\n",
      "CNOT 1 6\n",
      "CPHASE 1 6 4.39822971502571\n",
      "CNOT 1 6\n",
      "CPHASE 1 6 1.8849555921538759\n",
      "CNOT 1 6\n",
      "CPHASE 1 6 4.39822971502571\n",
      "CNOT 1 6\n",
      "CPHASE 1 6 1.8849555921538759\n",
      "CNOT 1 6\n",
      "CPHASE 1 6 4.39822971502571\n",
      "CNOT 1 6\n",
      "CPHASE 1 6 1.8849555921538759\n",
      "CNOT 1 6\n",
      "CPHASE 1 6 4.39822971502571\n",
      "CNOT 1 6\n",
      "CPHASE 1 6 1.8849555921538759\n",
      "CNOT 1 6\n",
      "CPHASE 1 6 4.39822971502571\n",
      "CNOT 1 6\n",
      "CPHASE 1 6 1.8849555921538759\n",
      "CNOT 1 6\n",
      "CPHASE 1 6 4.39822971502571\n",
      "CNOT 1 6\n",
      "CPHASE 1 6 1.8849555921538759\n",
      "CNOT 1 6\n",
      "CPHASE 1 6 4.39822971502571\n",
      "CNOT 1 6\n",
      "CPHASE 1 6 1.8849555921538759\n",
      "CNOT 1 6\n",
      "CPHASE 1 6 4.39822971502571\n",
      "CNOT 1 6\n",
      "CPHASE 1 6 1.8849555921538759\n",
      "CNOT 1 6\n",
      "CPHASE 1 6 4.39822971502571\n",
      "CNOT 1 6\n",
      "CPHASE 1 6 1.8849555921538759\n",
      "CNOT 1 6\n",
      "CPHASE 1 6 4.39822971502571\n",
      "CNOT 1 6\n",
      "CPHASE 1 6 1.8849555921538759\n",
      "CNOT 1 6\n",
      "CPHASE 1 6 4.39822971502571\n",
      "CNOT 1 6\n",
      "CPHASE 1 6 1.8849555921538759\n",
      "CNOT 1 6\n",
      "CPHASE 1 6 4.39822971502571\n",
      "CNOT 1 6\n",
      "CPHASE 1 6 1.8849555921538759\n",
      "CNOT 1 6\n",
      "CPHASE 1 6 4.39822971502571\n",
      "CNOT 1 6\n",
      "CPHASE 1 6 1.8849555921538759\n",
      "CNOT 1 6\n",
      "CPHASE 1 6 4.39822971502571\n",
      "CNOT 1 6\n",
      "CPHASE 1 6 1.8849555921538759\n",
      "CNOT 1 6\n",
      "CPHASE 1 6 4.39822971502571\n",
      "CNOT 1 6\n",
      "CPHASE 0 6 1.8849555921538759\n",
      "CNOT 0 6\n",
      "CPHASE 0 6 4.39822971502571\n",
      "CNOT 0 6\n",
      "CPHASE 0 6 1.8849555921538759\n",
      "CNOT 0 6\n",
      "CPHASE 0 6 4.39822971502571\n",
      "CNOT 0 6\n",
      "CPHASE 0 6 1.8849555921538759\n",
      "CNOT 0 6\n",
      "CPHASE 0 6 4.39822971502571\n",
      "CNOT 0 6\n",
      "CPHASE 0 6 1.8849555921538759\n",
      "CNOT 0 6\n",
      "CPHASE 0 6 4.39822971502571\n",
      "CNOT 0 6\n",
      "CPHASE 0 6 1.8849555921538759\n",
      "CNOT 0 6\n",
      "CPHASE 0 6 4.39822971502571\n",
      "CNOT 0 6\n",
      "CPHASE 0 6 1.8849555921538759\n",
      "CNOT 0 6\n",
      "CPHASE 0 6 4.39822971502571\n",
      "CNOT 0 6\n",
      "CPHASE 0 6 1.8849555921538759\n",
      "CNOT 0 6\n",
      "CPHASE 0 6 4.39822971502571\n",
      "CNOT 0 6\n",
      "CPHASE 0 6 1.8849555921538759\n",
      "CNOT 0 6\n",
      "CPHASE 0 6 4.39822971502571\n",
      "CNOT 0 6\n",
      "CPHASE 0 6 1.8849555921538759\n",
      "CNOT 0 6\n",
      "CPHASE 0 6 4.39822971502571\n",
      "CNOT 0 6\n",
      "CPHASE 0 6 1.8849555921538759\n",
      "CNOT 0 6\n",
      "CPHASE 0 6 4.39822971502571\n",
      "CNOT 0 6\n",
      "CPHASE 0 6 1.8849555921538759\n",
      "CNOT 0 6\n",
      "CPHASE 0 6 4.39822971502571\n",
      "CNOT 0 6\n",
      "CPHASE 0 6 1.8849555921538759\n",
      "CNOT 0 6\n",
      "CPHASE 0 6 4.39822971502571\n",
      "CNOT 0 6\n",
      "CPHASE 0 6 1.8849555921538759\n",
      "CNOT 0 6\n",
      "CPHASE 0 6 4.39822971502571\n",
      "CNOT 0 6\n",
      "CPHASE 0 6 1.8849555921538759\n",
      "CNOT 0 6\n",
      "CPHASE 0 6 4.39822971502571\n",
      "CNOT 0 6\n",
      "CPHASE 0 6 1.8849555921538759\n",
      "CNOT 0 6\n",
      "CPHASE 0 6 4.39822971502571\n",
      "CNOT 0 6\n",
      "CPHASE 0 6 1.8849555921538759\n",
      "CNOT 0 6\n",
      "CPHASE 0 6 4.39822971502571\n",
      "CNOT 0 6\n",
      "CPHASE 0 6 1.8849555921538759\n",
      "CNOT 0 6\n",
      "CPHASE 0 6 4.39822971502571\n",
      "CNOT 0 6\n",
      "CPHASE 0 6 1.8849555921538759\n",
      "CNOT 0 6\n",
      "CPHASE 0 6 4.39822971502571\n",
      "CNOT 0 6\n",
      "CPHASE 0 6 1.8849555921538759\n",
      "CNOT 0 6\n",
      "CPHASE 0 6 4.39822971502571\n",
      "CNOT 0 6\n",
      "CPHASE 0 6 1.8849555921538759\n",
      "CNOT 0 6\n",
      "CPHASE 0 6 4.39822971502571\n",
      "CNOT 0 6\n",
      "CPHASE 0 6 1.8849555921538759\n",
      "CNOT 0 6\n",
      "CPHASE 0 6 4.39822971502571\n",
      "CNOT 0 6\n",
      "CPHASE 0 6 1.8849555921538759\n",
      "CNOT 0 6\n",
      "CPHASE 0 6 4.39822971502571\n",
      "CNOT 0 6\n",
      "CPHASE 0 6 1.8849555921538759\n",
      "CNOT 0 6\n",
      "CPHASE 0 6 4.39822971502571\n",
      "CNOT 0 6\n",
      "CPHASE 0 6 1.8849555921538759\n",
      "CNOT 0 6\n",
      "CPHASE 0 6 4.39822971502571\n",
      "CNOT 0 6\n",
      "CPHASE 0 6 1.8849555921538759\n",
      "CNOT 0 6\n",
      "CPHASE 0 6 4.39822971502571\n",
      "CNOT 0 6\n",
      "CPHASE 0 6 1.8849555921538759\n",
      "CNOT 0 6\n",
      "CPHASE 0 6 4.39822971502571\n",
      "CNOT 0 6\n",
      "CPHASE 0 6 1.8849555921538759\n",
      "CNOT 0 6\n",
      "CPHASE 0 6 4.39822971502571\n",
      "CNOT 0 6\n",
      "CPHASE 0 6 1.8849555921538759\n",
      "CNOT 0 6\n",
      "CPHASE 0 6 4.39822971502571\n",
      "CNOT 0 6\n",
      "CPHASE 0 6 1.8849555921538759\n",
      "CNOT 0 6\n",
      "CPHASE 0 6 4.39822971502571\n",
      "CNOT 0 6\n",
      "CPHASE 0 6 1.8849555921538759\n",
      "CNOT 0 6\n",
      "CPHASE 0 6 4.39822971502571\n",
      "CNOT 0 6\n",
      "CPHASE 0 6 1.8849555921538759\n",
      "CNOT 0 6\n",
      "CPHASE 0 6 4.39822971502571\n",
      "CNOT 0 6\n",
      "CPHASE 0 6 1.8849555921538759\n",
      "CNOT 0 6\n",
      "CPHASE 0 6 4.39822971502571\n",
      "CNOT 0 6\n",
      "H 0\n",
      "P 1 -0.7853981633974483\n",
      "CNOT 1 0\n",
      "P 0 0.7853981633974483\n",
      "CNOT 1 0 \n",
      "P 0 -0.7853981633974483\n",
      "H 1\n",
      "P 2 -0.39269908169872414\n",
      "CNOT 2 0\n",
      "P 0 0.39269908169872414\n",
      "CNOT 2 0 \n",
      "P 0 -0.39269908169872414\n",
      "P 2 -0.7853981633974483\n",
      "CNOT 2 1\n",
      "P 1 0.7853981633974483\n",
      "CNOT 2 1 \n",
      "P 1 -0.7853981633974483\n",
      "H 2\n",
      "P 3 -0.19634954084936207\n",
      "CNOT 3 0\n",
      "P 0 0.19634954084936207\n",
      "CNOT 3 0 \n",
      "P 0 -0.19634954084936207\n",
      "P 3 -0.39269908169872414\n",
      "CNOT 3 1\n",
      "P 1 0.39269908169872414\n",
      "CNOT 3 1 \n",
      "P 1 -0.39269908169872414\n",
      "P 3 -0.7853981633974483\n",
      "CNOT 3 2\n",
      "P 2 0.7853981633974483\n",
      "CNOT 3 2 \n",
      "P 2 -0.7853981633974483\n",
      "H 3\n",
      "P 4 -0.09817477042468103\n",
      "CNOT 4 0\n",
      "P 0 0.09817477042468103\n",
      "CNOT 4 0 \n",
      "P 0 -0.09817477042468103\n",
      "P 4 -0.19634954084936207\n",
      "CNOT 4 1\n",
      "P 1 0.19634954084936207\n",
      "CNOT 4 1 \n",
      "P 1 -0.19634954084936207\n",
      "P 4 -0.39269908169872414\n",
      "CNOT 4 2\n",
      "P 2 0.39269908169872414\n",
      "CNOT 4 2 \n",
      "P 2 -0.39269908169872414\n",
      "P 4 -0.7853981633974483\n",
      "CNOT 4 3\n",
      "P 3 0.7853981633974483\n",
      "CNOT 4 3 \n",
      "P 3 -0.7853981633974483\n",
      "H 4\n",
      "P 5 -0.04908738521234052\n",
      "CNOT 5 0\n",
      "P 0 0.04908738521234052\n",
      "CNOT 5 0 \n",
      "P 0 -0.04908738521234052\n",
      "P 5 -0.09817477042468103\n",
      "CNOT 5 1\n",
      "P 1 0.09817477042468103\n",
      "CNOT 5 1 \n",
      "P 1 -0.09817477042468103\n",
      "P 5 -0.19634954084936207\n",
      "CNOT 5 2\n",
      "P 2 0.19634954084936207\n",
      "CNOT 5 2 \n",
      "P 2 -0.19634954084936207\n",
      "P 5 -0.39269908169872414\n",
      "CNOT 5 3\n",
      "P 3 0.39269908169872414\n",
      "CNOT 5 3 \n",
      "P 3 -0.39269908169872414\n",
      "P 5 -0.7853981633974483\n",
      "CNOT 5 4\n",
      "P 4 0.7853981633974483\n",
      "CNOT 5 4 \n",
      "P 4 -0.7853981633974483\n",
      "H 5\n",
      "SWAP 0 5\n",
      "SWAP 1 4\n",
      "SWAP 2 3\n",
      "MEASURE\n"
     ]
    }
   ],
   "source": [
    "print(phase_estimator(6, is_custom=True, custom_description=custom_description1))"
   ]
  },
  {
   "cell_type": "code",
   "execution_count": 46,
   "id": "a1886a33",
   "metadata": {
    "ExecuteTime": {
     "end_time": "2023-02-08T21:29:16.207818Z",
     "start_time": "2023-02-08T21:29:15.295823Z"
    },
    "code_folding": [
     0
    ]
   },
   "outputs": [
    {
     "data": {
      "image/png": "[encoded data removed]",
      "text/plain": [
       "<Figure size 640x480 with 1 Axes>"
      ]
     },
     "metadata": {},
     "output_type": "display_data"
    }
   ],
   "source": [
    "def custom_description_PhaseE():\n",
    "    n = 6\n",
    "    computer1 = Quantum_Computer(phase_estimator(6, is_custom=True, custom_description=custom_description1))\n",
    "    computer1.run(num_measures=10000)\n",
    "    results1 = computer1.get_last_measurement()[1]\n",
    "    thetas1 = []\n",
    "    for i in range(len(results1)):\n",
    "        result = results1[i][:-1]\n",
    "        theta = 0\n",
    "        for j in range(n):\n",
    "            theta += (1/2)**(j+1)*int(result[j])\n",
    "        thetas1.append(theta)\n",
    "    types1 = []\n",
    "    [types1.append(x) for x in thetas1 if x not in types1]\n",
    "    probs1 = [thetas1.count(value)/len(thetas1) for value in types1]\n",
    "\n",
    "    vec = np.zeros(2**(n+1))\n",
    "    vec[0] = 1\n",
    "    computer2 = Quantum_Computer(phase_estimator(6, is_custom=True, custom_description=custom_description1))\n",
    "    computer2.run(num_measures=10000, initial_state=VecToState(vec))\n",
    "    results2 = computer2.get_last_measurement()[1]\n",
    "    thetas2 = []\n",
    "    for i in range(len(results2)):\n",
    "        result = results2[i][:-1]\n",
    "        theta = 0\n",
    "        for j in range(n):\n",
    "            theta += (1/2)**(j+1)*int(result[j])\n",
    "        thetas2.append(theta)\n",
    "    types2 = []\n",
    "    [types2.append(x) for x in thetas2 if x not in types2]\n",
    "    probs2 = [thetas2.count(value)/len(thetas2) for value in types2]\n",
    "\n",
    "    width = 1/2**n\n",
    "    if width > 0.1: width = 0.1\n",
    "    plt.figure()\n",
    "    plt.bar(types1, probs1, width=width, color = \"blue\", label = r'Predicted $\\theta_j$ for |0>')\n",
    "    plt.bar(types2, probs2, width=width, color=\"g\", label = r'Predicted $\\theta_j$ for |1>')\n",
    "    plt.axvline(x = 0.3, color = 'r', label = r'Actual $\\theta_j$ for |0>')\n",
    "    plt.axvline(x = 0.7, color = 'yellow', label = r'Actual $\\theta_j$ for |1>')\n",
    "\n",
    "    plt.title(f\"Predicted vs. Actual with {n} wires\\n\" + r\"for custom U\")\n",
    "    plt.xlabel(r\"$\\theta_j$\")\n",
    "    plt.ylabel(\"Probability\")\n",
    "    plt.legend()\n",
    "    plt.show()\n",
    "custom_description_PhaseE()"
   ]
  },
  {
   "cell_type": "code",
   "execution_count": 47,
   "id": "7e11a4fc",
   "metadata": {
    "ExecuteTime": {
     "end_time": "2023-02-08T21:29:26.180810Z",
     "start_time": "2023-02-08T21:29:22.752781Z"
    },
    "code_folding": [
     0
    ]
   },
   "outputs": [
    {
     "data": {
      "image/png": "[encoded data removed]",
      "text/plain": [
       "<Figure size 640x480 with 1 Axes>"
      ]
     },
     "metadata": {},
     "output_type": "display_data"
    }
   ],
   "source": [
    "def PhaseE_G1_Generator(n):\n",
    "    phi_by_2pi = np.linspace(0, 1, 100)\n",
    "    theta_j = []\n",
    "    for i in phi_by_2pi:\n",
    "        desc = phase_estimator(n, 2*m.pi*i)\n",
    "        results = Quantum_Computer(desc).run()\n",
    "        max_val = 0\n",
    "        fin_state = 0\n",
    "        for result in results:\n",
    "            prob = result[0].real\n",
    "            if prob > max_val:\n",
    "                max_val = prob\n",
    "                fin_state = result[1][:-1]\n",
    "        theta = 0\n",
    "        for j in range(n):\n",
    "            theta += (1/2)**(j+1)*int(fin_state[j])\n",
    "        theta_j.append(theta)\n",
    "\n",
    "    plt.figure()\n",
    "    plt.plot(phi_by_2pi, theta_j)\n",
    "    plt.title(r\"$\\frac{\\phi}{2\\pi}$ vs. Predicted $\\theta_j$ with\" + f\" {n} wires\")\n",
    "    plt.xlabel(r\"$\\frac{\\phi}{2\\pi}$\")\n",
    "    plt.ylabel(r\"Predicted $\\theta_j$\")\n",
    "    plt.show()\n",
    "PhaseE_G1_Generator(6)"
   ]
  },
  {
   "cell_type": "code",
   "execution_count": 48,
   "id": "72e89c39",
   "metadata": {
    "ExecuteTime": {
     "end_time": "2023-02-08T21:29:30.905610Z",
     "start_time": "2023-02-08T21:29:30.661576Z"
    },
    "code_folding": [
     0
    ]
   },
   "outputs": [
    {
     "data": {
      "image/png": "[encoded data removed]",
      "text/plain": [
       "<Figure size 640x480 with 1 Axes>"
      ]
     },
     "metadata": {},
     "output_type": "display_data"
    }
   ],
   "source": [
    "def PhaseE_G2_Generator(n, num_measures=1000):\n",
    "    phi_by_2pi_set = 0.1432394487827058\n",
    "    desc = phase_estimator(n, 2*m.pi*phi_by_2pi_set)\n",
    "    computer = Quantum_Computer(desc)\n",
    "    computer.run(num_measures=num_measures)\n",
    "    results = computer.get_last_measurement()[1]\n",
    "    thetas = []\n",
    "    for i in range(len(results)):\n",
    "        result = results[i][:-1]\n",
    "        theta = 0\n",
    "        for j in range(n):\n",
    "            theta += (1/2)**(j+1)*int(result[j])\n",
    "        thetas.append(theta)\n",
    "    types = []\n",
    "    [types.append(x) for x in thetas if x not in types]\n",
    "    probs = [thetas.count(value)/len(thetas) for value in types]\n",
    "\n",
    "    width = 1/2**n\n",
    "    if width > 0.1: width = 0.1\n",
    "    plt.figure()\n",
    "    plt.bar(types, probs, width=width, label = r'Predicted $\\theta_j$')\n",
    "    plt.axvline(x = phi_by_2pi_set, color = 'r', label = r'Actual $\\theta_j$')\n",
    "    plt.title(f\"Predicted vs. Actual with {n} wires\\n\" + r\"for $\\theta_j$=0.1432394487827058\")\n",
    "    plt.xlabel(r\"$\\theta_j$\")\n",
    "    plt.ylabel(\"Probability\")\n",
    "    plt.legend()\n",
    "    plt.show()\n",
    "PhaseE_G2_Generator(6)"
   ]
  },
  {
   "cell_type": "code",
   "execution_count": 42,
   "id": "ac63ac3b",
   "metadata": {
    "ExecuteTime": {
     "end_time": "2023-02-07T00:46:12.464355Z",
     "start_time": "2023-02-07T00:42:25.559141Z"
    },
    "code_folding": [
     0
    ]
   },
   "outputs": [],
   "source": [
    "def PhaseE_G2_Animation_Generator(n, n_frames=200, time=2, num_measures=10000):\n",
    "    phi_by_2pi = np.linspace(0, 1, n_frames)\n",
    "    computer = Quantum_Computer(phase_estimator(n, 2*m.pi*phi_by_2pi[1]))\n",
    "    computer.run(num_measures=num_measures)\n",
    "    results = computer.get_last_measurement()[1]\n",
    "    thetas = []\n",
    "    for j in range(len(results)):\n",
    "        result = results[j][:-1]\n",
    "        theta = 0\n",
    "        for k in range(n):\n",
    "            theta += (1/2)**(k+1)*int(result[k])\n",
    "        thetas.append(theta)\n",
    "    types = []\n",
    "    [types.append(x) for x in thetas if x not in types]\n",
    "    probs = [thetas.count(value)/len(thetas) for value in types]\n",
    "\n",
    "    width = 1/2**n\n",
    "    if width > 0.1: width = 0.1\n",
    "    fig, ax = plt.subplots()\n",
    "    bars = plt.bar(types, probs, width=width, label = r'Predicted $\\theta_j$')\n",
    "    line = plt.axvline(x = phi_by_2pi[1], color = 'r', label = r'Actual $\\theta_j$')\n",
    "    plt.title(r\"Predicted vs. Actual for $\\theta_j$\" + f\"\\nWith {n} Wires\")\n",
    "    plt.xlabel(r\"$\\theta_j$\")\n",
    "    plt.ylabel(\"Probability\")\n",
    "    plt.xlim(-0.1, 1.1)\n",
    "    plt.ylim(0, 1)\n",
    "    plt.legend()\n",
    "    \n",
    "    def update(i):\n",
    "        computer = Quantum_Computer(phase_estimator(n, 2*m.pi*phi_by_2pi[i]))\n",
    "        computer.run(num_measures=num_measures)\n",
    "        results = computer.get_last_measurement()[1]\n",
    "        thetas = []\n",
    "        for j in range(len(results)):\n",
    "            result = results[j][:-1]\n",
    "            theta = 0\n",
    "            for k in range(n):\n",
    "                theta += (1/2)**(k+1)*int(result[k])\n",
    "            thetas.append(theta)\n",
    "        types = []\n",
    "        [types.append(x) for x in thetas if x not in types]\n",
    "        probs = [thetas.count(value)/len(thetas) for value in types]\n",
    "        plt.cla()\n",
    "        bars = plt.bar(types, probs, width=width, label = r'Predicted $\\theta_j$')\n",
    "        line = plt.axvline(x = phi_by_2pi[i], color = 'r', label = r'Actual $\\theta_j$')\n",
    "        plt.title(r\"Predicted vs. Actual for $\\theta_j$\" + f\"\\nWith {n} Wires\")\n",
    "        plt.xlabel(r\"$\\theta_j$\")\n",
    "        plt.ylabel(\"Probability\")\n",
    "        plt.xlim(-0.1, 1.1)\n",
    "        plt.ylim(0, 1)\n",
    "        plt.legend(loc='upper right')\n",
    "        return [bars], [line]\n",
    "\n",
    "    anim = FuncAnimation(fig, update, frames=n_frames, interval = time*1000/n_frames, repeat=True, cache_frame_data=True)\n",
    "    anim.save(f\"thetaprediction{n}wires_gen.gif\")\n",
    "    plt.show()\n",
    "# PhaseE_G2_Animation_Generator(6, n_frames=1000, time=5)"
   ]
  },
  {
   "cell_type": "code",
   "execution_count": null,
   "id": "0e4afebe",
   "metadata": {},
   "outputs": [],
   "source": []
  }
 ],
 "metadata": {
  "kernelspec": {
   "display_name": "Python 3 (ipykernel)",
   "language": "python",
   "name": "python3"
  },
  "language_info": {
   "codemirror_mode": {
    "name": "ipython",
    "version": 3
   },
   "file_extension": ".py",
   "mimetype": "text/x-python",
   "name": "python",
   "nbconvert_exporter": "python",
   "pygments_lexer": "ipython3",
   "version": "3.9.13"
  },
  "varInspector": {
   "cols": {
    "lenName": 16,
    "lenType": 16,
    "lenVar": 40
   },
   "kernels_config": {
    "python": {
     "delete_cmd_postfix": "",
     "delete_cmd_prefix": "del ",
     "library": "var_list.py",
     "varRefreshCmd": "print(var_dic_list())"
    },
    "r": {
     "delete_cmd_postfix": ") ",
     "delete_cmd_prefix": "rm(",
     "library": "var_list.r",
     "varRefreshCmd": "cat(var_dic_list()) "
    }
   },
   "types_to_exclude": [
    "module",
    "function",
    "builtin_function_or_method",
    "instance",
    "_Feature"
   ],
   "window_display": false
  }
 },
 "nbformat": 4,
 "nbformat_minor": 5
}
