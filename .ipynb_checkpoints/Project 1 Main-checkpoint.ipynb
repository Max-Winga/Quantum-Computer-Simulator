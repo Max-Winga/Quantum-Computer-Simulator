{
 "cells": [
  {
   "cell_type": "code",
   "execution_count": 1,
   "id": "b3a02981",
   "metadata": {
    "ExecuteTime": {
     "end_time": "2023-01-25T20:16:52.091560Z",
     "start_time": "2023-01-25T20:16:52.086574Z"
    }
   },
   "outputs": [],
   "source": [
    "import numpy as np\n",
    "import matplotlib.pyplot as plt\n",
    "import math as m\n",
    "import copy\n",
    "import cmath as cm"
   ]
  },
  {
   "cell_type": "code",
   "execution_count": 2,
   "id": "6acde020",
   "metadata": {
    "ExecuteTime": {
     "end_time": "2023-01-25T18:44:47.039479Z",
     "start_time": "2023-01-25T18:44:47.029506Z"
    }
   },
   "outputs": [],
   "source": [
    "def PrettyPrintBinary(myState, do_return=False):\n",
    "    to_print = \"{ \"\n",
    "    vec = StateToVec(myState)\n",
    "    length = vec.shape[0]\n",
    "    bin_len = int(m.log2(length))\n",
    "    not_first = False\n",
    "    for i in range(length):\n",
    "        if vec[i] == 0+0.j:\n",
    "            continue\n",
    "        if not_first:\n",
    "            to_print += \" + \"\n",
    "        to_print += f\"{vec[i]} |{bin(i)[2:].zfill(bin_len)}>\"\n",
    "        not_first = True\n",
    "    to_print += \"}\"\n",
    "    if do_return: return to_print\n",
    "    print(to_print)"
   ]
  },
  {
   "cell_type": "code",
   "execution_count": 3,
   "id": "313dc367",
   "metadata": {
    "ExecuteTime": {
     "end_time": "2023-01-25T18:44:47.624914Z",
     "start_time": "2023-01-25T18:44:47.619927Z"
    }
   },
   "outputs": [],
   "source": [
    "def PrettyPrintInteger(myState, do_return=False):\n",
    "    to_print = \"{ \"\n",
    "    vec = StateToVec(myState)\n",
    "    length = vec.shape[0]\n",
    "    bin_len = int(m.log2(length))\n",
    "    not_first = False\n",
    "    for i in range(length):\n",
    "        if vec[i] == 0+0.j:\n",
    "            continue\n",
    "        if not_first:\n",
    "            to_print += \" + \"\n",
    "        to_print += f\"{vec[i]} |{i}>\"\n",
    "        not_first = True\n",
    "    to_print += \"}\"\n",
    "    if do_return: return to_print\n",
    "    print(to_print)"
   ]
  },
  {
   "cell_type": "code",
   "execution_count": 4,
   "id": "25a2b902",
   "metadata": {
    "ExecuteTime": {
     "end_time": "2023-01-25T19:59:33.594316Z",
     "start_time": "2023-01-25T19:59:33.580354Z"
    }
   },
   "outputs": [],
   "source": [
    "def StateToVec(myState):\n",
    "    vec_len = 2**len(myState[0][1])\n",
    "    to_return = np.zeros(vec_len, dtype = \"complex_\")\n",
    "    for s in myState:\n",
    "        idx = int(s[1], 2)\n",
    "        to_return[idx] += s[0]\n",
    "    return to_return"
   ]
  },
  {
   "cell_type": "code",
   "execution_count": 5,
   "id": "9dc6340d",
   "metadata": {
    "ExecuteTime": {
     "end_time": "2023-01-25T18:44:56.185012Z",
     "start_time": "2023-01-25T18:44:56.175039Z"
    }
   },
   "outputs": [
    {
     "name": "stdout",
     "output_type": "stream",
     "text": [
      "{ (0.7071067811865476+0j) |000> + (-0.6324555320336759+0j) |010> + 0.31622776601683794j |101>}\n",
      "{ (0.7071067811865476+0j) |0> + (-0.6324555320336759+0j) |2> + 0.31622776601683794j |5>}\n"
     ]
    }
   ],
   "source": [
    "myState2=[\n",
    "   (np.sqrt(0.1)*1.j, '101'),\n",
    "   (np.sqrt(0.5), '000'),\n",
    "   (-np.sqrt(0.4), '010' )]\n",
    "PrettyPrintBinary(myState2)\n",
    "PrettyPrintInteger(myState2)"
   ]
  },
  {
   "cell_type": "code",
   "execution_count": 6,
   "id": "07bec2ce",
   "metadata": {
    "ExecuteTime": {
     "end_time": "2023-01-25T19:59:34.101957Z",
     "start_time": "2023-01-25T19:59:34.089990Z"
    }
   },
   "outputs": [
    {
     "name": "stdout",
     "output_type": "stream",
     "text": [
      "[ 0.70710678+0.j          0.        +0.j         -0.63245553+0.j\n",
      "  0.        +0.j          0.        +0.j          0.        +0.31622777j\n",
      "  0.        +0.j          0.        +0.j        ]\n"
     ]
    }
   ],
   "source": [
    "print(StateToVec(myState2))"
   ]
  },
  {
   "cell_type": "code",
   "execution_count": 7,
   "id": "d494354b",
   "metadata": {
    "ExecuteTime": {
     "end_time": "2023-01-25T19:59:26.802486Z",
     "start_time": "2023-01-25T19:59:26.786529Z"
    }
   },
   "outputs": [],
   "source": [
    "def VecToState(myState):\n",
    "    to_return = []\n",
    "    length = myState.shape[0]\n",
    "    bin_len = int(m.log2(length))\n",
    "    for i in range(length):\n",
    "        if myState[i] == 0 + 0.j:\n",
    "            continue\n",
    "        to_return.append([myState[i], bin(i)[2:].zfill(bin_len)])\n",
    "    return to_return"
   ]
  },
  {
   "cell_type": "code",
   "execution_count": 8,
   "id": "e6b42bed",
   "metadata": {
    "ExecuteTime": {
     "end_time": "2023-01-25T19:59:53.077193Z",
     "start_time": "2023-01-25T19:59:53.073204Z"
    }
   },
   "outputs": [
    {
     "name": "stdout",
     "output_type": "stream",
     "text": [
      "{ (0.7071067811865476+0j) |000> + (-0.6324555320336759+0j) |010> + 0.31622776601683794j |101>}\n"
     ]
    }
   ],
   "source": [
    "PrettyPrintBinary(VecToState(StateToVec(myState2)))"
   ]
  },
  {
   "cell_type": "code",
   "execution_count": 9,
   "id": "90b66395",
   "metadata": {
    "ExecuteTime": {
     "end_time": "2023-01-25T18:46:18.066458Z",
     "start_time": "2023-01-25T18:46:18.057482Z"
    }
   },
   "outputs": [],
   "source": [
    "def add_duplicates(state):\n",
    "    return VecToState(StateToVec(state))"
   ]
  },
  {
   "cell_type": "code",
   "execution_count": 10,
   "id": "1c94450d",
   "metadata": {
    "ExecuteTime": {
     "end_time": "2023-01-25T18:46:18.779550Z",
     "start_time": "2023-01-25T18:46:18.774564Z"
    }
   },
   "outputs": [],
   "source": [
    "myState3=[\n",
    "  (-np.sqrt(0.125), '11'),\n",
    "  (np.sqrt(0.1), '00'),\n",
    "  (np.sqrt(0.4), '01'),\n",
    "  (-np.sqrt(0.125), '11')\n",
    "]"
   ]
  },
  {
   "cell_type": "code",
   "execution_count": 11,
   "id": "f6c22fec",
   "metadata": {
    "ExecuteTime": {
     "end_time": "2023-01-25T18:47:37.889928Z",
     "start_time": "2023-01-25T18:47:37.885939Z"
    }
   },
   "outputs": [
    {
     "name": "stdout",
     "output_type": "stream",
     "text": [
      "{ (0.31622776601683794+0j) |00> + (0.6324555320336759+0j) |01> + (-0.7071067811865476+0j) |11>}\n"
     ]
    }
   ],
   "source": [
    "PrettyPrintBinary(add_duplicates(myState3))"
   ]
  },
  {
   "cell_type": "code",
   "execution_count": 152,
   "id": "89cd2dc1",
   "metadata": {},
   "outputs": [],
   "source": [
    "def c_round(number, decimals):\n",
    "    number = complex(number)\n",
    "    return complex(round(number.real, decimals) + round(number.imag, decimals)*1.j)"
   ]
  },
  {
   "cell_type": "code",
   "execution_count": 153,
   "id": "079f5ab1",
   "metadata": {},
   "outputs": [],
   "source": [
    "def clean_state(state, decimals):\n",
    "    for element in state:\n",
    "        element[0] = c_round(element[0], decimals)\n",
    "    return state"
   ]
  },
  {
   "cell_type": "code",
   "execution_count": 224,
   "id": "1365b317",
   "metadata": {
    "ExecuteTime": {
     "end_time": "2023-01-25T20:56:24.795931Z",
     "start_time": "2023-01-25T20:56:24.771995Z"
    }
   },
   "outputs": [],
   "source": [
    "class Quantum_Computer():\n",
    "    \n",
    "    def __init__(self, description, from_file=False, ):\n",
    "        if from_file:\n",
    "            with open(description) as f:\n",
    "                lines = f.read().splitlines(False)\n",
    "        else:\n",
    "            lines = description.splitlines(False)\n",
    "        \n",
    "        break_one = lines[0].split(' ')\n",
    "        if break_one[0] == \"INITSTATE\":\n",
    "            if break_one[1] == \"BASIS\":\n",
    "                init_state = break_one[2][1:-1]\n",
    "                self.n = int(len(init_state))\n",
    "                vec = np.zeros(2**self.n, dtype = \"complex_\")\n",
    "                state_val = int(init_state, 2)\n",
    "                vec[state_val] = complex(1)\n",
    "                self.default_state = VecToState(vec)                \n",
    "            if break_one[1] == \"FILE\":\n",
    "                filename = break_one[2]\n",
    "                print(\"CANNOT READ FILE, FUNCTION INCOMPLETE\")\n",
    "                ### TO FINISH ###\n",
    "        else: \n",
    "            self.n = int(lines[0])\n",
    "            vec = np.zeros(2**self.n, dtype = \"complex_\")\n",
    "            vec[0] = complex(1)\n",
    "            self.default_state = VecToState(vec)\n",
    "            \n",
    "        self.gates = []\n",
    "        for line in lines[1:]:\n",
    "            pcs = line.split(' ')\n",
    "            if pcs[0] == 'H':\n",
    "                self.gates.append((0, int(pcs[1])))\n",
    "            elif pcs[0] == 'P':\n",
    "                self.gates.append((1, int(pcs[1]), float(pcs[2])))\n",
    "            elif pcs[0] == 'CNOT':\n",
    "                self.gates.append((2, int(pcs[1]), int(pcs[2])))\n",
    "            elif pcs[0] == \"MEASURE\":\n",
    "                self.gates.append((3,0))\n",
    "        return\n",
    "    \n",
    "    def H(self, wire, state):\n",
    "        new_state = []\n",
    "        for element in state:\n",
    "            new_state = new_state + self.H_element(wire, element)\n",
    "        return add_duplicates(new_state)\n",
    "    \n",
    "    def H_element(self, wire, element):\n",
    "        alt_element = copy.deepcopy(element)\n",
    "        alt_element[1] = alt_element[1][:wire] + str(self.flip_bit(alt_element[1][wire])) + alt_element[1][wire+1:]\n",
    "        alt_element[0] = alt_element[0] * (1/m.sqrt(2))\n",
    "        element[0] = element[0] * (1/m.sqrt(2))\n",
    "        if element[1][wire] == '1': element[0] = -element[0]\n",
    "        return [element, alt_element]\n",
    "        \n",
    "    def phase(self, wire, phase, state):\n",
    "        [self.phase_element(wire, phase, element) for element in state]\n",
    "        return add_duplicates(state)\n",
    "    \n",
    "    def phase_element(self, wire, phase, element):\n",
    "        if element[1][wire] == '0':\n",
    "            return element\n",
    "        else:\n",
    "            element[0] = element[0] * cm.exp(phase*1.j)\n",
    "            return element\n",
    "    \n",
    "    def CNOT(self, control, change, state):\n",
    "        [self.CNOT_element(control, change, element) for element in state]\n",
    "        return add_duplicates(state)\n",
    "        \n",
    "    def CNOT_element(self, control, change, element):    \n",
    "        if element[1][control] == '0':\n",
    "            return element\n",
    "        else:\n",
    "            element[1] = element[1][:change] + str(self.flip_bit(element[1][change])) + element[1][change+1:]\n",
    "            return element\n",
    "    \n",
    "    def measure(self, state, size=1):\n",
    "        states = []\n",
    "        probabilities = []\n",
    "        for element in state:\n",
    "            states.append(element[1])\n",
    "            probabilities.append(abs(element[0])**2)\n",
    "        return np.random.choice(states, size=size, p=probabilities)\n",
    "    \n",
    "    def run(self, initial_state=0, decimals=5):\n",
    "        if initial_state == 0:\n",
    "            initial_state = self.default_state\n",
    "        state = add_duplicates(initial_state)\n",
    "        for gate in self.gates:\n",
    "            state = self.run_gate(gate, state)\n",
    "        return clean_state(state, decimals)\n",
    "            \n",
    "    def run_gate(self, gate, state):\n",
    "        if gate[0] == 0:\n",
    "            state = self.H(gate[1], state)\n",
    "        elif gate[0] == 1:\n",
    "            state = self.phase(gate[1], gate[2], state)\n",
    "        elif gate[0] == 2:\n",
    "            state = self.CNOT(gate[1], gate[2], state)\n",
    "        elif gate[0] == 3:\n",
    "            print(f\"Measurement: {self.measure(state)}\")\n",
    "        return state\n",
    "    \n",
    "    def flip_bit(self, bit):\n",
    "        bit = int(bit)\n",
    "        if bit == 0:\n",
    "            return 1\n",
    "        return 0"
   ]
  },
  {
   "cell_type": "code",
   "execution_count": 186,
   "id": "f197dd8f",
   "metadata": {
    "ExecuteTime": {
     "end_time": "2023-01-25T20:27:29.374658Z",
     "start_time": "2023-01-25T20:27:29.361691Z"
    }
   },
   "outputs": [],
   "source": [
    "test_description = \"\"\"3\n",
    "H 1\n",
    "H 2\n",
    "P 2 0.3\n",
    "CNOT 2 1\n",
    "H 1\n",
    "H 2\n",
    "CNOT 2 0\n",
    "MEASURE\"\"\""
   ]
  },
  {
   "cell_type": "code",
   "execution_count": 187,
   "id": "d591444d",
   "metadata": {
    "ExecuteTime": {
     "end_time": "2023-01-25T20:56:26.217129Z",
     "start_time": "2023-01-25T20:56:26.204164Z"
    }
   },
   "outputs": [],
   "source": [
    "test_computer = Quantum_Computer(test_description)"
   ]
  },
  {
   "cell_type": "code",
   "execution_count": 188,
   "id": "af8da94f",
   "metadata": {
    "ExecuteTime": {
     "end_time": "2023-01-25T20:56:49.794054Z",
     "start_time": "2023-01-25T20:56:49.784080Z"
    }
   },
   "outputs": [
    {
     "name": "stdout",
     "output_type": "stream",
     "text": [
      "Measurement: ['000']\n",
      "{ (0.97767+0.14776j) |000> + (0.02233-0.14776j) |101>}\n"
     ]
    }
   ],
   "source": [
    "PrettyPrintBinary(test_computer.run())"
   ]
  },
  {
   "cell_type": "code",
   "execution_count": 209,
   "id": "2a1eb99d",
   "metadata": {},
   "outputs": [
    {
     "name": "stdout",
     "output_type": "stream",
     "text": [
      "Running with input = |0>\n",
      "{ (1+0j) |1>}\n",
      "\n",
      "Running with input = |1>\n",
      "{ (1+0j) |0>}\n"
     ]
    }
   ],
   "source": [
    "NOT_gate = f\"\"\"H 0\n",
    "P 0 {m.pi}\n",
    "H 0\"\"\"\n",
    "NOT_description = f\"\"\"INITSTATE BASIS |1>\n",
    "{NOT_gate}\n",
    "\"\"\"\n",
    "test_NOT = Quantum_Computer(NOT_description)\n",
    "print(\"Running with input = |0>\")\n",
    "PrettyPrintBinary(test_NOT.run(initial_state = VecToState(np.array([(1)]))))\n",
    "print(\"\\nRunning with input = |1>\")\n",
    "PrettyPrintBinary(test_NOT.run())"
   ]
  },
  {
   "cell_type": "code",
   "execution_count": 210,
   "id": "707af16a",
   "metadata": {
    "scrolled": true
   },
   "outputs": [
    {
     "name": "stdout",
     "output_type": "stream",
     "text": [
      "Running with input = |0>\n",
      "{ (-0.70711-0.70711j) |0>}\n",
      "\n",
      "Running with input = |1>\n",
      "{ (-0.70711+0.70711j) |1>}\n"
     ]
    }
   ],
   "source": [
    "Rz_theta = 3*m.pi/2\n",
    "def Rz_gate(wire, theta):\n",
    "    return f\"\"\"P {wire} {theta/2}\n",
    "{NOT_gate}\n",
    "P {wire} {-theta/2}\n",
    "{NOT_gate}\"\"\"\n",
    "\n",
    "Rz_description = f\"\"\"INITSTATE BASIS |1>\n",
    "{Rz_gate(0, Rz_theta)}\n",
    "\"\"\"\n",
    "test_Rz = Quantum_Computer(Rz_description)\n",
    "print(\"Running with input = |0>\")\n",
    "PrettyPrintBinary(test_Rz.run(initial_state = VecToState(np.array([(1)]))))\n",
    "print(\"\\nRunning with input = |1>\")\n",
    "PrettyPrintBinary(test_Rz.run())"
   ]
  },
  {
   "cell_type": "code",
   "execution_count": 225,
   "id": "56860d4b",
   "metadata": {},
   "outputs": [
    {
     "name": "stdout",
     "output_type": "stream",
     "text": [
      "Running with input = |00>\n",
      "{ (1+0j) |00>}\n",
      "\n",
      "Running with input = |01>\n",
      "{ (1+0j) |01>}\n",
      "\n",
      "Running with input = |10>\n",
      "{ (0.70711-0.70711j) |10>}\n",
      "\n",
      "Running with input = |11>\n",
      "{ (0.70711+0.70711j) |11>}\n"
     ]
    }
   ],
   "source": [
    "CRz_theta = m.pi/2\n",
    "def CRz_gate(control, change, theta):\n",
    "    return f\"\"\"P {change} {theta/2}\n",
    "CNOT {control} {change} \n",
    "P {change} {-theta/2}\n",
    "CNOT {control} {change}\"\"\"\n",
    "\n",
    "CRz_description = f\"\"\"INITSTATE BASIS |01>\n",
    "{CRz_gate(0, 1, CRz_theta)}\n",
    "\"\"\"\n",
    "test_CRz = Quantum_Computer(CRz_description)\n",
    "print(\"Running with input = |00>\")\n",
    "PrettyPrintBinary(test_CRz.run(initial_state = [(1, '00')]))\n",
    "print(\"\\nRunning with input = |01>\")\n",
    "PrettyPrintBinary(test_CRz.run())\n",
    "print(\"\\nRunning with input = |10>\")\n",
    "PrettyPrintBinary(test_CRz.run(initial_state = [(1, '10')]))\n",
    "print(\"\\nRunning with input = |11>\")\n",
    "PrettyPrintBinary(test_CRz.run(initial_state = [(1, '11')]))"
   ]
  },
  {
   "cell_type": "code",
   "execution_count": null,
   "id": "c35dec5f",
   "metadata": {},
   "outputs": [],
   "source": []
  }
 ],
 "metadata": {
  "kernelspec": {
   "display_name": "Python 3 (ipykernel)",
   "language": "python",
   "name": "python3"
  },
  "language_info": {
   "codemirror_mode": {
    "name": "ipython",
    "version": 3
   },
   "file_extension": ".py",
   "mimetype": "text/x-python",
   "name": "python",
   "nbconvert_exporter": "python",
   "pygments_lexer": "ipython3",
   "version": "3.9.7"
  },
  "varInspector": {
   "cols": {
    "lenName": 16,
    "lenType": 16,
    "lenVar": 40
   },
   "kernels_config": {
    "python": {
     "delete_cmd_postfix": "",
     "delete_cmd_prefix": "del ",
     "library": "var_list.py",
     "varRefreshCmd": "print(var_dic_list())"
    },
    "r": {
     "delete_cmd_postfix": ") ",
     "delete_cmd_prefix": "rm(",
     "library": "var_list.r",
     "varRefreshCmd": "cat(var_dic_list()) "
    }
   },
   "types_to_exclude": [
    "module",
    "function",
    "builtin_function_or_method",
    "instance",
    "_Feature"
   ],
   "window_display": false
  }
 },
 "nbformat": 4,
 "nbformat_minor": 5
}
