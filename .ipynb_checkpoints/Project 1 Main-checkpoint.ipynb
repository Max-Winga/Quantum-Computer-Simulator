{
 "cells": [
  {
   "cell_type": "code",
   "execution_count": 14,
   "id": "b3a02981",
   "metadata": {
    "ExecuteTime": {
     "end_time": "2023-01-30T19:17:54.614327Z",
     "start_time": "2023-01-30T19:17:54.607346Z"
    }
   },
   "outputs": [],
   "source": [
    "import numpy as np\n",
    "import matplotlib.pyplot as plt\n",
    "import math as m\n",
    "import copy\n",
    "import cmath as cm"
   ]
  },
  {
   "cell_type": "code",
   "execution_count": 15,
   "id": "6acde020",
   "metadata": {
    "ExecuteTime": {
     "end_time": "2023-01-30T19:17:54.904551Z",
     "start_time": "2023-01-30T19:17:54.889592Z"
    }
   },
   "outputs": [],
   "source": [
    "def PrettyPrintBinary(myState, do_return=False):\n",
    "    to_print = \"{ \"\n",
    "    vec = StateToVec(myState)\n",
    "    length = vec.shape[0]\n",
    "    bin_len = int(m.log2(length))\n",
    "    not_first = False\n",
    "    for i in range(length):\n",
    "        if vec[i] == 0+0.j:\n",
    "            continue\n",
    "        if not_first:\n",
    "            to_print += \" + \"\n",
    "        to_print += f\"{vec[i]} |{bin(i)[2:].zfill(bin_len)}>\"\n",
    "        not_first = True\n",
    "    to_print += \"}\"\n",
    "    if do_return: return to_print\n",
    "    print(to_print)"
   ]
  },
  {
   "cell_type": "code",
   "execution_count": 16,
   "id": "313dc367",
   "metadata": {
    "ExecuteTime": {
     "end_time": "2023-01-30T19:17:55.188803Z",
     "start_time": "2023-01-30T19:17:55.178830Z"
    }
   },
   "outputs": [],
   "source": [
    "def PrettyPrintInteger(myState, do_return=False):\n",
    "    to_print = \"{ \"\n",
    "    vec = StateToVec(myState)\n",
    "    length = vec.shape[0]\n",
    "    bin_len = int(m.log2(length))\n",
    "    not_first = False\n",
    "    for i in range(length):\n",
    "        if vec[i] == 0+0.j:\n",
    "            continue\n",
    "        if not_first:\n",
    "            to_print += \" + \"\n",
    "        to_print += f\"{vec[i]} |{i}>\"\n",
    "        not_first = True\n",
    "    to_print += \"}\"\n",
    "    if do_return: return to_print\n",
    "    print(to_print)"
   ]
  },
  {
   "cell_type": "code",
   "execution_count": 17,
   "id": "25a2b902",
   "metadata": {
    "ExecuteTime": {
     "end_time": "2023-01-30T19:17:56.103877Z",
     "start_time": "2023-01-30T19:17:56.099887Z"
    }
   },
   "outputs": [],
   "source": [
    "def StateToVec(myState):\n",
    "    vec_len = 2**len(myState[0][1])\n",
    "    to_return = np.zeros(vec_len, dtype = \"complex_\")\n",
    "    for s in myState:\n",
    "        idx = int(s[1], 2)\n",
    "        to_return[idx] += s[0]\n",
    "    return to_return"
   ]
  },
  {
   "cell_type": "code",
   "execution_count": 18,
   "id": "9dc6340d",
   "metadata": {
    "ExecuteTime": {
     "end_time": "2023-01-30T19:17:56.419034Z",
     "start_time": "2023-01-30T19:17:56.409061Z"
    }
   },
   "outputs": [
    {
     "name": "stdout",
     "output_type": "stream",
     "text": [
      "{ (0.7071067811865476+0j) |000> + (-0.6324555320336759+0j) |010> + 0.31622776601683794j |101>}\n",
      "{ (0.7071067811865476+0j) |0> + (-0.6324555320336759+0j) |2> + 0.31622776601683794j |5>}\n"
     ]
    }
   ],
   "source": [
    "myState2=[\n",
    "   (np.sqrt(0.1)*1.j, '101'),\n",
    "   (np.sqrt(0.5), '000'),\n",
    "   (-np.sqrt(0.4), '010' )]\n",
    "PrettyPrintBinary(myState2)\n",
    "PrettyPrintInteger(myState2)"
   ]
  },
  {
   "cell_type": "code",
   "execution_count": 19,
   "id": "07bec2ce",
   "metadata": {
    "ExecuteTime": {
     "end_time": "2023-01-30T19:17:56.827965Z",
     "start_time": "2023-01-30T19:17:56.820995Z"
    }
   },
   "outputs": [
    {
     "name": "stdout",
     "output_type": "stream",
     "text": [
      "[ 0.70710678+0.j          0.        +0.j         -0.63245553+0.j\n",
      "  0.        +0.j          0.        +0.j          0.        +0.31622777j\n",
      "  0.        +0.j          0.        +0.j        ]\n"
     ]
    }
   ],
   "source": [
    "print(StateToVec(myState2))"
   ]
  },
  {
   "cell_type": "code",
   "execution_count": 20,
   "id": "d494354b",
   "metadata": {
    "ExecuteTime": {
     "end_time": "2023-01-30T19:17:59.156291Z",
     "start_time": "2023-01-30T19:17:59.144323Z"
    }
   },
   "outputs": [],
   "source": [
    "def VecToState(myState):\n",
    "    to_return = []\n",
    "    length = myState.shape[0]\n",
    "    bin_len = int(m.log2(length))\n",
    "    for i in range(length):\n",
    "        if myState[i] == 0 + 0.j:\n",
    "            continue\n",
    "        to_return.append([myState[i], bin(i)[2:].zfill(bin_len)])\n",
    "    return to_return"
   ]
  },
  {
   "cell_type": "code",
   "execution_count": 21,
   "id": "e6b42bed",
   "metadata": {
    "ExecuteTime": {
     "end_time": "2023-01-30T19:17:59.454999Z",
     "start_time": "2023-01-30T19:17:59.450013Z"
    }
   },
   "outputs": [
    {
     "name": "stdout",
     "output_type": "stream",
     "text": [
      "{ (0.7071067811865476+0j) |000> + (-0.6324555320336759+0j) |010> + 0.31622776601683794j |101>}\n"
     ]
    }
   ],
   "source": [
    "PrettyPrintBinary(VecToState(StateToVec(myState2)))"
   ]
  },
  {
   "cell_type": "code",
   "execution_count": 22,
   "id": "90b66395",
   "metadata": {
    "ExecuteTime": {
     "end_time": "2023-01-30T19:17:59.817031Z",
     "start_time": "2023-01-30T19:17:59.810050Z"
    }
   },
   "outputs": [],
   "source": [
    "def add_duplicates(state):\n",
    "    return VecToState(StateToVec(state))"
   ]
  },
  {
   "cell_type": "code",
   "execution_count": 23,
   "id": "1c94450d",
   "metadata": {
    "ExecuteTime": {
     "end_time": "2023-01-30T19:18:00.069371Z",
     "start_time": "2023-01-30T19:18:00.065382Z"
    }
   },
   "outputs": [],
   "source": [
    "myState3=[\n",
    "  (-np.sqrt(0.125), '11'),\n",
    "  (np.sqrt(0.1), '00'),\n",
    "  (np.sqrt(0.4), '01'),\n",
    "  (-np.sqrt(0.125), '11')\n",
    "]"
   ]
  },
  {
   "cell_type": "code",
   "execution_count": 24,
   "id": "f6c22fec",
   "metadata": {
    "ExecuteTime": {
     "end_time": "2023-01-30T19:18:00.448373Z",
     "start_time": "2023-01-30T19:18:00.429423Z"
    }
   },
   "outputs": [
    {
     "name": "stdout",
     "output_type": "stream",
     "text": [
      "{ (0.31622776601683794+0j) |00> + (0.6324555320336759+0j) |01> + (-0.7071067811865476+0j) |11>}\n"
     ]
    }
   ],
   "source": [
    "PrettyPrintBinary(add_duplicates(myState3))"
   ]
  },
  {
   "cell_type": "code",
   "execution_count": 25,
   "id": "89cd2dc1",
   "metadata": {
    "ExecuteTime": {
     "end_time": "2023-01-30T19:18:00.931082Z",
     "start_time": "2023-01-30T19:18:00.924101Z"
    }
   },
   "outputs": [],
   "source": [
    "def c_round(number, decimals):\n",
    "    number = complex(number)\n",
    "    return complex(round(number.real, decimals) + round(number.imag, decimals)*1.j)"
   ]
  },
  {
   "cell_type": "code",
   "execution_count": 26,
   "id": "079f5ab1",
   "metadata": {
    "ExecuteTime": {
     "end_time": "2023-01-30T19:18:01.405320Z",
     "start_time": "2023-01-30T19:18:01.395347Z"
    }
   },
   "outputs": [],
   "source": [
    "def clean_state(state, decimals):\n",
    "    for element in state:\n",
    "        element[0] = c_round(element[0], decimals)\n",
    "    return state"
   ]
  },
  {
   "cell_type": "code",
   "execution_count": 34,
   "id": "1365b317",
   "metadata": {
    "ExecuteTime": {
     "end_time": "2023-01-30T19:18:23.200893Z",
     "start_time": "2023-01-30T19:18:23.178952Z"
    }
   },
   "outputs": [],
   "source": [
    "class Quantum_Computer():\n",
    "    \n",
    "    def __init__(self, description, from_file=False, ):\n",
    "        if from_file:\n",
    "            with open(description) as f:\n",
    "                lines = f.read().splitlines(False)\n",
    "        else:\n",
    "            lines = description.splitlines(False)\n",
    "        \n",
    "        break_one = lines[0].split(' ')\n",
    "        if break_one[0] == \"INITSTATE\":\n",
    "            if break_one[1] == \"BASIS\":\n",
    "                init_state = break_one[2][1:-1]\n",
    "                self.n = int(len(init_state))\n",
    "                vec = np.zeros(2**self.n, dtype = \"complex_\")\n",
    "                state_val = int(init_state, 2)\n",
    "                vec[state_val] = complex(1)\n",
    "                self.default_state = VecToState(vec)                \n",
    "            if break_one[1] == \"FILE\":\n",
    "                filename = break_one[2]\n",
    "                print(\"CANNOT READ FILE, FUNCTION INCOMPLETE\")\n",
    "                ### TO FINISH ###\n",
    "        else: \n",
    "            self.n = int(lines[0])\n",
    "            vec = np.zeros(2**self.n, dtype = \"complex_\")\n",
    "            vec[0] = complex(1)\n",
    "            self.default_state = VecToState(vec)\n",
    "            \n",
    "        self.gates = []\n",
    "        for line in lines[1:]:\n",
    "            pcs = line.split(' ')\n",
    "            if pcs[0] == 'H':\n",
    "                self.gates.append((0, int(pcs[1])))\n",
    "            elif pcs[0] == 'P':\n",
    "                self.gates.append((1, int(pcs[1]), float(pcs[2])))\n",
    "            elif pcs[0] == 'CNOT':\n",
    "                self.gates.append((2, int(pcs[1]), int(pcs[2])))\n",
    "            elif pcs[0] == \"MEASURE\":\n",
    "                self.gates.append((3,0))\n",
    "        return\n",
    "    \n",
    "    def H(self, wire, state):\n",
    "        new_state = []\n",
    "        for element in state:\n",
    "            new_state = new_state + self.H_element(wire, element)\n",
    "        return add_duplicates(new_state)\n",
    "    \n",
    "    def H_element(self, wire, element):\n",
    "        alt_element = copy.deepcopy(element)\n",
    "        alt_element[1] = alt_element[1][:wire] + str(self.flip_bit(alt_element[1][wire])) + alt_element[1][wire+1:]\n",
    "        alt_element[0] = alt_element[0] * (1/m.sqrt(2))\n",
    "        element[0] = element[0] * (1/m.sqrt(2))\n",
    "        if element[1][wire] == '1': element[0] = -element[0]\n",
    "        return [element, alt_element]\n",
    "        \n",
    "    def phase(self, wire, phase, state):\n",
    "        [self.phase_element(wire, phase, element) for element in state]\n",
    "        return add_duplicates(state)\n",
    "    \n",
    "    def phase_element(self, wire, phase, element):\n",
    "        if element[1][wire] == '0':\n",
    "            return element\n",
    "        else:\n",
    "            element[0] = element[0] * cm.exp(phase*1.j)\n",
    "            return element\n",
    "    \n",
    "    def CNOT(self, control, change, state):\n",
    "        [self.CNOT_element(control, change, element) for element in state]\n",
    "        return add_duplicates(state)\n",
    "        \n",
    "    def CNOT_element(self, control, change, element):    \n",
    "        if element[1][control] == '0':\n",
    "            return element\n",
    "        else:\n",
    "            element[1] = element[1][:change] + str(self.flip_bit(element[1][change])) + element[1][change+1:]\n",
    "            return element\n",
    "    \n",
    "    def measure(self, state, size=1):\n",
    "        states = []\n",
    "        probabilities = []\n",
    "        for element in state:\n",
    "            states.append(element[1])\n",
    "            probabilities.append(abs(element[0])**2)\n",
    "        return np.random.choice(states, size=size, p=probabilities)\n",
    "    \n",
    "    def run(self, initial_state=0, decimals=3):\n",
    "        if initial_state == 0:\n",
    "            initial_state = self.default_state\n",
    "        state = add_duplicates(initial_state)\n",
    "        for gate in self.gates:\n",
    "            state = self.run_gate(gate, state)\n",
    "        return clean_state(state, decimals)\n",
    "            \n",
    "    def run_gate(self, gate, state):\n",
    "        if gate[0] == 0:\n",
    "            state = self.H(gate[1], state)\n",
    "        elif gate[0] == 1:\n",
    "            state = self.phase(gate[1], gate[2], state)\n",
    "        elif gate[0] == 2:\n",
    "            state = self.CNOT(gate[1], gate[2], state)\n",
    "        elif gate[0] == 3:\n",
    "            print(f\"Measurement: {self.measure(state)}\")\n",
    "        return state\n",
    "    \n",
    "    def flip_bit(self, bit):\n",
    "        bit = int(bit)\n",
    "        if bit == 0:\n",
    "            return 1\n",
    "        return 0"
   ]
  },
  {
   "cell_type": "code",
   "execution_count": 35,
   "id": "f197dd8f",
   "metadata": {
    "ExecuteTime": {
     "end_time": "2023-01-30T19:18:23.721530Z",
     "start_time": "2023-01-30T19:18:23.703578Z"
    }
   },
   "outputs": [],
   "source": [
    "test_description = \"\"\"3\n",
    "H 1\n",
    "H 2\n",
    "P 2 0.3\n",
    "CNOT 2 1\n",
    "H 1\n",
    "H 2\n",
    "CNOT 2 0\n",
    "MEASURE\"\"\""
   ]
  },
  {
   "cell_type": "code",
   "execution_count": 36,
   "id": "d591444d",
   "metadata": {
    "ExecuteTime": {
     "end_time": "2023-01-30T19:18:23.926980Z",
     "start_time": "2023-01-30T19:18:23.916010Z"
    }
   },
   "outputs": [],
   "source": [
    "test_computer = Quantum_Computer(test_description)"
   ]
  },
  {
   "cell_type": "code",
   "execution_count": 37,
   "id": "af8da94f",
   "metadata": {
    "ExecuteTime": {
     "end_time": "2023-01-30T19:18:24.096527Z",
     "start_time": "2023-01-30T19:18:24.082565Z"
    }
   },
   "outputs": [
    {
     "name": "stdout",
     "output_type": "stream",
     "text": [
      "Measurement: ['000']\n",
      "{ (0.978+0.148j) |000> + (0.022-0.148j) |101>}\n"
     ]
    }
   ],
   "source": [
    "PrettyPrintBinary(test_computer.run())"
   ]
  },
  {
   "cell_type": "code",
   "execution_count": 52,
   "id": "2a1eb99d",
   "metadata": {
    "ExecuteTime": {
     "end_time": "2023-01-30T19:46:15.021294Z",
     "start_time": "2023-01-30T19:46:15.009325Z"
    }
   },
   "outputs": [
    {
     "name": "stdout",
     "output_type": "stream",
     "text": [
      "Running with input = |0>\n",
      "{ (1+0j) |1>}\n",
      "\n",
      "Running with input = |1>\n",
      "{ (1+0j) |0>}\n"
     ]
    }
   ],
   "source": [
    "def NOT(wire):\n",
    "    return f\"\"\"H {wire}\n",
    "P {wire} {m.pi}\n",
    "H {wire}\"\"\"\n",
    "NOT_description = f\"\"\"INITSTATE BASIS |1>\n",
    "{NOT(0)}\n",
    "\"\"\"\n",
    "test_NOT = Quantum_Computer(NOT_description)\n",
    "print(\"Running with input = |0>\")\n",
    "PrettyPrintBinary(test_NOT.run(initial_state = VecToState(np.array([(1)]))))\n",
    "print(\"\\nRunning with input = |1>\")\n",
    "PrettyPrintBinary(test_NOT.run())"
   ]
  },
  {
   "cell_type": "code",
   "execution_count": 59,
   "id": "707af16a",
   "metadata": {
    "ExecuteTime": {
     "end_time": "2023-01-30T20:16:22.723757Z",
     "start_time": "2023-01-30T20:16:22.705805Z"
    },
    "scrolled": true
   },
   "outputs": [
    {
     "name": "stdout",
     "output_type": "stream",
     "text": [
      "Running with input = |0>\n",
      "{ (1+0j) |0>}\n",
      "\n",
      "Running with input = |1>\n",
      "{ (1+0j) |1>}\n"
     ]
    }
   ],
   "source": [
    "Rz_theta = m.pi/2\n",
    "def Rz(wire, theta):\n",
    "    return f\"\"\"P {wire} {theta/2}\n",
    "{NOT}\n",
    "P {wire} {-theta/2}\n",
    "{NOT}\"\"\"\n",
    "\n",
    "Rz_description = f\"\"\"INITSTATE BASIS |1>\n",
    "{Rz(0, Rz_theta)}\n",
    "\"\"\"\n",
    "test_Rz = Quantum_Computer(Rz_description)\n",
    "print(\"Running with input = |0>\")\n",
    "PrettyPrintBinary(test_Rz.run(initial_state = VecToState(np.array([(1)]))))\n",
    "print(\"\\nRunning with input = |1>\")\n",
    "PrettyPrintBinary(test_Rz.run())"
   ]
  },
  {
   "cell_type": "code",
   "execution_count": 70,
   "id": "56860d4b",
   "metadata": {
    "ExecuteTime": {
     "end_time": "2023-01-30T20:27:03.267102Z",
     "start_time": "2023-01-30T20:27:03.256129Z"
    }
   },
   "outputs": [
    {
     "name": "stdout",
     "output_type": "stream",
     "text": [
      "Running with input = |00>\n",
      "{ (1+0j) |00>}\n",
      "\n",
      "Running with input = |01>\n",
      "{ (1+0j) |01>}\n",
      "\n",
      "Running with input = |10>\n",
      "{ (0.707-0.707j) |10>}\n",
      "\n",
      "Running with input = |11>\n",
      "{ (0.707+0.707j) |11>}\n"
     ]
    }
   ],
   "source": [
    "CRz_theta = m.pi/2\n",
    "def CRz(control, change, theta):\n",
    "    return f\"\"\"P {change} {theta/2}\n",
    "CNOT {control} {change} \n",
    "P {change} {-theta/2}\n",
    "CNOT {control} {change}\"\"\"\n",
    "\n",
    "CRz_description = f\"\"\"INITSTATE BASIS |01>\n",
    "{CRz(0, 1, CRz_theta)}\n",
    "\"\"\"\n",
    "test_CRz = Quantum_Computer(CRz_description)\n",
    "print(\"Running with input = |00>\")\n",
    "PrettyPrintBinary(test_CRz.run(initial_state = [(1, '00')]))\n",
    "print(\"\\nRunning with input = |01>\")\n",
    "PrettyPrintBinary(test_CRz.run())\n",
    "print(\"\\nRunning with input = |10>\")\n",
    "PrettyPrintBinary(test_CRz.run(initial_state = [(1, '10')]))\n",
    "print(\"\\nRunning with input = |11>\")\n",
    "PrettyPrintBinary(test_CRz.run(initial_state = [(1, '11')]))"
   ]
  },
  {
   "cell_type": "code",
   "execution_count": 87,
   "id": "c35dec5f",
   "metadata": {
    "ExecuteTime": {
     "end_time": "2023-01-30T21:33:19.991235Z",
     "start_time": "2023-01-30T21:33:19.973283Z"
    }
   },
   "outputs": [
    {
     "name": "stdout",
     "output_type": "stream",
     "text": [
      "Input = |00>\n",
      "{ (0.707+0j) |00> + (0.5-0.5j) |01>}\n",
      "\n",
      "Input = |01>\n",
      "{ (0.707+0j) |00> + (-0.5+0.5j) |01>}\n",
      "\n",
      "Input = |10>\n",
      "{ (0.5-0.5j) |10> + (0.707+0j) |11>}\n",
      "\n",
      "Input = |11>\n",
      "{ (0.5-0.5j) |10> + (-0.707+0j) |11>}\n"
     ]
    }
   ],
   "source": [
    "CPHASE_theta = m.pi/2\n",
    "def CPHASE(control, change, theta):\n",
    "    return f\"\"\"H {change}\n",
    "    {CRz(control, change, theta)}\"\"\"\n",
    "\n",
    "CPHASE_description = f\"\"\"INITSTATE BASIS |01>\n",
    "{CPHASE(0, 1, CPHASE_theta)}\n",
    "\"\"\"\n",
    "test_CPHASE = Quantum_Computer(CPHASE_description)\n",
    "print(\"Input = |00>\")\n",
    "PrettyPrintBinary(test_CPHASE.run(initial_state = [(1, '00')]))\n",
    "print(\"\\nInput = |01>\")\n",
    "PrettyPrintBinary(test_CPHASE.run())\n",
    "print(\"\\nInput = |10>\")\n",
    "PrettyPrintBinary(test_CPHASE.run(initial_state = [(1, '10')]))\n",
    "print(\"\\nInput = |11>\")\n",
    "PrettyPrintBinary(test_CPHASE.run(initial_state = [(1, '11')]))"
   ]
  },
  {
   "cell_type": "code",
   "execution_count": 71,
   "id": "34436215",
   "metadata": {
    "ExecuteTime": {
     "end_time": "2023-01-30T21:09:45.167970Z",
     "start_time": "2023-01-30T21:09:45.161986Z"
    }
   },
   "outputs": [
    {
     "name": "stdout",
     "output_type": "stream",
     "text": [
      "Running with input = |00>\n",
      "{ (1+0j) |00>}\n",
      "\n",
      "Running with input = |01>\n",
      "{ (1+0j) |01>}\n",
      "\n",
      "Running with input = |10>\n",
      "{ (1+0j) |10>}\n",
      "\n",
      "Running with input = |11>\n",
      "{ (1+0j) |11>}\n"
     ]
    }
   ],
   "source": [
    "def SWAP(wire1, wire2):\n",
    "    return f\"\"\"\n",
    "    \"\"\"\n",
    "\n",
    "SWAP_description = f\"\"\"INITSTATE BASIS |01>\n",
    "{SWAP(0, 1)}\n",
    "\"\"\"\n",
    "test_SWAP = Quantum_Computer(SWAP_description)\n",
    "print(\"Running with input = |00>\")\n",
    "PrettyPrintBinary(test_SWAP.run(initial_state = [(1, '00')]))\n",
    "print(\"\\nRunning with input = |01>\")\n",
    "PrettyPrintBinary(test_SWAP.run())\n",
    "print(\"\\nRunning with input = |10>\")\n",
    "PrettyPrintBinary(test_SWAP.run(initial_state = [(1, '10')]))\n",
    "print(\"\\nRunning with input = |11>\")\n",
    "PrettyPrintBinary(test_SWAP.run(initial_state = [(1, '11')]))"
   ]
  },
  {
   "cell_type": "code",
   "execution_count": null,
   "id": "91b29bfd",
   "metadata": {},
   "outputs": [],
   "source": []
  }
 ],
 "metadata": {
  "kernelspec": {
   "display_name": "Python 3 (ipykernel)",
   "language": "python",
   "name": "python3"
  },
  "language_info": {
   "codemirror_mode": {
    "name": "ipython",
    "version": 3
   },
   "file_extension": ".py",
   "mimetype": "text/x-python",
   "name": "python",
   "nbconvert_exporter": "python",
   "pygments_lexer": "ipython3",
   "version": "3.9.13"
  },
  "varInspector": {
   "cols": {
    "lenName": 16,
    "lenType": 16,
    "lenVar": 40
   },
   "kernels_config": {
    "python": {
     "delete_cmd_postfix": "",
     "delete_cmd_prefix": "del ",
     "library": "var_list.py",
     "varRefreshCmd": "print(var_dic_list())"
    },
    "r": {
     "delete_cmd_postfix": ") ",
     "delete_cmd_prefix": "rm(",
     "library": "var_list.r",
     "varRefreshCmd": "cat(var_dic_list()) "
    }
   },
   "types_to_exclude": [
    "module",
    "function",
    "builtin_function_or_method",
    "instance",
    "_Feature"
   ],
   "window_display": false
  }
 },
 "nbformat": 4,
 "nbformat_minor": 5
}
